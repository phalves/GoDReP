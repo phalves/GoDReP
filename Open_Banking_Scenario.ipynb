{
 "cells": [
  {
   "cell_type": "markdown",
   "id": "2dba5670",
   "metadata": {},
   "source": [
    "# Exploring Simulation Scenarios to Mitigate Information Asymmetry Under the LGPD Perspective - Open Banking Scenario"
   ]
  },
  {
   "cell_type": "markdown",
   "id": "d13fadbf",
   "metadata": {},
   "source": [
    "## Table of Contents\n",
    "\n",
    "1. [Scenario Description: Open Banking](#Scene-0:-Open-Banking)\n",
    "2. [Scene 1: Set Consent Term](#Scene-1:-Set-consent-term.)\n",
    "3. [Scene 2: Data Subject Agrees with the Consent Term](#Scene-2:-Data-Subject-agrees-with-the-consent-term.)\n",
    "4. [Scene 3: Defining the Data Subject's Rights](#Scene-3:-Defining-the-Data-Subject's-rights.)\n",
    "5. [Scene 4: Data Subject's Consent Revocation](#Scene-4:-Data-Subject's-consent-revocation.)\n",
    "6. [Performing explanation exercises regarding possible scenarios](#Performing-explanation-exercises-regarding-possible-scenarios)\n",
    "    \n",
    "    6.1 [Cause-Effect: Consent revocation not respected](#Cause-effect:-How-to-evidence-when-the-Data-Controller-did-not-respect-the-consent-revocation?)\n",
    "    \n",
    "    6.2 [Cause-Effect: Evidencing data leak](#Cause-effect:-How-to-get-evidences-that-the-Data-Controller-leaked-the-Data-Subject's-data?)\n",
    "    \n",
    "    6.3 [Cause-effect: Data breach, what to do?](#Cause-effect:-Data-breach,-what-to-do?)\n",
    "    \n",
    "    6.4 [Cause-Effect: Requesting data correction](#Cause-effect:-Requesting-data-correction)\n",
    "\n",
    "    6.5 [Cause-Effect: Requesting data anonymization](#Cause-effect:-Requesting-anonymization)\n",
    "    \n",
    "    6.6 [Cause-effect: Data deletion](#Cause-effect:-Data-deletion)\n",
    "    \n",
    "    6.7 [Cause-effect: Technology unavailability](#Cause-effect:-Technology-unavailability)\n",
    "    \n",
    "    6.8 [Cause-effect: Inconsistent behavior](#Cause-effect:-Inconsistent-behavior)\n",
    "    \n",
    "    6.9 [Cause-effect: Data portability](#Cause-effect:-Data-portability)\n",
    "    \n",
    "    6.10 [Cause-effect: Plug a new consent term](#Cause-effect:-Plug-a-new-consent-term)"
   ]
  },
  {
   "cell_type": "markdown",
   "id": "cc83b3b0",
   "metadata": {},
   "source": [
    "### Scenario Description: Open Banking\n",
    "\n",
    "Open banking is a practice of enabling data sharing between financial institutions. This practice came to allow banking interoperability by APIs (Application Programming Interfaces). For example, the data subject can request a credit card from bank A, a financial loan from bank B, and buy assets from bank C. Moreover, open banking allows, for instance, the data subject to open an account just requesting his/her data from an institution that he/she has an account previously. Therefore, open banking turns the data sharing more agile, transparent, and secure, for providing resources to the data subject chose: (i) which the data which he/she wants to share; (ii) when; (iii) how long, and (iv) with whom he/she wants to share.\n",
    "\n",
    "In this sense, open banking acts as a kind of data portability foreseen in the LGPD. However, there are strict rules set by the Central Bank to enable the data exchange between the financial institutions.\n",
    "For instance, the consent term related to open banking must not be provided by paper or an adhesion contract, by forms with agree option filled by default; or without an explicit will of acceptance from the data subject.\n",
    "<!--https://economia.uol.com.br/faq/open-banking-compartilhamento-dados.htm-->\n",
    "\n",
    "A data subject that wants to participate in the open banking ecosystem, he/she has to agree with a consent term that allows the institution to share his/her data. Following the LGPD and the GDPR rules, the institution must offer to the data subject an option to revoke his/her consent anytime. Moreover, particularly in the LGPD, such consent term must be valid by 12 months at most, i.e., the institution must request a new consent term every year to confirm the data subject's wills.\n",
    "\n",
    "There is an extensive list of: (i) personal data, (ii) enterprise data, and (iii) transactional data.\n",
    "\n",
    "(i) Personal Data: Full Name, Document ID, Residential Address, Phone Number, E-mail Addresses, Social Name,  Parents' Names, Marriage Status, Born date, Gender, Nationality, Income, Patrimony, Occupation, Relationship Start Date, Products and Services Hired, Agency and Account Number, Legal Person in Charge Name and Id Number (if exists).\n",
    " \n",
    "(ii) Enterprise Data: Company's Name, Identification Number, Address, Latitude and Longitude, Phone Number, E-mail Addresses, Owners' Names and their Identification Numbers, Administrators, Society Rates, Start Date, Activity Field, Income, Patrimony, Relationship Start Date, Products and Services Hired, Agency and Account Number.\n",
    "\n",
    "(iii) Transactional Data: Account Balance, Credit Card Type and Identification, Limit, Transactions, Credit Card Bill, Credit Services (Ex: loan and investments)\n",
    "\n",
    "To share the above data, the data subject must agree with the proposed consent term. The process of using the open finance service is free of charge.\n",
    "\n",
    "Thus, picture that the data subject wants to share his/her data from Bank A to Bank B.\n",
    "The process to share the financial data is composed of six steps as follows:\n",
    " 1. The data subject should start the process showing Bank B his/her intention to get his/her data from Bank A.\n",
    " 2. The data subject should verify the purpose of the data usage from Bank B and go to the next step if he/she has no objection to the informed purpose.\n",
    " 3. The data subject should choose: (i) the origin institution, i.e., Bank A, to request the data, (ii) the data that he/she wants to share, and (iii) the time frame, that must be twelve months at most.\n",
    " 4. Bank B will redirect the data subject to Bank A where the data subject will be able to confirm his/her identity as well as confirm his/her wishes to share the selected data.\n",
    " 5. Bank A will redirect the data subject to Bank B. Bank B will notify the data subject if the authorization process is concluded.\n",
    " 6. Finally, Bank B will be able to request the authorized data from Bank A.\n",
    " \n",
    "It is important to note that the data subject can revoke his/her consent at any time. To do so, the data subject should access Bank A communication channels and request the consent revocation. The data sharing will be stopped in twelve months automatically. In this case, the data subject will be able to choose to renew his/her consent to continue sharing his/her data.\n",
    "\n",
    "The consent revocation may imply stopping receiving services and product offers from Bank B.\n",
    "\n",
    "In joint account cases, the authorization can be done individually. The transactional data will be available to anyone who can manage the Bank B account without the others.\n",
    "If there is a requirement to request authorization from more than one account, both banks must provide information regarding how to do that.\n",
    "\n",
    "\n",
    "The shared data will be used to offer products and services that fit with the data subject's profile or comply with other legal bases and legal obligations, such as laundry money, fraud, and risk evaluation, including credit risk. Moreover, the data will be used to create and improve the Bank B services, products, and processes.\n",
    "\n",
    "In order to reproduce the scenario in the Open Banking environment, the first step is to build the consent term with all params foreseen in the LGPD.\n",
    "\n",
    "The Data Subject John wants to share his data from Bank A to Bank B.\n",
    "For the record, let's consider that there is an active consent term between John and Bank A.\n",
    "\n",
    "From the LGPD perspective, the data will be shared for twelve months at most; therefore, from Wednesday, December 08, 2021, 10:41 a.m. to Thursday, December 08, 2022, 10:41 a.m. Bank B will be allowed to get John's data from Bank A.\n",
    "\n",
    "Bank B will share only the data allowed by John, and will use them to comply with government laws and propose new products and services according to John's profile. Bank B will not share any information with third parties without contacting John. If Bank B updates its consent term, Bank B must inform John regarding this update and request a new approval.\n",
    "\n",
    "Best practices based on the user experience with two financial institutions using Open Banking:\n",
    " - Bank A should allow John to select which data he wants to share with bank B.\n",
    " - Bank A should allow John to set the time range that he wants to share his data, considering a maximum of twelve months.\n",
    "\n",
    "In this sense, John followed the six steps mentioned above, and he agreed to share his personal, financial, and transactional data with Bank B. \n",
    "\n",
    "Agents\n",
    " - Data Subject - John\n",
    " - Data Controller and processor - Bank A - Origin\n",
    " - Data Controller and processor - Bank B - Receiver\n",
    "\n",
    "Action\n",
    " - Defined in the consent term.\n",
    " - Risk: the data subjects should evaluate what they consider as low, medium, or high risk. For instance, they may consider the following definitions to guide their decision:\n",
    "   - Low: when there is no sensitive data requisition; \n",
    "   - Medium: there are no sensitive data foreseen in the LGPD, but there are data that may generate discrimination actions to the data subject; \n",
    "   - High: At least one sensitive data foreseen in the LGPD shared with the data controller.\n",
    " - Jurisdiction: Brazilian Law\n",
    " \n",
    "Consent Term\n",
    " - As the scenario description has all the required information for a consent term, it will be considered as the consent term on this occasion.\n",
    "\n",
    "Rights\n",
    " - The Data Subject will have all the LGPD foreseen rights. \n",
    " - Bank A: The consent revocation regarding open banking:\n",
    "     - should not impact the other rights;\n",
    "     - it will imply stopping receiving products and services from Bank B, and the data will not be shared anymore;\n",
    "     - there is no information in the open banking regarding if the data must be deleted from Bank B in this case.\n",
    " \n",
    "Deontic Operator\n",
    " - The Data Subject has the permission to call for any action related to his rights\n",
    " - Data Controller B is obligated to abide by the Data Subject solicitations, except when the law says the opposite.\n",
    " Data Controller B is prohibited from using the personal data collected under the circumstances other than those in the consent term.\n",
    " - Violation and compliance will be explored in the extended scenarios at the end of this notebook.\n",
    "\n",
    "\n",
    "However, Data Subject decided to revoke his consent with Bank B.\n",
    "The following figure depicts this macro scenario process.\n",
    "\n",
    "![Scenario2_Process](./img/Scenario2_Process.png \"Process 2\")\n",
    "Fig.5 - Macro Scenario Process.\n",
    "\n",
    "Moreover, other four cause-effect scenarios were explored in order to show some possibilities regarding the data subject's rights. \n",
    "\n",
    "The goal is to create a scenario with Prolog to explore the facts in the different time range and some cause-effect scenarios. This notebook tries to keep general facts that could occur in any domain. Specific domain facts were not explored.\n",
    " \n",
    "*PS-1: The timestamp is used to provide the time spectrum. The following tool was used to convert human time to timestamp and the other way around. https://www.epochconverter.com/ - 360 days is equivalent to adding the value 31536000 in the timestamp*  \n",
    "\n",
    "*PS-2: To help the usage of timestamp, we considered the following association.*\n",
    "- *Wednesday, December 08, 2021 10:41:00 AM = 1638970860*\n",
    "- *Thursday, December 08, 2022 10:41:00 AM = 1670506860*\n",
    "<!-- - *Saturday, June 26, 2021 1:07:55 PM = 1624712875* -->\n",
    "\n",
    " \n",
    " ---------"
   ]
  },
  {
   "cell_type": "markdown",
   "id": "598222fa",
   "metadata": {},
   "source": [
    "### Scene 1: Set consent term."
   ]
  },
  {
   "cell_type": "markdown",
   "id": "e030a8e9",
   "metadata": {},
   "source": [
    "The first step is the consent setup. The consent must have all information described in the LGPD Art. 9. The following method receives all the required information.\n",
    "\n",
    "**General information (Data Subject, Data Controller, Personal and Sensitive Data)**\n",
    "\n",
    "The **Data Subject John** allows the **Data Controller Bank B** to access, store, and process his personal and transactional data from Bank A in order to **offer products and services**, **allowing Bank B to send offers appropriately based on John's data**. \n",
    "\n",
    "**Data Controller collection, processing, and storing guidelines**\n",
    "\n",
    "John's personal and transactional data will be shared with Bank B under strict governance policies that guarantee that only the information required to execute their functions will be shared. The employees will respond to any unauthorized data access, leak, or other activities that may expose or cause any loss to the data subject. None information will be publicly available without a previous consent acceptance.\n",
    "\n",
    "**Processing and storing time**\n",
    "\n",
    "The personal and transactional data will be available, stored, and processed while the data subject has an active consent term with Bank A and Bank B. **A new consent term will be required in two situations:**\n",
    " - when there is an update on the consent term;\n",
    " - when the data subject changes the data that he wants to share or change the time range;\n",
    " - when the due date is accomplished.\n",
    "\n",
    "**Consent expiration date**\n",
    "Therefore, this **consent term is valid for twelve months at most considering the open banking rules**. The data subject may renew the consent or revoke it at any time.\n",
    "\n",
    "**Security measures**\n",
    "Bank B will apply **cryptographic algorithms** and **access policies** to avoid data breaches and unauthorized access. The personal and transactional data will be **stored in a private cloud** where Bank B has complete control of applied technologies. \n",
    "\n",
    "**Third-party data sharing**\n",
    "The Data Controller Bank B is not allowed to **share** the Data Subject data, except for cases that the government requires such data.\n",
    "\n",
    "**Contact information**\n",
    "To make any request, please use the Data Controller communication channel by **email lgpd@bankb.br**.\n",
    "\n",
    "\n",
    "PS: The Data Controllers must inform in any case if they are processing the personal data if requested."
   ]
  },
  {
   "cell_type": "code",
   "execution_count": 1,
   "id": "64c60967",
   "metadata": {
    "vscode": {
     "languageId": "json"
    }
   },
   "outputs": [
    {
     "name": "stdout",
     "output_type": "stream",
     "text": []
    }
   ],
   "source": [
    "% Description: This function defines a consent term including all required information described in the LGPD Art. 9\n",
    "% The consent term must inform:\n",
    "%    i. Data Controller\n",
    "%   ii. Data Subject\n",
    "%  iii. Specific Purpose\n",
    "%   iv. Form \n",
    "%    v. Time length of processing\n",
    "%   vi. The purpose when sharing the data with third parties, when applied\n",
    "%  vii. Communication channel to the data subject request any information\n",
    "% viii. Data Controller contact\n",
    "%   iv. Cryptography Algoritm\n",
    "%    x. Access Policies\n",
    "%   xi. Storage Platform\n",
    "\n",
    "\n",
    "createConsentTerm(ID,DC,DS,PData,SData,Purpose,\n",
    "                SpecificPurpose,\n",
    "                Form,\n",
    "                TimeLength,\n",
    "                ThirdPartyPurpose,\n",
    "                Channel,\n",
    "                DCContact,\n",
    "                CA, AP, SP) :-\n",
    "\n",
    "                assertz(id(ID)),\n",
    "                assertz(dataSubject(DS)),\n",
    "                assertz(dataController(DC)),\n",
    "                assertz(personalData(DS,PData)),\n",
    "                assertz(sensitiveData(DS, SData)),\n",
    "                assertz(purpose(DC,DS,Purpose)),\n",
    "                assertz(specificPurpose(DC,DS,Purpose,SpecificPurpose)),\n",
    "                assertz(form(DC,DS,Purpose,SpecificPurpose,Form)),\n",
    "                assertz(timeLength(DC,DS,Purpose,SpecificPurpose,TimeLength)),\n",
    "                assertz(thirdyPartySharingPurpose(DC,DS,Purpose,SpecificPurpose,\n",
    "                                                    TimeLength,ThirdPartyPurpose)),\n",
    "                assertz(channelToProvideInformation(DC,DS,Channel,DCContact)),\n",
    "                assertz(criptographyAlgoritm(CA)),\n",
    "                assertz(accessPolicies(AP)),\n",
    "                assertz(storagePlatform(SP))."
   ]
  },
  {
   "cell_type": "code",
   "execution_count": 2,
   "id": "4747b8a8",
   "metadata": {
    "vscode": {
     "languageId": "json"
    }
   },
   "outputs": [
    {
     "name": "stdout",
     "output_type": "stream",
     "text": [
      "true."
     ]
    }
   ],
   "source": [
    "% This is a function call that defines a general consent term with the informed params\n",
    "\n",
    "?- createConsentTerm(10,'Bank B','John','john@mail.com','personal_and_transactional','offer_products_and_services',\n",
    "                'create_specific_offers',\n",
    "                'data_analytics',\n",
    "                31536000,\n",
    "                'none',\n",
    "                'e-mail',\n",
    "                'lgpd@bankb.br',\n",
    "                'SHA256',\n",
    "                'Authorized employees can access the data only',\n",
    "                'Bank B private cloud')."
   ]
  },
  {
   "cell_type": "code",
   "execution_count": 3,
   "id": "027715ee",
   "metadata": {
    "vscode": {
     "languageId": "json"
    }
   },
   "outputs": [
    {
     "name": "stdout",
     "output_type": "stream",
     "text": [
      "true."
     ]
    }
   ],
   "source": [
    "% This function defines the right to request processing confirmation to the Data Subject\n",
    "\n",
    "dsRight(processingConfirmation,dataSubject('John'),dataController('Bank B')).\n",
    "?- assertz(log('Data Subject can ask if the Data Controller is processing his/her data','Explanation','Permission',1638970860))."
   ]
  },
  {
   "cell_type": "markdown",
   "id": "329c71df",
   "metadata": {},
   "source": [
    " ---------"
   ]
  },
  {
   "cell_type": "markdown",
   "id": "78ad55c8",
   "metadata": {},
   "source": [
    "### Scene 2: Data Subject agrees with the consent term."
   ]
  },
  {
   "cell_type": "markdown",
   "id": "f06757c0",
   "metadata": {},
   "source": [
    "First, the Data Subject verifies if all the crutial elements are described in the consent term present by the Data Controller. If so, the program will set that the consent term is ok, i.e., it has all the required information."
   ]
  },
  {
   "cell_type": "code",
   "execution_count": 4,
   "id": "9a29c4ee",
   "metadata": {
    "vscode": {
     "languageId": "json"
    }
   },
   "outputs": [
    {
     "name": "stdout",
     "output_type": "stream",
     "text": []
    }
   ],
   "source": [
    "% Description: This function verifies if a consent term includes all required information described in the LGPD Art. 9\n",
    "% The consent term must inform:\n",
    "%    i. Data Controller\n",
    "%   ii. Data Subject\n",
    "%  iii. Specific Purpose\n",
    "%   iv. Form \n",
    "%    v. Time length of processing\n",
    "%   vi. The purpose when sharing the data with third parties, when applied\n",
    "%  vii. Communication channel to the data subject request any information\n",
    "% viii. Data Controller contact\n",
    "\n",
    "checkConsentTerm(id(ID),dataController(DC),\n",
    "                dataSubject(DS),\n",
    "                purpose(DC,Purpose),\n",
    "                SpecificPurpose,\n",
    "                Form,\n",
    "                TimeLength,\n",
    "                ThirdPartyPurpose,\n",
    "                Channel,\n",
    "                DCContact,\n",
    "                Date) :-\n",
    "    (\n",
    "        form(DC,DS,Purpose,SpecificPurpose,Form),\n",
    "        timeLength(DC,DS,Purpose,SpecificPurpose,TimeLength),\n",
    "        thirdyPartySharingPurpose(DC,DS,Purpose,SpecificPurpose,TimeLength,ThirdPartyPurpose),\n",
    "        channelToProvideInformation(DC,DS,Channel,DCContact),\n",
    "        purpose(DC,DS,Purpose),\n",
    "        specificPurpose(DC,DS,Purpose,SpecificPurpose),\n",
    "        assertz(consentTermStatus(id(ID),dataController(DC),dataSubject(DS),status('Valid'))),\n",
    "        assertz(log('Data Subject verified the consent term and it was ok','Explanation','Obligation',Date))\n",
    "    )."
   ]
  },
  {
   "cell_type": "code",
   "execution_count": 5,
   "id": "0c30406f",
   "metadata": {},
   "outputs": [
    {
     "name": "stdout",
     "output_type": "stream",
     "text": [
      "true."
     ]
    }
   ],
   "source": [
    "% This is a function call returns true if the consent term is ok, or false if not.\n",
    "\n",
    "?- checkConsentTerm(id(10),dataController('Bank B'),\n",
    "                        dataSubject('John'),\n",
    "                        purpose('Bank B','offer_products_and_services'),\n",
    "                        'create_specific_offers',\n",
    "                        'data_analytics',\n",
    "                        31536000,\n",
    "                        'none',\n",
    "                        'e-mail',\n",
    "                        'lgpd@bankb.br',\n",
    "                        1638970860)."
   ]
  },
  {
   "cell_type": "markdown",
   "id": "2364d019",
   "metadata": {},
   "source": [
    "So, if the consent term is ok, the Data Subject can inform that he/she agrees with the consent term.\n",
    "\n",
    "Hence, the Data Controller can collect, store and process the Data Subject's data."
   ]
  },
  {
   "cell_type": "code",
   "execution_count": 6,
   "id": "56ad4032",
   "metadata": {},
   "outputs": [
    {
     "name": "stdout",
     "output_type": "stream",
     "text": []
    }
   ],
   "source": [
    "% Description: This function sets that the Data Subject agreed with the consent term.\n",
    "% This function receives the params:\n",
    "%    i. Consent ID\n",
    "%   ii. Data Subject\n",
    "%  iii. Data Controller\n",
    "%   iv. Request Format (Direct/Expresso or Proxy/Tacito)\n",
    "%   iv. Personal Data\n",
    "%    v. Sensitive Data\n",
    "%   vi. Start Date - Timestamp\n",
    "%   vi. End Date - Timestamp\n",
    "\n",
    "setThatdsAgreeWithConsentTerms(id(ID),dataSubject(DS),\n",
    "                                dataController(DC),\n",
    "                                requestFormat(RF,DS,LPC),\n",
    "                                personalData(DS,PData),\n",
    "                                sensitiveData(DS,SData),\n",
    "                                startDate(StartTS),\n",
    "                                endDate(EndTS)) :-\n",
    "    consentTermStatus(id(ID),dataController(DC),dataSubject(DS),status('Valid')),\n",
    "    \n",
    "\n",
    "    \n",
    "    assertz(origin(id(ID),dataSubject(DS),dataController(DC),requestFormat(RF,DS,LPC))),\n",
    "    assertz(requestFormat(RF,DS,LPC)),\n",
    "    \n",
    "    assertz(dsAgreeWithConsentTerms(dataSubject(DS),dataController(DC),startDate(TS),endDate(TS))),\n",
    "    assertz(log('Data Subject agrees with consent term','Communication','Compliance',StartTS)),\n",
    "\n",
    "    assertz(dcIsCollectingDSData(id(ID),dataController(DC),dataSubject(DS),personalData(DS,PData),sensitiveData(DS,SData),startDate(StartTS),endDate(EndTS))),\n",
    "    assertz(log('Data Controller can collect the Data Subject information','Explanation','Permission',StartTS)),\n",
    "    \n",
    "    assertz(dcIsStoringDSData(id(ID),dataController(DC),dataSubject(DS),personalData(DS,PData),sensitiveData(DS,SData),startDate(StartTS),endDate(EndTS))),\n",
    "    assertz(log('Data Controller can store the Data Subject information','Explanation','Permission',StartTS)),\n",
    "        \n",
    "    assertz(dcIsProcessingDSData(id(ID),dataController(DC),dataSubject(DS),personalData(DS,PData),sensitiveData(DS,SData),startDate(StartTS),endDate(EndTS))),\n",
    "    assertz(log('Data Controller can process the Data Subject information','Explanation','Permission',StartTS))."
   ]
  },
  {
   "cell_type": "code",
   "execution_count": 7,
   "id": "08b164c9",
   "metadata": {},
   "outputs": [
    {
     "name": "stdout",
     "output_type": "stream",
     "text": [
      "EndDate = 1670506860 ."
     ]
    }
   ],
   "source": [
    "% This is a function call returns true in case of success.\n",
    "\n",
    "?- setThatdsAgreeWithConsentTerms(id(10),\n",
    "                                dataSubject('John'),\n",
    "                                dataController('Bank B'),\n",
    "                                requestFormat('Direct','John','null'),\n",
    "                                personalData('John','john@mail.com'),\n",
    "                                sensitiveData('John','transactional_data'),\n",
    "                                startDate(1638970860),\n",
    "                                endDate(EndDate)), EndDate is 1638970860+31536000."
   ]
  },
  {
   "cell_type": "markdown",
   "id": "0248cdc8",
   "metadata": {},
   "source": [
    "Now, the Data Controller can collect, store and process the Data Subject's data."
   ]
  },
  {
   "cell_type": "code",
   "execution_count": 8,
   "id": "edb753c9",
   "metadata": {},
   "outputs": [
    {
     "name": "stdout",
     "output_type": "stream",
     "text": [
      "true."
     ]
    }
   ],
   "source": [
    "?- dcIsCollectingDSData(id(10),dataController('Bank B'),dataSubject('John'),\n",
    "                        personalData('John','john@mail.com'),sensitiveData('John','transactional_data'),\n",
    "                        startDate(1638970860),endDate(1670506860)),\n",
    "                        \n",
    "dcIsProcessingDSData(id(10),dataController('Bank B'),dataSubject('John'),\n",
    "                        personalData('John','john@mail.com'),sensitiveData('John','transactional_data'),\n",
    "                        startDate(1638970860),endDate(1670506860)),\n",
    "                    \n",
    "dcIsStoringDSData(id(10),dataController('Bank B'),dataSubject('John'),\n",
    "                        personalData('John','john@mail.com'),sensitiveData('John','transactional_data'),\n",
    "                        startDate(1638970860),endDate(1670506860))."
   ]
  },
  {
   "cell_type": "markdown",
   "id": "eea5829e",
   "metadata": {},
   "source": [
    "---------"
   ]
  },
  {
   "cell_type": "markdown",
   "id": "8d60c694",
   "metadata": {},
   "source": [
    "### Scene 3: Defining the Data Subject's rights."
   ]
  },
  {
   "cell_type": "markdown",
   "id": "079be990",
   "metadata": {},
   "source": [
    "According to the LGPD Art. 18, when the Data Subject is sharing data with a Data Controller, he/she has the following rights:\n",
    "1. Data Access\n",
    "2. Data Copy\n",
    "3. Data Correction\n",
    "4. Data Anonymization\n",
    "5. Data Portability\n",
    "6. Data Deletion\n",
    "7. Information regarding the data sharing with a third party\n",
    "8. Request consent revocation."
   ]
  },
  {
   "cell_type": "code",
   "execution_count": 9,
   "id": "f689d793",
   "metadata": {},
   "outputs": [
    {
     "name": "stdout",
     "output_type": "stream",
     "text": []
    }
   ],
   "source": [
    "% Description: This function sets all Data Subject right's foreseed in the LGPD.\n",
    "% This function receives the params:\n",
    "%  i. Data Subject\n",
    "% ii. Data Controller\n",
    "\n",
    "setDSRights(dataSubject(DS),dataController(DC),startDate(StartTS)) :-\n",
    "    assertz(dsRight(dataAccess,dataSubject(DS),dataController(DC))),\n",
    "    assertz(dsRight(dataCopy,dataSubject(DS),dataController(DC))),\n",
    "    assertz(dsRight(dataCorrection,dataSubject(DS),dataController(DC))),\n",
    "    assertz(dsRight(dataAnonymization,dataSubject(DS),dataController(DC))),\n",
    "    assertz(dsRight(dataPortability,dataSubject(DS),dataController(DC))),\n",
    "    assertz(dsRight(dataDeletion,dataSubject(DS),dataController(DC))),\n",
    "    assertz(dsRight(dataSharingInformation,dataSubject(DS),dataController(DC))),\n",
    "    assertz(dsRight(requestConsentRevocation,dataSubject(DS),dataController(DC))),\n",
    "    assertz(log('Data Subject can now have all foressen rights','Explanation',\n",
    "            'Permission',StartTS))."
   ]
  },
  {
   "cell_type": "code",
   "execution_count": 10,
   "id": "d23962ea",
   "metadata": {},
   "outputs": [
    {
     "name": "stdout",
     "output_type": "stream",
     "text": [
      "true."
     ]
    }
   ],
   "source": [
    "% This is a function call returns true if all Data Subject's right was associated to him/her.\n",
    "\n",
    "?- setDSRights(dataSubject('John'),dataController('Bank B'),startDate(1638970860))."
   ]
  },
  {
   "cell_type": "markdown",
   "id": "ac406f89",
   "metadata": {},
   "source": [
    " ---------"
   ]
  },
  {
   "cell_type": "markdown",
   "id": "e56931ef",
   "metadata": {},
   "source": [
    "### Scene 4: Data Subject's consent revocation."
   ]
  },
  {
   "cell_type": "markdown",
   "id": "ee33ba60",
   "metadata": {},
   "source": [
    "As mentioned in the scenario's description, the Data Subject decides to revoke his consent.\n",
    "The Data Subject considered that he does not want to receive offers from Bank B. \n",
    "\n",
    "Once performed, the action of requesting the consent revocation cannot be executed again, and the Data Controller is forbidden to still collecting the Data Subject's data."
   ]
  },
  {
   "cell_type": "code",
   "execution_count": 11,
   "id": "b580611c",
   "metadata": {},
   "outputs": [
    {
     "name": "stdout",
     "output_type": "stream",
     "text": []
    }
   ],
   "source": [
    "% Description: This function creates a request by a legal person in charge on the Data Subject's behalf. \n",
    "% This function receives the params:\n",
    "%   i. Legal Person in Charge\n",
    "%  ii. Data Suject\n",
    "% iii. Request\n",
    "\n",
    "lpcRequest(legalPersonInCharge(LPC),dataSubject(DS),request)."
   ]
  },
  {
   "cell_type": "code",
   "execution_count": 12,
   "id": "a0ec4159",
   "metadata": {
    "vscode": {
     "languageId": "json"
    }
   },
   "outputs": [
    {
     "name": "stdout",
     "output_type": "stream",
     "text": []
    }
   ],
   "source": [
    "% Description: This function revoke the Data Controller's action of collecting the Data Subject's data.\n",
    "% This function receives the params:\n",
    "%   i. Consent ID\n",
    "%  ii. Data Subject\n",
    "% iii. Data Controller\n",
    "%  iv. Personal Data\n",
    "%   v. Sensitive Data\n",
    "\n",
    "setDSRevokeConsent(id(ID),\n",
    "                    dataSubject(DS),\n",
    "                    dataController(DC),\n",
    "                    personalData(DS,PData),\n",
    "                    sensitiveData(DS,SData),\n",
    "                    now(Date),\n",
    "                    startDate(StartTS),\n",
    "                    endDate(EndTS)                    \n",
    "                    ) :-\n",
    "    \n",
    "    requestFormat('Direct',DS,'null'),                \n",
    "    not(dsRight(requestConsentRevocation,dataSubject(DS),dataController(DC))),\n",
    "    assertz(log('Data Subject tried to revoke his/her consent, but fail','Explanation','Prohibition',Date));\n",
    "    \n",
    "    retract(id(ID)),\n",
    "    requestFormat('Direct',DS,'null'),   \n",
    "    retract(dsRight(requestConsentRevocation,dataSubject(DS),dataController(DC))),\n",
    "    assertz(log('Data Subject requested to the Data Controller to revoke his/her consent','Communication','Permission',Date)),\n",
    "    \n",
    "    retract(dcIsCollectingDSData(id(ID),dataController(DC),dataSubject(DS),personalData(DS,PData),sensitiveData(DS,SData),startDate(StartTS),endDate(EndTS))),\n",
    "    assertz(log('From now, the Data Controller cannot collect the Data Subject information','Communication','Prohibition',Date)),\n",
    "    \n",
    "    retract(dcIsProcessingDSData(id(ID),dataController(DC),dataSubject(DS),personalData(DS,PData),sensitiveData(DS,SData),startDate(StartTS),endDate(EndTS))),\n",
    "    assertz(log('From now, the Data Controller cannot process the Data Subject information','Communication','Prohibition',Date)),\n",
    "    \n",
    "    retract(consentTermStatus(id(ID),dataController(DC),dataSubject(DS),status('Valid'))),\n",
    "    assertz(consentTermStatus(id(ID),dataController(DC),dataSubject(DS),status('Invalid'))),\n",
    "    assertz(log('From now, consent is not valid to be used by the data controller','Explanation','Prohibition',Date)).\n",
    "\n",
    "    "
   ]
  },
  {
   "cell_type": "code",
   "execution_count": 13,
   "id": "d0793672",
   "metadata": {
    "vscode": {
     "languageId": "json"
    }
   },
   "outputs": [
    {
     "name": "stdout",
     "output_type": "stream",
     "text": []
    }
   ],
   "source": [
    "% Description: This function require the legal person in charge to revoke the Data Controller's action of collecting the Data Subject's data.\n",
    "% This function receives the params:\n",
    "%   i. Consent ID\n",
    "%  ii. Data Subject\n",
    "% iii. Legal Person in Charge\n",
    "%  iv. Data Controller\n",
    "%   v. Personal Data\n",
    "%  vi. Sensitive Data\n",
    "\n",
    "setDSRevokeProxyConsent(id(ID),\n",
    "                    dataSubject(DS),\n",
    "                    dataController(DC),\n",
    "                    legalPersonInCharge(LPC),\n",
    "                    personalData(DS,PData),\n",
    "                    sensitiveData(DS,SData),\n",
    "                    now(Date),\n",
    "                    startDate(StartTS),\n",
    "                    endDate(EndTS)                    \n",
    "                    ) :-\n",
    "    \n",
    "    not(requestFormat('Direct',DS,'null')),\n",
    "    not(dsRight(requestConsentRevocation,dataSubject(DS),dataController(DC))),\n",
    "    assertz(log('Data Subject tried to revoke his/her consent, but fail','Explanation','Prohibition',Date));\n",
    "    \n",
    "    not(requestFormat('Direct',DS,'null')),\n",
    "    lpcRequest(legalPersonInCharge(LPC),dataSubject(DS),'Request consent revocation'),\n",
    "    assertz(log('This is not a Direct consent, so a Legal Person in Charge must to request the consent revocation','Communication','Obligation',Date)),\n",
    "    \n",
    "    retract(dsRight(requestConsentRevocation,dataSubject(DS),dataController(DC))),\n",
    "    assertz(log('Data Subject requested to the Data Controller to revoke his/her consent','Communication','Permission',Date)),\n",
    "    \n",
    "    retract(dcIsCollectingDSData(id(ID),dataController(DC),dataSubject(DS),personalData(DS,PData),sensitiveData(DS,SData),startDate(StartTS),endDate(EndTS))),\n",
    "    assertz(log('From now, the Data Controller cannot collect the Data Subject information','Communication','Prohibition',Date)),\n",
    "    \n",
    "    retract(dcIsProcessingDSData(id(ID),dataController(DC),dataSubject(DS),personalData(DS,PData),sensitiveData(DS,SData),startDate(StartTS),endDate(EndTS))),\n",
    "    assertz(log('From now, the Data Controller cannot process the Data Subject information','Communication','Prohibition',Date)),\n",
    "    \n",
    "    retract(consentTermStatus(id(ID),dataController(DC),dataSubject(DS),status('Valid'))),\n",
    "    assertz(consentTermStatus(id(ID),dataController(DC),dataSubject(DS),status('Invalid'))),\n",
    "    assertz(log('From now, consent is not valid to be used by the data controller','Explanation','Prohibition',Date)).\n",
    "\n",
    "    "
   ]
  },
  {
   "cell_type": "code",
   "execution_count": 14,
   "id": "3c113b41",
   "metadata": {
    "vscode": {
     "languageId": "json"
    }
   },
   "outputs": [
    {
     "name": "stdout",
     "output_type": "stream",
     "text": [
      "true.\n",
      "EndDate = 1670506860 ."
     ]
    }
   ],
   "source": [
    "% This call store the Data Subject's motivation to request the consent revocation.\n",
    "?- assertz(log('Data Subject considered he does not want to receive more offers from Bank B','Communication','Permission',1638970861)).\n",
    "\n",
    "% This is a function call returns true if all Data Subject's request was successfully performed.\n",
    "?- setDSRevokeConsent(id(10),\n",
    "                        dataSubject('John'),\n",
    "                        dataController('Bank B'),\n",
    "                        personalData('John','john@mail.com'),\n",
    "                        sensitiveData('John','transactional_data'),\n",
    "                        now(1638970861),\n",
    "                        startDate(1638970860),\n",
    "                        endDate(EndDate)\n",
    "                        ), \n",
    "                        EndDate is 1638970860+31536000.\n",
    "    "
   ]
  },
  {
   "cell_type": "markdown",
   "id": "62f7bcf1",
   "metadata": {},
   "source": [
    "Therefore, the consent revocation request impacts many LGPD relationships as depicted in Figure 6."
   ]
  },
  {
   "cell_type": "markdown",
   "id": "8633f172",
   "metadata": {},
   "source": [
    "![RootScenarioImpact](./img/RootScenarioImpact.png \"Root Scenario Impact\")\n",
    "Fig.6 - Consent Revocation Impact.\n",
    "\n",
    "The red entities suffered impact directly, or indirectly, when the consent was revoked. First,  the data controller must stop collecting personal data immediately. Next, the data controller must update the sharing policies and access restriction to prevent unauthorized access or new data processing. Still, the consent status will change to \"invalid\", as the controller cannot use this consent anymore."
   ]
  },
  {
   "cell_type": "markdown",
   "id": "680944f7",
   "metadata": {},
   "source": [
    " ---------"
   ]
  },
  {
   "cell_type": "markdown",
   "id": "4283b37f",
   "metadata": {},
   "source": [
    "### Performing explanation exercises regarding possible scenarios\n",
    "\n",
    "Here, we are going to perform questions regarding access confirmation, rights compliance, and information about consent term. Those questions will exercise the data subject and controller understanding regarding possible scenarios during the relationship between these two actors.\n"
   ]
  },
  {
   "attachments": {},
   "cell_type": "markdown",
   "id": "6239f32d",
   "metadata": {},
   "source": [
    "Are the data controller Bank B using the data subject John's data? \n",
    "\n",
    "Expected: As the Data Subject requested to revoke his consent, the data controller is **prohibited** to still using the Data Subjects data."
   ]
  },
  {
   "cell_type": "code",
   "execution_count": 15,
   "id": "b31d83d3",
   "metadata": {
    "vscode": {
     "languageId": "json"
    }
   },
   "outputs": [
    {
     "name": "stdout",
     "output_type": "stream",
     "text": [
      "false."
     ]
    }
   ],
   "source": [
    "?- dcIsProcessingDSData(id(10),dataController('Bank B'),dataSubject('John'),\n",
    "    personalData('John',PData),sensitiveData('John',SData),startDate(1638970860),endDate(1670506860))."
   ]
  },
  {
   "cell_type": "markdown",
   "id": "8de9a61e",
   "metadata": {},
   "source": [
    "Why?"
   ]
  },
  {
   "cell_type": "code",
   "execution_count": 16,
   "id": "46fc26ea",
   "metadata": {
    "vscode": {
     "languageId": "json"
    }
   },
   "outputs": [
    {
     "name": "stdout",
     "output_type": "stream",
     "text": [
      "Event = Data Subject considered he does not want to receive more offers from Bank B, Type = Permission ;\n",
      "Event = Data Subject requested to the Data Controller to revoke his/her consent, Type = Permission ;\n",
      "Event = From now, the Data Controller cannot collect the Data Subject information, Type = Prohibition ;\n",
      "Event = From now, the Data Controller cannot process the Data Subject information, Type = Prohibition ."
     ]
    }
   ],
   "source": [
    "?- log(Event,'Communication',Type, 1638970861)."
   ]
  },
  {
   "cell_type": "markdown",
   "id": "0cc10cfe",
   "metadata": {},
   "source": [
    "What are the Data Subject rights right now?\n",
    "\n",
    "Expected: As the Data Subject requested to revoke his consent, he is **prohibited** to create such request again, even though he has **permission** to request the other rights foreseen by the LGPD."
   ]
  },
  {
   "cell_type": "code",
   "execution_count": 17,
   "id": "2c241578",
   "metadata": {
    "vscode": {
     "languageId": "json"
    }
   },
   "outputs": [
    {
     "name": "stdout",
     "output_type": "stream",
     "text": [
      "RIGHT = processingConfirmation ;\n",
      "RIGHT = dataAccess ;\n",
      "RIGHT = dataCopy ;\n",
      "RIGHT = dataCorrection ;\n",
      "RIGHT = dataAnonymization ;\n",
      "RIGHT = dataPortability ;\n",
      "RIGHT = dataDeletion ;\n",
      "RIGHT = dataSharingInformation ."
     ]
    }
   ],
   "source": [
    "?- dsRight(RIGHT,dataSubject('John'),dataController('Bank B'))."
   ]
  },
  {
   "cell_type": "markdown",
   "id": "723dfcb6",
   "metadata": {},
   "source": [
    "Can all items from art. 9 be informed?"
   ]
  },
  {
   "cell_type": "code",
   "execution_count": 18,
   "id": "aad7d26d",
   "metadata": {
    "scrolled": true
   },
   "outputs": [
    {
     "name": "stdout",
     "output_type": "stream",
     "text": [
      "SPECIFICPURPOSE = create_specific_offers ."
     ]
    }
   ],
   "source": [
    "?- specificPurpose('Bank B','John','offer_products_and_services',SPECIFICPURPOSE)."
   ]
  },
  {
   "cell_type": "code",
   "execution_count": 19,
   "id": "d25f269d",
   "metadata": {},
   "outputs": [
    {
     "name": "stdout",
     "output_type": "stream",
     "text": [
      "TimeRange = 31536000 ."
     ]
    }
   ],
   "source": [
    "?- timeLength('Bank B','John','offer_products_and_services', 'create_specific_offers',TimeRange)."
   ]
  },
  {
   "cell_type": "markdown",
   "id": "fc11dcb4",
   "metadata": {},
   "source": [
    "Who are collecting the Data Subject's personal data and what are the respective data?"
   ]
  },
  {
   "cell_type": "code",
   "execution_count": 20,
   "id": "74a410e4",
   "metadata": {},
   "outputs": [
    {
     "name": "stdout",
     "output_type": "stream",
     "text": [
      "false."
     ]
    }
   ],
   "source": [
    "?- dcIsCollectingDSData(id(ID),dataController(DC),dataSubject('John'),personalData('John',PData),sensitiveData('John',SData),startDate(SD),endDate(ED))."
   ]
  },
  {
   "cell_type": "markdown",
   "id": "7943eb67",
   "metadata": {},
   "source": [
    "Why?"
   ]
  },
  {
   "cell_type": "code",
   "execution_count": 21,
   "id": "8b867447",
   "metadata": {},
   "outputs": [
    {
     "name": "stdout",
     "output_type": "stream",
     "text": [
      "Event = Data Subject considered he does not want to receive more offers from Bank B, Type = Permission ;\n",
      "Event = Data Subject requested to the Data Controller to revoke his/her consent, Type = Permission ;\n",
      "Event = From now, the Data Controller cannot collect the Data Subject information, Type = Prohibition ;\n",
      "Event = From now, the Data Controller cannot process the Data Subject information, Type = Prohibition ."
     ]
    }
   ],
   "source": [
    "?- log(Event,'Communication',Type, 1638970861)."
   ]
  },
  {
   "cell_type": "markdown",
   "id": "4e2db676",
   "metadata": {},
   "source": [
    "Who are storing the Data Subject's personal data and what are the respective data?\n",
    "\n",
    "Expected: Although the Data Subject requested to revoke his consent, he did not request for data deletion, so the Data Controller is **permitted** to store his dada."
   ]
  },
  {
   "cell_type": "code",
   "execution_count": 22,
   "id": "86967521",
   "metadata": {},
   "outputs": [
    {
     "name": "stdout",
     "output_type": "stream",
     "text": [
      "ID = 10, DC = Bank B, PData = john@mail.com, SData = transactional_data ."
     ]
    }
   ],
   "source": [
    "?- dcIsStoringDSData(id(ID),dataController(DC),dataSubject('John'),personalData('John',PData),sensitiveData('John',SData),startDate(1638970860),endDate(1670506860))."
   ]
  },
  {
   "cell_type": "markdown",
   "id": "68d9afd5",
   "metadata": {},
   "source": [
    "Show all events."
   ]
  },
  {
   "cell_type": "code",
   "execution_count": 23,
   "id": "7f036d4f",
   "metadata": {},
   "outputs": [
    {
     "name": "stdout",
     "output_type": "stream",
     "text": [
      "Event = Data Subject can ask if the Data Controller is processing his/her data, Type = Explanation, DeonticOperator = Permission, Date = 1638970860 ;\n",
      "Event = Data Subject verified the consent term and it was ok, Type = Explanation, DeonticOperator = Obligation, Date = 1638970860 ;\n",
      "Event = Data Subject agrees with consent term, Type = Communication, DeonticOperator = Compliance, Date = 1638970860 ;\n",
      "Event = Data Controller can collect the Data Subject information, Type = Explanation, DeonticOperator = Permission, Date = 1638970860 ;\n",
      "Event = Data Controller can store the Data Subject information, Type = Explanation, DeonticOperator = Permission, Date = 1638970860 ;\n",
      "Event = Data Controller can process the Data Subject information, Type = Explanation, DeonticOperator = Permission, Date = 1638970860 ;\n",
      "Event = Data Subject can now have all foressen rights, Type = Explanation, DeonticOperator = Permission, Date = 1638970860 ;\n",
      "Event = Data Subject considered he does not want to receive more offers from Bank B, Type = Communication, DeonticOperator = Permission, Date = 1638970861 ;\n",
      "Event = Data Subject requested to the Data Controller to revoke his/her consent, Type = Communication, DeonticOperator = Permission, Date = 1638970861 ;\n",
      "Event = From now, the Data Controller cannot collect the Data Subject information, Type = Communication, DeonticOperator = Prohibition, Date = 1638970861 ;\n",
      "Event = From now, the Data Controller cannot process the Data Subject information, Type = Communication, DeonticOperator = Prohibition, Date = 1638970861 ;\n",
      "Event = From now, consent is not valid to be used by the data controller, Type = Explanation, DeonticOperator = Prohibition, Date = 1638970861 ."
     ]
    }
   ],
   "source": [
    "?- log(Event,Type,DeonticOperator,Date) {-1}."
   ]
  },
  {
   "cell_type": "markdown",
   "id": "7d719688",
   "metadata": {},
   "source": [
    "----"
   ]
  },
  {
   "cell_type": "markdown",
   "id": "070e5cea",
   "metadata": {},
   "source": [
    "#### Cause-effect: How to evidence when the Data Controller did not respect the consent revocation?\n",
    "\n",
    "Let's picture that the Data Controller did not respect the Data Subject's request and still collecting the Data Subject's data. In such plot, fines must be applied.\n",
    "\n",
    "<div>\n",
    "<img src=\"./img/Scenario2.1_Process.png\" width=\"600\"/>\n",
    "</div>\n",
    "Fig.7 - Consent Revocation Scenario Process."
   ]
  },
  {
   "cell_type": "code",
   "execution_count": 24,
   "id": "dfcc2a44",
   "metadata": {},
   "outputs": [
    {
     "name": "stdout",
     "output_type": "stream",
     "text": []
    }
   ],
   "source": [
    "% This command sets that the Data Controller is collecting the Data Subject's data.\n",
    "\n",
    "dcIsCollectingDSData(id(10),dataController('Bank B'),dataSubject('John'),\n",
    "                        personalData('John','john@mail.com'),sensitiveData('John','transactional_data'),\n",
    "                        startDate(1638970860),endDate(1670506860))."
   ]
  },
  {
   "cell_type": "markdown",
   "id": "232ba410",
   "metadata": {},
   "source": [
    "So, now the data controller is collecting unauthorized data, it was **prohibited** since the data subject requested consent revocation. The following command will check the environment facts and it will insert this fact regarding the rights **violation** in the log."
   ]
  },
  {
   "cell_type": "code",
   "execution_count": 25,
   "id": "d74e9295",
   "metadata": {
    "scrolled": true
   },
   "outputs": [
    {
     "name": "stdout",
     "output_type": "stream",
     "text": [
      "true."
     ]
    }
   ],
   "source": [
    "% This command:\n",
    "%   (i) verifies if the Data Controller is collecting the Data Subject's data;\n",
    "%  (ii) verifies if there is no consent with a valid status\n",
    "% (iii) verifies in the log if the Data Subject requested consent revocation;\n",
    "%  (iv) if all previous verifications are true, insert in the log that the Data Controller did not respect \n",
    "%       the Data Subject's will.\n",
    "\n",
    "?- dcIsCollectingDSData(id(10),dataController('Bank B'),dataSubject('John'),\n",
    "                        personalData('John','john@mail.com'),sensitiveData('John','transactional_data'),\n",
    "                        startDate(1638970860),endDate(1670506860)),\n",
    "                        \n",
    "    not(consentTermStatus(id(10),dataController('Bank B'),dataSubject('John'),status('Valid'))),\n",
    "    \n",
    "    log('Data Subject requested to the Data Controller to revoke his/her consent','Communication','Permission',1638970861),\n",
    "    \n",
    "    assertz(log('Data Controller did not respect the consent revocation requested by the Data Subject, \n",
    "                and still processing. Thus, fines should be applied','Communication','Violation',1638970861))."
   ]
  },
  {
   "cell_type": "markdown",
   "id": "c4979ee1",
   "metadata": {},
   "source": [
    "In this sense, the program log should help the Data Subject to create evidence of his/her requests. The log will show that the consent was violated revoked and the Data Controller **violated** the data subject will."
   ]
  },
  {
   "cell_type": "code",
   "execution_count": 26,
   "id": "cd9900ed",
   "metadata": {
    "scrolled": true
   },
   "outputs": [
    {
     "name": "stdout",
     "output_type": "stream",
     "text": [
      "Event = Data Subject can ask if the Data Controller is processing his/her data, Type = Explanation, DeonticConcept = Permission, Date = 1638970860 ;\n",
      "Event = Data Subject verified the consent term and it was ok, Type = Explanation, DeonticConcept = Obligation, Date = 1638970860 ;\n",
      "Event = Data Subject agrees with consent term, Type = Communication, DeonticConcept = Compliance, Date = 1638970860 ;\n",
      "Event = Data Controller can collect the Data Subject information, Type = Explanation, DeonticConcept = Permission, Date = 1638970860 ;\n",
      "Event = Data Controller can store the Data Subject information, Type = Explanation, DeonticConcept = Permission, Date = 1638970860 ;\n",
      "Event = Data Controller can process the Data Subject information, Type = Explanation, DeonticConcept = Permission, Date = 1638970860 ;\n",
      "Event = Data Subject can now have all foressen rights, Type = Explanation, DeonticConcept = Permission, Date = 1638970860 ;\n",
      "Event = Data Subject considered he does not want to receive more offers from Bank B, Type = Communication, DeonticConcept = Permission, Date = 1638970861 ;\n",
      "Event = Data Subject requested to the Data Controller to revoke his/her consent, Type = Communication, DeonticConcept = Permission, Date = 1638970861 ;\n",
      "Event = From now, the Data Controller cannot collect the Data Subject information, Type = Communication, DeonticConcept = Prohibition, Date = 1638970861 ;\n",
      "Event = From now, the Data Controller cannot process the Data Subject information, Type = Communication, DeonticConcept = Prohibition, Date = 1638970861 ;\n",
      "Event = From now, consent is not valid to be used by the data controller, Type = Explanation, DeonticConcept = Prohibition, Date = 1638970861 ;\n",
      "Event = Data Controller did not respect the consent revocation requested by the Data Subject, and still processing. Thus, fines should be applied, Type = Communication, DeonticConcept = Violation, Date = 1638970861 ."
     ]
    }
   ],
   "source": [
    "?- log(Event,Type,DeonticConcept,Date) {-1}."
   ]
  },
  {
   "cell_type": "markdown",
   "id": "eaf1700d",
   "metadata": {},
   "source": [
    "Moreover, Figure 6 may also be used to mitigate if the consent revocation was properly attended. If there is no modification in the red entities, something is not in compliance with LGPD."
   ]
  },
  {
   "cell_type": "code",
   "execution_count": 27,
   "id": "36da4884",
   "metadata": {},
   "outputs": [
    {
     "name": "stdout",
     "output_type": "stream",
     "text": [
      "true."
     ]
    }
   ],
   "source": [
    "% Resetting scenario\n",
    "?- retract(dcIsCollectingDSData(id(10),dataController('Bank B'),dataSubject('John'),\n",
    "                        personalData('John','john@mail.com'),sensitiveData('John','transactional_data'),\n",
    "                        startDate(1638970860),endDate(1670506860))),\n",
    "                        \n",
    "    retract((log('Data Controller did not respect the consent revocation requested by the Data Subject, \n",
    "                and still processing. Thus, fines should be applied','Communication','Violation',1638970861)))."
   ]
  },
  {
   "cell_type": "markdown",
   "id": "cf288a4f",
   "metadata": {},
   "source": [
    "----\n",
    "#### Cause-effect: Data breach, what to do? \n",
    "\n",
    "The Data Controller must inform to national authority and to the Data Subject when a data breach occurs that may cause risks or damage to the Data Subject.\n",
    "\n",
    "Such communication has to be done as soon as possible and should inform:\n",
    "- personal data category\n",
    "- what data were leaked\n",
    "- what were the technical and security measures used to protect data\n",
    "- the risks related to the incident\n",
    "- what the data controller will do to revert or mitigate the damage\n",
    "\n",
    "Depending on the incident severity, the Data Controller will have to disclose such an event in high-impact communication media.\n",
    "\n",
    "In this sense, lets picture that Data Controller suffered from a hacker attack and Data Subject's personal data were leaked on the social media and he is receiving few calls from different numbers. So, Data Controller is **obligated to** inform the incident to ANPD and inform the Data Subject that his phone number was leaked. \n",
    "\n",
    "Even as Data Subject has revoked his consent, he has to be informed regarding the data breach as his data still on the Data Controller's database.\n",
    "\n",
    "![Scenario2_DataBreach](./img/Scenario2_DataBreach.png \"Process 2.2\")\n",
    "Fig.8 - Data Breach Scenario Process.\n",
    "\n",
    "Thus, let translate this scenario in Prolog facts.\n",
    "\n",
    "First, once Bank B figure out that there is a data breach, the ANPD and the data subjects involved have to be informed about that.\n"
   ]
  },
  {
   "cell_type": "code",
   "execution_count": 28,
   "id": "d41a24f2",
   "metadata": {},
   "outputs": [
    {
     "name": "stdout",
     "output_type": "stream",
     "text": []
    }
   ],
   "source": [
    "log('Data Controller Bank B triggered an alert to ANPD and to all data subjects affected by\n",
    "    the data breach informing that all e-mails were exposed','Communication','Obligation',1638970870)."
   ]
  },
  {
   "cell_type": "markdown",
   "id": "3a86cdf4",
   "metadata": {},
   "source": [
    "Next, Bank B has to explain that they had adopted security actions to avoid data breach. "
   ]
  },
  {
   "cell_type": "code",
   "execution_count": 29,
   "id": "bbb211dc",
   "metadata": {},
   "outputs": [
    {
     "name": "stdout",
     "output_type": "stream",
     "text": []
    }
   ],
   "source": [
    "log('Data Controller Bank B informed the security measures to do not let data breach occurs',\n",
    "    'Communication','Obligation',1638970871)."
   ]
  },
  {
   "cell_type": "markdown",
   "id": "1f87c3df",
   "metadata": {},
   "source": [
    "Then, Bank B fixed the vulnerability and inform the data subjects as well."
   ]
  },
  {
   "cell_type": "code",
   "execution_count": 30,
   "id": "c1b360b5",
   "metadata": {},
   "outputs": [
    {
     "name": "stdout",
     "output_type": "stream",
     "text": []
    }
   ],
   "source": [
    "log('Data Controller Bank B informed that the vulnerability was found \n",
    "    and there is no unauthorized access anymore','Communication','Compliance',1638970872)."
   ]
  },
  {
   "cell_type": "markdown",
   "id": "6591d9c5",
   "metadata": {},
   "source": [
    "Furthermore, Bank B inform to Data Subjects that there is a technical group available to help anyone that have had troubles caused by this incident."
   ]
  },
  {
   "cell_type": "code",
   "execution_count": 31,
   "id": "035a3579",
   "metadata": {},
   "outputs": [
    {
     "name": "stdout",
     "output_type": "stream",
     "text": []
    }
   ],
   "source": [
    "log('Data Controller Bank B created a technical team to help any data subject \n",
    "    that have had issues with this incident','Communication','Obligation',1638970873)."
   ]
  },
  {
   "cell_type": "markdown",
   "id": "470856e5",
   "metadata": {},
   "source": [
    "As the log shows, this case can present many different ends depending on the damage caused to the data subjects involved. Here, as the data subject received just a few calls and there was low damage, he decided not to enter in dispute to get reparation compensations, even though the data controller has **violated** the Data Subject's privacy.\n",
    "\n",
    "Moreover, the omission of any fact related to informing the Data Subjects about unauthorized access or neglect the system security, fines should be applied to the Data Controller.\n",
    "\n",
    "Last but not least, if the Data Controller noticed a data breach, once informed, the Data Controller has to act immediately. **LGPD Art. 48**"
   ]
  },
  {
   "cell_type": "code",
   "execution_count": 32,
   "id": "f9de3ca5",
   "metadata": {},
   "outputs": [
    {
     "name": "stdout",
     "output_type": "stream",
     "text": [
      "Event = Data Subject can ask if the Data Controller is processing his/her data, Type = Explanation, DeonticOperator = Permission, Date = 1638970860 ;\n",
      "Event = Data Subject verified the consent term and it was ok, Type = Explanation, DeonticOperator = Obligation, Date = 1638970860 ;\n",
      "Event = Data Subject agrees with consent term, Type = Communication, DeonticOperator = Compliance, Date = 1638970860 ;\n",
      "Event = Data Controller can collect the Data Subject information, Type = Explanation, DeonticOperator = Permission, Date = 1638970860 ;\n",
      "Event = Data Controller can store the Data Subject information, Type = Explanation, DeonticOperator = Permission, Date = 1638970860 ;\n",
      "Event = Data Controller can process the Data Subject information, Type = Explanation, DeonticOperator = Permission, Date = 1638970860 ;\n",
      "Event = Data Subject can now have all foressen rights, Type = Explanation, DeonticOperator = Permission, Date = 1638970860 ;\n",
      "Event = Data Subject considered he does not want to receive more offers from Bank B, Type = Communication, DeonticOperator = Permission, Date = 1638970861 ;\n",
      "Event = Data Subject requested to the Data Controller to revoke his/her consent, Type = Communication, DeonticOperator = Permission, Date = 1638970861 ;\n",
      "Event = From now, the Data Controller cannot collect the Data Subject information, Type = Communication, DeonticOperator = Prohibition, Date = 1638970861 ;\n",
      "Event = From now, the Data Controller cannot process the Data Subject information, Type = Communication, DeonticOperator = Prohibition, Date = 1638970861 ;\n",
      "Event = From now, consent is not valid to be used by the data controller, Type = Explanation, DeonticOperator = Prohibition, Date = 1638970861 ;\n",
      "Event = Data Controller Bank B triggered an alert to ANPD and to all data subjects affected by the data breach informing that all e-mails were exposed, Type = Communication, DeonticOperator = Obligation, Date = 1638970870 ;\n",
      "Event = Data Controller Bank B informed the security measures to do not let data breach occurs, Type = Communication, DeonticOperator = Obligation, Date = 1638970871 ;\n",
      "Event = Data Controller Bank B informed that the vulnerability was found and there is no unauthorized access anymore, Type = Communication, DeonticOperator = Compliance, Date = 1638970872 ;\n",
      "Event = Data Controller Bank B created a technical team to help any data subject that have had issues with this incident, Type = Communication, DeonticOperator = Obligation, Date = 1638970873 ."
     ]
    }
   ],
   "source": [
    "?- log(Event,Type,DeonticOperator,Date) {-1}."
   ]
  },
  {
   "cell_type": "markdown",
   "id": "d45ce67d",
   "metadata": {},
   "source": [
    "Therefore, the data breach impacts many LGPD relationships as depicted in Figure 9.\n"
   ]
  },
  {
   "cell_type": "markdown",
   "id": "88ff8393",
   "metadata": {},
   "source": [
    "![DataBreachImpact](./img/DataBreachImpact.png \"Data Breach Impact\")\n",
    "Fig.9 - Data Breach Impact."
   ]
  },
  {
   "cell_type": "markdown",
   "id": "17b86437",
   "metadata": {},
   "source": [
    "First, as mentioned before, a data breach event must be informed to all agents impacted. This message must contain the security methods and the storage technologies applied to avoid a data breach. However, this is an event that could trigger other impacts. For instance, after a data breach, the data subject could enter in a dispute resolution claiming discrimination, loss, and unauthorized uses of his/her data. \n",
    "\n",
    "Furthermore, the Data Subject might request changes in the consent term, impacting the sharing policies and access restriction. Also, the Data Subject might request consent revocation, data deletion, which affects data collecting, processing, and storing."
   ]
  },
  {
   "cell_type": "code",
   "execution_count": 33,
   "id": "4d1d2bef",
   "metadata": {},
   "outputs": [
    {
     "name": "stdout",
     "output_type": "stream",
     "text": [
      "true.\n",
      "true.\n",
      "true.\n",
      "true."
     ]
    }
   ],
   "source": [
    "% Resetting scenario\n",
    "?- retract(log('Data Controller Bank B triggered an alert to ANPD and to all data subjects affected by\n",
    "    the data breach informing that all e-mails were exposed','Communication','Obligation',1638970870)).\n",
    "    \n",
    "?- retract(log('Data Controller Bank B informed the security measures to do not let data breach \n",
    "    occurs','Communication','Obligation',1638970871)).\n",
    "                        \n",
    "?- retract(log('Data Controller Bank B informed that the vulnerability was found \n",
    "    and there is no unauthorized access anymore','Communication','Compliance',1638970872)).\n",
    "    \n",
    "?- retract(log('Data Controller Bank B created a technical team to help any data subject \n",
    "    that have had issues with this incident','Communication','Obligation',1638970873))."
   ]
  },
  {
   "cell_type": "markdown",
   "id": "bf5f8293",
   "metadata": {},
   "source": [
    "----\n",
    "#### Cause-effect: How to get evidences that the Data Controller leaked the Data Subject's data? "
   ]
  },
  {
   "cell_type": "markdown",
   "id": "adc3c232",
   "metadata": {},
   "source": [
    "To create concrete evidence that a Data Controller leaked a Data Subject's data, first, it is important to verify who has such data. If there is just one Data Controller legally storing such data; hence, the chances of such Data Controller had leaked personal data is elevated.\n",
    "\n",
    "Moreover, the data controller is **obligated** to inform if personal or sensitive data is stored in the database. The data subject can request such information for each data controller.\n",
    "\n",
    "However, as Bank A has the same data as Bank B, the action of verifying who leaked the data is even more difficult and may turns the process below inconclusive.\n",
    "\n",
    "![Scenario2.2_Process](./img/Scenario2.2_Process.png \"Process 2.2\")\n",
    "Fig.10 - Data Leak Process.\n",
    "\n",
    "In summary, it is important to the data subject to check the consent term in order to verify if there is any clause/ condition which permits the data controller to share data with others. If the data subject disagrees with such clause, he is **permitted** to revoke the consent term anytime."
   ]
  },
  {
   "cell_type": "code",
   "execution_count": 34,
   "id": "2aaa4ba7",
   "metadata": {},
   "outputs": [
    {
     "name": "stdout",
     "output_type": "stream",
     "text": []
    }
   ],
   "source": [
    "% This command sets that Bank A, i.e., the origin instituion, has the same data as Bank B.\n",
    "\n",
    "dcIsStoringDSData(id(20),dataController('Bank A'),dataSubject('John'),\n",
    "                    personalData('John','john@mail.com'),sensitiveData('John','transactional_data'),\n",
    "                    startDate(1638970860),endDate(1670506860))."
   ]
  },
  {
   "cell_type": "code",
   "execution_count": 35,
   "id": "4e3d352b",
   "metadata": {},
   "outputs": [
    {
     "name": "stdout",
     "output_type": "stream",
     "text": [
      "ID = 10, DataController = Bank B ;\n",
      "ID = 20, DataController = Bank A ."
     ]
    }
   ],
   "source": [
    "% This command verifies who is storing John's personal and health data.\n",
    "\n",
    "?- dcIsStoringDSData(id(ID),dataController(DataController),dataSubject('John'),\n",
    "                    personalData('John','john@mail.com'),sensitiveData('John','transactional_data'),\n",
    "                    startDate(1638970860),endDate(1670506860))."
   ]
  },
  {
   "cell_type": "markdown",
   "id": "91fa04a8",
   "metadata": {},
   "source": [
    "Now, let's picture that the Data Controller Institution ABC has John's data."
   ]
  },
  {
   "cell_type": "code",
   "execution_count": 36,
   "id": "c0c202ba",
   "metadata": {},
   "outputs": [
    {
     "name": "stdout",
     "output_type": "stream",
     "text": []
    }
   ],
   "source": [
    "dcIsStoringDSData(id(null),dataController('Institution ABC'),dataSubject('John'),\n",
    "                    personalData('John','john@mail.com'),sensitiveData('John','transactional_data'),\n",
    "                    startDate(1638970860),endDate(1670506860))."
   ]
  },
  {
   "cell_type": "code",
   "execution_count": 37,
   "id": "f48d2bbf",
   "metadata": {},
   "outputs": [
    {
     "name": "stdout",
     "output_type": "stream",
     "text": [
      "true.\n",
      "false.\n",
      "false.\n",
      "true."
     ]
    }
   ],
   "source": [
    "% These commands:\n",
    "%   (i) verifies if the Data Controller is storing the Data Subject's data;\n",
    "%  (ii) verifies if there is any evidence that the Data Subject allowed the Data Controller to process his/her data;\n",
    "% (iii) if all previous verifications are true, insert in the log that the Data Controller is not allowed \n",
    "%       to collect the Data Subject's data.\n",
    "\n",
    "%(i)\n",
    "?- dcIsStoringDSData(id(null),dataController('Institution ABC'),dataSubject('John'),\n",
    "                    personalData('John','john@mail.com'),sensitiveData('John','transactional_data'),\n",
    "                    startDate(1638970860),endDate(1670506860)).\n",
    "\n",
    "%(ii)\n",
    "?- dsAgreeWithConsentTerms(dataSubject('Institution ABC'),dataController('John'),startDate(1638970860),endDate(1670506860)).\n",
    "   \n",
    "%(ii)\n",
    "?- consentTermStatus(id(10),dataController('Bank B'),dataSubject('John'),status('Valid')).\n",
    "\n",
    "%(iii)\n",
    "?- assertz(log('Data Subject did not agree with Institution ABC consent term, so the data was improperly collected, \n",
    "    fines should be applied','Explanation','Violation',1638970861))."
   ]
  },
  {
   "cell_type": "markdown",
   "id": "c4f55ab5",
   "metadata": {},
   "source": [
    "Therefore, the event log will show that there is not consent agreement between John and InstitutionABC. \n",
    "\n",
    "Hence, Institution ABC is **prohibited** to use such data, i.e., the data was improperly collected. \n",
    "Moreover, as Bank A and Bank B are the only Data Controller storing John's data, probably Bank A or Bank B **violated**, on purpose or not, the consent term and the data were leaked from Bank A or Bank B to Institution ABC.\n",
    "\n",
    "Moreover, this scenario presents the same possible impacts depicted in Figure 9 of the previous plot."
   ]
  },
  {
   "cell_type": "code",
   "execution_count": 38,
   "id": "59302011",
   "metadata": {},
   "outputs": [
    {
     "name": "stdout",
     "output_type": "stream",
     "text": [
      "Event = Data Subject can ask if the Data Controller is processing his/her data, Type = Explanation, DeonticOperator = Permission, Date = 1638970860 ;\n",
      "Event = Data Subject verified the consent term and it was ok, Type = Explanation, DeonticOperator = Obligation, Date = 1638970860 ;\n",
      "Event = Data Subject agrees with consent term, Type = Communication, DeonticOperator = Compliance, Date = 1638970860 ;\n",
      "Event = Data Controller can collect the Data Subject information, Type = Explanation, DeonticOperator = Permission, Date = 1638970860 ;\n",
      "Event = Data Controller can store the Data Subject information, Type = Explanation, DeonticOperator = Permission, Date = 1638970860 ;\n",
      "Event = Data Controller can process the Data Subject information, Type = Explanation, DeonticOperator = Permission, Date = 1638970860 ;\n",
      "Event = Data Subject can now have all foressen rights, Type = Explanation, DeonticOperator = Permission, Date = 1638970860 ;\n",
      "Event = Data Subject considered he does not want to receive more offers from Bank B, Type = Communication, DeonticOperator = Permission, Date = 1638970861 ;\n",
      "Event = Data Subject requested to the Data Controller to revoke his/her consent, Type = Communication, DeonticOperator = Permission, Date = 1638970861 ;\n",
      "Event = From now, the Data Controller cannot collect the Data Subject information, Type = Communication, DeonticOperator = Prohibition, Date = 1638970861 ;\n",
      "Event = From now, the Data Controller cannot process the Data Subject information, Type = Communication, DeonticOperator = Prohibition, Date = 1638970861 ;\n",
      "Event = From now, consent is not valid to be used by the data controller, Type = Explanation, DeonticOperator = Prohibition, Date = 1638970861 ;\n",
      "Event = Data Subject did not agree with Institution ABC consent term, so the data was improperly collected, fines should be applied, Type = Explanation, DeonticOperator = Violation, Date = 1638970861 ."
     ]
    }
   ],
   "source": [
    "?- log(Event,Type,DeonticOperator,Date) {-1}."
   ]
  },
  {
   "cell_type": "code",
   "execution_count": 39,
   "id": "ff397b10",
   "metadata": {},
   "outputs": [
    {
     "name": "stdout",
     "output_type": "stream",
     "text": [
      "true."
     ]
    }
   ],
   "source": [
    "% Resetting scenario\n",
    "?- retract(log('Data Subject did not agree with Institution ABC consent term, so the data was improperly collected, \n",
    "    fines should be applied','Explanation','Violation',1638970861)),\n",
    "    \n",
    "    retract(dcIsStoringDSData(id(null),dataController('Institution ABC'),dataSubject('John'),\n",
    "                    personalData('John','john@mail.com'),sensitiveData('John','transactional_data'),\n",
    "                    startDate(1638970860),endDate(1670506860)))."
   ]
  },
  {
   "cell_type": "markdown",
   "id": "96f2c683",
   "metadata": {},
   "source": [
    "----\n",
    "#### Cause-effect: Requesting data correction"
   ]
  },
  {
   "cell_type": "markdown",
   "id": "356082fe",
   "metadata": {},
   "source": [
    "Data correction is one of the Data Subject's right foreseen in LGPD in the moment that the consent term was accepted.\n",
    "Even if the Data Subject revoke his/her consent, the data will not be deleted; a express data deletion request is required.\n",
    "\n",
    "So, in order to check if the data corretion request was accomplished, the Data Subject should call another right - data access.\n",
    "\n",
    "The data controller is **obligated** to abide by the data subjects' requests as correction as data access.\n",
    "Also, the controller is **obligated** to inform all processors regarding the correction.\n",
    "\n",
    "\n",
    "<div>\n",
    "<img src=\"./img/Scenario2.3_Process.png\" width=\"600\"/>\n",
    "</div>\n",
    "Fig.11 - Data Correction Process.\n",
    "\n",
    "First, the Data Subject should verify if the Data Controller is storing his/her data."
   ]
  },
  {
   "cell_type": "code",
   "execution_count": 40,
   "id": "119ccf93",
   "metadata": {},
   "outputs": [
    {
     "name": "stdout",
     "output_type": "stream",
     "text": [
      "ID = 10 ."
     ]
    }
   ],
   "source": [
    "?- dcIsStoringDSData(id(ID),dataController('Bank B'),dataSubject('John'),\n",
    "                    personalData('John','john@mail.com'),sensitiveData('John','transactional_data'),\n",
    "                    startDate(1638970860),endDate(1670506860))."
   ]
  },
  {
   "cell_type": "markdown",
   "id": "01e403cf",
   "metadata": {},
   "source": [
    "If true, the Data Subject should have the right to data access and data correction."
   ]
  },
  {
   "cell_type": "code",
   "execution_count": 41,
   "id": "ba89c6ce",
   "metadata": {},
   "outputs": [
    {
     "name": "stdout",
     "output_type": "stream",
     "text": [
      "true."
     ]
    }
   ],
   "source": [
    "?- dsRight(dataAccess,dataSubject('John'),dataController('Bank B')),\n",
    "    dsRight(dataCorrection,dataSubject('John'),dataController('Bank B'))."
   ]
  },
  {
   "cell_type": "markdown",
   "id": "18b3db3a",
   "metadata": {},
   "source": [
    "Then, the Data Subject is able to request and verify if the data was changed."
   ]
  },
  {
   "cell_type": "code",
   "execution_count": 42,
   "id": "209b62a5",
   "metadata": {},
   "outputs": [
    {
     "name": "stdout",
     "output_type": "stream",
     "text": []
    }
   ],
   "source": [
    "log('Data Subject requested to change his e-mail criptojohn@mail.com','Communication','Permission',1638970866)."
   ]
  },
  {
   "cell_type": "markdown",
   "id": "c934599e",
   "metadata": {},
   "source": [
    "And the Data Controller executed this correction."
   ]
  },
  {
   "cell_type": "code",
   "execution_count": 43,
   "id": "634be98e",
   "metadata": {
    "scrolled": true
   },
   "outputs": [
    {
     "name": "stdout",
     "output_type": "stream",
     "text": [
      "true."
     ]
    }
   ],
   "source": [
    "% First, the Data Controller verifies if the Data Subject has the rights requiered to perform such action.\n",
    "% Then, remove the incorrect data and insert the new data.\n",
    "\n",
    "\n",
    "?-  dsRight(dataCorrection,dataSubject('John'),dataController('Bank B')),\n",
    "\n",
    "    retract(dcIsStoringDSData(id(10),dataController('Bank B'),dataSubject('John'),\n",
    "                    personalData('John','john@mail.com'),sensitiveData('John','transactional_data'),\n",
    "                    startDate(1638970860),endDate(1670506860))),\n",
    "\n",
    "    assertz(dcIsStoringDSData(id(10),dataController('Bank B'),dataSubject('John'),\n",
    "                    personalData('John','criptojohn@mail.com'),sensitiveData('John','transactional_data'),\n",
    "                    startDate(1638970860),endDate(1670506860))),\n",
    "    \n",
    "    assertz(log('Data Controller has to execute the Data Subject s requerst','Explanation','Obligation',1638970866)),\n",
    "        \n",
    "    assertz(log('Data Controller changed the data as requested by the Data Subject','Communication','Compliance',1638970867)),\n",
    "    \n",
    "    assertz(log('Data Controller notified all processors regarding the data corretion','Communication','Compliance',1638970867))."
   ]
  },
  {
   "cell_type": "markdown",
   "id": "5f66160a",
   "metadata": {},
   "source": [
    "Hence, as the data controler attended the data subject's request, it still in **compliance** with the LGPD. The Data Subject can verify if the data was fixed."
   ]
  },
  {
   "cell_type": "code",
   "execution_count": 44,
   "id": "46ac038a",
   "metadata": {},
   "outputs": [
    {
     "name": "stdout",
     "output_type": "stream",
     "text": [
      "DataController = Bank B, Email = criptojohn@mail.com ."
     ]
    }
   ],
   "source": [
    "% If the Data Subject has the right to access his/her data, then he/she is able to verify if his/her data was fixed.\n",
    "\n",
    "?-  dsRight(dataAccess,dataSubject('John'),dataController('Bank B')),\n",
    "    dcIsStoringDSData(id(10),dataController(DataController),dataSubject('John'),\n",
    "                    personalData('John',Email),sensitiveData('John','transactional_data'),\n",
    "                    startDate(1638970860),endDate(1670506860)),\n",
    "    assertz(log('Data Subject confirmed that the data was fixed','Explanation','Permission',1638970868))."
   ]
  },
  {
   "cell_type": "code",
   "execution_count": 45,
   "id": "80439aab",
   "metadata": {},
   "outputs": [
    {
     "name": "stdout",
     "output_type": "stream",
     "text": [
      "Event = Data Subject requested to change his e-mail criptojohn@mail.com, Type = Communication, DeonticOperator = Permission, Date = 1638970866 ;\n",
      "Event = Data Controller has to execute the Data Subject s requerst, Type = Explanation, DeonticOperator = Obligation, Date = 1638970866 ;\n",
      "Event = Data Controller changed the data as requested by the Data Subject, Type = Communication, DeonticOperator = Compliance, Date = 1638970867 ;\n",
      "Event = Data Controller notified all processors regarding the data corretion, Type = Communication, DeonticOperator = Compliance, Date = 1638970867 ;\n",
      "Event = Data Subject confirmed that the data was fixed, Type = Explanation, DeonticOperator = Permission, Date = 1638970868 ."
     ]
    }
   ],
   "source": [
    "?- log(Event,Type,DeonticOperator,Date), Date >= 1638970866 {-1}."
   ]
  },
  {
   "cell_type": "markdown",
   "id": "3f8c30a5",
   "metadata": {},
   "source": [
    "Therefore, the data correction impacts many LGPD relationships as depicted in Figure 12."
   ]
  },
  {
   "cell_type": "markdown",
   "id": "c2d1e593",
   "metadata": {},
   "source": [
    "![DataCorrectionImpact](./img/DataCorrectionImpact.png \"Data Correction Impact\")\n",
    "Fig.12 - Data Correction Impact."
   ]
  },
  {
   "cell_type": "markdown",
   "id": "c4acbc1b",
   "metadata": {},
   "source": [
    "The data correction impacts data processing and data storage, as the personal or sensitive data were changed. Therefore, Data Controllers and Processors should also verify if the copy requested by the Data Subject is the updated personal and sensitive data."
   ]
  },
  {
   "cell_type": "code",
   "execution_count": 46,
   "id": "cb481a4d",
   "metadata": {},
   "outputs": [
    {
     "name": "stdout",
     "output_type": "stream",
     "text": [
      "true."
     ]
    }
   ],
   "source": [
    "% Resetting scenario\n",
    "?-  retract(log('Data Subject requested to change his e-mail criptojohn@mail.com','Communication','Permission',1638970866)),\n",
    "    retract(log('Data Controller has to execute the Data Subject s requerst','Explanation','Obligation',1638970866)),\n",
    "    retract(log('Data Controller changed the data as requested by the Data Subject','Communication','Compliance',1638970867)),\n",
    "    retract(log('Data Subject confirmed that the data was fixed','Explanation','Permission',1638970868)),\n",
    "    retract(log('Data Controller notified all processors regarding the data corretion','Communication','Compliance',1638970867)),\n",
    "    retract(dcIsStoringDSData(id(10),dataController('Bank B'),dataSubject('John'),\n",
    "                    personalData('John','criptojohn@mail.com'),sensitiveData('John','transactional_data'),\n",
    "                    startDate(1638970860),endDate(1670506860))).\n",
    "    %assertz(dcIsStoringDSData(id(10),dataController(universityXYZ),dataSubject('John'),\n",
    "    %                personalData('John','john@mail.com'),sensitiveData('John','transcripts'),\n",
    "    %                startDate(1622035260),endDate(1637846460)))."
   ]
  },
  {
   "cell_type": "markdown",
   "id": "89f7c177",
   "metadata": {},
   "source": [
    "----\n",
    "#### Cause-effect: Requesting anonymization\n",
    "\n",
    "Let's picture that the Data Subject requested the data anonymization right. Once the data is anonymized, the Data Controller will not have the resources to give any details about such data, including correction. Hence, after this request, the data controller is **not obligated** to comply with requests that should involve reidentification actions.\n",
    "\n",
    "Also, the controller is **obligated** to inform all processors regarding the anonymization.\n",
    "\n",
    "Here, questions regarding the anonymization algorithms could emerge, but this is not the focus of this work.\n",
    "This work focus on the causes and consequences understanding of possible scenarios.\n",
    "\n",
    "TAG \\[Domain specificity]: \n",
    "In the open banking scenario, the data anonymization request may implies in stop receiving offers and products from Bank B."
   ]
  },
  {
   "cell_type": "code",
   "execution_count": 47,
   "id": "06ba9e62",
   "metadata": {},
   "outputs": [
    {
     "name": "stdout",
     "output_type": "stream",
     "text": [
      "true."
     ]
    }
   ],
   "source": [
    "?- checkConsentTerm(id(11),dataController('Bank B'),\n",
    "                        dataSubject('John'),\n",
    "                        purpose('Bank B','offer_products_and_services'),\n",
    "                        'create_specific_offers',\n",
    "                        'data_analytics',\n",
    "                        31536000,\n",
    "                        'none',\n",
    "                        'e-mail',\n",
    "                        'lgpd@bankb.br',\n",
    "                        1639970860).                        "
   ]
  },
  {
   "cell_type": "code",
   "execution_count": 48,
   "id": "ad770643",
   "metadata": {},
   "outputs": [
    {
     "name": "stdout",
     "output_type": "stream",
     "text": [
      "EndDate = 1671506860 ."
     ]
    }
   ],
   "source": [
    "?- setThatdsAgreeWithConsentTerms(id(11),\n",
    "                                dataSubject('John'),\n",
    "                                dataController('Bank B'),\n",
    "                                requestFormat('Direct','John','null'),\n",
    "                                personalData('John','john@mail.com'),\n",
    "                                sensitiveData('John','transactional_data'),\n",
    "                                startDate(1639970860),\n",
    "                                endDate(EndDate)), EndDate is 1639970860+31536000."
   ]
  },
  {
   "cell_type": "code",
   "execution_count": 49,
   "id": "f833ad25",
   "metadata": {},
   "outputs": [
    {
     "name": "stdout",
     "output_type": "stream",
     "text": [
      "true."
     ]
    }
   ],
   "source": [
    "?- setDSRights(dataSubject('John'),dataController('Bank B'),startDate(1639970860))."
   ]
  },
  {
   "cell_type": "markdown",
   "id": "d4e430b5",
   "metadata": {},
   "source": [
    "Once the data is anonymized, the Data Controller will not have the resources to give any details about such data, including correction. Hence, if the Data Subject submits this request, he will not be able to participate in this discipline. The data controller is **not obligated** to comply with requests that should involve deidentification actions.\n",
    "\n",
    "Also, the controller is **obligated** to inform all processors regarding the anonymization.\n",
    "\n",
    "Here, questions regarding the anonymization algorithms could emerge, but this is not the focus of this work.\n",
    "This work focus on the causes and consequences understanding of possible scenarios.\n",
    "\n",
    "\n",
    "<div>\n",
    "<img src=\"./img/Scenario2.4_Process.png\" width=\"600\"/>\n",
    "</div>\n",
    "Fig.13 - Data Anonymization Process.\n",
    "\n",
    "First, the Data Subject should show that the Data Controller has his data."
   ]
  },
  {
   "cell_type": "markdown",
   "id": "2065d606",
   "metadata": {},
   "source": [
    "TAG \\[Domain specificity]: \n",
    "- As the anonymization right turns not possible for Bank B to execute its purpose, i.e., create and send specific products and services based on the Data Subject data, Bank B should ask if the Data Subject would like to revoke his consent. However, one of the very first steps in this scenario description is the consent revocation action; hence, the data subject already revoked his consent. "
   ]
  },
  {
   "cell_type": "code",
   "execution_count": 50,
   "id": "386639b6",
   "metadata": {},
   "outputs": [
    {
     "name": "stdout",
     "output_type": "stream",
     "text": [
      "true."
     ]
    }
   ],
   "source": [
    "?- dcIsStoringDSData(id(11),dataController('Bank B'),dataSubject('John'),\n",
    "                        personalData('John','john@mail.com'),sensitiveData('John','transactional_data'),\n",
    "                        startDate(1639970860),endDate(1671506860)),\n",
    "                    \n",
    "    assertz(log('Data Subject requested to anonymize his data','Communication','Permission',1639970862))."
   ]
  },
  {
   "cell_type": "markdown",
   "id": "8930e4c8",
   "metadata": {},
   "source": [
    "Next, the Data Controller accomplish the Data Subject request."
   ]
  },
  {
   "cell_type": "code",
   "execution_count": 51,
   "id": "d093fa07",
   "metadata": {},
   "outputs": [
    {
     "name": "stdout",
     "output_type": "stream",
     "text": [
      " ;\n",
      " ."
     ]
    }
   ],
   "source": [
    "?- retract(dcIsStoringDSData(id(11),dataController('Bank B'),dataSubject('John'),\n",
    "                        personalData('John','john@mail.com'),sensitiveData('John','transactional_data'),\n",
    "                        startDate(1639970860),endDate(1671506860))),\n",
    "\n",
    "    assertz(dcIsStoringDSData(id(_),dataController('Bank B'),dataSubject(_),\n",
    "                    personalData(_,_),sensitiveData(_,'anonymized_transactional_data'),\n",
    "                    startDate(1639970860),endDate(1671506860))),\n",
    "\n",
    "    assertz(log('Data Controller has to execute the Data Subject s request','Delete-Anonymise','Compliance',1671506863)),\n",
    "    assertz(log('Data Controller has to notify all processors regarding the anonymization request','Delete-Anonymise','Compliance',1671506863)),\n",
    "    assertz(log('Data Controller anonymized the Data Subjects data','Delete-Anonymise','Compliance',1671506863)),\n",
    "    assertz(log('Data Controller notified the Data Subject that the purpose will not be executed anymore','Delete-Anonymise','Compliance',1671506863)),    \n",
    "    assertz(log('Data Subject cannot request data: access, copy, correction,anonymization, \n",
    "            portability, deletion, and details of data sharing','Communication','Prohibition',1671506863)),\n",
    "            \n",
    "    assertz(log('Data Subject does not accept to share his information anymore','Communication','Prohibition',1671506863)),\n",
    "    \n",
    "    retract(dsRight(dataAccess,dataSubject('John'),dataController('Bank B'))),\n",
    "    retract(dsRight(dataCopy,dataSubject('John'),dataController('Bank B'))),\n",
    "    retract(dsRight(dataCorrection,dataSubject('John'),dataController('Bank B'))),\n",
    "    retract(dsRight(dataAnonymization,dataSubject('John'),dataController('Bank B'))),\n",
    "    retract(dsRight(dataPortability,dataSubject('John'),dataController('Bank B'))),\n",
    "    retract(dsRight(dataDeletion,dataSubject('John'),dataController('Bank B'))),\n",
    "    retract(dsRight(dataSharingInformation,dataSubject('John'),dataController('Bank B')))."
   ]
  },
  {
   "cell_type": "markdown",
   "id": "e0855f52",
   "metadata": {},
   "source": [
    "Now, the Data Subject's sensitive data is not associated with any personal data that could identify that such data is from the Data Subject. Hence, the data controller is in **compliance** with LGPD."
   ]
  },
  {
   "cell_type": "code",
   "execution_count": 52,
   "id": "2ff0d1fa",
   "metadata": {},
   "outputs": [
    {
     "name": "stdout",
     "output_type": "stream",
     "text": [
      "DataSubject = Variable(70) ."
     ]
    }
   ],
   "source": [
    "?- dcIsStoringDSData(id(_),dataController('Bank B'),dataSubject(DataSubject),\n",
    "                    personalData(_,_),sensitiveData(_,'anonymized_transactional_data'),\n",
    "                    startDate(1639970860),endDate(1671506860))."
   ]
  },
  {
   "cell_type": "code",
   "execution_count": 53,
   "id": "db733936",
   "metadata": {},
   "outputs": [
    {
     "name": "stdout",
     "output_type": "stream",
     "text": [
      "Event = Data Subject requested to anonymize his data, Type = Communication, DeonticOperator = Permission, Date = 1639970862 ;\n",
      "Event = Data Controller has to execute the Data Subject s request, Type = Delete-Anonymise, DeonticOperator = Compliance, Date = 1671506863 ;\n",
      "Event = Data Controller has to notify all processors regarding the anonymization request, Type = Delete-Anonymise, DeonticOperator = Compliance, Date = 1671506863 ;\n",
      "Event = Data Controller anonymized the Data Subjects data, Type = Delete-Anonymise, DeonticOperator = Compliance, Date = 1671506863 ;\n",
      "Event = Data Controller notified the Data Subject that the purpose will not be executed anymore, Type = Delete-Anonymise, DeonticOperator = Compliance, Date = 1671506863 ;\n",
      "Event = Data Subject cannot request data: access, copy, correction,anonymization, portability, deletion, and details of data sharing, Type = Communication, DeonticOperator = Prohibition, Date = 1671506863 ;\n",
      "Event = Data Subject does not accept to share his information anymore, Type = Communication, DeonticOperator = Prohibition, Date = 1671506863 ."
     ]
    }
   ],
   "source": [
    "?- log(Event,Type,DeonticOperator,Date), Date >= 1639970862 {-1}."
   ]
  },
  {
   "cell_type": "markdown",
   "id": "77bed8b8",
   "metadata": {},
   "source": [
    "Furthermore, the remaining rights are: the right to ask if a Data Controller is processing his/her data, and the right to request consent revocation ."
   ]
  },
  {
   "cell_type": "code",
   "execution_count": 54,
   "id": "46123744",
   "metadata": {},
   "outputs": [
    {
     "name": "stdout",
     "output_type": "stream",
     "text": [
      "RIGHT = processingConfirmation ;\n",
      "RIGHT = requestConsentRevocation ."
     ]
    }
   ],
   "source": [
    "?- dsRight(RIGHT,dataSubject('John'),dataController('Bank B'))."
   ]
  },
  {
   "cell_type": "markdown",
   "id": "876ea09a",
   "metadata": {},
   "source": [
    "Therefore, the data anonymization impacts many LGPD relationships, as depicted in Figure 14."
   ]
  },
  {
   "cell_type": "markdown",
   "id": "a68e562c",
   "metadata": {},
   "source": [
    "![DataAnonymizationImpact](./img/DataAnonymizationImpact.png \"Data Anonymization Impact\")\n",
    "Fig.14-  Data anonymization Impact."
   ]
  },
  {
   "cell_type": "markdown",
   "id": "d50d1085",
   "metadata": {},
   "source": [
    "Data anonymization impacts almost all Data Subjects Rights. The anonymization process may turn the personal data not identifiable anymore. Hence, the anonymized data is out of LGPD's scope. In this sense, requests related to data access, deletion, correction, portability, or copy, may not be answered by the Data Controller, as the Controller might not identify the Data Subject anymore."
   ]
  },
  {
   "cell_type": "markdown",
   "id": "db6a7545",
   "metadata": {},
   "source": [
    "Last but not least, there are other scenarios that could be explored as well.\n",
    "\n",
    "TAG \\[Domain specificity]: \n",
    " -  For instance, if the data subject requested anonymization and not did not request consent revocation, the new data will not be anonymized."
   ]
  },
  {
   "cell_type": "code",
   "execution_count": 55,
   "id": "ed8d00f4",
   "metadata": {},
   "outputs": [
    {
     "name": "stdout",
     "output_type": "stream",
     "text": [
      "true."
     ]
    }
   ],
   "source": [
    "% Resetting scenario\n",
    "?-  assertz(dcIsStoringDSData(id(11),dataController('Bank B'),dataSubject('John'),\n",
    "                        personalData('John','john@mail.com'),sensitiveData('John','transactional_data'),\n",
    "                        startDate(1639970860),endDate(1671506860))),\n",
    "    retract(dcIsStoringDSData(id(_),dataController('Bank B'),dataSubject(_),\n",
    "                    personalData(_,_),sensitiveData(_,'anonymized_transactional_data'),\n",
    "                    startDate(1639970860),endDate(1671506860))),\n",
    "    retract(log('Data Subject requested to anonymize his data','Communication','Permission',1639970862)),\n",
    "    retract(log('Data Controller has to execute the Data Subject s request','Delete-Anonymise','Compliance',1671506863)),\n",
    "    retract(log('Data Controller has to notify all processors regarding the anonymization request','Delete-Anonymise','Compliance',1671506863)),\n",
    "    retract(log('Data Controller anonymized the Data Subjects data','Delete-Anonymise','Compliance',1671506863)),\n",
    "    retract(log('Data Controller notified the Data Subject that the purpose will not be executed anymore','Delete-Anonymise','Compliance',1671506863)),\n",
    "    retract(log('Data Subject cannot request data: access, copy, correction,anonymization, \n",
    "            portability, deletion, and details of data sharing','Communication','Prohibition',1671506863)),\n",
    "    retract(log('Data Subject does not accept to share his information anymore','Communication','Prohibition',1671506863)),\n",
    "    assertz(dsRight(dataAccess,dataSubject('John'),dataController('Bank B'))),\n",
    "    assertz(dsRight(dataCopy,dataSubject('John'),dataController('Bank B'))),\n",
    "    assertz(dsRight(dataCorrection,dataSubject('John'),dataController('Bank B'))),\n",
    "    assertz(dsRight(dataAnonymization,dataSubject('John'),dataController('Bank B'))),\n",
    "    assertz(dsRight(dataPortability,dataSubject('John'),dataController('Bank B'))),\n",
    "    assertz(dsRight(dataDeletion,dataSubject('John'),dataController('Bank B'))),\n",
    "    assertz(dsRight(dataSharingInformation,dataSubject('John'),dataController('Bank B'))),\n",
    "    retract(consentTermStatus(id(11),dataController('Bank B'),dataSubject('John'),status('Valid'))),\n",
    "    assertz(consentTermStatus(id(11),dataController('Bank B'),dataSubject('John'),status('Invalid')))."
   ]
  },
  {
   "cell_type": "markdown",
   "id": "ecba5029",
   "metadata": {},
   "source": [
    "----\n",
    "#### Cause-effect: Data deletion"
   ]
  },
  {
   "cell_type": "markdown",
   "id": "8f31665e",
   "metadata": {},
   "source": [
    "As mentioned before, there is more than one definition for data deletion. In the case aforementioned, we anonymized the data, which can be considered as data deletion. Now, let's picture that the Data Subject John wants to destroy his data from the Bank's B database. \n",
    "\n",
    "This means that John will not be able to subscribe in any class from Bank B.\n",
    "\n",
    "Moreover, the following purposes, also described in LGPD art. 16, legitimizes, i.e., **allow** the Data Controller to keep the personal data stored in the database:\n",
    " - I - compliance with a legal or regulatory obligation by the controller;\n",
    " - II - study by a research institution, ensuring, whenever possible, the anonymization of personal data;\n",
    " - III - transfer to a third party, provided that the data processing requirements set out in this Law is respected; or\n",
    " - IV - exclusive use of the controller, its access by a third party is prohibited, and anonymization is required as well.\n"
   ]
  },
  {
   "cell_type": "markdown",
   "id": "e59e67fd",
   "metadata": {},
   "source": [
    "<div>\n",
    "<img src=\"./img/Scenario2_DataDeletion.png\" width=\"600\"/>\n",
    "</div>\n",
    "Fig.15 - Data Deletion Process."
   ]
  },
  {
   "cell_type": "markdown",
   "id": "03fff1f7",
   "metadata": {},
   "source": [
    "As the Bank B purpose is not based on any aforementioned situations; hence, Bank B must accept the Data Subject request."
   ]
  },
  {
   "cell_type": "code",
   "execution_count": 56,
   "id": "a775aa85",
   "metadata": {},
   "outputs": [
    {
     "name": "stdout",
     "output_type": "stream",
     "text": [
      "Purpose = offer_products_and_services ."
     ]
    }
   ],
   "source": [
    "?- purpose('Bank B','John',Purpose)."
   ]
  },
  {
   "cell_type": "markdown",
   "id": "515afe66",
   "metadata": {},
   "source": [
    "In order to specify the rule that defines if the Data Controller has the right to keep the Data Subject's data, we developed the following function."
   ]
  },
  {
   "cell_type": "code",
   "execution_count": 57,
   "id": "4d8de40d",
   "metadata": {},
   "outputs": [
    {
     "name": "stdout",
     "output_type": "stream",
     "text": []
    }
   ],
   "source": [
    "% Description: This function verifies if the Data Controller purpose is elegible to hold the Data Subject's data.\n",
    "% This function receives the params:\n",
    "%  i. Data Subject\n",
    "% ii. Data Controller\n",
    "\n",
    "verifyIfDCCanHoldDSData(dataController(DC),dataSubject(DS)) :-\n",
    "    purpose(DC,DS,legalObligation), assertz(dcCanHoldData(dataController(DC),dataSubject(DS)));\n",
    "    purpose(DC,DS,research), assertz(dcCanHoldData(dataController(DC),dataSubject(DS)));\n",
    "    purpose(DC,DS,transferToThirdParty), assertz(dcCanHoldData(dataController(DC),dataSubject(DS)));\n",
    "    purpose(DC,DS,exclusiveDCUse), assertz(dcCanHoldData(dataController(DC),dataSubject(DS)));\n",
    "    assertz(dcCanHoldData('',''))."
   ]
  },
  {
   "cell_type": "markdown",
   "id": "ee6de86b",
   "metadata": {},
   "source": [
    "So, let's run the above function to verify if a new fact is generated informing that the Data Controller can hold de Data Subject's data."
   ]
  },
  {
   "cell_type": "code",
   "execution_count": 58,
   "id": "7154aa75",
   "metadata": {},
   "outputs": [
    {
     "name": "stdout",
     "output_type": "stream",
     "text": [
      "true."
     ]
    }
   ],
   "source": [
    "?- verifyIfDCCanHoldDSData(dataController('Bank B'),dataSubject('John')). "
   ]
  },
  {
   "cell_type": "markdown",
   "id": "3fabdba6",
   "metadata": {},
   "source": [
    "Then, let's verify if such a fact was generated."
   ]
  },
  {
   "cell_type": "code",
   "execution_count": 59,
   "id": "0dcb3074",
   "metadata": {
    "vscode": {
     "languageId": "json"
    }
   },
   "outputs": [
    {
     "name": "stdout",
     "output_type": "stream",
     "text": [
      "false."
     ]
    }
   ],
   "source": [
    "?- dcCanHoldData(dataController('Bank B'),dataSubject('John'))."
   ]
  },
  {
   "cell_type": "markdown",
   "id": "251f1922",
   "metadata": {},
   "source": [
    "The result is 'false' because the purpose is different from the purposes listed by LGPD that allows the Data Controller keeps the data.\n",
    "In this sense, let's simulate the request for data deletion from the Data Subject John to the Data Controller Bank B."
   ]
  },
  {
   "cell_type": "code",
   "execution_count": 60,
   "id": "10ac9091",
   "metadata": {
    "vscode": {
     "languageId": "json"
    }
   },
   "outputs": [
    {
     "name": "stdout",
     "output_type": "stream",
     "text": []
    }
   ],
   "source": [
    "log('Data Subject requested to delete his data','Communication','Permission',1639970864)."
   ]
  },
  {
   "cell_type": "code",
   "execution_count": 61,
   "id": "61c9e45a",
   "metadata": {
    "vscode": {
     "languageId": "json"
    }
   },
   "outputs": [
    {
     "name": "stdout",
     "output_type": "stream",
     "text": []
    }
   ],
   "source": [
    "log('Data Controller received the data deletion request and will evaluate the solicitation','Communication','Compliance',1639970865)."
   ]
  },
  {
   "cell_type": "markdown",
   "id": "65b4e1c8",
   "metadata": {},
   "source": [
    "The code below will check if the Data Controler can hold the Data Subject information. If yes, two new log activities will be recorded. On the other hand, the code will return false if the Data Controller cannot hold the information, and the two log activities will not be recorded."
   ]
  },
  {
   "cell_type": "code",
   "execution_count": 62,
   "id": "541e5c4c",
   "metadata": {
    "vscode": {
     "languageId": "json"
    }
   },
   "outputs": [
    {
     "name": "stdout",
     "output_type": "stream",
     "text": [
      "false."
     ]
    }
   ],
   "source": [
    "?- dcCanHoldData(dataController('Bank B'),dataSubject('John')),\n",
    "    \n",
    "    assertz(log('Data Controller can hold the data because its purpose allows it.','Explanation','Permission',1639970866)),\n",
    "\n",
    "    assertz(log('Data Controller decided to keep the data on the database.','Communication','Compliance',1639970867))."
   ]
  },
  {
   "cell_type": "code",
   "execution_count": 63,
   "id": "5e3d3108",
   "metadata": {
    "vscode": {
     "languageId": "json"
    }
   },
   "outputs": [
    {
     "name": "stdout",
     "output_type": "stream",
     "text": []
    }
   ],
   "source": [
    "% Description: This function deletes the Data Subject's data if the Data Controller is allowed to do that.\n",
    "% This function receives the params:\n",
    "%    i. Data Subject\n",
    "%   ii. Data Controller\n",
    "%  iii. Date Time\n",
    "\n",
    "requestToDeleteDSData(dataSubject(DS),dataController(DC),date(DT)) :- \n",
    " not(dcCanHoldData(dataController(DC),dataSubject(DS))),\n",
    " assertz(log('Data Controller has to delete the data','Communication','Obligation',DT))."
   ]
  },
  {
   "cell_type": "code",
   "execution_count": 64,
   "id": "979bb139",
   "metadata": {
    "vscode": {
     "languageId": "json"
    }
   },
   "outputs": [
    {
     "name": "stdout",
     "output_type": "stream",
     "text": [
      "true."
     ]
    }
   ],
   "source": [
    "?- requestToDeleteDSData(dataSubject('John'),dataController('Bank B'),date(1639970868))."
   ]
  },
  {
   "cell_type": "markdown",
   "id": "8b35e918",
   "metadata": {},
   "source": [
    "Why 1: This method returned true because the Data Controller **cannot keep** the Data Subject's data, as presented bellow."
   ]
  },
  {
   "cell_type": "code",
   "execution_count": 65,
   "id": "73d3c01b",
   "metadata": {
    "vscode": {
     "languageId": "json"
    }
   },
   "outputs": [
    {
     "name": "stdout",
     "output_type": "stream",
     "text": [
      "false."
     ]
    }
   ],
   "source": [
    "?-  dcCanHoldData(dataController('Bank B'),dataSubject('John'))."
   ]
  },
  {
   "cell_type": "markdown",
   "id": "fbbdd1e7",
   "metadata": {},
   "source": [
    "Why 2: The Data Controller cannot keep personal data because it will be not used for any aforementioned situations."
   ]
  },
  {
   "cell_type": "code",
   "execution_count": 66,
   "id": "f9c57d00",
   "metadata": {
    "vscode": {
     "languageId": "json"
    }
   },
   "outputs": [
    {
     "name": "stdout",
     "output_type": "stream",
     "text": [
      "DC = Bank B, Purpose = offer_products_and_services ."
     ]
    }
   ],
   "source": [
    "?- purpose(DC,'John',Purpose)."
   ]
  },
  {
   "cell_type": "markdown",
   "id": "cae27e3b",
   "metadata": {},
   "source": [
    "It means that the purpose presented by the Data Controller is **not valid** to permit that Bank B holds the Data Subject's data."
   ]
  },
  {
   "cell_type": "code",
   "execution_count": 67,
   "id": "fbdf9f95",
   "metadata": {
    "vscode": {
     "languageId": "json"
    }
   },
   "outputs": [
    {
     "name": "stdout",
     "output_type": "stream",
     "text": [
      "Event = Data Subject requested to delete his data, Type = Communication, DeonticOperator = Permission, Date = 1639970864 ;\n",
      "Event = Data Controller received the data deletion request and will evaluate the solicitation, Type = Communication, DeonticOperator = Compliance, Date = 1639970865 ;\n",
      "Event = Data Controller has to delete the data, Type = Communication, DeonticOperator = Obligation, Date = 1639970868 ."
     ]
    }
   ],
   "source": [
    "?- log(Event,Type,DeonticOperator,Date), Date >= 1639970864 {-1}."
   ]
  },
  {
   "cell_type": "markdown",
   "id": "1c0d4fe1",
   "metadata": {},
   "source": [
    "Therefore, as depicted in Figure 16, the request for data deletion may impacts differently depending on the purpose limitation. For example, the data storage may have to anonymize the data. Moreover, if the data was deleted or anonymized, the Data Controller cannot achieve requests related to data correction, portability, and copy anymore."
   ]
  },
  {
   "cell_type": "markdown",
   "id": "3ac906a8",
   "metadata": {},
   "source": [
    "![DataDeletionImpact](./img/DataDeletionImpact.png \"Data Deletion Impact\")\n",
    "Fig.16 - Data Deletion Impact."
   ]
  },
  {
   "cell_type": "code",
   "execution_count": 68,
   "id": "572c79a3",
   "metadata": {
    "vscode": {
     "languageId": "json"
    }
   },
   "outputs": [
    {
     "name": "stdout",
     "output_type": "stream",
     "text": [
      "true."
     ]
    }
   ],
   "source": [
    "% Resetting scenario\n",
    "?-  retract(log('Data Subject requested to delete his data','Communication','Permission',1639970864)),\n",
    "    retract(log('Data Controller received the data deletion request and will evaluate the solicitation',\n",
    "        'Communication','Compliance',1639970865)),\n",
    "    retract(log('Data Controller has to delete the data','Communication','Obligation',1639970868))."
   ]
  },
  {
   "cell_type": "markdown",
   "id": "74d8864d",
   "metadata": {},
   "source": [
    "----\n",
    "#### Cause-effect: Technology unavailability\n",
    "\n",
    "Companies are vulnerable to technical fault, unavailability, or security breach. In this sense, Data Subjects might be impacted by technology throubles. In some cases, the technology unavailability may not impact Data Subjects, but only internal companies' processes.\n",
    "\n",
    "In this scenario, we will simulate an event of technology unavailability, i.e., let's suppose that Bank B's cloud server, which has personal data storage, is offline. Internally, Bank B suffered a high impact of this unavailability; all systems that depend on this database are offline, i.e., the internal data governance is jeopardized/ compromised. Hence, employees and clients cannot access any internal system.\n",
    "\n",
    "Figure 17 depicts the impact of system unavailability."
   ]
  },
  {
   "cell_type": "markdown",
   "id": "810db33c",
   "metadata": {},
   "source": [
    "![DataUnavailabilityImpact](./img/DataUnavailabilityImpact.png \"Data Unavilability Impact\")\n",
    "Fig.17 - Data Unavailability Impact."
   ]
  },
  {
   "cell_type": "markdown",
   "id": "f6cfdc44",
   "metadata": {},
   "source": [
    "Besides the governance, data unavailability may impacts directly the users' rights. For example, the Data Controller and Processor cannot delete or execute data corrections if the system is unavailable. Moreover, if a Data Controller requests for portability, anonymization, or portability, the Data Controller will not be able to attend to such requests as fast as expected; a considerable delay is expected, instead. Furthermore, fines can be applied depending on the delay, but they should be evaluated case-by-case.\n",
    "\n",
    "Last but not least, in this scenario, depending on the moment of this data unavailability, the impact might be more, or less, severe. For instance, if a client wants to subscribe to a service that will improve the client's profit, he/she will probably be affected if the operation does not finalize. As a result, the client could lose the yield of such a day.\n",
    "\n",
    "Conversely, if the unavailability occurs on the weekend, the clients may not be impacted."
   ]
  },
  {
   "cell_type": "markdown",
   "id": "584bfd7a",
   "metadata": {},
   "source": [
    "----\n",
    "#### Cause-effect: Inconsistent behavior\n",
    "\n",
    "Forecast human behavior can be a big challenge; the strange behaviors can be originated from different aspects, such as by a bad interface, system instability or error, or by a malicious person. In this sense, let's picture a person who agrees and revokes consent repeatedly in short time-space.\n",
    "\n",
    "TAG \\[Domain specificity]: In the open banking scenario, this behavior might indicate that the client is confused regarding the process of sharing his/her information, or the client is trying to manipulate the data to get benefits."
   ]
  },
  {
   "cell_type": "code",
   "execution_count": 69,
   "id": "a0c27ef9",
   "metadata": {},
   "outputs": [
    {
     "name": "stdout",
     "output_type": "stream",
     "text": [
      "EndDate = 1671506870 ;\n",
      "EndDate = 1671506870 ;\n",
      "EndDate = 1671506870 ;\n",
      "EndDate = 1671506870 ;\n",
      "EndDate = 1671506870 ;\n",
      "EndDate = 1671506870 ;\n",
      "EndDate = 1671506870 ;\n",
      "EndDate = 1671506870 ;\n",
      "EndDate = 1671506870 ;\n",
      "EndDate = 1671506870 ."
     ]
    }
   ],
   "source": [
    "?- createConsentTerm(12,'Bank B','John','john@mail.com','personal_and_transactional','offer_products_and_services',\n",
    "                'create_specific_offers',\n",
    "                'data_analytics',\n",
    "                31536000,\n",
    "                'none',\n",
    "                'e-mail',\n",
    "                'lgpd@bankb.br',\n",
    "                'SHA256',\n",
    "                'Authorized employees can access the data only',\n",
    "                'Bank B private cloud'),\n",
    "                \n",
    "    assertz(dsRight(processingConfirmation,dataSubject('John'),dataController('Bank B'))),\n",
    "    assertz(log('Data Subject can ask if the Data Controller is processing his/her data','Explanation','Permission',1639970870)),\n",
    "\n",
    "    checkConsentTerm(id(12),dataController('Bank B'),\n",
    "                        dataSubject('John'),\n",
    "                        purpose('Bank B','offer_products_and_services'),\n",
    "                        'create_specific_offers',\n",
    "                        'data_analytics',\n",
    "                        31536000,\n",
    "                        'none',\n",
    "                        'e-mail',\n",
    "                        'lgpd@bankb.br',\n",
    "                        1638970860),    \n",
    "                        \n",
    "    setThatdsAgreeWithConsentTerms(id(12),\n",
    "                                dataSubject('John'),\n",
    "                                dataController('Bank B'),\n",
    "                                requestFormat('Direct','John','null'),\n",
    "                                personalData('John','john@mail.com'),\n",
    "                                sensitiveData('John','transactional_data'),\n",
    "                                startDate(1639970870),\n",
    "                                endDate(EndDate)), EndDate is 1639970870+31536000.\n",
    "                        \n",
    "    setDSRights(dataSubject('John'),dataController('Bank B'),startDate(1639970870))."
   ]
  },
  {
   "cell_type": "code",
   "execution_count": 70,
   "id": "bf688cfa",
   "metadata": {},
   "outputs": [
    {
     "name": "stdout",
     "output_type": "stream",
     "text": [
      "EndDate = 1671506870 ;\n",
      "EndDate = 1671506870 ;\n",
      "EndDate = 1671506870 ;\n",
      "EndDate = 1671506870 ."
     ]
    }
   ],
   "source": [
    "?- setDSRevokeConsent(id(12),\n",
    "                        dataSubject('John'),\n",
    "                        dataController('Bank B'),\n",
    "                        personalData('John','john@mail.com'),\n",
    "                        sensitiveData('John','transactional_data'),\n",
    "                        now(1639970872),\n",
    "                        startDate(1639970870),\n",
    "                        endDate(EndDate)\n",
    "                        ), \n",
    "                        EndDate is 1639970870+31536000."
   ]
  },
  {
   "cell_type": "code",
   "execution_count": 71,
   "id": "cd221fed",
   "metadata": {},
   "outputs": [
    {
     "name": "stdout",
     "output_type": "stream",
     "text": [
      "true."
     ]
    }
   ],
   "source": [
    "?- createConsentTerm(13,'Bank B','John','john@mail.com','personal_and_transactional','offer_products_and_services',\n",
    "                'create_specific_offers',\n",
    "                'data_analytics',\n",
    "                31536000,\n",
    "                'none',\n",
    "                'e-mail',\n",
    "                'lgpd@bankb.br',\n",
    "                'SHA256',\n",
    "                'Authorized employees can access the data only',\n",
    "                'Bank B private cloud')."
   ]
  },
  {
   "cell_type": "code",
   "execution_count": 72,
   "id": "235df14e",
   "metadata": {},
   "outputs": [
    {
     "name": "stdout",
     "output_type": "stream",
     "text": [
      "true."
     ]
    }
   ],
   "source": [
    "?- assertz(dsRight(processingConfirmation,dataSubject('John'),dataController('Bank B'))),\n",
    "    assertz(log('Data Subject can ask if the Data Controller is processing his/her data','Explanation','Permission',1639970872))."
   ]
  },
  {
   "cell_type": "code",
   "execution_count": 73,
   "id": "e9a23fbc",
   "metadata": {},
   "outputs": [
    {
     "name": "stdout",
     "output_type": "stream",
     "text": [
      " ;\n",
      " ;\n",
      " ;\n",
      " ;\n",
      " ;\n",
      " ;\n",
      " ;\n",
      " ;\n",
      " ;\n",
      " ."
     ]
    }
   ],
   "source": [
    "?- checkConsentTerm(id(13),dataController('Bank B'),\n",
    "                        dataSubject('John'),\n",
    "                        purpose('Bank B','offer_products_and_services'),\n",
    "                        'create_specific_offers',\n",
    "                        'data_analytics',\n",
    "                        31536000,\n",
    "                        'none',\n",
    "                        'e-mail',\n",
    "                        'lgpd@bankb.br',\n",
    "                        1639970872).    "
   ]
  },
  {
   "cell_type": "code",
   "execution_count": 74,
   "id": "bab4b971",
   "metadata": {},
   "outputs": [
    {
     "name": "stdout",
     "output_type": "stream",
     "text": [
      "EndDate = 1671506870 ;\n",
      "EndDate = 1671506870 ;\n",
      "EndDate = 1671506870 ;\n",
      "EndDate = 1671506870 ;\n",
      "EndDate = 1671506870 ;\n",
      "EndDate = 1671506870 ;\n",
      "EndDate = 1671506870 ;\n",
      "EndDate = 1671506870 ;\n",
      "EndDate = 1671506870 ;\n",
      "EndDate = 1671506870 ."
     ]
    }
   ],
   "source": [
    "?- setThatdsAgreeWithConsentTerms(id(13),\n",
    "                                dataSubject('John'),\n",
    "                                dataController('Bank B'),\n",
    "                                requestFormat('Direct','John','null'),\n",
    "                                personalData('John','john@mail.com'),\n",
    "                                sensitiveData('John','transactional_data'),\n",
    "                                startDate(1639970872),\n",
    "                                endDate(EndDate)), EndDate is 1639970870+31536000."
   ]
  },
  {
   "cell_type": "code",
   "execution_count": 75,
   "id": "74244450",
   "metadata": {},
   "outputs": [
    {
     "name": "stdout",
     "output_type": "stream",
     "text": [
      "true."
     ]
    }
   ],
   "source": [
    "?- setDSRights(dataSubject('John'),dataController('Bank B'),startDate(1639970872))."
   ]
  },
  {
   "cell_type": "code",
   "execution_count": 76,
   "id": "26ec736b",
   "metadata": {},
   "outputs": [
    {
     "name": "stdout",
     "output_type": "stream",
     "text": [
      "EndDate = 1671506872 ;\n",
      "EndDate = 1671506872 ;\n",
      "EndDate = 1671506872 ;\n",
      "EndDate = 1671506872 ;\n",
      "EndDate = 1671506872 ;\n",
      "EndDate = 1671506872 ;\n",
      "EndDate = 1671506872 ;\n",
      "EndDate = 1671506872 ;\n",
      "EndDate = 1671506872 ;\n",
      "EndDate = 1671506872 ."
     ]
    }
   ],
   "source": [
    "?- setDSRevokeConsent(id(13),\n",
    "                        dataSubject('John'),\n",
    "                        dataController('Bank B'),\n",
    "                        personalData('John','john@mail.com'),\n",
    "                        sensitiveData('John','transactional_data'),\n",
    "                        now(1639970872),\n",
    "                        startDate(1639970872),\n",
    "                        endDate(EndDate)\n",
    "                        ), \n",
    "                        EndDate is 1639970872+31536000."
   ]
  },
  {
   "cell_type": "markdown",
   "id": "2d75310c",
   "metadata": {},
   "source": [
    "Figure 18 depicts the impacted entities.\n",
    "\n",
    "![InconsistentBehaviorImpact](./img/InconsistentBehaviorImpact.png \"Inconsistent Behaviour Impact\")\n",
    "Fig.18 - Inconsistent Behavior Impact."
   ]
  },
  {
   "cell_type": "markdown",
   "id": "a31940c4",
   "metadata": {},
   "source": [
    "This unusual behavior can be caught by analyzing the event log. Depending on the magnitude, this kind of event may cause damage to the system, as the Deny of Service attack. \n",
    "\n",
    "Moreover, in our scenario, as Bank B needs the client's data to offer products and services, the client might perform such inconsistent behavior to try getting advantages hiding specific data which may compromise his/her reputation. In this case, if Bank B identifies such behavior, the bank may request additional information before starting offering new products and services."
   ]
  },
  {
   "cell_type": "code",
   "execution_count": 77,
   "id": "d0c0392c",
   "metadata": {},
   "outputs": [
    {
     "name": "stdout",
     "output_type": "stream",
     "text": [
      "Event = Data Subject can ask if the Data Controller is processing his/her data, Type = Explanation, DeonticOperator = Permission, Date = 1639970870 ;\n",
      "Event = Data Subject agrees with consent term, Type = Communication, DeonticOperator = Compliance, Date = 1639970870 ;\n",
      "Event = Data Controller can collect the Data Subject information, Type = Explanation, DeonticOperator = Permission, Date = 1639970870 ;\n",
      "Event = Data Controller can store the Data Subject information, Type = Explanation, DeonticOperator = Permission, Date = 1639970870 ;\n",
      "Event = Data Controller can process the Data Subject information, Type = Explanation, DeonticOperator = Permission, Date = 1639970870 ;\n",
      "Event = Data Subject agrees with consent term, Type = Communication, DeonticOperator = Compliance, Date = 1639970870 ;\n",
      "Event = Data Controller can collect the Data Subject information, Type = Explanation, DeonticOperator = Permission, Date = 1639970870 ;\n",
      "Event = Data Controller can store the Data Subject information, Type = Explanation, DeonticOperator = Permission, Date = 1639970870 ;\n",
      "Event = Data Controller can process the Data Subject information, Type = Explanation, DeonticOperator = Permission, Date = 1639970870 ;\n",
      "Event = Data Subject agrees with consent term, Type = Communication, DeonticOperator = Compliance, Date = 1639970870 ;\n",
      "Event = Data Controller can collect the Data Subject information, Type = Explanation, DeonticOperator = Permission, Date = 1639970870 ;\n",
      "Event = Data Controller can store the Data Subject information, Type = Explanation, DeonticOperator = Permission, Date = 1639970870 ;\n",
      "Event = Data Controller can process the Data Subject information, Type = Explanation, DeonticOperator = Permission, Date = 1639970870 ;\n",
      "Event = Data Subject agrees with consent term, Type = Communication, DeonticOperator = Compliance, Date = 1639970870 ;\n",
      "Event = Data Controller can collect the Data Subject information, Type = Explanation, DeonticOperator = Permission, Date = 1639970870 ;\n",
      "Event = Data Controller can store the Data Subject information, Type = Explanation, DeonticOperator = Permission, Date = 1639970870 ;\n",
      "Event = Data Controller can process the Data Subject information, Type = Explanation, DeonticOperator = Permission, Date = 1639970870 ;\n",
      "Event = Data Subject agrees with consent term, Type = Communication, DeonticOperator = Compliance, Date = 1639970870 ;\n",
      "Event = Data Controller can collect the Data Subject information, Type = Explanation, DeonticOperator = Permission, Date = 1639970870 ;\n",
      "Event = Data Controller can store the Data Subject information, Type = Explanation, DeonticOperator = Permission, Date = 1639970870 ;\n",
      "Event = Data Controller can process the Data Subject information, Type = Explanation, DeonticOperator = Permission, Date = 1639970870 ;\n",
      "Event = Data Subject agrees with consent term, Type = Communication, DeonticOperator = Compliance, Date = 1639970870 ;\n",
      "Event = Data Controller can collect the Data Subject information, Type = Explanation, DeonticOperator = Permission, Date = 1639970870 ;\n",
      "Event = Data Controller can store the Data Subject information, Type = Explanation, DeonticOperator = Permission, Date = 1639970870 ;\n",
      "Event = Data Controller can process the Data Subject information, Type = Explanation, DeonticOperator = Permission, Date = 1639970870 ;\n",
      "Event = Data Subject agrees with consent term, Type = Communication, DeonticOperator = Compliance, Date = 1639970870 ;\n",
      "Event = Data Controller can collect the Data Subject information, Type = Explanation, DeonticOperator = Permission, Date = 1639970870 ;\n",
      "Event = Data Controller can store the Data Subject information, Type = Explanation, DeonticOperator = Permission, Date = 1639970870 ;\n",
      "Event = Data Controller can process the Data Subject information, Type = Explanation, DeonticOperator = Permission, Date = 1639970870 ;\n",
      "Event = Data Subject agrees with consent term, Type = Communication, DeonticOperator = Compliance, Date = 1639970870 ;\n",
      "Event = Data Controller can collect the Data Subject information, Type = Explanation, DeonticOperator = Permission, Date = 1639970870 ;\n",
      "Event = Data Controller can store the Data Subject information, Type = Explanation, DeonticOperator = Permission, Date = 1639970870 ;\n",
      "Event = Data Controller can process the Data Subject information, Type = Explanation, DeonticOperator = Permission, Date = 1639970870 ;\n",
      "Event = Data Subject agrees with consent term, Type = Communication, DeonticOperator = Compliance, Date = 1639970870 ;\n",
      "Event = Data Controller can collect the Data Subject information, Type = Explanation, DeonticOperator = Permission, Date = 1639970870 ;\n",
      "Event = Data Controller can store the Data Subject information, Type = Explanation, DeonticOperator = Permission, Date = 1639970870 ;\n",
      "Event = Data Controller can process the Data Subject information, Type = Explanation, DeonticOperator = Permission, Date = 1639970870 ;\n",
      "Event = Data Subject agrees with consent term, Type = Communication, DeonticOperator = Compliance, Date = 1639970870 ;\n",
      "Event = Data Controller can collect the Data Subject information, Type = Explanation, DeonticOperator = Permission, Date = 1639970870 ;\n",
      "Event = Data Controller can store the Data Subject information, Type = Explanation, DeonticOperator = Permission, Date = 1639970870 ;\n",
      "Event = Data Controller can process the Data Subject information, Type = Explanation, DeonticOperator = Permission, Date = 1639970870 ;\n",
      "Event = Data Subject requested to the Data Controller to revoke his/her consent, Type = Communication, DeonticOperator = Permission, Date = 1639970872 ;\n",
      "Event = From now, the Data Controller cannot collect the Data Subject information, Type = Communication, DeonticOperator = Prohibition, Date = 1639970872 ;\n",
      "Event = From now, the Data Controller cannot process the Data Subject information, Type = Communication, DeonticOperator = Prohibition, Date = 1639970872 ;\n",
      "Event = From now, consent is not valid to be used by the data controller, Type = Explanation, DeonticOperator = Prohibition, Date = 1639970872 ;\n",
      "Event = From now, consent is not valid to be used by the data controller, Type = Explanation, DeonticOperator = Prohibition, Date = 1639970872 ;\n",
      "Event = From now, consent is not valid to be used by the data controller, Type = Explanation, DeonticOperator = Prohibition, Date = 1639970872 ;\n",
      "Event = From now, consent is not valid to be used by the data controller, Type = Explanation, DeonticOperator = Prohibition, Date = 1639970872 ;\n",
      "Event = From now, the Data Controller cannot process the Data Subject information, Type = Communication, DeonticOperator = Prohibition, Date = 1639970872 ;\n",
      "Event = From now, the Data Controller cannot process the Data Subject information, Type = Communication, DeonticOperator = Prohibition, Date = 1639970872 ;\n",
      "Event = From now, the Data Controller cannot process the Data Subject information, Type = Communication, DeonticOperator = Prohibition, Date = 1639970872 ;\n",
      "Event = From now, the Data Controller cannot process the Data Subject information, Type = Communication, DeonticOperator = Prohibition, Date = 1639970872 ;\n",
      "Event = From now, the Data Controller cannot process the Data Subject information, Type = Communication, DeonticOperator = Prohibition, Date = 1639970872 ;\n",
      "Event = From now, the Data Controller cannot process the Data Subject information, Type = Communication, DeonticOperator = Prohibition, Date = 1639970872 ;\n",
      "Event = From now, the Data Controller cannot process the Data Subject information, Type = Communication, DeonticOperator = Prohibition, Date = 1639970872 ;\n",
      "Event = From now, the Data Controller cannot process the Data Subject information, Type = Communication, DeonticOperator = Prohibition, Date = 1639970872 ;\n",
      "Event = From now, the Data Controller cannot process the Data Subject information, Type = Communication, DeonticOperator = Prohibition, Date = 1639970872 ;\n",
      "Event = From now, the Data Controller cannot collect the Data Subject information, Type = Communication, DeonticOperator = Prohibition, Date = 1639970872 ;\n",
      "Event = From now, the Data Controller cannot collect the Data Subject information, Type = Communication, DeonticOperator = Prohibition, Date = 1639970872 ;\n",
      "Event = From now, the Data Controller cannot collect the Data Subject information, Type = Communication, DeonticOperator = Prohibition, Date = 1639970872 ;\n",
      "Event = From now, the Data Controller cannot collect the Data Subject information, Type = Communication, DeonticOperator = Prohibition, Date = 1639970872 ;\n",
      "Event = From now, the Data Controller cannot collect the Data Subject information, Type = Communication, DeonticOperator = Prohibition, Date = 1639970872 ;\n",
      "Event = From now, the Data Controller cannot collect the Data Subject information, Type = Communication, DeonticOperator = Prohibition, Date = 1639970872 ;\n",
      "Event = From now, the Data Controller cannot collect the Data Subject information, Type = Communication, DeonticOperator = Prohibition, Date = 1639970872 ;\n",
      "Event = From now, the Data Controller cannot collect the Data Subject information, Type = Communication, DeonticOperator = Prohibition, Date = 1639970872 ;\n",
      "Event = From now, the Data Controller cannot collect the Data Subject information, Type = Communication, DeonticOperator = Prohibition, Date = 1639970872 ;\n",
      "Event = Data Subject can ask if the Data Controller is processing his/her data, Type = Explanation, DeonticOperator = Permission, Date = 1639970872 ;\n",
      "Event = Data Subject verified the consent term and it was ok, Type = Explanation, DeonticOperator = Obligation, Date = 1639970872 ;\n",
      "Event = Data Subject verified the consent term and it was ok, Type = Explanation, DeonticOperator = Obligation, Date = 1639970872 ;\n",
      "Event = Data Subject verified the consent term and it was ok, Type = Explanation, DeonticOperator = Obligation, Date = 1639970872 ;\n",
      "Event = Data Subject verified the consent term and it was ok, Type = Explanation, DeonticOperator = Obligation, Date = 1639970872 ;\n",
      "Event = Data Subject verified the consent term and it was ok, Type = Explanation, DeonticOperator = Obligation, Date = 1639970872 ;\n",
      "Event = Data Subject verified the consent term and it was ok, Type = Explanation, DeonticOperator = Obligation, Date = 1639970872 ;\n",
      "Event = Data Subject verified the consent term and it was ok, Type = Explanation, DeonticOperator = Obligation, Date = 1639970872 ;\n",
      "Event = Data Subject verified the consent term and it was ok, Type = Explanation, DeonticOperator = Obligation, Date = 1639970872 ;\n",
      "Event = Data Subject verified the consent term and it was ok, Type = Explanation, DeonticOperator = Obligation, Date = 1639970872 ;\n",
      "Event = Data Subject verified the consent term and it was ok, Type = Explanation, DeonticOperator = Obligation, Date = 1639970872 ;\n",
      "Event = Data Subject agrees with consent term, Type = Communication, DeonticOperator = Compliance, Date = 1639970872 ;\n",
      "Event = Data Controller can collect the Data Subject information, Type = Explanation, DeonticOperator = Permission, Date = 1639970872 ;\n",
      "Event = Data Controller can store the Data Subject information, Type = Explanation, DeonticOperator = Permission, Date = 1639970872 ;\n",
      "Event = Data Controller can process the Data Subject information, Type = Explanation, DeonticOperator = Permission, Date = 1639970872 ;\n",
      "Event = Data Subject agrees with consent term, Type = Communication, DeonticOperator = Compliance, Date = 1639970872 ;\n",
      "Event = Data Controller can collect the Data Subject information, Type = Explanation, DeonticOperator = Permission, Date = 1639970872 ;\n",
      "Event = Data Controller can store the Data Subject information, Type = Explanation, DeonticOperator = Permission, Date = 1639970872 ;\n",
      "Event = Data Controller can process the Data Subject information, Type = Explanation, DeonticOperator = Permission, Date = 1639970872 ;\n",
      "Event = Data Subject agrees with consent term, Type = Communication, DeonticOperator = Compliance, Date = 1639970872 ;\n",
      "Event = Data Controller can collect the Data Subject information, Type = Explanation, DeonticOperator = Permission, Date = 1639970872 ;\n",
      "Event = Data Controller can store the Data Subject information, Type = Explanation, DeonticOperator = Permission, Date = 1639970872 ;\n",
      "Event = Data Controller can process the Data Subject information, Type = Explanation, DeonticOperator = Permission, Date = 1639970872 ;\n",
      "Event = Data Subject agrees with consent term, Type = Communication, DeonticOperator = Compliance, Date = 1639970872 ;\n",
      "Event = Data Controller can collect the Data Subject information, Type = Explanation, DeonticOperator = Permission, Date = 1639970872 ;\n",
      "Event = Data Controller can store the Data Subject information, Type = Explanation, DeonticOperator = Permission, Date = 1639970872 ;\n",
      "Event = Data Controller can process the Data Subject information, Type = Explanation, DeonticOperator = Permission, Date = 1639970872 ;\n",
      "Event = Data Subject agrees with consent term, Type = Communication, DeonticOperator = Compliance, Date = 1639970872 ;\n",
      "Event = Data Controller can collect the Data Subject information, Type = Explanation, DeonticOperator = Permission, Date = 1639970872 ;\n",
      "Event = Data Controller can store the Data Subject information, Type = Explanation, DeonticOperator = Permission, Date = 1639970872 ;\n",
      "Event = Data Controller can process the Data Subject information, Type = Explanation, DeonticOperator = Permission, Date = 1639970872 ;\n",
      "Event = Data Subject agrees with consent term, Type = Communication, DeonticOperator = Compliance, Date = 1639970872 ;\n",
      "Event = Data Controller can collect the Data Subject information, Type = Explanation, DeonticOperator = Permission, Date = 1639970872 ;\n",
      "Event = Data Controller can store the Data Subject information, Type = Explanation, DeonticOperator = Permission, Date = 1639970872 ;\n",
      "Event = Data Controller can process the Data Subject information, Type = Explanation, DeonticOperator = Permission, Date = 1639970872 ;\n",
      "Event = Data Subject agrees with consent term, Type = Communication, DeonticOperator = Compliance, Date = 1639970872 ;\n",
      "Event = Data Controller can collect the Data Subject information, Type = Explanation, DeonticOperator = Permission, Date = 1639970872 ;\n",
      "Event = Data Controller can store the Data Subject information, Type = Explanation, DeonticOperator = Permission, Date = 1639970872 ;\n",
      "Event = Data Controller can process the Data Subject information, Type = Explanation, DeonticOperator = Permission, Date = 1639970872 ;\n",
      "Event = Data Subject agrees with consent term, Type = Communication, DeonticOperator = Compliance, Date = 1639970872 ;\n",
      "Event = Data Controller can collect the Data Subject information, Type = Explanation, DeonticOperator = Permission, Date = 1639970872 ;\n",
      "Event = Data Controller can store the Data Subject information, Type = Explanation, DeonticOperator = Permission, Date = 1639970872 ;\n",
      "Event = Data Controller can process the Data Subject information, Type = Explanation, DeonticOperator = Permission, Date = 1639970872 ;\n",
      "Event = Data Subject agrees with consent term, Type = Communication, DeonticOperator = Compliance, Date = 1639970872 ;\n",
      "Event = Data Controller can collect the Data Subject information, Type = Explanation, DeonticOperator = Permission, Date = 1639970872 ;\n",
      "Event = Data Controller can store the Data Subject information, Type = Explanation, DeonticOperator = Permission, Date = 1639970872 ;\n",
      "Event = Data Controller can process the Data Subject information, Type = Explanation, DeonticOperator = Permission, Date = 1639970872 ;\n",
      "Event = Data Subject agrees with consent term, Type = Communication, DeonticOperator = Compliance, Date = 1639970872 ;\n",
      "Event = Data Controller can collect the Data Subject information, Type = Explanation, DeonticOperator = Permission, Date = 1639970872 ;\n",
      "Event = Data Controller can store the Data Subject information, Type = Explanation, DeonticOperator = Permission, Date = 1639970872 ;\n",
      "Event = Data Controller can process the Data Subject information, Type = Explanation, DeonticOperator = Permission, Date = 1639970872 ;\n",
      "Event = Data Subject can now have all foressen rights, Type = Explanation, DeonticOperator = Permission, Date = 1639970872 ;\n",
      "Event = Data Subject requested to the Data Controller to revoke his/her consent, Type = Communication, DeonticOperator = Permission, Date = 1639970872 ;\n",
      "Event = From now, the Data Controller cannot collect the Data Subject information, Type = Communication, DeonticOperator = Prohibition, Date = 1639970872 ;\n",
      "Event = From now, the Data Controller cannot process the Data Subject information, Type = Communication, DeonticOperator = Prohibition, Date = 1639970872 ;\n",
      "Event = From now, consent is not valid to be used by the data controller, Type = Explanation, DeonticOperator = Prohibition, Date = 1639970872 ;\n",
      "Event = From now, consent is not valid to be used by the data controller, Type = Explanation, DeonticOperator = Prohibition, Date = 1639970872 ;\n",
      "Event = From now, consent is not valid to be used by the data controller, Type = Explanation, DeonticOperator = Prohibition, Date = 1639970872 ;\n",
      "Event = From now, consent is not valid to be used by the data controller, Type = Explanation, DeonticOperator = Prohibition, Date = 1639970872 ;\n",
      "Event = From now, consent is not valid to be used by the data controller, Type = Explanation, DeonticOperator = Prohibition, Date = 1639970872 ;\n",
      "Event = From now, consent is not valid to be used by the data controller, Type = Explanation, DeonticOperator = Prohibition, Date = 1639970872 ;\n",
      "Event = From now, consent is not valid to be used by the data controller, Type = Explanation, DeonticOperator = Prohibition, Date = 1639970872 ;\n",
      "Event = From now, consent is not valid to be used by the data controller, Type = Explanation, DeonticOperator = Prohibition, Date = 1639970872 ;\n",
      "Event = From now, consent is not valid to be used by the data controller, Type = Explanation, DeonticOperator = Prohibition, Date = 1639970872 ;\n",
      "Event = From now, consent is not valid to be used by the data controller, Type = Explanation, DeonticOperator = Prohibition, Date = 1639970872 ."
     ]
    }
   ],
   "source": [
    "?- log(Event,Type,DeonticOperator,Date), Date >= 1639970870 {-1}."
   ]
  },
  {
   "cell_type": "markdown",
   "id": "81ded592",
   "metadata": {},
   "source": [
    "----\n",
    "#### Cause-effect: Data portability\n"
   ]
  },
  {
   "cell_type": "markdown",
   "id": "e34d49b1",
   "metadata": {},
   "source": [
    "Data portability can be explored at least in two ways. First, as cellphone companies, data portability means migrating the Data Subject phone number to another company. The client information should be migrated from one company to another. Second, like streaming video companies, data portability may mean just the act of copying the data to another company. Both companies would have the same client data at the moment of data portability request. \n",
    "\n",
    "As the open banking scenario already acts as a kind of data portability request and exercises data sharing and consent revocation, such a cause-effect scenario will not be explored here."
   ]
  },
  {
   "cell_type": "markdown",
   "id": "b8b7b98f",
   "metadata": {},
   "source": [
    "----\n",
    "#### Cause-effect: Plug a new consent term\n"
   ]
  },
  {
   "cell_type": "markdown",
   "id": "b45c58a4",
   "metadata": {},
   "source": [
    "Pluggable consent is a non-official proposal. However, this cause-effect scenario explores how this concept could be applied. It allows the Data Controller to create new consent terms related to a subset of actions that the Data Subject should know. The pluggable consent must have at most the same time rang to the original consent. Moreover, it also allows the Data Subject to revoke a specific plugged consent term and not the original; hence, it enables the Data Subject to keep sharing the data and use the services proposed by the Data Controller.\n",
    "\n",
    "Let's consider that Maria wants to subscribe to a new service offered by Bank B. In this case, Maria has to agree with a pluggable consent sent by the bank. This consent term should clarify which service the bank is offering.\n",
    "\n",
    "It is important to note that any missing (null) information will be replaced by the general consent term.\n",
    "\n",
    "Figure 21 depicts the scenario of plugging a new consent term.\n",
    "\n",
    "<div>\n",
    "<img src=\"./img/PluggableConsentProcess.png\" width=\"800\"/>\n",
    "</div>\n",
    "Fig.21 - Pluggable Consent Process.\n",
    "\n",
    "First let's create a new consent term."
   ]
  },
  {
   "cell_type": "code",
   "execution_count": 78,
   "id": "de8f7dc9",
   "metadata": {},
   "outputs": [
    {
     "name": "stdout",
     "output_type": "stream",
     "text": [
      "true."
     ]
    }
   ],
   "source": [
    "?- createConsentTerm(14,'Bank B','Maria','maria@mail.com','personal_and_transactional','offer_products_and_services',\n",
    "                'create_specific_offers',\n",
    "                'data_analytics',\n",
    "                31536000,\n",
    "                'none',\n",
    "                'e-mail',\n",
    "                'lgpd@bankb.br',\n",
    "                'SHA256',\n",
    "                'Authorized employees can access the data only',\n",
    "                'Bank B private cloud')."
   ]
  },
  {
   "cell_type": "code",
   "execution_count": 79,
   "id": "d1cd8aff",
   "metadata": {},
   "outputs": [
    {
     "name": "stdout",
     "output_type": "stream",
     "text": [
      "true."
     ]
    }
   ],
   "source": [
    "?- assertz(dsRight(processingConfirmation,dataSubject('Maria'),dataController('Bank B'))),\n",
    "    assertz(log('Data Subject can ask if the Data Controller is processing his/her data','Explanation','Permission',1639970970))."
   ]
  },
  {
   "cell_type": "code",
   "execution_count": 80,
   "id": "41491997",
   "metadata": {},
   "outputs": [
    {
     "name": "stdout",
     "output_type": "stream",
     "text": [
      "true."
     ]
    }
   ],
   "source": [
    "?- checkConsentTerm(id(14),dataController('Bank B'),\n",
    "                        dataSubject('Maria'),\n",
    "                        purpose('Bank B','offer_products_and_services'),\n",
    "                        'create_specific_offers',\n",
    "                        'data_analytics',\n",
    "                        31536000,\n",
    "                        'none',\n",
    "                        'e-mail',\n",
    "                        'lgpd@bankb.br',\n",
    "                        1639970970).    "
   ]
  },
  {
   "cell_type": "code",
   "execution_count": 81,
   "id": "755fa46a",
   "metadata": {},
   "outputs": [
    {
     "name": "stdout",
     "output_type": "stream",
     "text": [
      "EndDate = 1671506970 ."
     ]
    }
   ],
   "source": [
    "?- setThatdsAgreeWithConsentTerms(id(14),\n",
    "                                dataSubject('Maria'),\n",
    "                                dataController('Bank B'),\n",
    "                                requestFormat('Direct','Maria','null'),\n",
    "                                personalData('Maria','maria@mail.com'),\n",
    "                                sensitiveData('Maria','transactional_data'),\n",
    "                                startDate(1639970970),\n",
    "                                endDate(EndDate)), EndDate is 1639970970+31536000."
   ]
  },
  {
   "cell_type": "code",
   "execution_count": 82,
   "id": "998b2d22",
   "metadata": {},
   "outputs": [
    {
     "name": "stdout",
     "output_type": "stream",
     "text": [
      "true."
     ]
    }
   ],
   "source": [
    "?- setDSRights(dataSubject('Maria'),dataController('Bank B'),startDate(1639970970))."
   ]
  },
  {
   "cell_type": "markdown",
   "id": "6a3bfb50",
   "metadata": {},
   "source": [
    "Now, let's create the pluggable consent structure."
   ]
  },
  {
   "cell_type": "code",
   "execution_count": 83,
   "id": "037cabac",
   "metadata": {},
   "outputs": [
    {
     "name": "stdout",
     "output_type": "stream",
     "text": []
    }
   ],
   "source": [
    "% Description: This function defines a consent term including all required information described in the LGPD Art. 9\n",
    "% The consent term must inform:\n",
    "%    i. Data Controller\n",
    "%   ii. Data Subject\n",
    "%  iii. Specific Purpose\n",
    "%   iv. Form \n",
    "%    v. Time length of processing\n",
    "%   vi. The purpose when sharing the data with third parties, when applied\n",
    "%  vii. Communication channel to the data subject request any information\n",
    "% viii. Data Controller contact\n",
    "%   iv. Cryptography Algoritm\n",
    "%    x. Access Policies\n",
    "%   xi. Storage Platform\n",
    "%  Xii. Identification to Plug this term to another consent term\n",
    "\n",
    "\n",
    "createPluggableConsentTerm(ID,DC,DS,PData,SData,Purpose,\n",
    "                SpecificPurpose,\n",
    "                Form,\n",
    "                TimeLength,\n",
    "                ThirdPartyPurpose,\n",
    "                Channel,\n",
    "                DCContact,\n",
    "                CA, AP, SP, CP) :-\n",
    "\n",
    "                assertz(id(ID)),\n",
    "                assertz(dataSubject(DS)),\n",
    "                assertz(dataController(DC)),\n",
    "                assertz(personalData(DS,PData)),\n",
    "                assertz(sensitiveData(DS, SData)),\n",
    "                assertz(purpose(DC,DS,Purpose)),\n",
    "                assertz(specificPurpose(DC,DS,Purpose,SpecificPurpose)),\n",
    "                assertz(form(DC,DS,Purpose,SpecificPurpose,Form)),\n",
    "                assertz(timeLength(DC,DS,Purpose,SpecificPurpose,TimeLength)),\n",
    "                assertz(thirdyPartySharingPurpose(DC,DS,Purpose,SpecificPurpose,\n",
    "                                                    TimeLength,ThirdPartyPurpose)),\n",
    "                assertz(channelToProvideInformation(DC,DS,Channel,DCContact)),\n",
    "                assertz(criptographyAlgoritm(CA)),\n",
    "                assertz(accessPolicies(AP)),\n",
    "                assertz(storagePlatform(SP)),\n",
    "                assertz(consentToPlug(CP))."
   ]
  },
  {
   "cell_type": "code",
   "execution_count": 84,
   "id": "080f7db4",
   "metadata": {},
   "outputs": [
    {
     "name": "stdout",
     "output_type": "stream",
     "text": [
      "true."
     ]
    }
   ],
   "source": [
    "% Pluggable consent params\n",
    "\n",
    "%    i. DC: Data Controller\n",
    "%   ii. DS: Data Subject\n",
    "%  iii. PData: Personal Data\n",
    "%   iv. SData: Sensitive Data\n",
    "%    v. Purpose: Purpose of data usage\n",
    "%   vi. SpecificPurpose: Specific motivation to request data\n",
    "%  vii. Form: Processing method\n",
    "% viii. TimeLength: How long the data will be shared\n",
    "%   ix. ThirdPartyPurpose: If the data will be shared with third parties, explain why\n",
    "%    x. Channel: Communication channel in case of doubts or requests related to the data\n",
    "%   xi. DCContact: Contact of a person who is responsible of processing the data\n",
    "%  xii. CA: Criptography algoritms applied\n",
    "% xiii. AP: Access policies\n",
    "%  xiv. SP: Storage platform\n",
    "%   xv. CP: Consent to plug\n",
    "\n",
    "?- createPluggableConsentTerm(15,'Bank B stocks department','Maria','null','transactional_data','offer_products_and_services',\n",
    "                'offer_stock_investiments',\n",
    "                'data_analytics',\n",
    "                15811200,\n",
    "                'none',\n",
    "                'e-mail',\n",
    "                'stocks@bankb.br',\n",
    "                'SHA256',\n",
    "                'Only the stocks department can access the data',\n",
    "                'Bank B private cloud',\n",
    "                11)."
   ]
  },
  {
   "cell_type": "markdown",
   "id": "f18437ef",
   "metadata": {},
   "source": [
    "The pluggable consent term will be valid if the consent term with the university is valid only."
   ]
  },
  {
   "cell_type": "code",
   "execution_count": 85,
   "id": "e9a887d1",
   "metadata": {},
   "outputs": [
    {
     "name": "stdout",
     "output_type": "stream",
     "text": [
      "true."
     ]
    }
   ],
   "source": [
    "?- consentTermStatus(id(14),dataController('Bank B'),dataSubject('Maria'),status('Valid')),\n",
    "  assertz(consentTermStatus(id(15),dataController('Bank B stocks department'),dataSubject('Maria'),status('Valid')))."
   ]
  },
  {
   "cell_type": "markdown",
   "id": "7038ed13",
   "metadata": {},
   "source": [
    "The following function will check if there is valid consent. If so, the data subject will accept the plugged consent."
   ]
  },
  {
   "cell_type": "code",
   "execution_count": 86,
   "id": "ef46edab",
   "metadata": {},
   "outputs": [
    {
     "name": "stdout",
     "output_type": "stream",
     "text": []
    }
   ],
   "source": [
    "% Description: This function sets that the Data Subject agreed with the consent term.\n",
    "% This function receives the params:\n",
    "%    i. Consent ID\n",
    "%   ii. Data Subject\n",
    "%  iii. Data Controller\n",
    "%   iv. Request Format (Direct/Expresso or Proxy/Tacito)\n",
    "%   iv. Personal Data\n",
    "%    v. Sensitive Data\n",
    "%   vi. Start Date - Timestamp\n",
    "%   vi. End Date - Timestamp\n",
    "\n",
    "setThatdsAgreeWithPluggableConsentTerm(id(ID),dataSubject(DS),\n",
    "                                dataController(DC),\n",
    "                                requestFormat(RF,DS,LPC),\n",
    "                                personalData(DS,PData),\n",
    "                                sensitiveData(DS,SData),\n",
    "                                startDate(StartTS),\n",
    "                                endDate(EndTS),\n",
    "                                consentRelationship(id(ID),id(CP))) :-\n",
    "    consentTermStatus(id(ID),dataController(DC),dataSubject(DS),status('Valid')),\n",
    "    assertz(consentRelationship(id(ID),id(CP))),\n",
    "    \n",
    "    assertz(origin(id(ID),dataSubject(DS),dataController(DC),requestFormat(RF,DS,LPC))),\n",
    "    assertz(requestFormat(RF,DS,LPC)),\n",
    "    \n",
    "    assertz(dsAgreeWithConsentTerms(dataSubject(DS),dataController(DC),startDate(TS),endDate(TS))),\n",
    "    assertz(log('Data Subject agrees with consent term','Communication','Compliance',StartTS)),\n",
    "\n",
    "    assertz(dcIsCollectingDSData(id(ID),dataController(DC),dataSubject(DS),personalData(DS,PData),sensitiveData(DS,SData),startDate(StartTS),endDate(EndTS))),\n",
    "    assertz(log('Data Controller can collect the Data Subject information','Explanation','Permission',StartTS)),\n",
    "    \n",
    "    assertz(dcIsStoringDSData(id(ID),dataController(DC),dataSubject(DS),personalData(DS,PData),sensitiveData(DS,SData),startDate(StartTS),endDate(EndTS))),\n",
    "    assertz(log('Data Controller can store the Data Subject information','Explanation','Permission',StartTS)),\n",
    "        \n",
    "    assertz(dcIsProcessingDSData(id(ID),dataController(DC),dataSubject(DS),personalData(DS,PData),sensitiveData(DS,SData),startDate(StartTS),endDate(EndTS))),\n",
    "    assertz(log('Data Controller can process the Data Subject information','Explanation','Permission',StartTS))."
   ]
  },
  {
   "cell_type": "code",
   "execution_count": 87,
   "id": "017ee37f",
   "metadata": {},
   "outputs": [
    {
     "name": "stdout",
     "output_type": "stream",
     "text": [
      "EndDate = 1655782170 ."
     ]
    }
   ],
   "source": [
    "?- setThatdsAgreeWithPluggableConsentTerm(id(15),\n",
    "                                dataSubject('Maria'),\n",
    "                                dataController('Bank B stocks department'),\n",
    "                                requestFormat('Direct','Maria','null'),\n",
    "                                personalData('Maria','maria@mail.com'),\n",
    "                                sensitiveData('Maria','transactional_data'),\n",
    "                                startDate(1639970970),\n",
    "                                endDate(EndDate),\n",
    "                                consentRelationship(id(15),id(14))), EndDate is 1639970970+15811200."
   ]
  },
  {
   "cell_type": "markdown",
   "id": "e0ae1a48",
   "metadata": {},
   "source": [
    "Now, the data subject can ask to the Bank B if the data controller mentioned at the plugged consent is processing his data."
   ]
  },
  {
   "cell_type": "code",
   "execution_count": 88,
   "id": "97f2f273",
   "metadata": {
    "scrolled": true
   },
   "outputs": [
    {
     "name": "stdout",
     "output_type": "stream",
     "text": [
      "true."
     ]
    }
   ],
   "source": [
    "% This function defines the right to request processing confirmation to the Data Subject\n",
    "\n",
    "dsRight(processingConfirmation,dataSubject('Maria'),dataController('Bank B stocks department')).\n",
    "?- assertz(log('Data Subject can ask if the Data Controller is processing his/her data','Explanation','Permission',1639970979))."
   ]
  },
  {
   "cell_type": "code",
   "execution_count": 89,
   "id": "a490aa58",
   "metadata": {},
   "outputs": [
    {
     "name": "stdout",
     "output_type": "stream",
     "text": [
      "true."
     ]
    }
   ],
   "source": [
    "% This is a function call returns true if all Data Subject's right was associated to him/her.\n",
    "\n",
    "?- setDSRights(dataSubject('Maria'),dataController('Bank B stocks department'),startDate(1639970979))."
   ]
  },
  {
   "cell_type": "markdown",
   "id": "621317c9",
   "metadata": {},
   "source": [
    "Let's check who is processing Maria's data"
   ]
  },
  {
   "cell_type": "code",
   "execution_count": 90,
   "id": "256f12d7",
   "metadata": {},
   "outputs": [
    {
     "name": "stdout",
     "output_type": "stream",
     "text": [
      "ID = 14, DController = Bank B, PData = maria@mail.com, SData = transactional_data, SDate = 1639970970, EDate = Variable(170) ;\n",
      "ID = 15, DController = Bank B stocks department, PData = maria@mail.com, SData = transactional_data, SDate = 1639970970, EDate = Variable(85) ."
     ]
    }
   ],
   "source": [
    "?- dcIsCollectingDSData(id(ID),\n",
    "dataController(DController),\n",
    "dataSubject('Maria'),\n",
    "personalData('Maria',PData),sensitiveData('Maria',SData),startDate(SDate),endDate(EDate)), ID>11."
   ]
  },
  {
   "cell_type": "markdown",
   "id": "4e610e83",
   "metadata": {},
   "source": [
    "What will happen when the general consent is not valid anymore?\n",
    "\n",
    "Here we can observe that there is a consent relationship between the consent 14 and 15."
   ]
  },
  {
   "cell_type": "code",
   "execution_count": 91,
   "id": "2a0fc291",
   "metadata": {
    "scrolled": true
   },
   "outputs": [
    {
     "name": "stdout",
     "output_type": "stream",
     "text": [
      "Pluggable = 15, General = 14 ."
     ]
    }
   ],
   "source": [
    "?- consentRelationship(id(Pluggable),id(General))."
   ]
  },
  {
   "cell_type": "code",
   "execution_count": 92,
   "id": "18e90869",
   "metadata": {},
   "outputs": [
    {
     "name": "stdout",
     "output_type": "stream",
     "text": [
      "X = 14 ;\n",
      "X = 15 ."
     ]
    }
   ],
   "source": [
    "?- id(X)."
   ]
  },
  {
   "cell_type": "markdown",
   "id": "9174bd2e",
   "metadata": {},
   "source": [
    "Now, let's revoke the general consent (id 14)"
   ]
  },
  {
   "cell_type": "code",
   "execution_count": 93,
   "id": "3af39fac",
   "metadata": {},
   "outputs": [
    {
     "name": "stdout",
     "output_type": "stream",
     "text": [
      "EndDate = 1671506970 ."
     ]
    }
   ],
   "source": [
    "% This is a function call returns true if all Data Subject's request was successfully performed.\n",
    "?- setDSRevokeConsent(id(14),\n",
    "                        dataSubject('Maria'),\n",
    "                        dataController('Bank B'),\n",
    "                        personalData('Maria','maria@mail.com'),\n",
    "                        sensitiveData('Maria','transactional_data'),\n",
    "                        now(1639970980),\n",
    "                        startDate(1639970970),\n",
    "                        endDate(EndDate)\n",
    "                        ), \n",
    "                        EndDate is 1639970970+31536000."
   ]
  },
  {
   "cell_type": "markdown",
   "id": "f2f22e7c",
   "metadata": {},
   "source": [
    "As we can observe, the consent id 14 does not exist anymore, but there is a pluggable consent."
   ]
  },
  {
   "cell_type": "code",
   "execution_count": 94,
   "id": "dc67fc35",
   "metadata": {},
   "outputs": [
    {
     "name": "stdout",
     "output_type": "stream",
     "text": [
      "X = 15 .\n",
      "Pluggable = 15, General = 14 ."
     ]
    }
   ],
   "source": [
    "?- id(X).\n",
    "?- consentRelationship(id(Pluggable),id(General))."
   ]
  },
  {
   "cell_type": "markdown",
   "id": "9c6c2c81",
   "metadata": {},
   "source": [
    "Thus, the data controller should also revoke the pluggable consent. It means that the consent term status should be invalid after revocation."
   ]
  },
  {
   "cell_type": "code",
   "execution_count": 95,
   "id": "1c570dbf",
   "metadata": {},
   "outputs": [
    {
     "name": "stdout",
     "output_type": "stream",
     "text": [
      "EndDate = 1655782170 ."
     ]
    }
   ],
   "source": [
    "?- setDSRevokeConsent(id(15),\n",
    "                        dataSubject('Maria'),\n",
    "                        dataController('Bank B stocks department'),\n",
    "                        personalData('Maria','maria@mail.com'),\n",
    "                        sensitiveData('Maria','transactional_data'),\n",
    "                        now(1639970990),\n",
    "                        startDate(1639970970),\n",
    "                        endDate(EndDate)\n",
    "                        ), \n",
    "                        EndDate is 1639970970+15811200."
   ]
  },
  {
   "cell_type": "code",
   "execution_count": 96,
   "id": "d1ce2a73",
   "metadata": {
    "scrolled": true
   },
   "outputs": [
    {
     "name": "stdout",
     "output_type": "stream",
     "text": [
      "ID = 14, DataController = Bank B, Status = Invalid ;\n",
      "ID = 15, DataController = Bank B stocks department, Status = Invalid ."
     ]
    }
   ],
   "source": [
    "?- consentTermStatus(id(ID),dataController(DataController),dataSubject('Maria'),status(Status))."
   ]
  },
  {
   "cell_type": "code",
   "execution_count": 97,
   "id": "1c73469f",
   "metadata": {
    "scrolled": true
   },
   "outputs": [
    {
     "name": "stdout",
     "output_type": "stream",
     "text": [
      "false."
     ]
    }
   ],
   "source": [
    "?- id(X)."
   ]
  },
  {
   "cell_type": "markdown",
   "id": "9a77956f",
   "metadata": {},
   "source": [
    "In this sense, the red entities are affected by the pluggable consent, as depicted in Figure 22.\n",
    "\n",
    "As now there is a new data controller, the access restriction, sharing policies, and his identification might be different from the general consent. This new pluggable consent may also change the time range of this consent term.\n",
    "\n",
    "This pluggable consent changes the access right; now, if the data subject asks this new data controller if the data controller is collecting and processing his data, he will have a positive message. \n",
    "\n",
    "Moreover, the purpose limitation will be different from the general consent term, and, like any other consent term, the data subject can request consent revocation anytime.\n",
    "\n",
    "However, as depicted on Anonymization Scenario, the changes in the consent term may affect some data subjects' actions. For instance, if a student revokes a discipline consent term, this student might not be allowed to participate in the class activities.\n",
    "\n",
    "![PluggableConsentImpact](./img/PluggableConsentImpact.png \"Pluggable Consent Impact\")\n",
    "Fig.22 - Pluggable Consent Impact."
   ]
  },
  {
   "cell_type": "code",
   "execution_count": 98,
   "id": "58cecd25",
   "metadata": {},
   "outputs": [
    {
     "name": "stdout",
     "output_type": "stream",
     "text": [
      "Event = Data Subject can ask if the Data Controller is processing his/her data, Type = Explanation, DeonticOperator = Permission, Date = 1639970970 ;\n",
      "Event = Data Subject verified the consent term and it was ok, Type = Explanation, DeonticOperator = Obligation, Date = 1639970970 ;\n",
      "Event = Data Subject agrees with consent term, Type = Communication, DeonticOperator = Compliance, Date = 1639970970 ;\n",
      "Event = Data Controller can collect the Data Subject information, Type = Explanation, DeonticOperator = Permission, Date = 1639970970 ;\n",
      "Event = Data Controller can store the Data Subject information, Type = Explanation, DeonticOperator = Permission, Date = 1639970970 ;\n",
      "Event = Data Controller can process the Data Subject information, Type = Explanation, DeonticOperator = Permission, Date = 1639970970 ;\n",
      "Event = Data Subject can now have all foressen rights, Type = Explanation, DeonticOperator = Permission, Date = 1639970970 ;\n",
      "Event = Data Subject agrees with consent term, Type = Communication, DeonticOperator = Compliance, Date = 1639970970 ;\n",
      "Event = Data Controller can collect the Data Subject information, Type = Explanation, DeonticOperator = Permission, Date = 1639970970 ;\n",
      "Event = Data Controller can store the Data Subject information, Type = Explanation, DeonticOperator = Permission, Date = 1639970970 ;\n",
      "Event = Data Controller can process the Data Subject information, Type = Explanation, DeonticOperator = Permission, Date = 1639970970 ;\n",
      "Event = Data Subject can ask if the Data Controller is processing his/her data, Type = Explanation, DeonticOperator = Permission, Date = 1639970979 ;\n",
      "Event = Data Subject can now have all foressen rights, Type = Explanation, DeonticOperator = Permission, Date = 1639970979 ;\n",
      "Event = Data Subject requested to the Data Controller to revoke his/her consent, Type = Communication, DeonticOperator = Permission, Date = 1639970980 ;\n",
      "Event = From now, the Data Controller cannot collect the Data Subject information, Type = Communication, DeonticOperator = Prohibition, Date = 1639970980 ;\n",
      "Event = From now, the Data Controller cannot process the Data Subject information, Type = Communication, DeonticOperator = Prohibition, Date = 1639970980 ;\n",
      "Event = From now, consent is not valid to be used by the data controller, Type = Explanation, DeonticOperator = Prohibition, Date = 1639970980 ;\n",
      "Event = Data Subject requested to the Data Controller to revoke his/her consent, Type = Communication, DeonticOperator = Permission, Date = 1639970990 ;\n",
      "Event = From now, the Data Controller cannot collect the Data Subject information, Type = Communication, DeonticOperator = Prohibition, Date = 1639970990 ;\n",
      "Event = From now, the Data Controller cannot process the Data Subject information, Type = Communication, DeonticOperator = Prohibition, Date = 1639970990 ;\n",
      "Event = From now, consent is not valid to be used by the data controller, Type = Explanation, DeonticOperator = Prohibition, Date = 1639970990 ."
     ]
    }
   ],
   "source": [
    "?- log(Event,Type,DeonticOperator,Date), Date >= 1639970970 {-1}."
   ]
  }
 ],
 "metadata": {
  "kernelspec": {
   "display_name": "SWI-Prolog",
   "language": "",
   "name": "jswipl"
  },
  "language_info": {
   "mimetype": "text/plain",
   "name": "swipl"
  }
 },
 "nbformat": 4,
 "nbformat_minor": 5
}
