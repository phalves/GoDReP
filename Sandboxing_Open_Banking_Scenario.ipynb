{
  "cells": [
    {
      "cell_type": "markdown",
      "metadata": {
        "id": "view-in-github",
        "colab_type": "text"
      },
      "source": [
        "<a href=\"https://colab.research.google.com/github/phalves/ConFIA/blob/main/Sandboxing_Open_Banking_Scenario.ipynb\" target=\"_parent\"><img src=\"https://colab.research.google.com/assets/colab-badge.svg\" alt=\"Open In Colab\"/></a>"
      ]
    },
    {
      "cell_type": "markdown",
      "id": "2dba5670",
      "metadata": {
        "id": "2dba5670"
      },
      "source": [
        "# Exploring Simulation Scenarios to Mitigate Information Asymmetry Under the LGPD Perspective - Open Banking Scenario"
      ]
    },
    {
      "cell_type": "markdown",
      "id": "cc83b3b0",
      "metadata": {
        "id": "cc83b3b0"
      },
      "source": [
        "### Scenario Description: Open Banking\n",
        "\n",
        "Open banking is a practice of enabling data sharing between financial institutions. This practice allowed banking interoperability by APIs (Application Programming Interfaces). For example, the data subject can request a credit card from bank A, a financial loan from bank B, and buy assets from bank C. Moreover, open banking allows, for instance, the data subject to open an account just requesting his/her data from an institution that he/she has an account previously. Therefore, open banking turns the data sharing more agile, transparent, and secure for providing resources to the data subject chose: (i) which data he/she wants to share; (ii) when; (iii) how long, and (iv) with whom he/she wants to share.\n",
        "\n",
        "According to indicators presented by [Open Banking Implementation Entity (OBIE)](https://www.openbanking.org.uk/api-performance/), since 2020, the number of successful API calls per month raised from 400.000 in May to more than 1.000.000 in 2022. It corresponds to an increase of 250% in two years. Moreover, the number of successful payments per month raised from 280 in July 2020 to more than 520.000 in May 2022.\n",
        "They are some indicators that can demonstrate the evolution of open banking in the UK.\n",
        "\n",
        "Thus, this sandbox seeks to provide an experimentation environment to the actors involved, i.e., Data Subjects, Controllers, and Processors. This environment was developed in Python based on the documentation supplied by [OBIE](https://www.openbanking.org.uk/about-us/). The OBIE creates software standards and industry guidelines to drive competition, innovation and transparency in UK retail banking.\n",
        "\n",
        "\n",
        "To know more about OpenBanking, please access LINK\n",
        "\n",
        " ---------"
      ]
    },
    {
      "cell_type": "markdown",
      "source": [
        "### Creating Actors\n",
        "In order to prepare the environment for exploring a data regulation, first we need to create the actors that will perform actions in our sandbox.\n",
        "\n",
        "#### Data Subject\n",
        "The first actor is the Data Subject. For this actor, we will will define the following data structure:\n",
        "- Data Subject ID, i.e., an identification number\n",
        "- Data Subject Consent List, i.e., a list of consents available for the Data Subject\n",
        "\n"
      ],
      "metadata": {
        "id": "VV9Sl4lPO5p4"
      },
      "id": "VV9Sl4lPO5p4"
    },
    {
      "cell_type": "code",
      "source": [
        "class DataSubject:\n",
        "  def __init__(self,id):\n",
        "    self.id = id                 # Identification Number\n",
        "    self.consents = []           # Empty list of consents\n",
        "    self.personalData = {}       # Dictionary of Personal Data\n",
        "    self.transactionalData = {}  # Dictionary of Transactional Data"
      ],
      "metadata": {
        "id": "wurVYYuHBtqI"
      },
      "id": "wurVYYuHBtqI",
      "execution_count": 1,
      "outputs": []
    },
    {
      "cell_type": "markdown",
      "source": [
        "Now, we can create the person John. His ID is 35512367800."
      ],
      "metadata": {
        "id": "dBtw8cDARl3Q"
      },
      "id": "dBtw8cDARl3Q"
    },
    {
      "cell_type": "code",
      "source": [
        "john = DataSubject('35512367800')\n",
        "john.personalData = {'name':'John','email':'john@mail.com','cellphone':'+1 98638293756'}"
      ],
      "metadata": {
        "id": "sXzZFuJTRe_R"
      },
      "id": "sXzZFuJTRe_R",
      "execution_count": 2,
      "outputs": []
    },
    {
      "cell_type": "markdown",
      "source": [
        "You can verify if John was created correctly by printing his data"
      ],
      "metadata": {
        "id": "QjijH1aUXgvE"
      },
      "id": "QjijH1aUXgvE"
    },
    {
      "cell_type": "code",
      "source": [
        "print('ID:')\n",
        "print(john.id)\n",
        "\n",
        "print('\\n')\n",
        "\n",
        "print('Consents:')\n",
        "print(len(john.consents))"
      ],
      "metadata": {
        "colab": {
          "base_uri": "https://localhost:8080/"
        },
        "id": "7h93UyfVXgA5",
        "outputId": "55645b97-541b-4870-bc1b-c993b8e543b7"
      },
      "id": "7h93UyfVXgA5",
      "execution_count": 3,
      "outputs": [
        {
          "output_type": "stream",
          "name": "stdout",
          "text": [
            "ID:\n",
            "35512367800\n",
            "\n",
            "\n",
            "Consents:\n",
            "0\n"
          ]
        }
      ]
    },
    {
      "cell_type": "markdown",
      "source": [
        "As expected, there is no consent associated to John for a while."
      ],
      "metadata": {
        "id": "ljB9inICVbL6"
      },
      "id": "ljB9inICVbL6"
    },
    {
      "cell_type": "markdown",
      "source": [
        "#### Data Controller\n",
        "For this actor, we will will define the following data structure:\n",
        "- Data Controller ID, i.e., an identification number\n",
        "- Data Controller Consent List, i.e., a list of consents issued by the Data Controller\n",
        "- Data Controller Contact, i.e., an address or other information that allow the Data Subject to send questions and requests.\n",
        "- Data Controller Communication Channel, i.e., the means that the Data Subject can contact the Data Controller.\n",
        "- Dictionary where the dict key represents the Data Subject ID and the dict value represents a boolean (**true** or **false**) to indicate if the Data Controller is processing or not information from the Data Subject. If a dict key presents **no value**, it means the Data Controller never processed the Data Subject information. If a dict key presents a **'false'** value, it means that the Data Controller processed the information in the past, but now it is not processing anymore. Last but not least, if a dict key presents the a **'true'** value, it means that the Data Controller is processing the Data Subject information."
      ],
      "metadata": {
        "id": "7LAAWJUOTqka"
      },
      "id": "7LAAWJUOTqka"
    },
    {
      "cell_type": "code",
      "source": [
        "class DataController:\n",
        "  def __init__(self,id,contact,communiactionChannel):\n",
        "    self.id = id\n",
        "    self.consents = []\n",
        "    self.contact = contact\n",
        "    self.communiactionChannel = communiactionChannel\n",
        "    self.isProcessing = {} #Dictionary DataSubjectID:Boolean"
      ],
      "metadata": {
        "id": "wKGQb1QtHhOd"
      },
      "id": "wKGQb1QtHhOd",
      "execution_count": 4,
      "outputs": []
    },
    {
      "cell_type": "markdown",
      "source": [
        "Now, we can create the company Bank A. Its ID is 00345 and the Data Subjects can contact the Data Controller by mail (contact@banka.com)."
      ],
      "metadata": {
        "id": "752l4sonT2Fj"
      },
      "id": "752l4sonT2Fj"
    },
    {
      "cell_type": "code",
      "source": [
        "bankA = DataController('00345','contact@banka.com','email')"
      ],
      "metadata": {
        "id": "_iStgoe8T2q4"
      },
      "id": "_iStgoe8T2q4",
      "execution_count": 5,
      "outputs": []
    },
    {
      "cell_type": "markdown",
      "source": [
        "Bank details:"
      ],
      "metadata": {
        "id": "MhF-sVhsYIKs"
      },
      "id": "MhF-sVhsYIKs"
    },
    {
      "cell_type": "code",
      "source": [
        "print('ID:')\n",
        "print(bankA.id)\n",
        "\n",
        "print('\\n')\n",
        "\n",
        "print('Consents:')\n",
        "print(len(bankA.consents))\n",
        "\n",
        "print('\\n')\n",
        "\n",
        "print('Contact:')\n",
        "print(bankA.contact)\n",
        "\n",
        "print('\\n')\n",
        "\n",
        "print('Communication Channel:')\n",
        "print(bankA.communiactionChannel)"
      ],
      "metadata": {
        "colab": {
          "base_uri": "https://localhost:8080/"
        },
        "id": "62_EZXfgYI6a",
        "outputId": "9dc086de-558c-4ef0-d303-f52d044db83c"
      },
      "id": "62_EZXfgYI6a",
      "execution_count": 6,
      "outputs": [
        {
          "output_type": "stream",
          "name": "stdout",
          "text": [
            "ID:\n",
            "00345\n",
            "\n",
            "\n",
            "Consents:\n",
            "0\n",
            "\n",
            "\n",
            "Contact:\n",
            "contact@banka.com\n",
            "\n",
            "\n",
            "Communication Channel:\n",
            "email\n"
          ]
        }
      ]
    },
    {
      "cell_type": "markdown",
      "source": [
        "In order to create the required actors in this scenario, follow below the code to instanciate Bank B. John will share his data from Bank A to Bank B in the next scenes."
      ],
      "metadata": {
        "id": "qV9JdBL3taMN"
      },
      "id": "qV9JdBL3taMN"
    },
    {
      "cell_type": "code",
      "source": [
        "bankB = DataController('48634','contact@bankb.com','email')"
      ],
      "metadata": {
        "id": "o8YXX2555YGs"
      },
      "id": "o8YXX2555YGs",
      "execution_count": 7,
      "outputs": []
    },
    {
      "cell_type": "markdown",
      "source": [
        "Moreover, in order to provide a history of actions, the following code provides the structure to generate an action log based on the Consent Ontology."
      ],
      "metadata": {
        "id": "pPoR03FHVV1n"
      },
      "id": "pPoR03FHVV1n"
    },
    {
      "cell_type": "code",
      "source": [
        "# These libraries are used to manipulate dates \n",
        "from datetime import date, datetime \n",
        "\n",
        "# Action Types\n",
        "Communication = 'Communication'\n",
        "Explanation = 'Explanation'\n",
        "Deletion = 'Deletion'\n",
        "\n",
        "# Deontic Concepts\n",
        "Obligation = 'Obligation'\n",
        "Permission = 'Permission'\n",
        "Prohibition = 'Prohibition'\n",
        "Violation = 'Violation'\n",
        "Compliance = 'Compliance'\n",
        "\n",
        "class Log:\n",
        "  def __init__(self):\n",
        "    #empty log\n",
        "    self.root = ['Date; Event; Type; Deontic Concept']\n",
        "    self.filePersistence = False\n",
        "    \n",
        "\n",
        "  def configLogPersistence(self,_fileName):\n",
        "    if _fileName!='':\n",
        "      self.filePersistence = True\n",
        "      \n",
        "      #open file\n",
        "      self.file = open(_fileName, \"w\")\n",
        "\n",
        "    else:\n",
        "      print('There is no fileName, so the file will not be generated')\n",
        "  \n",
        "  def registerAction(self,message,actionType,deonticConcept):\n",
        "    self.date = datetime.today()\n",
        "    self.message = message\n",
        "    self.actionType = actionType\n",
        "    self.deonticConcept = deonticConcept\n",
        "    self.root.append(str(self.date)+'; '+str(self.message)+'; '+str(self.actionType)+';  '+str(self.deonticConcept))\n",
        "\n",
        "    if self.filePersistence==True:\n",
        "      self.file.write(self.root[-1]) # Save the most recent action\n",
        "\n",
        "  def printLog(self):\n",
        "    for action in self.root:\n",
        "      print(action)\n"
      ],
      "metadata": {
        "id": "OLF1XdzCVX3B"
      },
      "id": "OLF1XdzCVX3B",
      "execution_count": 8,
      "outputs": []
    },
    {
      "cell_type": "markdown",
      "source": [
        "The code below creates an instance of the log class, and it will be used in the next scenes to persist the log of actions performed by the actors."
      ],
      "metadata": {
        "id": "ohOKuUq6uhjW"
      },
      "id": "ohOKuUq6uhjW"
    },
    {
      "cell_type": "code",
      "source": [
        "log = Log()"
      ],
      "metadata": {
        "id": "KekiB9Jga2LO"
      },
      "id": "KekiB9Jga2LO",
      "execution_count": 9,
      "outputs": []
    },
    {
      "cell_type": "markdown",
      "source": [
        "---------"
      ],
      "metadata": {
        "id": "saBInixahtkU"
      },
      "id": "saBInixahtkU"
    },
    {
      "cell_type": "markdown",
      "source": [
        "#### Scene 1 - Setting up the consent term\n",
        "A data subject which aims to share its financial data should be aware which permissions it is giving to the data controller.\n",
        "\n",
        "The [Open Banking Consent API Documentation](https://openbanking.atlassian.net/wiki/spaces/DZ/pages/1077805332/Account+Access+Consents+v3.1.2) presents the following UML Diagram, which depicts the attributes required when the data subject is requested to share its data.\n",
        "\n",
        "![Consent Attributes](https://openbanking.atlassian.net/wiki/download/attachments/1077805332/OBReadConsentResponse1.gif?version=1&modificationDate=1556635325535&cacheVersion=1&api=v2)\n",
        "\n",
        "This means that there are many permissions that a data controller may request:\n",
        "ReadAccountsBasic,\n",
        "ReadAccountsDetail,\n",
        "ReadBalances,\n",
        "ReadBeneficiariesBasic,\n",
        "ReadBeneficiariesDetail,\n",
        "ReadDirectDebits,\n",
        "ReadOffers,\n",
        "ReadPAN,\n",
        "ReadParty,\n",
        "ReadPartyPSU,\n",
        "ReadProducts,\n",
        "ReadScheduledPaymentsBasic,\n",
        "ReadScheduledPaymentsDetail,\n",
        "ReadStandingOrdersBasic,\n",
        "ReadStandingOrdersDetail,\n",
        "ReadStatementsBasic,\n",
        "ReadStatementsDetail,\n",
        "ReadTransactionsBasic,\n",
        "ReadTransactionsCredits,\n",
        "ReadTransactionsDebits,\n",
        "ReadTransactionsDetail.\n",
        "\n",
        "For our context, let's consider only these four: ReadAccountsBasic ReadAccountsDetail, ReadBalances, ReadOffers, and ReadProducts.\n",
        "\n",
        "However, there are more attributes that we should list in order to compy with Data Regulation. \n",
        "\n",
        "For Data Regulation, we considered the LGPD (Brazilian Data Protection Law) and the [Consent Ontology](https://github.com/phalves/ConFIA/blob/main/ConsentOntology.md), but you can change the attributes by executing an ontology alignment. This alignment will enable you to reflect the ontology attributes on this sandbox.\n",
        "\n",
        "----"
      ],
      "metadata": {
        "id": "8GMPfGZnNYVz"
      },
      "id": "8GMPfGZnNYVz"
    },
    {
      "cell_type": "markdown",
      "id": "e030a8e9",
      "metadata": {
        "id": "e030a8e9"
      },
      "source": [
        "The first step is the consent setup. The consent must have all information described in the LGPD Art. 9. The following method receives all the required information.\n",
        "\n",
        "**General information (Data Subject, Data Controller, Personal and Sensitive Data)**\n",
        "\n",
        "The **Data Subject John** allows the **Data Controller Bank B** to access, store, and process his personal and transactional data from Bank A in order to **offer products and services**, **allowing Bank B to send offers appropriately based on John's data**. \n",
        "\n",
        "**Data Controller collection, processing, and storing guidelines**\n",
        "\n",
        "John's personal and transactional data will be shared with Bank B under strict governance policies that guarantee that only the information required to execute their functions will be shared. The employees will respond to any unauthorized data access, leak, or other activities that may expose or cause any loss to the data subject. None information will be publicly available without a previous consent acceptance.\n",
        "\n",
        "**Processing and storing time**\n",
        "\n",
        "The personal and transactional data will be available, stored, and processed while the data subject has an active consent term with Bank A and Bank B. **A new consent term will be required in two situations:**\n",
        " - when there is an update on the consent term;\n",
        " - when the data subject changes the data that he wants to share or change the time range;\n",
        " - when the due date is accomplished.\n",
        "\n",
        "**Consent expiration date**\n",
        "Therefore, this **consent term is valid for twelve months at most considering the open banking rules**. The data subject may renew the consent or revoke it at any time.\n",
        "\n",
        "**Security measures**\n",
        "Bank B will apply **cryptographic algorithms** and **access policies** to avoid data breaches and unauthorized access. The personal and transactional data will be **stored in a private cloud** where Bank B has complete control of applied technologies. \n",
        "\n",
        "**Third-party data sharing**\n",
        "The Data Controller Bank B is not allowed to **share** the Data Subject data, except for cases that the government requires such data.\n",
        "\n",
        "**Contact information**\n",
        "To make any request, please use the Data Controller communication channel by **email lgpd@bankb.br**.\n",
        "\n",
        "\n",
        "PS: The Data Controllers must inform in any case if they are processing the personal data if requested.\n",
        "\n",
        "---\n",
        "\n",
        "The following code aims to represent the consent term, its status and the Data Subject and the Data Controller's Rights. Questions regarding these Rights emerge when a concept is accepted or revoked."
      ]
    },
    {
      "cell_type": "code",
      "source": [
        "## Libraries ##\n",
        "# This library is used to generate a unique identification number\n",
        "import uuid \n",
        "\n",
        "# This library is used to perform adding numbers to months to walk back and forward from the current time\n",
        "from dateutil.relativedelta import relativedelta \n",
        "\n",
        "## Global Static Variables ###\n",
        "# Consent Status possibilities\n",
        "AwaitingAuthorisation = 'AwaitingAuthorisation'\n",
        "Authorised            = 'Authorised'\n",
        "Rejected              = 'Rejected'\n",
        "Revoked               = 'Revoked'\n",
        "\n",
        "# Data Subject Rights\n",
        "DataAccess        = 'Data Access'\n",
        "DataCopy          = 'Data Copy'\n",
        "DataCorrection    = 'Data Correction'\n",
        "DataAnonymization = 'Data Anonymization'\n",
        "DataPortability   = 'Data Portability'\n",
        "DataDeletion      = 'Data Deletion'\n",
        "ThirdPartySharing = 'Information regarding the data sharing with a third party'\n",
        "ConsentRevocation = 'Request consent revocation'\n",
        "\n",
        "# Data Controller Rights\n",
        "DataProcessing  = 'Data Processing'\n",
        "DataCollecting  = 'Data Collecting'\n",
        "DataStoring     = 'Data Storing'\n",
        "\n",
        "# Consent Class\n",
        "class Consent:\n",
        "\n",
        "  # Create Consent Function based on the required information described in the current Data Regulation\n",
        "  # This function expects to receive the consent purpose, the specific purpose,\n",
        "  #  the third party sharing purpose (if needed), the data controller information,\n",
        "  #  how long this consent is valid, and how many months before the creation data \n",
        "  #  the Data Controller can get the Data Controller data.\n",
        "  def createConsent(self, purpose, specificPurpose, thirdParySharingPurpose, criptographyAlgoritm, accessPolicies, storagePlatform, dataController, validForQuantityOfMonths, monthsBeforeTheAcceptance):\n",
        "    \n",
        "    # Open Banking API Params\n",
        "    self.id = uuid.uuid4()                   # Unique Consent ID is generated when the function is called\n",
        "    self.creationTime = datetime.today()     # Creation Time is generated when the function is called\n",
        "    self.status = AwaitingAuthorisation \n",
        "    self.permissions = ['ReadAccountsBasic','ReadAccountsDetail','ReadBalances','ReadOffers','ReadProducts']\n",
        "    self.expirationDateTime = self.creationTime + relativedelta(months=validForQuantityOfMonths)\n",
        "    self.transactionFromDateTime = self.creationTime - relativedelta(months=monthsBeforeTheAcceptance)\n",
        "    self.transactionToDateTime = self.expirationDateTime\n",
        "    self.statusUpdatedTime = datetime.today()\n",
        "\n",
        "\n",
        "    # Data Regulation Params\n",
        "    # Here you can add the params required for a consent ruled by the data regulation\n",
        "    self.purpose = purpose\n",
        "    self.specificPurpose = specificPurpose\n",
        "    self.thirdParySharingPurpose = thirdParySharingPurpose\n",
        "    self.dataController = dataController\n",
        "    self.dataSubjectRights = []\n",
        "    self.dataControllerRights = []\n",
        "    self.criptographyAlgoritm = criptographyAlgoritm\n",
        "    self.accessPolicies = accessPolicies\n",
        "    self.storagePlatform = storagePlatform\n",
        "\n",
        "    # Log\n",
        "    log.registerAction('A new consent term was generated, but it was not accepted yet ID: '+str(self.id)+' Current Status: '+str(self.status),Communication,Permission)\n",
        "\n",
        "  # Accept Concent Function\n",
        "  # This function aims to change the consent status (folloing the Open Baking API guidelines),\n",
        "  #  update the Data Subject and the Data Controller Rights (following the Data Regulation guidelines)\n",
        "  def acceptConsent(self,dataSubject,dataController):\n",
        "    # Consent atrributes\n",
        "    self.status = Authorised\n",
        "    self.startDateTime = datetime.today()\n",
        "    self.statusUpdatedTime = datetime.today()\n",
        "\n",
        "    # Data that will be shared\n",
        "    if len(dataSubject.personalData)>0:\n",
        "      self.personalData = dataSubject.personalData\n",
        "    \n",
        "    if len(dataSubject.transactionalData)>0:\n",
        "      self.transactionalData = dataSubject.transactionalData\n",
        "\n",
        "    # Data Subject and Data Controller Rights\n",
        "    self.dataSubjectRights = [DataAccess,DataCopy,DataCorrection,\n",
        "                              DataAnonymization,DataPortability,\n",
        "                              DataDeletion,ThirdPartySharing,\n",
        "                              ConsentRevocation]\n",
        "    self.dataControllerRights = [DataProcessing,\n",
        "                                 DataCollecting,\n",
        "                                 DataStoring]\n",
        "    dataController.isProcessing[dataSubject.id]=True\n",
        "\n",
        "    log.registerAction('Data Subject '+ dataSubject.id +' accepted the consent term',Communication,Permission)\n",
        "    log.registerAction('Data Subject can now have all foressen rights',Explanation,Permission)\n",
        "    log.registerAction('Data Controller '+ dataController.id +' can process the Data Subject information from '+str(self.startDateTime.date())+' to '+str(self.expirationDateTime.date()),Explanation,Permission)\n",
        "\n",
        "  # Revoke Concent Function\n",
        "  # This function aims to change the consent status (folloing the Open Baking API guidelines),\n",
        "  #  update the Data Subject and the Data Controller Rights (following the Data Regulation guidelines)\n",
        "  def revokeConsent(self,dataSubject,dataController):\n",
        "    if ConsentRevocation not in self.dataSubjectRights:\n",
        "      log.registerAction('Data Controller '+ dataController.id +' has not an available consent from '+dataSubject.id,Explanation,Permission)\n",
        "      return False\n",
        "    \n",
        "    # Consent atrributes\n",
        "    self.status = Revoked\n",
        "    self.expirationDateTime = datetime.today()\n",
        "    self.statusUpdatedTime = datetime.today()\n",
        "    \n",
        "    # Data Subject and Data Controller Rights\n",
        "    self.dataSubjectRights = [DataAccess,DataCopy,DataCorrection,\n",
        "                              DataAnonymization,DataPortability,\n",
        "                              DataDeletion]\n",
        "    self.dataControllerRights = [DataStoring]\n",
        "    dataController.isProcessing[dataSubject.id]=False\n",
        "\n",
        "    log.registerAction('Data Subject '+ dataSubject.id +'  requested to the Data Controller to revoke his/her consent',Communication,Prohibition)\n",
        "    log.registerAction('From now, the Data Controller '+ dataController.id +' cannot collect the Data Subject information',Communication,Prohibition)\n",
        "    log.registerAction('From now, the Data Controller '+ dataController.id +' cannot process the Data Subject information',Communication,Prohibition)\n",
        "    log.registerAction('From now '+str(self.expirationDateTime.date())+', consent '+ str(self.id) +' is not valid to be used by the data controller',Explanation,Prohibition)\n",
        "\n",
        "    return True"
      ],
      "metadata": {
        "id": "nCMB9N-5Tmlb"
      },
      "id": "nCMB9N-5Tmlb",
      "execution_count": 10,
      "outputs": []
    },
    {
      "cell_type": "markdown",
      "source": [
        "Now, lets create a new consent following the above scenario description."
      ],
      "metadata": {
        "id": "__C-8gltfSip"
      },
      "id": "__C-8gltfSip"
    },
    {
      "cell_type": "code",
      "source": [
        "consentBankA = Consent()\n",
        "consentBankA.createConsent('offer_products_and_services','create_specific_offers',\n",
        "                           'anonymized_data_analytics','SHA256',\n",
        "                           'Authorized employees can access the data only',\n",
        "                           'Bank A private cloud',\n",
        "                           bankA,60,1)"
      ],
      "metadata": {
        "id": "pOz8t4JafTCI"
      },
      "id": "pOz8t4JafTCI",
      "execution_count": 11,
      "outputs": []
    },
    {
      "cell_type": "markdown",
      "source": [
        "And lets print some data from this consent term."
      ],
      "metadata": {
        "id": "DX2pQzVgf6CD"
      },
      "id": "DX2pQzVgf6CD"
    },
    {
      "cell_type": "code",
      "source": [
        "print('---- A new consent was create ----\\n')\n",
        "print('Consent unique identification code:  '+str(consentBankA.id))\n",
        "print('This consent was created on:         '+str(consentBankA.creationTime.date()))\n",
        "print('Current consent status:              '+str(consentBankA.status))\n",
        "print('The Data Controller will have the following permissions: '+str(consentBankA.permissions))\n",
        "print('This consent will expire on:         '+str(consentBankA.expirationDateTime.date()))\n",
        "print('The data controller will be able to access the data subject transactions from: '+str(consentBankA.transactionFromDateTime.date())+' to '+str(consentBankA.transactionToDateTime.date()))"
      ],
      "metadata": {
        "colab": {
          "base_uri": "https://localhost:8080/"
        },
        "id": "i0RbZVYsf6mu",
        "outputId": "d82366b5-b694-48a7-a97e-2f778af7b114"
      },
      "id": "i0RbZVYsf6mu",
      "execution_count": 12,
      "outputs": [
        {
          "output_type": "stream",
          "name": "stdout",
          "text": [
            "---- A new consent was create ----\n",
            "\n",
            "Consent unique identification code:  c0a0ee7c-cffc-4a02-aafb-ba9bd228d8f5\n",
            "This consent was created on:         2022-08-08\n",
            "Current consent status:              AwaitingAuthorisation\n",
            "The Data Controller will have the following permissions: ['ReadAccountsBasic', 'ReadAccountsDetail', 'ReadBalances', 'ReadOffers', 'ReadProducts']\n",
            "This consent will expire on:         2027-08-08\n",
            "The data controller will be able to access the data subject transactions from: 2022-07-08 to 2027-08-08\n"
          ]
        }
      ]
    },
    {
      "cell_type": "markdown",
      "source": [
        "Now, let's insert the John's transactional data"
      ],
      "metadata": {
        "id": "_4icGBUf2ENP"
      },
      "id": "_4icGBUf2ENP"
    },
    {
      "cell_type": "code",
      "source": [
        "john.transactionalData = {'Account Balance':250,\n",
        "                           'Credit Card Type':'Platinum',\n",
        "                           'Limit':5000, \n",
        "                           'Transactions':{'supermarket':300,\n",
        "                                           'library':700,\n",
        "                                           'drugstore':100}}"
      ],
      "metadata": {
        "id": "Yq2KiW_U2TDm"
      },
      "id": "Yq2KiW_U2TDm",
      "execution_count": 13,
      "outputs": []
    },
    {
      "cell_type": "markdown",
      "source": [
        "And lets associate the consent term to John"
      ],
      "metadata": {
        "id": "edndsM-ogJks"
      },
      "id": "edndsM-ogJks"
    },
    {
      "cell_type": "code",
      "source": [
        "john.consents.append(consentBankA)\n",
        "\n",
        "log.registerAction('Consent requested to the Data Subject. ID: '+str(consentBankA.id)+' Current Status: '+str(consentBankA.status),Communication,Permission)\n",
        "\n",
        "print('Consent unique identification code: '+str(consentBankA.id))\n",
        "print('Current consent status: '+str(consentBankA.status))"
      ],
      "metadata": {
        "id": "amZ-OR-sI_3m",
        "colab": {
          "base_uri": "https://localhost:8080/"
        },
        "outputId": "c1bd6ed2-a3ee-4bba-c53d-3f756414de3e"
      },
      "id": "amZ-OR-sI_3m",
      "execution_count": 14,
      "outputs": [
        {
          "output_type": "stream",
          "name": "stdout",
          "text": [
            "Consent unique identification code: c0a0ee7c-cffc-4a02-aafb-ba9bd228d8f5\n",
            "Current consent status: AwaitingAuthorisation\n"
          ]
        }
      ]
    },
    {
      "cell_type": "markdown",
      "source": [
        "And lets performs the John acceptance action."
      ],
      "metadata": {
        "id": "dbCwse_DgThu"
      },
      "id": "dbCwse_DgThu"
    },
    {
      "cell_type": "code",
      "source": [
        "john.consents[-1].acceptConsent(john,bankA) # Use -1 to get the most recent consent presented to the Data Subject"
      ],
      "metadata": {
        "id": "nx_0ZdvJgTF1"
      },
      "id": "nx_0ZdvJgTF1",
      "execution_count": 15,
      "outputs": []
    },
    {
      "cell_type": "markdown",
      "source": [
        "Last but not least, lets print the current status of this consent, that should be changed from **AwaitingAuthorisation** to **Authorised**"
      ],
      "metadata": {
        "id": "wTfnZyh0gx0K"
      },
      "id": "wTfnZyh0gx0K"
    },
    {
      "cell_type": "code",
      "source": [
        "print('Consent unique identification code: '+str(consentBankA.id))\n",
        "print('Current consent status: '+str(consentBankA.status))"
      ],
      "metadata": {
        "colab": {
          "base_uri": "https://localhost:8080/"
        },
        "id": "UAT4FRE1hAC0",
        "outputId": "565a6f75-b932-4772-8d1b-2f5e888b5e9c"
      },
      "id": "UAT4FRE1hAC0",
      "execution_count": 16,
      "outputs": [
        {
          "output_type": "stream",
          "name": "stdout",
          "text": [
            "Consent unique identification code: c0a0ee7c-cffc-4a02-aafb-ba9bd228d8f5\n",
            "Current consent status: Authorised\n"
          ]
        }
      ]
    },
    {
      "cell_type": "code",
      "source": [
        "print('Data Controller is processing data subject information? '+str(bankA.isProcessing.get(john.id))+'\\n')\n",
        "log.printLog()"
      ],
      "metadata": {
        "colab": {
          "base_uri": "https://localhost:8080/"
        },
        "id": "6grKXCjBkea4",
        "outputId": "bf30743e-c0b0-43fc-f4a9-0d4ed997e9b8"
      },
      "id": "6grKXCjBkea4",
      "execution_count": 17,
      "outputs": [
        {
          "output_type": "stream",
          "name": "stdout",
          "text": [
            "Data Controller is processing data subject information? True\n",
            "\n",
            "Date; Event; Type; Deontic Concept\n",
            "2022-08-08 16:52:13.393077; A new consent term was generated, but it was not accepted yet ID: c0a0ee7c-cffc-4a02-aafb-ba9bd228d8f5 Current Status: AwaitingAuthorisation; Communication;  Permission\n",
            "2022-08-08 16:52:13.434455; Consent requested to the Data Subject. ID: c0a0ee7c-cffc-4a02-aafb-ba9bd228d8f5 Current Status: AwaitingAuthorisation; Communication;  Permission\n",
            "2022-08-08 16:52:13.449068; Data Subject 35512367800 accepted the consent term; Communication;  Permission\n",
            "2022-08-08 16:52:13.449085; Data Subject can now have all foressen rights; Explanation;  Permission\n",
            "2022-08-08 16:52:13.449100; Data Controller 00345 can process the Data Subject information from 2022-08-08 to 2027-08-08; Explanation;  Permission\n"
          ]
        }
      ]
    },
    {
      "cell_type": "markdown",
      "id": "78ad55c8",
      "metadata": {
        "id": "78ad55c8"
      },
      "source": [
        "### Scene 2: Data Subject agrees with the consent term."
      ]
    },
    {
      "cell_type": "markdown",
      "source": [
        "Now, let's create a consent term where John agrees to share his data from Bank A to Bank B, respecting the Data Regulation specified at the beginning of this document."
      ],
      "metadata": {
        "id": "x9B9YB1KvYp7"
      },
      "id": "x9B9YB1KvYp7"
    },
    {
      "cell_type": "code",
      "source": [
        "consentBankB = Consent()\n",
        "consentBankB.createConsent('offer_products_and_services','create_specific_offers',\n",
        "                           'anonymized_data_analytics','SHA256',\n",
        "                           'Authorized employees can access the data only',\n",
        "                           'Bank B Private Cloud',\n",
        "                           bankB,12,12) # LGPD default expiration period is 12 months\n",
        "\n",
        "\n",
        "john.consents.append(consentBankB)\n",
        "\n",
        "john.consents[-1].acceptConsent(john,bankB)"
      ],
      "metadata": {
        "id": "oR6wxl26v59j"
      },
      "id": "oR6wxl26v59j",
      "execution_count": 18,
      "outputs": []
    },
    {
      "cell_type": "code",
      "source": [
        "log.printLog()"
      ],
      "metadata": {
        "colab": {
          "base_uri": "https://localhost:8080/"
        },
        "id": "EHa66bU7xfrU",
        "outputId": "c8f4e3d1-972b-47fa-c4b3-f902646038a6"
      },
      "id": "EHa66bU7xfrU",
      "execution_count": 19,
      "outputs": [
        {
          "output_type": "stream",
          "name": "stdout",
          "text": [
            "Date; Event; Type; Deontic Concept\n",
            "2022-08-08 16:52:13.393077; A new consent term was generated, but it was not accepted yet ID: c0a0ee7c-cffc-4a02-aafb-ba9bd228d8f5 Current Status: AwaitingAuthorisation; Communication;  Permission\n",
            "2022-08-08 16:52:13.434455; Consent requested to the Data Subject. ID: c0a0ee7c-cffc-4a02-aafb-ba9bd228d8f5 Current Status: AwaitingAuthorisation; Communication;  Permission\n",
            "2022-08-08 16:52:13.449068; Data Subject 35512367800 accepted the consent term; Communication;  Permission\n",
            "2022-08-08 16:52:13.449085; Data Subject can now have all foressen rights; Explanation;  Permission\n",
            "2022-08-08 16:52:13.449100; Data Controller 00345 can process the Data Subject information from 2022-08-08 to 2027-08-08; Explanation;  Permission\n",
            "2022-08-08 16:52:13.481624; A new consent term was generated, but it was not accepted yet ID: cd412226-069a-4c7c-bb38-aff8065c0cb9 Current Status: AwaitingAuthorisation; Communication;  Permission\n",
            "2022-08-08 16:52:13.481784; Data Subject 35512367800 accepted the consent term; Communication;  Permission\n",
            "2022-08-08 16:52:13.481797; Data Subject can now have all foressen rights; Explanation;  Permission\n",
            "2022-08-08 16:52:13.481811; Data Controller 48634 can process the Data Subject information from 2022-08-08 to 2023-08-08; Explanation;  Permission\n"
          ]
        }
      ]
    },
    {
      "cell_type": "markdown",
      "source": [
        "Additionally, we can check the John's and Bank B rights executing the following code."
      ],
      "metadata": {
        "id": "-bH7OLkYAYeT"
      },
      "id": "-bH7OLkYAYeT"
    },
    {
      "cell_type": "markdown",
      "id": "8d60c694",
      "metadata": {
        "id": "8d60c694"
      },
      "source": [
        "### Scene 3: Defining the Data Subject's rights.\n",
        "\n",
        "As the current sandbox is based on the LGPD, we had to add the rights foreseen to the Data Subject as well as the Data Controller when the Data Subject decides to accept the consent term."
      ]
    },
    {
      "cell_type": "markdown",
      "id": "079be990",
      "metadata": {
        "id": "079be990"
      },
      "source": [
        "According to the LGPD Art. 18, when the Data Subject is sharing data with a Data Controller, he/she has the following rights:\n",
        "1. Data Access\n",
        "2. Data Copy\n",
        "3. Data Correction\n",
        "4. Data Anonymization\n",
        "5. Data Portability\n",
        "6. Data Deletion\n",
        "7. Information regarding the data sharing with a third party\n",
        "8. Request consent revocation."
      ]
    },
    {
      "cell_type": "code",
      "source": [
        "print('-- Data Subject Rights --')\n",
        "\n",
        "for right in consentBankB.dataSubjectRights:\n",
        "  print(right)\n",
        "\n",
        "print('\\n-- Data Controller Rights --')\n",
        "for right in consentBankB.dataControllerRights:\n",
        "  print(right)"
      ],
      "metadata": {
        "colab": {
          "base_uri": "https://localhost:8080/"
        },
        "id": "G3TqThzpAYDs",
        "outputId": "8a1b2815-f34a-44b5-b5cb-3d24254e7f7f"
      },
      "id": "G3TqThzpAYDs",
      "execution_count": 20,
      "outputs": [
        {
          "output_type": "stream",
          "name": "stdout",
          "text": [
            "-- Data Subject Rights --\n",
            "Data Access\n",
            "Data Copy\n",
            "Data Correction\n",
            "Data Anonymization\n",
            "Data Portability\n",
            "Data Deletion\n",
            "Information regarding the data sharing with a third party\n",
            "Request consent revocation\n",
            "\n",
            "-- Data Controller Rights --\n",
            "Data Processing\n",
            "Data Collecting\n",
            "Data Storing\n"
          ]
        }
      ]
    },
    {
      "cell_type": "code",
      "source": [
        "# Auxiliary function to print the transactional data shared in an accepted consent term\n",
        "for key in consentBankB.transactionalData:\n",
        "    print(key+': '+ str(consentBankB.transactionalData[key]))\n"
      ],
      "metadata": {
        "colab": {
          "base_uri": "https://localhost:8080/"
        },
        "id": "-Ww9w5wn4NrB",
        "outputId": "bf219d61-eb55-4d8c-b994-be03ef1e83c2"
      },
      "id": "-Ww9w5wn4NrB",
      "execution_count": 21,
      "outputs": [
        {
          "output_type": "stream",
          "name": "stdout",
          "text": [
            "Account Balance: 250\n",
            "Credit Card Type: Platinum\n",
            "Limit: 5000\n",
            "Transactions: {'supermarket': 300, 'library': 700, 'drugstore': 100}\n"
          ]
        }
      ]
    },
    {
      "cell_type": "markdown",
      "id": "329c71df",
      "metadata": {
        "id": "329c71df"
      },
      "source": [
        " ---------"
      ]
    },
    {
      "cell_type": "markdown",
      "id": "e56931ef",
      "metadata": {
        "id": "e56931ef"
      },
      "source": [
        "### Scene 4: Data Subject's consent revocation."
      ]
    },
    {
      "cell_type": "markdown",
      "id": "ee33ba60",
      "metadata": {
        "id": "ee33ba60"
      },
      "source": [
        "As mentioned in the scenario's description, the case presented in this sandbox aims to reproduce the consent term revocation consequences, as the Data Subject considered that he does not want to receive offers from Bank B. \n",
        "\n",
        "Once performed, the action of requesting the consent revocation cannot be executed again, and the Data Controller is forbidden to still collecting the Data Subject's data."
      ]
    },
    {
      "cell_type": "code",
      "execution_count": 22,
      "id": "3c113b41",
      "metadata": {
        "vscode": {
          "languageId": "json"
        },
        "id": "3c113b41",
        "outputId": "da70cc25-d2c2-4a93-c678-1be0866e273d",
        "colab": {
          "base_uri": "https://localhost:8080/"
        }
      },
      "outputs": [
        {
          "output_type": "execute_result",
          "data": {
            "text/plain": [
              "True"
            ]
          },
          "metadata": {},
          "execution_count": 22
        }
      ],
      "source": [
        "log.registerAction('Data Subject considered he does not want to receive more offers from Bank B',Communication,Permission)\n",
        "john.consents[1].revokeConsent(john,bankB)"
      ]
    },
    {
      "cell_type": "code",
      "source": [
        "for consent in john.consents:\n",
        "  print(consent.id,consent.status,consent.dataController.id)\n",
        "\n",
        "log.printLog()"
      ],
      "metadata": {
        "colab": {
          "base_uri": "https://localhost:8080/"
        },
        "id": "jyqdDFZtKczk",
        "outputId": "378faff1-0d73-435c-9811-6aa60fc125bb"
      },
      "id": "jyqdDFZtKczk",
      "execution_count": 23,
      "outputs": [
        {
          "output_type": "stream",
          "name": "stdout",
          "text": [
            "c0a0ee7c-cffc-4a02-aafb-ba9bd228d8f5 Authorised 00345\n",
            "cd412226-069a-4c7c-bb38-aff8065c0cb9 Revoked 48634\n",
            "Date; Event; Type; Deontic Concept\n",
            "2022-08-08 16:52:13.393077; A new consent term was generated, but it was not accepted yet ID: c0a0ee7c-cffc-4a02-aafb-ba9bd228d8f5 Current Status: AwaitingAuthorisation; Communication;  Permission\n",
            "2022-08-08 16:52:13.434455; Consent requested to the Data Subject. ID: c0a0ee7c-cffc-4a02-aafb-ba9bd228d8f5 Current Status: AwaitingAuthorisation; Communication;  Permission\n",
            "2022-08-08 16:52:13.449068; Data Subject 35512367800 accepted the consent term; Communication;  Permission\n",
            "2022-08-08 16:52:13.449085; Data Subject can now have all foressen rights; Explanation;  Permission\n",
            "2022-08-08 16:52:13.449100; Data Controller 00345 can process the Data Subject information from 2022-08-08 to 2027-08-08; Explanation;  Permission\n",
            "2022-08-08 16:52:13.481624; A new consent term was generated, but it was not accepted yet ID: cd412226-069a-4c7c-bb38-aff8065c0cb9 Current Status: AwaitingAuthorisation; Communication;  Permission\n",
            "2022-08-08 16:52:13.481784; Data Subject 35512367800 accepted the consent term; Communication;  Permission\n",
            "2022-08-08 16:52:13.481797; Data Subject can now have all foressen rights; Explanation;  Permission\n",
            "2022-08-08 16:52:13.481811; Data Controller 48634 can process the Data Subject information from 2022-08-08 to 2023-08-08; Explanation;  Permission\n",
            "2022-08-08 16:52:13.526200; Data Subject considered he does not want to receive more offers from Bank B; Communication;  Permission\n",
            "2022-08-08 16:52:13.526285; Data Subject 35512367800  requested to the Data Controller to revoke his/her consent; Communication;  Prohibition\n",
            "2022-08-08 16:52:13.526296; From now, the Data Controller 48634 cannot collect the Data Subject information; Communication;  Prohibition\n",
            "2022-08-08 16:52:13.526304; From now, the Data Controller 48634 cannot process the Data Subject information; Communication;  Prohibition\n",
            "2022-08-08 16:52:13.526322; From now 2022-08-08, consent cd412226-069a-4c7c-bb38-aff8065c0cb9 is not valid to be used by the data controller; Explanation;  Prohibition\n"
          ]
        }
      ]
    },
    {
      "cell_type": "markdown",
      "id": "62f7bcf1",
      "metadata": {
        "id": "62f7bcf1"
      },
      "source": [
        "Therefore, the consent revocation request impacts many LGPD relationships as depicted in Figure 6."
      ]
    },
    {
      "cell_type": "markdown",
      "id": "8633f172",
      "metadata": {
        "id": "8633f172"
      },
      "source": [
        "![RootScenarioImpact](./img/RootScenarioImpact.png \"Root Scenario Impact\")\n",
        "Fig.6 - Consent Revocation Impact.\n",
        "\n",
        "The red entities suffered impact directly, or indirectly, when the consent was revoked. First,  the data controller must stop collecting personal data immediately. Next, the data controller must update the sharing policies and access restriction to prevent unauthorized access or new data processing. Still, the consent status will change to \"invalid\", as the controller cannot use this consent anymore."
      ]
    },
    {
      "cell_type": "markdown",
      "id": "680944f7",
      "metadata": {
        "id": "680944f7"
      },
      "source": [
        " ---------"
      ]
    },
    {
      "cell_type": "markdown",
      "id": "4283b37f",
      "metadata": {
        "id": "4283b37f"
      },
      "source": [
        "### Performing explanation exercises regarding possible scenarios\n",
        "\n",
        "Here, we are going to perform questions regarding access confirmation, rights compliance, and information about consent term. Those questions will exercise the data subject and controller understanding regarding possible scenarios during the relationship between these two actors.\n"
      ]
    },
    {
      "cell_type": "markdown",
      "id": "6239f32d",
      "metadata": {
        "id": "6239f32d"
      },
      "source": [
        "kAre the data controller Bank B using the data subject Paulo's data? \n",
        "\n",
        "Expected: As the Data Subject requested to revoke his consent, the data controller is **prohibited** to still using the Data Subjects data."
      ]
    },
    {
      "cell_type": "code",
      "execution_count": 24,
      "id": "b31d83d3",
      "metadata": {
        "vscode": {
          "languageId": "json"
        },
        "id": "b31d83d3",
        "outputId": "c56cacb3-cb8b-49e1-fb8a-7699d998deb1",
        "colab": {
          "base_uri": "https://localhost:8080/"
        }
      },
      "outputs": [
        {
          "output_type": "execute_result",
          "data": {
            "text/plain": [
              "False"
            ]
          },
          "metadata": {},
          "execution_count": 24
        }
      ],
      "source": [
        "bankB.isProcessing.get(john.id)"
      ]
    },
    {
      "cell_type": "markdown",
      "id": "8de9a61e",
      "metadata": {
        "id": "8de9a61e"
      },
      "source": [
        "Why?"
      ]
    },
    {
      "cell_type": "code",
      "execution_count": 25,
      "id": "46fc26ea",
      "metadata": {
        "vscode": {
          "languageId": "json"
        },
        "id": "46fc26ea",
        "outputId": "4bbba4db-d57c-4137-8169-0d1a4a73d4fc",
        "colab": {
          "base_uri": "https://localhost:8080/"
        }
      },
      "outputs": [
        {
          "output_type": "stream",
          "name": "stdout",
          "text": [
            "2022-08-08 16:52:13.526285; Data Subject 35512367800  requested to the Data Controller to revoke his/her consent; Communication;  Prohibition\n",
            "2022-08-08 16:52:13.526296; From now, the Data Controller 48634 cannot collect the Data Subject information; Communication;  Prohibition\n",
            "2022-08-08 16:52:13.526304; From now, the Data Controller 48634 cannot process the Data Subject information; Communication;  Prohibition\n",
            "2022-08-08 16:52:13.526322; From now 2022-08-08, consent cd412226-069a-4c7c-bb38-aff8065c0cb9 is not valid to be used by the data controller; Explanation;  Prohibition\n"
          ]
        }
      ],
      "source": [
        "for event in log.root:\n",
        "  if Prohibition in event:\n",
        "    print(event)"
      ]
    },
    {
      "cell_type": "markdown",
      "id": "0cc10cfe",
      "metadata": {
        "id": "0cc10cfe"
      },
      "source": [
        "What are the Data Subject rights right now?\n",
        "\n",
        "Expected: As the Data Subject requested to revoke his consent, he is **prohibited** to create such request again, even though he has **permission** to request the other rights foreseen by the LGPD."
      ]
    },
    {
      "cell_type": "code",
      "execution_count": 26,
      "id": "2c241578",
      "metadata": {
        "vscode": {
          "languageId": "json"
        },
        "id": "2c241578",
        "outputId": "50f70b8d-22f8-4115-baf0-36b84dcb63da",
        "colab": {
          "base_uri": "https://localhost:8080/"
        }
      },
      "outputs": [
        {
          "output_type": "stream",
          "name": "stdout",
          "text": [
            "Data Access\n",
            "Data Copy\n",
            "Data Correction\n",
            "Data Anonymization\n",
            "Data Portability\n",
            "Data Deletion\n"
          ]
        }
      ],
      "source": [
        "for right in john.consents[1].dataSubjectRights:\n",
        "  print(right)"
      ]
    },
    {
      "cell_type": "markdown",
      "id": "fc11dcb4",
      "metadata": {
        "id": "fc11dcb4"
      },
      "source": [
        "Who are collecting the Data Subject's personal data and what are the respective data?"
      ]
    },
    {
      "cell_type": "code",
      "execution_count": 27,
      "id": "74a410e4",
      "metadata": {
        "id": "74a410e4",
        "outputId": "51d5247a-a6e2-4dbb-d0d0-9b09bbe3106c",
        "colab": {
          "base_uri": "https://localhost:8080/"
        }
      },
      "outputs": [
        {
          "output_type": "stream",
          "name": "stdout",
          "text": [
            "00345 {'name': 'John', 'email': 'john@mail.com', 'cellphone': '+1 98638293756'}\n"
          ]
        }
      ],
      "source": [
        "for consent in john.consents:\n",
        "  if DataCollecting in consent.dataControllerRights:\n",
        "    print(consent.dataController.id, consent.personalData)"
      ]
    },
    {
      "cell_type": "markdown",
      "id": "7943eb67",
      "metadata": {
        "id": "7943eb67"
      },
      "source": [
        "Why?"
      ]
    },
    {
      "cell_type": "code",
      "execution_count": 28,
      "id": "8b867447",
      "metadata": {
        "id": "8b867447",
        "outputId": "b044afec-2d6a-4be8-9b57-2437fe8c3d15",
        "colab": {
          "base_uri": "https://localhost:8080/"
        }
      },
      "outputs": [
        {
          "output_type": "stream",
          "name": "stdout",
          "text": [
            "00345 Authorised\n",
            "48634 Revoked\n"
          ]
        }
      ],
      "source": [
        "for consent in john.consents:\n",
        "  print(consent.dataController.id, consent.status)"
      ]
    },
    {
      "cell_type": "markdown",
      "source": [
        "As we can see, only Data Controller 00345 (Bank a) is authorized to collect John's data."
      ],
      "metadata": {
        "id": "-Li8RfHtRBCP"
      },
      "id": "-Li8RfHtRBCP"
    },
    {
      "cell_type": "markdown",
      "id": "4e2db676",
      "metadata": {
        "id": "4e2db676"
      },
      "source": [
        "Who are storing the Data Subject's sensitive data and what are the respective data?\n",
        "\n",
        "Expected: Although the Data Subject requested to revoke his consent with Bank B, he did not request for data deletion, so the Data Controller is **permitted** to store his dada."
      ]
    },
    {
      "cell_type": "code",
      "execution_count": 29,
      "id": "86967521",
      "metadata": {
        "id": "86967521",
        "outputId": "cb395245-7892-4b0a-8618-b87e4cf6d71c",
        "colab": {
          "base_uri": "https://localhost:8080/"
        }
      },
      "outputs": [
        {
          "output_type": "stream",
          "name": "stdout",
          "text": [
            "00345 {'Account Balance': 250, 'Credit Card Type': 'Platinum', 'Limit': 5000, 'Transactions': {'supermarket': 300, 'library': 700, 'drugstore': 100}}\n",
            "48634 {'Account Balance': 250, 'Credit Card Type': 'Platinum', 'Limit': 5000, 'Transactions': {'supermarket': 300, 'library': 700, 'drugstore': 100}}\n"
          ]
        }
      ],
      "source": [
        "for consent in john.consents:\n",
        "  if DataStoring in consent.dataControllerRights:\n",
        "    print(consent.dataController.id, consent.transactionalData)"
      ]
    },
    {
      "cell_type": "markdown",
      "id": "68d9afd5",
      "metadata": {
        "id": "68d9afd5"
      },
      "source": [
        "Show all events."
      ]
    },
    {
      "cell_type": "code",
      "execution_count": 30,
      "id": "7f036d4f",
      "metadata": {
        "id": "7f036d4f",
        "outputId": "06c196e4-7e03-49ba-d18e-3e5a25ddc80a",
        "colab": {
          "base_uri": "https://localhost:8080/"
        }
      },
      "outputs": [
        {
          "output_type": "stream",
          "name": "stdout",
          "text": [
            "Date; Event; Type; Deontic Concept\n",
            "2022-08-08 16:52:13.393077; A new consent term was generated, but it was not accepted yet ID: c0a0ee7c-cffc-4a02-aafb-ba9bd228d8f5 Current Status: AwaitingAuthorisation; Communication;  Permission\n",
            "2022-08-08 16:52:13.434455; Consent requested to the Data Subject. ID: c0a0ee7c-cffc-4a02-aafb-ba9bd228d8f5 Current Status: AwaitingAuthorisation; Communication;  Permission\n",
            "2022-08-08 16:52:13.449068; Data Subject 35512367800 accepted the consent term; Communication;  Permission\n",
            "2022-08-08 16:52:13.449085; Data Subject can now have all foressen rights; Explanation;  Permission\n",
            "2022-08-08 16:52:13.449100; Data Controller 00345 can process the Data Subject information from 2022-08-08 to 2027-08-08; Explanation;  Permission\n",
            "2022-08-08 16:52:13.481624; A new consent term was generated, but it was not accepted yet ID: cd412226-069a-4c7c-bb38-aff8065c0cb9 Current Status: AwaitingAuthorisation; Communication;  Permission\n",
            "2022-08-08 16:52:13.481784; Data Subject 35512367800 accepted the consent term; Communication;  Permission\n",
            "2022-08-08 16:52:13.481797; Data Subject can now have all foressen rights; Explanation;  Permission\n",
            "2022-08-08 16:52:13.481811; Data Controller 48634 can process the Data Subject information from 2022-08-08 to 2023-08-08; Explanation;  Permission\n",
            "2022-08-08 16:52:13.526200; Data Subject considered he does not want to receive more offers from Bank B; Communication;  Permission\n",
            "2022-08-08 16:52:13.526285; Data Subject 35512367800  requested to the Data Controller to revoke his/her consent; Communication;  Prohibition\n",
            "2022-08-08 16:52:13.526296; From now, the Data Controller 48634 cannot collect the Data Subject information; Communication;  Prohibition\n",
            "2022-08-08 16:52:13.526304; From now, the Data Controller 48634 cannot process the Data Subject information; Communication;  Prohibition\n",
            "2022-08-08 16:52:13.526322; From now 2022-08-08, consent cd412226-069a-4c7c-bb38-aff8065c0cb9 is not valid to be used by the data controller; Explanation;  Prohibition\n"
          ]
        }
      ],
      "source": [
        "log.printLog()"
      ]
    },
    {
      "cell_type": "markdown",
      "id": "7d719688",
      "metadata": {
        "id": "7d719688"
      },
      "source": [
        "----"
      ]
    },
    {
      "cell_type": "markdown",
      "id": "070e5cea",
      "metadata": {
        "id": "070e5cea"
      },
      "source": [
        "#### Cause-effect: Reproducing unauthorized use of personal data\n",
        "\n",
        "Let's picture that the Data Controller did not respect the Data Subject's request and still collecting the Data Subject's data. In such plot, fines must be applied.\n",
        "\n",
        "<div>\n",
        "<img src=\"https://github.com/phalves/ConFIA/blob/main/img/Scenario2.1_Process.png?raw=1\" width=\"600\"/>\n",
        "</div>\n",
        "Fig.7 - Consent Revocation Scenario Process."
      ]
    },
    {
      "cell_type": "code",
      "execution_count": 37,
      "id": "dfcc2a44",
      "metadata": {
        "id": "dfcc2a44"
      },
      "outputs": [],
      "source": [
        "# This command sets that the Data Controller is collecting the Data Subject's data.\n",
        "bankB.isProcessing[john.id] = True"
      ]
    },
    {
      "cell_type": "markdown",
      "id": "232ba410",
      "metadata": {
        "id": "232ba410"
      },
      "source": [
        "So, now the data controller is collecting unauthorized data, it was **prohibited** since the data subject requested consent revocation. The following command will check the environment facts and it will insert this fact regarding the rights **violation** in the log."
      ]
    },
    {
      "cell_type": "code",
      "execution_count": 44,
      "id": "d74e9295",
      "metadata": {
        "scrolled": true,
        "id": "d74e9295"
      },
      "outputs": [],
      "source": [
        "if bankB.isProcessing[john.id] and (not (john.consents[1].status == Authorised)):\n",
        "  log.registerAction('Data Controller has no valid consent approved by the Data Subject', Communication, Prohibition)\n",
        "  log.registerAction('Data Controller is processing unauthorized information', Communication, Violation)"
      ]
    },
    {
      "cell_type": "code",
      "source": [
        "log.printLog()"
      ],
      "metadata": {
        "colab": {
          "base_uri": "https://localhost:8080/"
        },
        "id": "bszvSH4xXBMJ",
        "outputId": "a19033d7-a2c5-41e0-e8fe-aeba8434bba6"
      },
      "id": "bszvSH4xXBMJ",
      "execution_count": 43,
      "outputs": [
        {
          "output_type": "stream",
          "name": "stdout",
          "text": [
            "Date; Event; Type; Deontic Concept\n",
            "2022-08-08 16:10:04.207304; A new consent term was generated, but it was not accepted yet ID: fa19d60e-85d1-4549-bc0b-5cb8ace703a8 Current Status: AwaitingAuthorisation; Communication;  Permission\n",
            "2022-08-08 16:10:04.261998; Consent requested to the Data Subject. ID: fa19d60e-85d1-4549-bc0b-5cb8ace703a8 Current Status: AwaitingAuthorisation; Communication;  Permission\n",
            "2022-08-08 16:10:04.272240; Data Subject 35512367800 accepted the consent term; Communication;  Permission\n",
            "2022-08-08 16:10:04.272256; Data Subject can now have all foressen rights; Explanation;  Permission\n",
            "2022-08-08 16:10:04.272272; Data Controller 00345 can process the Data Subject information from 2022-08-08 to 2027-08-08; Explanation;  Permission\n",
            "2022-08-08 16:10:04.308768; A new consent term was generated, but it was not accepted yet ID: 272a8168-418f-4d44-b2f0-98b1d7e1b365 Current Status: AwaitingAuthorisation; Communication;  Permission\n",
            "2022-08-08 16:10:04.308972; Data Subject 35512367800 accepted the consent term; Communication;  Permission\n",
            "2022-08-08 16:10:04.308985; Data Subject can now have all foressen rights; Explanation;  Permission\n",
            "2022-08-08 16:10:04.309001; Data Controller 48634 can process the Data Subject information from 2022-08-08 to 2023-08-08; Explanation;  Permission\n",
            "2022-08-08 16:10:04.353232; Data Subject considered he does not want to receive more offers from Bank B; Communication;  Permission\n",
            "2022-08-08 16:10:04.353340; Data Subject 35512367800  requested to the Data Controller to revoke his/her consent; Communication;  Prohibition\n",
            "2022-08-08 16:10:04.353353; From now, the Data Controller 48634 cannot collect the Data Subject information; Communication;  Prohibition\n",
            "2022-08-08 16:10:04.353362; From now, the Data Controller 48634 cannot process the Data Subject information; Communication;  Prohibition\n",
            "2022-08-08 16:10:04.353384; From now 2022-08-08, consent 272a8168-418f-4d44-b2f0-98b1d7e1b365 is not valid to be used by the data controller; Explanation;  Prohibition\n",
            "2022-08-08 16:49:10.583572; Data Controller has no valid consent approved by the Data Subject; Communication;  Prohibition\n",
            "2022-08-08 16:49:10.583592; Thus, there is a violation regarding the Data Subject rights; Communication;  Violation\n"
          ]
        }
      ]
    },
    {
      "cell_type": "markdown",
      "id": "eaf1700d",
      "metadata": {
        "id": "eaf1700d"
      },
      "source": [
        "Moreover, Figure 6 may also be used to mitigate if the consent revocation was properly attended. If there is no modification in the red entities, something is not in compliance with LGPD."
      ]
    },
    {
      "cell_type": "markdown",
      "id": "cf288a4f",
      "metadata": {
        "id": "cf288a4f"
      },
      "source": [
        "----\n",
        "#### Cause-effect: Data breach, what to do? \n",
        "\n",
        "The Data Controller must inform to national authority and to the Data Subject when a data breach occurs that may cause risks or damage to the Data Subject.\n",
        "\n",
        "Such communication has to be done as soon as possible and should inform:\n",
        "- personal data category\n",
        "- what data were leaked\n",
        "- what were the technical and security measures used to protect data\n",
        "- the risks related to the incident\n",
        "- what the data controller will do to revert or mitigate the damage\n",
        "\n",
        "Depending on the incident severity, the Data Controller will have to disclose such an event in high-impact communication media.\n",
        "\n",
        "In this sense, lets picture that Data Controller suffered from a hacker attack and Data Subject's personal data were leaked on the social media and he is receiving few calls from different numbers. So, Data Controller is **obligated to** inform the incident to ANPD and inform the Data Subject that his phone number was leaked. \n",
        "\n",
        "Even as Data Subject has revoked his consent, he has to be informed regarding the data breach as his data still on the Data Controller's database.\n",
        "\n",
        "![Scenario2_DataBreach](./img/Scenario2_DataBreach.png \"Process 2.2\")\n",
        "Fig.8 - Data Breach Scenario Process.\n",
        "\n",
        "Thus, let translate this scenario in Prolog facts.\n",
        "\n",
        "First, once Bank B figure out that there is a data breach, the ANPD and the data subjects involved have to be informed about that.\n"
      ]
    },
    {
      "cell_type": "code",
      "execution_count": null,
      "id": "d41a24f2",
      "metadata": {
        "id": "d41a24f2",
        "outputId": "2a1cfd97-7ae9-4ea4-8cc1-4483a8fa93aa"
      },
      "outputs": [
        {
          "name": "stdout",
          "output_type": "stream",
          "text": []
        }
      ],
      "source": [
        "log('Data Controller Bank B triggered an alert to ANPD and to all data subjects affected by\n",
        "    the data breach informing that all e-mails were exposed','Communication','Obligation',1638970870)."
      ]
    },
    {
      "cell_type": "markdown",
      "id": "3a86cdf4",
      "metadata": {
        "id": "3a86cdf4"
      },
      "source": [
        "Next, Bank B has to explain that they had adopted security actions to avoid data breach. "
      ]
    },
    {
      "cell_type": "code",
      "execution_count": null,
      "id": "bbb211dc",
      "metadata": {
        "id": "bbb211dc",
        "outputId": "ff0f24fb-3906-47e6-a54c-6b50c561c6db"
      },
      "outputs": [
        {
          "name": "stdout",
          "output_type": "stream",
          "text": []
        }
      ],
      "source": [
        "log('Data Controller Bank B informed the security measures to do not let data breach occurs',\n",
        "    'Communication','Obligation',1638970871)."
      ]
    },
    {
      "cell_type": "markdown",
      "id": "1f87c3df",
      "metadata": {
        "id": "1f87c3df"
      },
      "source": [
        "Then, Bank B fixed the vulnerability and inform the data subjects as well."
      ]
    },
    {
      "cell_type": "code",
      "execution_count": null,
      "id": "c1b360b5",
      "metadata": {
        "id": "c1b360b5",
        "outputId": "772b4e80-ac1e-4eb2-b172-e41dbdb7e8c8"
      },
      "outputs": [
        {
          "name": "stdout",
          "output_type": "stream",
          "text": []
        }
      ],
      "source": [
        "log('Data Controller Bank B informed that the vulnerability was found \n",
        "    and there is no unauthorized access anymore','Communication','Compliance',1638970872)."
      ]
    },
    {
      "cell_type": "markdown",
      "id": "6591d9c5",
      "metadata": {
        "id": "6591d9c5"
      },
      "source": [
        "Furthermore, Bank B inform to Data Subjects that there is a technical group available to help anyone that have had troubles caused by this incident."
      ]
    },
    {
      "cell_type": "code",
      "execution_count": null,
      "id": "035a3579",
      "metadata": {
        "id": "035a3579",
        "outputId": "c1e2b4aa-e07a-41e2-92a7-e84180e8e1d6"
      },
      "outputs": [
        {
          "name": "stdout",
          "output_type": "stream",
          "text": []
        }
      ],
      "source": [
        "log('Data Controller Bank B created a technical team to help any data subject \n",
        "    that have had issues with this incident','Communication','Obligation',1638970873)."
      ]
    },
    {
      "cell_type": "markdown",
      "id": "470856e5",
      "metadata": {
        "id": "470856e5"
      },
      "source": [
        "As the log shows, this case can present many different ends depending on the damage caused to the data subjects involved. Here, as the data subject received just a few calls and there was low damage, he decided not to enter in dispute to get reparation compensations, even though the data controller has **violated** the Data Subject's privacy.\n",
        "\n",
        "Moreover, the omission of any fact related to informing the Data Subjects about unauthorized access or neglect the system security, fines should be applied to the Data Controller.\n",
        "\n",
        "Last but not least, if the Data Controller noticed a data breach, once informed, the Data Controller has to act immediately. **LGPD Art. 48**"
      ]
    },
    {
      "cell_type": "code",
      "execution_count": null,
      "id": "f9de3ca5",
      "metadata": {
        "id": "f9de3ca5",
        "outputId": "e1fcbedd-d855-423a-d456-81a688e8459a"
      },
      "outputs": [
        {
          "name": "stdout",
          "output_type": "stream",
          "text": [
            "Event = Data Subject can ask if the Data Controller is processing his/her data, Type = Explanation, DeonticOperator = Permission, Date = 1638970860 ;\n",
            "Event = Data Subject verified the consent term and it was ok, Type = Explanation, DeonticOperator = Obligation, Date = 1638970860 ;\n",
            "Event = Data Subject agrees with consent term, Type = Communication, DeonticOperator = Compliance, Date = 1638970860 ;\n",
            "Event = Data Controller can collect the Data Subject information, Type = Explanation, DeonticOperator = Permission, Date = 1638970860 ;\n",
            "Event = Data Controller can store the Data Subject information, Type = Explanation, DeonticOperator = Permission, Date = 1638970860 ;\n",
            "Event = Data Controller can process the Data Subject information, Type = Explanation, DeonticOperator = Permission, Date = 1638970860 ;\n",
            "Event = Data Subject can now have all foressen rights, Type = Explanation, DeonticOperator = Permission, Date = 1638970860 ;\n",
            "Event = Data Subject considered he does not want to receive more offers from Bank B, Type = Communication, DeonticOperator = Permission, Date = 1638970861 ;\n",
            "Event = Data Subject requested to the Data Controller to revoke his/her consent, Type = Communication, DeonticOperator = Permission, Date = 1638970861 ;\n",
            "Event = From now, the Data Controller cannot collect the Data Subject information, Type = Communication, DeonticOperator = Prohibition, Date = 1638970861 ;\n",
            "Event = From now, the Data Controller cannot process the Data Subject information, Type = Communication, DeonticOperator = Prohibition, Date = 1638970861 ;\n",
            "Event = From now, consent is not valid to be used by the data controller, Type = Explanation, DeonticOperator = Prohibition, Date = 1638970861 ;\n",
            "Event = Data Controller Bank B triggered an alert to ANPD and to all data subjects affected by the data breach informing that all e-mails were exposed, Type = Communication, DeonticOperator = Obligation, Date = 1638970870 ;\n",
            "Event = Data Controller Bank B informed the security measures to do not let data breach occurs, Type = Communication, DeonticOperator = Obligation, Date = 1638970871 ;\n",
            "Event = Data Controller Bank B informed that the vulnerability was found and there is no unauthorized access anymore, Type = Communication, DeonticOperator = Compliance, Date = 1638970872 ;\n",
            "Event = Data Controller Bank B created a technical team to help any data subject that have had issues with this incident, Type = Communication, DeonticOperator = Obligation, Date = 1638970873 ."
          ]
        }
      ],
      "source": [
        "?- log(Event,Type,DeonticOperator,Date) {-1}."
      ]
    },
    {
      "cell_type": "markdown",
      "id": "d45ce67d",
      "metadata": {
        "id": "d45ce67d"
      },
      "source": [
        "Therefore, the data breach impacts many LGPD relationships as depicted in Figure 9.\n"
      ]
    },
    {
      "cell_type": "markdown",
      "id": "88ff8393",
      "metadata": {
        "id": "88ff8393"
      },
      "source": [
        "![DataBreachImpact](./img/DataBreachImpact.png \"Data Breach Impact\")\n",
        "Fig.9 - Data Breach Impact."
      ]
    },
    {
      "cell_type": "markdown",
      "id": "17b86437",
      "metadata": {
        "id": "17b86437"
      },
      "source": [
        "First, as mentioned before, a data breach event must be informed to all agents impacted. This message must contain the security methods and the storage technologies applied to avoid a data breach. However, this is an event that could trigger other impacts. For instance, after a data breach, the data subject could enter in a dispute resolution claiming discrimination, loss, and unauthorized uses of his/her data. \n",
        "\n",
        "Furthermore, the Data Subject might request changes in the consent term, impacting the sharing policies and access restriction. Also, the Data Subject might request consent revocation, data deletion, which affects data collecting, processing, and storing."
      ]
    },
    {
      "cell_type": "code",
      "execution_count": null,
      "id": "4d1d2bef",
      "metadata": {
        "id": "4d1d2bef",
        "outputId": "193f6ed7-23d4-4395-d3f8-3e1612166784"
      },
      "outputs": [
        {
          "name": "stdout",
          "output_type": "stream",
          "text": [
            "true.\n",
            "true.\n",
            "true.\n",
            "true."
          ]
        }
      ],
      "source": [
        "% Resetting scenario\n",
        "?- retract(log('Data Controller Bank B triggered an alert to ANPD and to all data subjects affected by\n",
        "    the data breach informing that all e-mails were exposed','Communication','Obligation',1638970870)).\n",
        "    \n",
        "?- retract(log('Data Controller Bank B informed the security measures to do not let data breach \n",
        "    occurs','Communication','Obligation',1638970871)).\n",
        "                        \n",
        "?- retract(log('Data Controller Bank B informed that the vulnerability was found \n",
        "    and there is no unauthorized access anymore','Communication','Compliance',1638970872)).\n",
        "    \n",
        "?- retract(log('Data Controller Bank B created a technical team to help any data subject \n",
        "    that have had issues with this incident','Communication','Obligation',1638970873))."
      ]
    },
    {
      "cell_type": "markdown",
      "id": "bf5f8293",
      "metadata": {
        "id": "bf5f8293"
      },
      "source": [
        "----\n",
        "#### Cause-effect: How to get evidences that the Data Controller leaked the Data Subject's data? "
      ]
    },
    {
      "cell_type": "markdown",
      "id": "adc3c232",
      "metadata": {
        "id": "adc3c232"
      },
      "source": [
        "To create concrete evidence that a Data Controller leaked a Data Subject's data, first, it is important to verify who has such data. If there is just one Data Controller legally storing such data; hence, the chances of such Data Controller had leaked personal data is elevated.\n",
        "\n",
        "Moreover, the data controller is **obligated** to inform if personal or sensitive data is stored in the database. The data subject can request such information for each data controller.\n",
        "\n",
        "However, as Bank A has the same data as Bank B, the action of verifying who leaked the data is even more difficult and may turns the process below inconclusive.\n",
        "\n",
        "![Scenario2.2_Process](./img/Scenario2.2_Process.png \"Process 2.2\")\n",
        "Fig.10 - Data Leak Process.\n",
        "\n",
        "In summary, it is important to the data subject to check the consent term in order to verify if there is any clause/ condition which permits the data controller to share data with others. If the data subject disagrees with such clause, he is **permitted** to revoke the consent term anytime."
      ]
    },
    {
      "cell_type": "code",
      "execution_count": null,
      "id": "2aaa4ba7",
      "metadata": {
        "id": "2aaa4ba7",
        "outputId": "dd7af32c-8468-49e4-fa92-6d546bab4bf6"
      },
      "outputs": [
        {
          "name": "stdout",
          "output_type": "stream",
          "text": []
        }
      ],
      "source": [
        "% This command sets that Bank A, i.e., the origin instituion, has the same data as Bank B.\n",
        "\n",
        "dcIsStoringDSData(id(20),dataController('Bank A'),dataSubject('John'),\n",
        "                    personalData('John','john@mail.com'),sensitiveData('John','transactional_data'),\n",
        "                    startDate(1638970860),endDate(1670506860))."
      ]
    },
    {
      "cell_type": "code",
      "execution_count": null,
      "id": "4e3d352b",
      "metadata": {
        "id": "4e3d352b",
        "outputId": "85131d3e-2363-4e75-fdfa-8e9fa203a150"
      },
      "outputs": [
        {
          "name": "stdout",
          "output_type": "stream",
          "text": [
            "ID = 10, DataController = Bank B ;\n",
            "ID = 20, DataController = Bank A ."
          ]
        }
      ],
      "source": [
        "% This command verifies who is storing John's personal and health data.\n",
        "\n",
        "?- dcIsStoringDSData(id(ID),dataController(DataController),dataSubject('John'),\n",
        "                    personalData('John','john@mail.com'),sensitiveData('John','transactional_data'),\n",
        "                    startDate(1638970860),endDate(1670506860))."
      ]
    },
    {
      "cell_type": "markdown",
      "id": "91fa04a8",
      "metadata": {
        "id": "91fa04a8"
      },
      "source": [
        "Now, let's picture that the Data Controller Institution ABC has John's data."
      ]
    },
    {
      "cell_type": "code",
      "execution_count": null,
      "id": "c0c202ba",
      "metadata": {
        "id": "c0c202ba",
        "outputId": "a11a9105-c080-406a-c3a9-0d0ff7666266"
      },
      "outputs": [
        {
          "name": "stdout",
          "output_type": "stream",
          "text": []
        }
      ],
      "source": [
        "dcIsStoringDSData(id(null),dataController('Institution ABC'),dataSubject('John'),\n",
        "                    personalData('John','john@mail.com'),sensitiveData('John','transactional_data'),\n",
        "                    startDate(1638970860),endDate(1670506860))."
      ]
    },
    {
      "cell_type": "code",
      "execution_count": null,
      "id": "f48d2bbf",
      "metadata": {
        "id": "f48d2bbf",
        "outputId": "4513057d-fd08-4d11-8288-08a7016b113f"
      },
      "outputs": [
        {
          "name": "stdout",
          "output_type": "stream",
          "text": [
            "true.\n",
            "false.\n",
            "false.\n",
            "true."
          ]
        }
      ],
      "source": [
        "% These commands:\n",
        "%   (i) verifies if the Data Controller is storing the Data Subject's data;\n",
        "%  (ii) verifies if there is any evidence that the Data Subject allowed the Data Controller to process his/her data;\n",
        "% (iii) if all previous verifications are true, insert in the log that the Data Controller is not allowed \n",
        "%       to collect the Data Subject's data.\n",
        "\n",
        "%(i)\n",
        "?- dcIsStoringDSData(id(null),dataController('Institution ABC'),dataSubject('John'),\n",
        "                    personalData('John','john@mail.com'),sensitiveData('John','transactional_data'),\n",
        "                    startDate(1638970860),endDate(1670506860)).\n",
        "\n",
        "%(ii)\n",
        "?- dsAgreeWithConsentTerms(dataSubject('Institution ABC'),dataController('John'),startDate(1638970860),endDate(1670506860)).\n",
        "   \n",
        "%(ii)\n",
        "?- consentTermStatus(id(10),dataController('Bank B'),dataSubject('John'),status('Valid')).\n",
        "\n",
        "%(iii)\n",
        "?- assertz(log('Data Subject did not agree with Institution ABC consent term, so the data was improperly collected, \n",
        "    fines should be applied','Explanation','Violation',1638970861))."
      ]
    },
    {
      "cell_type": "markdown",
      "id": "c4f55ab5",
      "metadata": {
        "id": "c4f55ab5"
      },
      "source": [
        "Therefore, the event log will show that there is not consent agreement between John and InstitutionABC. \n",
        "\n",
        "Hence, Institution ABC is **prohibited** to use such data, i.e., the data was improperly collected. \n",
        "Moreover, as Bank A and Bank B are the only Data Controller storing John's data, probably Bank A or Bank B **violated**, on purpose or not, the consent term and the data were leaked from Bank A or Bank B to Institution ABC.\n",
        "\n",
        "Moreover, this scenario presents the same possible impacts depicted in Figure 9 of the previous plot."
      ]
    },
    {
      "cell_type": "code",
      "execution_count": null,
      "id": "59302011",
      "metadata": {
        "id": "59302011",
        "outputId": "42af7d6f-0647-4e37-e9e8-3ba7a717f1d7"
      },
      "outputs": [
        {
          "name": "stdout",
          "output_type": "stream",
          "text": [
            "Event = Data Subject can ask if the Data Controller is processing his/her data, Type = Explanation, DeonticOperator = Permission, Date = 1638970860 ;\n",
            "Event = Data Subject verified the consent term and it was ok, Type = Explanation, DeonticOperator = Obligation, Date = 1638970860 ;\n",
            "Event = Data Subject agrees with consent term, Type = Communication, DeonticOperator = Compliance, Date = 1638970860 ;\n",
            "Event = Data Controller can collect the Data Subject information, Type = Explanation, DeonticOperator = Permission, Date = 1638970860 ;\n",
            "Event = Data Controller can store the Data Subject information, Type = Explanation, DeonticOperator = Permission, Date = 1638970860 ;\n",
            "Event = Data Controller can process the Data Subject information, Type = Explanation, DeonticOperator = Permission, Date = 1638970860 ;\n",
            "Event = Data Subject can now have all foressen rights, Type = Explanation, DeonticOperator = Permission, Date = 1638970860 ;\n",
            "Event = Data Subject considered he does not want to receive more offers from Bank B, Type = Communication, DeonticOperator = Permission, Date = 1638970861 ;\n",
            "Event = Data Subject requested to the Data Controller to revoke his/her consent, Type = Communication, DeonticOperator = Permission, Date = 1638970861 ;\n",
            "Event = From now, the Data Controller cannot collect the Data Subject information, Type = Communication, DeonticOperator = Prohibition, Date = 1638970861 ;\n",
            "Event = From now, the Data Controller cannot process the Data Subject information, Type = Communication, DeonticOperator = Prohibition, Date = 1638970861 ;\n",
            "Event = From now, consent is not valid to be used by the data controller, Type = Explanation, DeonticOperator = Prohibition, Date = 1638970861 ;\n",
            "Event = Data Subject did not agree with Institution ABC consent term, so the data was improperly collected, fines should be applied, Type = Explanation, DeonticOperator = Violation, Date = 1638970861 ."
          ]
        }
      ],
      "source": [
        "?- log(Event,Type,DeonticOperator,Date) {-1}."
      ]
    },
    {
      "cell_type": "code",
      "execution_count": null,
      "id": "ff397b10",
      "metadata": {
        "id": "ff397b10",
        "outputId": "f6ce529e-8c4a-443a-85d9-6981cf1fb0b1"
      },
      "outputs": [
        {
          "name": "stdout",
          "output_type": "stream",
          "text": [
            "true."
          ]
        }
      ],
      "source": [
        "% Resetting scenario\n",
        "?- retract(log('Data Subject did not agree with Institution ABC consent term, so the data was improperly collected, \n",
        "    fines should be applied','Explanation','Violation',1638970861)),\n",
        "    \n",
        "    retract(dcIsStoringDSData(id(null),dataController('Institution ABC'),dataSubject('John'),\n",
        "                    personalData('John','john@mail.com'),sensitiveData('John','transactional_data'),\n",
        "                    startDate(1638970860),endDate(1670506860)))."
      ]
    },
    {
      "cell_type": "markdown",
      "id": "96f2c683",
      "metadata": {
        "id": "96f2c683"
      },
      "source": [
        "----\n",
        "#### Cause-effect: Requesting data correction"
      ]
    },
    {
      "cell_type": "markdown",
      "id": "356082fe",
      "metadata": {
        "id": "356082fe"
      },
      "source": [
        "Data correction is one of the Data Subject's right foreseen in LGPD in the moment that the consent term was accepted.\n",
        "Even if the Data Subject revoke his/her consent, the data will not be deleted; a express data deletion request is required.\n",
        "\n",
        "So, in order to check if the data corretion request was accomplished, the Data Subject should call another right - data access.\n",
        "\n",
        "The data controller is **obligated** to abide by the data subjects' requests as correction as data access.\n",
        "Also, the controller is **obligated** to inform all processors regarding the correction.\n",
        "\n",
        "\n",
        "<div>\n",
        "<img src=\"https://github.com/phalves/ConFIA/blob/main/img/Scenario2.3_Process.png?raw=1\" width=\"600\"/>\n",
        "</div>\n",
        "Fig.11 - Data Correction Process.\n",
        "\n",
        "First, the Data Subject should verify if the Data Controller is storing his/her data."
      ]
    },
    {
      "cell_type": "code",
      "execution_count": null,
      "id": "119ccf93",
      "metadata": {
        "id": "119ccf93",
        "outputId": "6d7eb61b-15b0-44bc-f8eb-edf308ff404c"
      },
      "outputs": [
        {
          "name": "stdout",
          "output_type": "stream",
          "text": [
            "ID = 10 ."
          ]
        }
      ],
      "source": [
        "?- dcIsStoringDSData(id(ID),dataController('Bank B'),dataSubject('John'),\n",
        "                    personalData('John','john@mail.com'),sensitiveData('John','transactional_data'),\n",
        "                    startDate(1638970860),endDate(1670506860))."
      ]
    },
    {
      "cell_type": "markdown",
      "id": "01e403cf",
      "metadata": {
        "id": "01e403cf"
      },
      "source": [
        "If true, the Data Subject should have the right to data access and data correction."
      ]
    },
    {
      "cell_type": "code",
      "execution_count": null,
      "id": "ba89c6ce",
      "metadata": {
        "id": "ba89c6ce",
        "outputId": "4b7a980b-17e4-4a52-88b9-7e86d7371726"
      },
      "outputs": [
        {
          "name": "stdout",
          "output_type": "stream",
          "text": [
            "true."
          ]
        }
      ],
      "source": [
        "?- dsRight(dataAccess,dataSubject('John'),dataController('Bank B')),\n",
        "    dsRight(dataCorrection,dataSubject('John'),dataController('Bank B'))."
      ]
    },
    {
      "cell_type": "markdown",
      "id": "18b3db3a",
      "metadata": {
        "id": "18b3db3a"
      },
      "source": [
        "Then, the Data Subject is able to request and verify if the data was changed."
      ]
    },
    {
      "cell_type": "code",
      "execution_count": null,
      "id": "209b62a5",
      "metadata": {
        "id": "209b62a5",
        "outputId": "e01a32f2-ddee-420e-bf9c-86e712f4502b"
      },
      "outputs": [
        {
          "name": "stdout",
          "output_type": "stream",
          "text": []
        }
      ],
      "source": [
        "log('Data Subject requested to change his e-mail criptojohn@mail.com','Communication','Permission',1638970866)."
      ]
    },
    {
      "cell_type": "markdown",
      "id": "c934599e",
      "metadata": {
        "id": "c934599e"
      },
      "source": [
        "And the Data Controller executed this correction."
      ]
    },
    {
      "cell_type": "code",
      "execution_count": null,
      "id": "634be98e",
      "metadata": {
        "scrolled": true,
        "id": "634be98e",
        "outputId": "7532b2db-6c49-4926-8c35-a8f6647fd373"
      },
      "outputs": [
        {
          "name": "stdout",
          "output_type": "stream",
          "text": [
            "true."
          ]
        }
      ],
      "source": [
        "% First, the Data Controller verifies if the Data Subject has the rights requiered to perform such action.\n",
        "% Then, remove the incorrect data and insert the new data.\n",
        "\n",
        "\n",
        "?-  dsRight(dataCorrection,dataSubject('John'),dataController('Bank B')),\n",
        "\n",
        "    retract(dcIsStoringDSData(id(10),dataController('Bank B'),dataSubject('John'),\n",
        "                    personalData('John','john@mail.com'),sensitiveData('John','transactional_data'),\n",
        "                    startDate(1638970860),endDate(1670506860))),\n",
        "\n",
        "    assertz(dcIsStoringDSData(id(10),dataController('Bank B'),dataSubject('John'),\n",
        "                    personalData('John','criptojohn@mail.com'),sensitiveData('John','transactional_data'),\n",
        "                    startDate(1638970860),endDate(1670506860))),\n",
        "    \n",
        "    assertz(log('Data Controller has to execute the Data Subject s requerst','Explanation','Obligation',1638970866)),\n",
        "        \n",
        "    assertz(log('Data Controller changed the data as requested by the Data Subject','Communication','Compliance',1638970867)),\n",
        "    \n",
        "    assertz(log('Data Controller notified all processors regarding the data corretion','Communication','Compliance',1638970867))."
      ]
    },
    {
      "cell_type": "markdown",
      "id": "5f66160a",
      "metadata": {
        "id": "5f66160a"
      },
      "source": [
        "Hence, as the data controler attended the data subject's request, it still in **compliance** with the LGPD. The Data Subject can verify if the data was fixed."
      ]
    },
    {
      "cell_type": "code",
      "execution_count": null,
      "id": "46ac038a",
      "metadata": {
        "id": "46ac038a",
        "outputId": "97eabb72-569e-4b81-8de9-d8a427ecd4c2"
      },
      "outputs": [
        {
          "name": "stdout",
          "output_type": "stream",
          "text": [
            "DataController = Bank B, Email = criptojohn@mail.com ."
          ]
        }
      ],
      "source": [
        "% If the Data Subject has the right to access his/her data, then he/she is able to verify if his/her data was fixed.\n",
        "\n",
        "?-  dsRight(dataAccess,dataSubject('John'),dataController('Bank B')),\n",
        "    dcIsStoringDSData(id(10),dataController(DataController),dataSubject('John'),\n",
        "                    personalData('John',Email),sensitiveData('John','transactional_data'),\n",
        "                    startDate(1638970860),endDate(1670506860)),\n",
        "    assertz(log('Data Subject confirmed that the data was fixed','Explanation','Permission',1638970868))."
      ]
    },
    {
      "cell_type": "code",
      "execution_count": null,
      "id": "80439aab",
      "metadata": {
        "id": "80439aab",
        "outputId": "9afd8645-5f73-495f-fe9c-914521c40b7e"
      },
      "outputs": [
        {
          "name": "stdout",
          "output_type": "stream",
          "text": [
            "Event = Data Subject requested to change his e-mail criptojohn@mail.com, Type = Communication, DeonticOperator = Permission, Date = 1638970866 ;\n",
            "Event = Data Controller has to execute the Data Subject s requerst, Type = Explanation, DeonticOperator = Obligation, Date = 1638970866 ;\n",
            "Event = Data Controller changed the data as requested by the Data Subject, Type = Communication, DeonticOperator = Compliance, Date = 1638970867 ;\n",
            "Event = Data Controller notified all processors regarding the data corretion, Type = Communication, DeonticOperator = Compliance, Date = 1638970867 ;\n",
            "Event = Data Subject confirmed that the data was fixed, Type = Explanation, DeonticOperator = Permission, Date = 1638970868 ."
          ]
        }
      ],
      "source": [
        "?- log(Event,Type,DeonticOperator,Date), Date >= 1638970866 {-1}."
      ]
    },
    {
      "cell_type": "markdown",
      "id": "3f8c30a5",
      "metadata": {
        "id": "3f8c30a5"
      },
      "source": [
        "Therefore, the data correction impacts many LGPD relationships as depicted in Figure 12."
      ]
    },
    {
      "cell_type": "markdown",
      "id": "c2d1e593",
      "metadata": {
        "id": "c2d1e593"
      },
      "source": [
        "![DataCorrectionImpact](./img/DataCorrectionImpact.png \"Data Correction Impact\")\n",
        "Fig.12 - Data Correction Impact."
      ]
    },
    {
      "cell_type": "markdown",
      "id": "c4acbc1b",
      "metadata": {
        "id": "c4acbc1b"
      },
      "source": [
        "The data correction impacts data processing and data storage, as the personal or sensitive data were changed. Therefore, Data Controllers and Processors should also verify if the copy requested by the Data Subject is the updated personal and sensitive data."
      ]
    },
    {
      "cell_type": "code",
      "execution_count": null,
      "id": "cb481a4d",
      "metadata": {
        "id": "cb481a4d",
        "outputId": "3cc6c7f6-caa2-403a-9eaa-0267be130e34"
      },
      "outputs": [
        {
          "name": "stdout",
          "output_type": "stream",
          "text": [
            "true."
          ]
        }
      ],
      "source": [
        "% Resetting scenario\n",
        "?-  retract(log('Data Subject requested to change his e-mail criptojohn@mail.com','Communication','Permission',1638970866)),\n",
        "    retract(log('Data Controller has to execute the Data Subject s requerst','Explanation','Obligation',1638970866)),\n",
        "    retract(log('Data Controller changed the data as requested by the Data Subject','Communication','Compliance',1638970867)),\n",
        "    retract(log('Data Subject confirmed that the data was fixed','Explanation','Permission',1638970868)),\n",
        "    retract(log('Data Controller notified all processors regarding the data corretion','Communication','Compliance',1638970867)),\n",
        "    retract(dcIsStoringDSData(id(10),dataController('Bank B'),dataSubject('John'),\n",
        "                    personalData('John','criptojohn@mail.com'),sensitiveData('John','transactional_data'),\n",
        "                    startDate(1638970860),endDate(1670506860))).\n",
        "    %assertz(dcIsStoringDSData(id(10),dataController(universityXYZ),dataSubject('John'),\n",
        "    %                personalData('John','john@mail.com'),sensitiveData('John','transcripts'),\n",
        "    %                startDate(1622035260),endDate(1637846460)))."
      ]
    },
    {
      "cell_type": "markdown",
      "id": "89f7c177",
      "metadata": {
        "id": "89f7c177"
      },
      "source": [
        "----\n",
        "#### Cause-effect: Requesting anonymization\n",
        "\n",
        "Let's picture that the Data Subject requested the data anonymization right. Once the data is anonymized, the Data Controller will not have the resources to give any details about such data, including correction. Hence, after this request, the data controller is **not obligated** to comply with requests that should involve reidentification actions.\n",
        "\n",
        "Also, the controller is **obligated** to inform all processors regarding the anonymization.\n",
        "\n",
        "Here, questions regarding the anonymization algorithms could emerge, but this is not the focus of this work.\n",
        "This work focus on the causes and consequences understanding of possible scenarios.\n",
        "\n",
        "TAG \\[Domain specificity]: \n",
        "In the open banking scenario, the data anonymization request may implies in stop receiving offers and products from Bank B."
      ]
    },
    {
      "cell_type": "code",
      "execution_count": null,
      "id": "06ba9e62",
      "metadata": {
        "id": "06ba9e62",
        "outputId": "0b2ee3bf-906c-46a5-ac06-8234a836811c"
      },
      "outputs": [
        {
          "name": "stdout",
          "output_type": "stream",
          "text": [
            "true."
          ]
        }
      ],
      "source": [
        "?- checkConsentTerm(id(11),dataController('Bank B'),\n",
        "                        dataSubject('John'),\n",
        "                        purpose('Bank B','offer_products_and_services'),\n",
        "                        'create_specific_offers',\n",
        "                        'data_analytics',\n",
        "                        31536000,\n",
        "                        'none',\n",
        "                        'e-mail',\n",
        "                        'lgpd@bankb.br',\n",
        "                        1639970860).                        "
      ]
    },
    {
      "cell_type": "code",
      "execution_count": null,
      "id": "ad770643",
      "metadata": {
        "id": "ad770643",
        "outputId": "ce408e04-f7a5-4e39-d800-1fcc1110a9ad"
      },
      "outputs": [
        {
          "name": "stdout",
          "output_type": "stream",
          "text": [
            "EndDate = 1671506860 ."
          ]
        }
      ],
      "source": [
        "?- setThatdsAgreeWithConsentTerms(id(11),\n",
        "                                dataSubject('John'),\n",
        "                                dataController('Bank B'),\n",
        "                                requestFormat('Direct','John','null'),\n",
        "                                personalData('John','john@mail.com'),\n",
        "                                sensitiveData('John','transactional_data'),\n",
        "                                startDate(1639970860),\n",
        "                                endDate(EndDate)), EndDate is 1639970860+31536000."
      ]
    },
    {
      "cell_type": "code",
      "execution_count": null,
      "id": "f833ad25",
      "metadata": {
        "id": "f833ad25",
        "outputId": "6d6c08fb-a129-415d-cd30-d764784ba792"
      },
      "outputs": [
        {
          "name": "stdout",
          "output_type": "stream",
          "text": [
            "true."
          ]
        }
      ],
      "source": [
        "?- setDSRights(dataSubject('John'),dataController('Bank B'),startDate(1639970860))."
      ]
    },
    {
      "cell_type": "markdown",
      "id": "d4e430b5",
      "metadata": {
        "id": "d4e430b5"
      },
      "source": [
        "Once the data is anonymized, the Data Controller will not have the resources to give any details about such data, including correction. Hence, if the Data Subject submits this request, he will not be able to participate in this discipline. The data controller is **not obligated** to comply with requests that should involve deidentification actions.\n",
        "\n",
        "Also, the controller is **obligated** to inform all processors regarding the anonymization.\n",
        "\n",
        "Here, questions regarding the anonymization algorithms could emerge, but this is not the focus of this work.\n",
        "This work focus on the causes and consequences understanding of possible scenarios.\n",
        "\n",
        "\n",
        "<div>\n",
        "<img src=\"https://github.com/phalves/ConFIA/blob/main/img/Scenario2.4_Process.png?raw=1\" width=\"600\"/>\n",
        "</div>\n",
        "Fig.13 - Data Anonymization Process.\n",
        "\n",
        "First, the Data Subject should show that the Data Controller has his data."
      ]
    },
    {
      "cell_type": "markdown",
      "id": "2065d606",
      "metadata": {
        "id": "2065d606"
      },
      "source": [
        "TAG \\[Domain specificity]: \n",
        "- As the anonymization right turns not possible for Bank B to execute its purpose, i.e., create and send specific products and services based on the Data Subject data, Bank B should ask if the Data Subject would like to revoke his consent. However, one of the very first steps in this scenario description is the consent revocation action; hence, the data subject already revoked his consent. "
      ]
    },
    {
      "cell_type": "code",
      "execution_count": null,
      "id": "386639b6",
      "metadata": {
        "id": "386639b6",
        "outputId": "0b0ae95a-3dab-4a21-ec15-e29025401282"
      },
      "outputs": [
        {
          "name": "stdout",
          "output_type": "stream",
          "text": [
            "true."
          ]
        }
      ],
      "source": [
        "?- dcIsStoringDSData(id(11),dataController('Bank B'),dataSubject('John'),\n",
        "                        personalData('John','john@mail.com'),sensitiveData('John','transactional_data'),\n",
        "                        startDate(1639970860),endDate(1671506860)),\n",
        "                    \n",
        "    assertz(log('Data Subject requested to anonymize his data','Communication','Permission',1639970862))."
      ]
    },
    {
      "cell_type": "markdown",
      "id": "8930e4c8",
      "metadata": {
        "id": "8930e4c8"
      },
      "source": [
        "Next, the Data Controller accomplish the Data Subject request."
      ]
    },
    {
      "cell_type": "code",
      "execution_count": null,
      "id": "d093fa07",
      "metadata": {
        "id": "d093fa07",
        "outputId": "95ff34f0-eaf0-461e-9220-a89e317e94ac"
      },
      "outputs": [
        {
          "name": "stdout",
          "output_type": "stream",
          "text": [
            " ;\n",
            " ."
          ]
        }
      ],
      "source": [
        "?- retract(dcIsStoringDSData(id(11),dataController('Bank B'),dataSubject('John'),\n",
        "                        personalData('John','john@mail.com'),sensitiveData('John','transactional_data'),\n",
        "                        startDate(1639970860),endDate(1671506860))),\n",
        "\n",
        "    assertz(dcIsStoringDSData(id(_),dataController('Bank B'),dataSubject(_),\n",
        "                    personalData(_,_),sensitiveData(_,'anonymized_transactional_data'),\n",
        "                    startDate(1639970860),endDate(1671506860))),\n",
        "\n",
        "    assertz(log('Data Controller has to execute the Data Subject s request','Delete-Anonymise','Compliance',1671506863)),\n",
        "    assertz(log('Data Controller has to notify all processors regarding the anonymization request','Delete-Anonymise','Compliance',1671506863)),\n",
        "    assertz(log('Data Controller anonymized the Data Subjects data','Delete-Anonymise','Compliance',1671506863)),\n",
        "    assertz(log('Data Controller notified the Data Subject that the purpose will not be executed anymore','Delete-Anonymise','Compliance',1671506863)),    \n",
        "    assertz(log('Data Subject cannot request data: access, copy, correction,anonymization, \n",
        "            portability, deletion, and details of data sharing','Communication','Prohibition',1671506863)),\n",
        "            \n",
        "    assertz(log('Data Subject does not accept to share his information anymore','Communication','Prohibition',1671506863)),\n",
        "    \n",
        "    retract(dsRight(dataAccess,dataSubject('John'),dataController('Bank B'))),\n",
        "    retract(dsRight(dataCopy,dataSubject('John'),dataController('Bank B'))),\n",
        "    retract(dsRight(dataCorrection,dataSubject('John'),dataController('Bank B'))),\n",
        "    retract(dsRight(dataAnonymization,dataSubject('John'),dataController('Bank B'))),\n",
        "    retract(dsRight(dataPortability,dataSubject('John'),dataController('Bank B'))),\n",
        "    retract(dsRight(dataDeletion,dataSubject('John'),dataController('Bank B'))),\n",
        "    retract(dsRight(dataSharingInformation,dataSubject('John'),dataController('Bank B')))."
      ]
    },
    {
      "cell_type": "markdown",
      "id": "e0855f52",
      "metadata": {
        "id": "e0855f52"
      },
      "source": [
        "Now, the Data Subject's sensitive data is not associated with any personal data that could identify that such data is from the Data Subject. Hence, the data controller is in **compliance** with LGPD."
      ]
    },
    {
      "cell_type": "code",
      "execution_count": null,
      "id": "2ff0d1fa",
      "metadata": {
        "id": "2ff0d1fa",
        "outputId": "8a325e03-a078-4587-95d3-0a3c316fb690"
      },
      "outputs": [
        {
          "name": "stdout",
          "output_type": "stream",
          "text": [
            "DataSubject = Variable(70) ."
          ]
        }
      ],
      "source": [
        "?- dcIsStoringDSData(id(_),dataController('Bank B'),dataSubject(DataSubject),\n",
        "                    personalData(_,_),sensitiveData(_,'anonymized_transactional_data'),\n",
        "                    startDate(1639970860),endDate(1671506860))."
      ]
    },
    {
      "cell_type": "code",
      "execution_count": null,
      "id": "db733936",
      "metadata": {
        "id": "db733936",
        "outputId": "bd205965-900e-499c-ba33-0ec2907f1b7c"
      },
      "outputs": [
        {
          "name": "stdout",
          "output_type": "stream",
          "text": [
            "Event = Data Subject requested to anonymize his data, Type = Communication, DeonticOperator = Permission, Date = 1639970862 ;\n",
            "Event = Data Controller has to execute the Data Subject s request, Type = Delete-Anonymise, DeonticOperator = Compliance, Date = 1671506863 ;\n",
            "Event = Data Controller has to notify all processors regarding the anonymization request, Type = Delete-Anonymise, DeonticOperator = Compliance, Date = 1671506863 ;\n",
            "Event = Data Controller anonymized the Data Subjects data, Type = Delete-Anonymise, DeonticOperator = Compliance, Date = 1671506863 ;\n",
            "Event = Data Controller notified the Data Subject that the purpose will not be executed anymore, Type = Delete-Anonymise, DeonticOperator = Compliance, Date = 1671506863 ;\n",
            "Event = Data Subject cannot request data: access, copy, correction,anonymization, portability, deletion, and details of data sharing, Type = Communication, DeonticOperator = Prohibition, Date = 1671506863 ;\n",
            "Event = Data Subject does not accept to share his information anymore, Type = Communication, DeonticOperator = Prohibition, Date = 1671506863 ."
          ]
        }
      ],
      "source": [
        "?- log(Event,Type,DeonticOperator,Date), Date >= 1639970862 {-1}."
      ]
    },
    {
      "cell_type": "markdown",
      "id": "77bed8b8",
      "metadata": {
        "id": "77bed8b8"
      },
      "source": [
        "Furthermore, the remaining rights are: the right to ask if a Data Controller is processing his/her data, and the right to request consent revocation ."
      ]
    },
    {
      "cell_type": "code",
      "execution_count": null,
      "id": "46123744",
      "metadata": {
        "id": "46123744",
        "outputId": "7d9f95db-2a2a-48ee-d2a5-c2fc7a2f1fc3"
      },
      "outputs": [
        {
          "name": "stdout",
          "output_type": "stream",
          "text": [
            "RIGHT = processingConfirmation ;\n",
            "RIGHT = requestConsentRevocation ."
          ]
        }
      ],
      "source": [
        "?- dsRight(RIGHT,dataSubject('John'),dataController('Bank B'))."
      ]
    },
    {
      "cell_type": "markdown",
      "id": "876ea09a",
      "metadata": {
        "id": "876ea09a"
      },
      "source": [
        "Therefore, the data anonymization impacts many LGPD relationships, as depicted in Figure 14."
      ]
    },
    {
      "cell_type": "markdown",
      "id": "a68e562c",
      "metadata": {
        "id": "a68e562c"
      },
      "source": [
        "![DataAnonymizationImpact](./img/DataAnonymizationImpact.png \"Data Anonymization Impact\")\n",
        "Fig.14-  Data anonymization Impact."
      ]
    },
    {
      "cell_type": "markdown",
      "id": "d50d1085",
      "metadata": {
        "id": "d50d1085"
      },
      "source": [
        "Data anonymization impacts almost all Data Subjects Rights. The anonymization process may turn the personal data not identifiable anymore. Hence, the anonymized data is out of LGPD's scope. In this sense, requests related to data access, deletion, correction, portability, or copy, may not be answered by the Data Controller, as the Controller might not identify the Data Subject anymore."
      ]
    },
    {
      "cell_type": "markdown",
      "id": "db6a7545",
      "metadata": {
        "id": "db6a7545"
      },
      "source": [
        "Last but not least, there are other scenarios that could be explored as well.\n",
        "\n",
        "TAG \\[Domain specificity]: \n",
        " -  For instance, if the data subject requested anonymization and not did not request consent revocation, the new data will not be anonymized."
      ]
    },
    {
      "cell_type": "code",
      "execution_count": null,
      "id": "ed8d00f4",
      "metadata": {
        "id": "ed8d00f4",
        "outputId": "2872645a-1c78-417c-bdf1-baaafa69d3e9"
      },
      "outputs": [
        {
          "name": "stdout",
          "output_type": "stream",
          "text": [
            "true."
          ]
        }
      ],
      "source": [
        "% Resetting scenario\n",
        "?-  assertz(dcIsStoringDSData(id(11),dataController('Bank B'),dataSubject('John'),\n",
        "                        personalData('John','john@mail.com'),sensitiveData('John','transactional_data'),\n",
        "                        startDate(1639970860),endDate(1671506860))),\n",
        "    retract(dcIsStoringDSData(id(_),dataController('Bank B'),dataSubject(_),\n",
        "                    personalData(_,_),sensitiveData(_,'anonymized_transactional_data'),\n",
        "                    startDate(1639970860),endDate(1671506860))),\n",
        "    retract(log('Data Subject requested to anonymize his data','Communication','Permission',1639970862)),\n",
        "    retract(log('Data Controller has to execute the Data Subject s request','Delete-Anonymise','Compliance',1671506863)),\n",
        "    retract(log('Data Controller has to notify all processors regarding the anonymization request','Delete-Anonymise','Compliance',1671506863)),\n",
        "    retract(log('Data Controller anonymized the Data Subjects data','Delete-Anonymise','Compliance',1671506863)),\n",
        "    retract(log('Data Controller notified the Data Subject that the purpose will not be executed anymore','Delete-Anonymise','Compliance',1671506863)),\n",
        "    retract(log('Data Subject cannot request data: access, copy, correction,anonymization, \n",
        "            portability, deletion, and details of data sharing','Communication','Prohibition',1671506863)),\n",
        "    retract(log('Data Subject does not accept to share his information anymore','Communication','Prohibition',1671506863)),\n",
        "    assertz(dsRight(dataAccess,dataSubject('John'),dataController('Bank B'))),\n",
        "    assertz(dsRight(dataCopy,dataSubject('John'),dataController('Bank B'))),\n",
        "    assertz(dsRight(dataCorrection,dataSubject('John'),dataController('Bank B'))),\n",
        "    assertz(dsRight(dataAnonymization,dataSubject('John'),dataController('Bank B'))),\n",
        "    assertz(dsRight(dataPortability,dataSubject('John'),dataController('Bank B'))),\n",
        "    assertz(dsRight(dataDeletion,dataSubject('John'),dataController('Bank B'))),\n",
        "    assertz(dsRight(dataSharingInformation,dataSubject('John'),dataController('Bank B'))),\n",
        "    retract(consentTermStatus(id(11),dataController('Bank B'),dataSubject('John'),status('Valid'))),\n",
        "    assertz(consentTermStatus(id(11),dataController('Bank B'),dataSubject('John'),status('Invalid')))."
      ]
    },
    {
      "cell_type": "markdown",
      "id": "ecba5029",
      "metadata": {
        "id": "ecba5029"
      },
      "source": [
        "----\n",
        "#### Cause-effect: Data deletion"
      ]
    },
    {
      "cell_type": "markdown",
      "id": "8f31665e",
      "metadata": {
        "id": "8f31665e"
      },
      "source": [
        "As mentioned before, there is more than one definition for data deletion. In the case aforementioned, we anonymized the data, which can be considered as data deletion. Now, let's picture that the Data Subject John wants to destroy his data from the Bank's B database. \n",
        "\n",
        "This means that John will not be able to subscribe in any class from Bank B.\n",
        "\n",
        "Moreover, the following purposes, also described in LGPD art. 16, legitimizes, i.e., **allow** the Data Controller to keep the personal data stored in the database:\n",
        " - I - compliance with a legal or regulatory obligation by the controller;\n",
        " - II - study by a research institution, ensuring, whenever possible, the anonymization of personal data;\n",
        " - III - transfer to a third party, provided that the data processing requirements set out in this Law is respected; or\n",
        " - IV - exclusive use of the controller, its access by a third party is prohibited, and anonymization is required as well.\n"
      ]
    },
    {
      "cell_type": "markdown",
      "id": "e59e67fd",
      "metadata": {
        "id": "e59e67fd"
      },
      "source": [
        "<div>\n",
        "<img src=\"https://github.com/phalves/ConFIA/blob/main/img/Scenario2_DataDeletion.png?raw=1\" width=\"600\"/>\n",
        "</div>\n",
        "Fig.15 - Data Deletion Process."
      ]
    },
    {
      "cell_type": "markdown",
      "id": "03fff1f7",
      "metadata": {
        "id": "03fff1f7"
      },
      "source": [
        "As the Bank B purpose is not based on any aforementioned situations; hence, Bank B must accept the Data Subject request."
      ]
    },
    {
      "cell_type": "code",
      "execution_count": null,
      "id": "a775aa85",
      "metadata": {
        "id": "a775aa85",
        "outputId": "167feb96-021e-4ab6-a193-a0ae2abe97cb"
      },
      "outputs": [
        {
          "name": "stdout",
          "output_type": "stream",
          "text": [
            "Purpose = offer_products_and_services ."
          ]
        }
      ],
      "source": [
        "?- purpose('Bank B','John',Purpose)."
      ]
    },
    {
      "cell_type": "markdown",
      "id": "515afe66",
      "metadata": {
        "id": "515afe66"
      },
      "source": [
        "In order to specify the rule that defines if the Data Controller has the right to keep the Data Subject's data, we developed the following function."
      ]
    },
    {
      "cell_type": "code",
      "execution_count": null,
      "id": "4d8de40d",
      "metadata": {
        "id": "4d8de40d",
        "outputId": "3db6066f-c65e-4709-c689-8153cdb6218d"
      },
      "outputs": [
        {
          "name": "stdout",
          "output_type": "stream",
          "text": []
        }
      ],
      "source": [
        "% Description: This function verifies if the Data Controller purpose is elegible to hold the Data Subject's data.\n",
        "% This function receives the params:\n",
        "%  i. Data Subject\n",
        "% ii. Data Controller\n",
        "\n",
        "verifyIfDCCanHoldDSData(dataController(DC),dataSubject(DS)) :-\n",
        "    purpose(DC,DS,legalObligation), assertz(dcCanHoldData(dataController(DC),dataSubject(DS)));\n",
        "    purpose(DC,DS,research), assertz(dcCanHoldData(dataController(DC),dataSubject(DS)));\n",
        "    purpose(DC,DS,transferToThirdParty), assertz(dcCanHoldData(dataController(DC),dataSubject(DS)));\n",
        "    purpose(DC,DS,exclusiveDCUse), assertz(dcCanHoldData(dataController(DC),dataSubject(DS)));\n",
        "    assertz(dcCanHoldData('',''))."
      ]
    },
    {
      "cell_type": "markdown",
      "id": "ee6de86b",
      "metadata": {
        "id": "ee6de86b"
      },
      "source": [
        "So, let's run the above function to verify if a new fact is generated informing that the Data Controller can hold de Data Subject's data."
      ]
    },
    {
      "cell_type": "code",
      "execution_count": null,
      "id": "7154aa75",
      "metadata": {
        "id": "7154aa75",
        "outputId": "466b31e6-5206-4919-b946-37366a2ed38d"
      },
      "outputs": [
        {
          "name": "stdout",
          "output_type": "stream",
          "text": [
            "true."
          ]
        }
      ],
      "source": [
        "?- verifyIfDCCanHoldDSData(dataController('Bank B'),dataSubject('John')). "
      ]
    },
    {
      "cell_type": "markdown",
      "id": "3fabdba6",
      "metadata": {
        "id": "3fabdba6"
      },
      "source": [
        "Then, let's verify if such a fact was generated."
      ]
    },
    {
      "cell_type": "code",
      "execution_count": null,
      "id": "0dcb3074",
      "metadata": {
        "vscode": {
          "languageId": "json"
        },
        "id": "0dcb3074",
        "outputId": "311352d1-441d-4617-b3e4-3d43c401d413"
      },
      "outputs": [
        {
          "name": "stdout",
          "output_type": "stream",
          "text": [
            "false."
          ]
        }
      ],
      "source": [
        "?- dcCanHoldData(dataController('Bank B'),dataSubject('John'))."
      ]
    },
    {
      "cell_type": "markdown",
      "id": "251f1922",
      "metadata": {
        "id": "251f1922"
      },
      "source": [
        "The result is 'false' because the purpose is different from the purposes listed by LGPD that allows the Data Controller keeps the data.\n",
        "In this sense, let's simulate the request for data deletion from the Data Subject John to the Data Controller Bank B."
      ]
    },
    {
      "cell_type": "code",
      "execution_count": null,
      "id": "10ac9091",
      "metadata": {
        "vscode": {
          "languageId": "json"
        },
        "id": "10ac9091",
        "outputId": "c3bdf4e5-3db2-498c-978c-78543dc3108b"
      },
      "outputs": [
        {
          "name": "stdout",
          "output_type": "stream",
          "text": []
        }
      ],
      "source": [
        "log('Data Subject requested to delete his data','Communication','Permission',1639970864)."
      ]
    },
    {
      "cell_type": "code",
      "execution_count": null,
      "id": "61c9e45a",
      "metadata": {
        "vscode": {
          "languageId": "json"
        },
        "id": "61c9e45a",
        "outputId": "b61cd705-5733-4821-972e-55458f142e0c"
      },
      "outputs": [
        {
          "name": "stdout",
          "output_type": "stream",
          "text": []
        }
      ],
      "source": [
        "log('Data Controller received the data deletion request and will evaluate the solicitation','Communication','Compliance',1639970865)."
      ]
    },
    {
      "cell_type": "markdown",
      "id": "65b4e1c8",
      "metadata": {
        "id": "65b4e1c8"
      },
      "source": [
        "The code below will check if the Data Controler can hold the Data Subject information. If yes, two new log activities will be recorded. On the other hand, the code will return false if the Data Controller cannot hold the information, and the two log activities will not be recorded."
      ]
    },
    {
      "cell_type": "code",
      "execution_count": null,
      "id": "541e5c4c",
      "metadata": {
        "vscode": {
          "languageId": "json"
        },
        "id": "541e5c4c",
        "outputId": "68b48322-527c-4829-bc95-a405a0b4b769"
      },
      "outputs": [
        {
          "name": "stdout",
          "output_type": "stream",
          "text": [
            "false."
          ]
        }
      ],
      "source": [
        "?- dcCanHoldData(dataController('Bank B'),dataSubject('John')),\n",
        "    \n",
        "    assertz(log('Data Controller can hold the data because its purpose allows it.','Explanation','Permission',1639970866)),\n",
        "\n",
        "    assertz(log('Data Controller decided to keep the data on the database.','Communication','Compliance',1639970867))."
      ]
    },
    {
      "cell_type": "code",
      "execution_count": null,
      "id": "5e3d3108",
      "metadata": {
        "vscode": {
          "languageId": "json"
        },
        "id": "5e3d3108",
        "outputId": "32fa3bcb-6193-483b-8963-a19ddfc10266"
      },
      "outputs": [
        {
          "name": "stdout",
          "output_type": "stream",
          "text": []
        }
      ],
      "source": [
        "% Description: This function deletes the Data Subject's data if the Data Controller is allowed to do that.\n",
        "% This function receives the params:\n",
        "%    i. Data Subject\n",
        "%   ii. Data Controller\n",
        "%  iii. Date Time\n",
        "\n",
        "requestToDeleteDSData(dataSubject(DS),dataController(DC),date(DT)) :- \n",
        " not(dcCanHoldData(dataController(DC),dataSubject(DS))),\n",
        " assertz(log('Data Controller has to delete the data','Communication','Obligation',DT))."
      ]
    },
    {
      "cell_type": "code",
      "execution_count": null,
      "id": "979bb139",
      "metadata": {
        "vscode": {
          "languageId": "json"
        },
        "id": "979bb139",
        "outputId": "962d5986-0627-4128-fbd5-717423a3b627"
      },
      "outputs": [
        {
          "name": "stdout",
          "output_type": "stream",
          "text": [
            "true."
          ]
        }
      ],
      "source": [
        "?- requestToDeleteDSData(dataSubject('John'),dataController('Bank B'),date(1639970868))."
      ]
    },
    {
      "cell_type": "markdown",
      "id": "8b35e918",
      "metadata": {
        "id": "8b35e918"
      },
      "source": [
        "Why 1: This method returned true because the Data Controller **cannot keep** the Data Subject's data, as presented bellow."
      ]
    },
    {
      "cell_type": "code",
      "execution_count": null,
      "id": "73d3c01b",
      "metadata": {
        "vscode": {
          "languageId": "json"
        },
        "id": "73d3c01b",
        "outputId": "8182792f-2ac0-4185-ebb6-586800c8a579"
      },
      "outputs": [
        {
          "name": "stdout",
          "output_type": "stream",
          "text": [
            "false."
          ]
        }
      ],
      "source": [
        "?-  dcCanHoldData(dataController('Bank B'),dataSubject('John'))."
      ]
    },
    {
      "cell_type": "markdown",
      "id": "fbbdd1e7",
      "metadata": {
        "id": "fbbdd1e7"
      },
      "source": [
        "Why 2: The Data Controller cannot keep personal data because it will be not used for any aforementioned situations."
      ]
    },
    {
      "cell_type": "code",
      "execution_count": null,
      "id": "f9c57d00",
      "metadata": {
        "vscode": {
          "languageId": "json"
        },
        "id": "f9c57d00",
        "outputId": "8e0371b1-f8eb-4081-8d2d-d919417efdd7"
      },
      "outputs": [
        {
          "name": "stdout",
          "output_type": "stream",
          "text": [
            "DC = Bank B, Purpose = offer_products_and_services ."
          ]
        }
      ],
      "source": [
        "?- purpose(DC,'John',Purpose)."
      ]
    },
    {
      "cell_type": "markdown",
      "id": "cae27e3b",
      "metadata": {
        "id": "cae27e3b"
      },
      "source": [
        "It means that the purpose presented by the Data Controller is **not valid** to permit that Bank B holds the Data Subject's data."
      ]
    },
    {
      "cell_type": "code",
      "execution_count": null,
      "id": "fbdf9f95",
      "metadata": {
        "vscode": {
          "languageId": "json"
        },
        "id": "fbdf9f95",
        "outputId": "eabd52b2-04b5-4680-8f48-a71ecd0c9236"
      },
      "outputs": [
        {
          "name": "stdout",
          "output_type": "stream",
          "text": [
            "Event = Data Subject requested to delete his data, Type = Communication, DeonticOperator = Permission, Date = 1639970864 ;\n",
            "Event = Data Controller received the data deletion request and will evaluate the solicitation, Type = Communication, DeonticOperator = Compliance, Date = 1639970865 ;\n",
            "Event = Data Controller has to delete the data, Type = Communication, DeonticOperator = Obligation, Date = 1639970868 ."
          ]
        }
      ],
      "source": [
        "?- log(Event,Type,DeonticOperator,Date), Date >= 1639970864 {-1}."
      ]
    },
    {
      "cell_type": "markdown",
      "id": "1c0d4fe1",
      "metadata": {
        "id": "1c0d4fe1"
      },
      "source": [
        "Therefore, as depicted in Figure 16, the request for data deletion may impacts differently depending on the purpose limitation. For example, the data storage may have to anonymize the data. Moreover, if the data was deleted or anonymized, the Data Controller cannot achieve requests related to data correction, portability, and copy anymore."
      ]
    },
    {
      "cell_type": "markdown",
      "id": "3ac906a8",
      "metadata": {
        "id": "3ac906a8"
      },
      "source": [
        "![DataDeletionImpact](./img/DataDeletionImpact.png \"Data Deletion Impact\")\n",
        "Fig.16 - Data Deletion Impact."
      ]
    },
    {
      "cell_type": "code",
      "execution_count": null,
      "id": "572c79a3",
      "metadata": {
        "vscode": {
          "languageId": "json"
        },
        "id": "572c79a3",
        "outputId": "f643d7ec-d069-433d-f8e7-aafeea8502d7"
      },
      "outputs": [
        {
          "name": "stdout",
          "output_type": "stream",
          "text": [
            "true."
          ]
        }
      ],
      "source": [
        "% Resetting scenario\n",
        "?-  retract(log('Data Subject requested to delete his data','Communication','Permission',1639970864)),\n",
        "    retract(log('Data Controller received the data deletion request and will evaluate the solicitation',\n",
        "        'Communication','Compliance',1639970865)),\n",
        "    retract(log('Data Controller has to delete the data','Communication','Obligation',1639970868))."
      ]
    },
    {
      "cell_type": "markdown",
      "id": "74d8864d",
      "metadata": {
        "id": "74d8864d"
      },
      "source": [
        "----\n",
        "#### Cause-effect: Technology unavailability\n",
        "\n",
        "Companies are vulnerable to technical fault, unavailability, or security breach. In this sense, Data Subjects might be impacted by technology throubles. In some cases, the technology unavailability may not impact Data Subjects, but only internal companies' processes.\n",
        "\n",
        "In this scenario, we will simulate an event of technology unavailability, i.e., let's suppose that Bank B's cloud server, which has personal data storage, is offline. Internally, Bank B suffered a high impact of this unavailability; all systems that depend on this database are offline, i.e., the internal data governance is jeopardized/ compromised. Hence, employees and clients cannot access any internal system.\n",
        "\n",
        "Figure 17 depicts the impact of system unavailability."
      ]
    },
    {
      "cell_type": "markdown",
      "id": "810db33c",
      "metadata": {
        "id": "810db33c"
      },
      "source": [
        "![DataUnavailabilityImpact](./img/DataUnavailabilityImpact.png \"Data Unavilability Impact\")\n",
        "Fig.17 - Data Unavailability Impact."
      ]
    },
    {
      "cell_type": "markdown",
      "id": "f6cfdc44",
      "metadata": {
        "id": "f6cfdc44"
      },
      "source": [
        "Besides the governance, data unavailability may impacts directly the users' rights. For example, the Data Controller and Processor cannot delete or execute data corrections if the system is unavailable. Moreover, if a Data Controller requests for portability, anonymization, or portability, the Data Controller will not be able to attend to such requests as fast as expected; a considerable delay is expected, instead. Furthermore, fines can be applied depending on the delay, but they should be evaluated case-by-case.\n",
        "\n",
        "Last but not least, in this scenario, depending on the moment of this data unavailability, the impact might be more, or less, severe. For instance, if a client wants to subscribe to a service that will improve the client's profit, he/she will probably be affected if the operation does not finalize. As a result, the client could lose the yield of such a day.\n",
        "\n",
        "Conversely, if the unavailability occurs on the weekend, the clients may not be impacted."
      ]
    },
    {
      "cell_type": "markdown",
      "id": "584bfd7a",
      "metadata": {
        "id": "584bfd7a"
      },
      "source": [
        "----\n",
        "#### Cause-effect: Inconsistent behavior\n",
        "\n",
        "Forecast human behavior can be a big challenge; the strange behaviors can be originated from different aspects, such as by a bad interface, system instability or error, or by a malicious person. In this sense, let's picture a person who agrees and revokes consent repeatedly in short time-space.\n",
        "\n",
        "TAG \\[Domain specificity]: In the open banking scenario, this behavior might indicate that the client is confused regarding the process of sharing his/her information, or the client is trying to manipulate the data to get benefits."
      ]
    },
    {
      "cell_type": "code",
      "execution_count": null,
      "id": "a0c27ef9",
      "metadata": {
        "id": "a0c27ef9",
        "outputId": "63525a07-5b30-456e-958e-78ed49fb7dc0"
      },
      "outputs": [
        {
          "name": "stdout",
          "output_type": "stream",
          "text": [
            "EndDate = 1671506870 ;\n",
            "EndDate = 1671506870 ;\n",
            "EndDate = 1671506870 ;\n",
            "EndDate = 1671506870 ;\n",
            "EndDate = 1671506870 ;\n",
            "EndDate = 1671506870 ;\n",
            "EndDate = 1671506870 ;\n",
            "EndDate = 1671506870 ;\n",
            "EndDate = 1671506870 ;\n",
            "EndDate = 1671506870 ."
          ]
        }
      ],
      "source": [
        "?- createConsentTerm(12,'Bank B','John','john@mail.com','personal_and_transactional','offer_products_and_services',\n",
        "                'create_specific_offers',\n",
        "                'data_analytics',\n",
        "                31536000,\n",
        "                'none',\n",
        "                'e-mail',\n",
        "                'lgpd@bankb.br',\n",
        "                'SHA256',\n",
        "                'Authorized employees can access the data only',\n",
        "                'Bank B private cloud'),\n",
        "                \n",
        "    assertz(dsRight(processingConfirmation,dataSubject('John'),dataController('Bank B'))),\n",
        "    assertz(log('Data Subject can ask if the Data Controller is processing his/her data','Explanation','Permission',1639970870)),\n",
        "\n",
        "    checkConsentTerm(id(12),dataController('Bank B'),\n",
        "                        dataSubject('John'),\n",
        "                        purpose('Bank B','offer_products_and_services'),\n",
        "                        'create_specific_offers',\n",
        "                        'data_analytics',\n",
        "                        31536000,\n",
        "                        'none',\n",
        "                        'e-mail',\n",
        "                        'lgpd@bankb.br',\n",
        "                        1638970860),    \n",
        "                        \n",
        "    setThatdsAgreeWithConsentTerms(id(12),\n",
        "                                dataSubject('John'),\n",
        "                                dataController('Bank B'),\n",
        "                                requestFormat('Direct','John','null'),\n",
        "                                personalData('John','john@mail.com'),\n",
        "                                sensitiveData('John','transactional_data'),\n",
        "                                startDate(1639970870),\n",
        "                                endDate(EndDate)), EndDate is 1639970870+31536000.\n",
        "                        \n",
        "    setDSRights(dataSubject('John'),dataController('Bank B'),startDate(1639970870))."
      ]
    },
    {
      "cell_type": "code",
      "execution_count": null,
      "id": "bf688cfa",
      "metadata": {
        "id": "bf688cfa",
        "outputId": "fc284b4e-609a-4eea-d9db-4de9144b312f"
      },
      "outputs": [
        {
          "name": "stdout",
          "output_type": "stream",
          "text": [
            "EndDate = 1671506870 ;\n",
            "EndDate = 1671506870 ;\n",
            "EndDate = 1671506870 ;\n",
            "EndDate = 1671506870 ."
          ]
        }
      ],
      "source": [
        "?- setDSRevokeConsent(id(12),\n",
        "                        dataSubject('John'),\n",
        "                        dataController('Bank B'),\n",
        "                        personalData('John','john@mail.com'),\n",
        "                        sensitiveData('John','transactional_data'),\n",
        "                        now(1639970872),\n",
        "                        startDate(1639970870),\n",
        "                        endDate(EndDate)\n",
        "                        ), \n",
        "                        EndDate is 1639970870+31536000."
      ]
    },
    {
      "cell_type": "code",
      "execution_count": null,
      "id": "cd221fed",
      "metadata": {
        "id": "cd221fed",
        "outputId": "a94425cc-d7f8-47b5-834f-13d6a1638c54"
      },
      "outputs": [
        {
          "name": "stdout",
          "output_type": "stream",
          "text": [
            "true."
          ]
        }
      ],
      "source": [
        "?- createConsentTerm(13,'Bank B','John','john@mail.com','personal_and_transactional','offer_products_and_services',\n",
        "                'create_specific_offers',\n",
        "                'data_analytics',\n",
        "                31536000,\n",
        "                'none',\n",
        "                'e-mail',\n",
        "                'lgpd@bankb.br',\n",
        "                'SHA256',\n",
        "                'Authorized employees can access the data only',\n",
        "                'Bank B private cloud')."
      ]
    },
    {
      "cell_type": "code",
      "execution_count": null,
      "id": "235df14e",
      "metadata": {
        "id": "235df14e",
        "outputId": "3f0af330-4692-4c24-8a71-475144717bab"
      },
      "outputs": [
        {
          "name": "stdout",
          "output_type": "stream",
          "text": [
            "true."
          ]
        }
      ],
      "source": [
        "?- assertz(dsRight(processingConfirmation,dataSubject('John'),dataController('Bank B'))),\n",
        "    assertz(log('Data Subject can ask if the Data Controller is processing his/her data','Explanation','Permission',1639970872))."
      ]
    },
    {
      "cell_type": "code",
      "execution_count": null,
      "id": "e9a23fbc",
      "metadata": {
        "id": "e9a23fbc",
        "outputId": "4e0c499b-b42e-4398-cf04-4e56f71fdc98"
      },
      "outputs": [
        {
          "name": "stdout",
          "output_type": "stream",
          "text": [
            " ;\n",
            " ;\n",
            " ;\n",
            " ;\n",
            " ;\n",
            " ;\n",
            " ;\n",
            " ;\n",
            " ;\n",
            " ."
          ]
        }
      ],
      "source": [
        "?- checkConsentTerm(id(13),dataController('Bank B'),\n",
        "                        dataSubject('John'),\n",
        "                        purpose('Bank B','offer_products_and_services'),\n",
        "                        'create_specific_offers',\n",
        "                        'data_analytics',\n",
        "                        31536000,\n",
        "                        'none',\n",
        "                        'e-mail',\n",
        "                        'lgpd@bankb.br',\n",
        "                        1639970872).    "
      ]
    },
    {
      "cell_type": "code",
      "execution_count": null,
      "id": "bab4b971",
      "metadata": {
        "id": "bab4b971",
        "outputId": "f0860d94-2837-4c53-9c9b-87c69c290555"
      },
      "outputs": [
        {
          "name": "stdout",
          "output_type": "stream",
          "text": [
            "EndDate = 1671506870 ;\n",
            "EndDate = 1671506870 ;\n",
            "EndDate = 1671506870 ;\n",
            "EndDate = 1671506870 ;\n",
            "EndDate = 1671506870 ;\n",
            "EndDate = 1671506870 ;\n",
            "EndDate = 1671506870 ;\n",
            "EndDate = 1671506870 ;\n",
            "EndDate = 1671506870 ;\n",
            "EndDate = 1671506870 ."
          ]
        }
      ],
      "source": [
        "?- setThatdsAgreeWithConsentTerms(id(13),\n",
        "                                dataSubject('John'),\n",
        "                                dataController('Bank B'),\n",
        "                                requestFormat('Direct','John','null'),\n",
        "                                personalData('John','john@mail.com'),\n",
        "                                sensitiveData('John','transactional_data'),\n",
        "                                startDate(1639970872),\n",
        "                                endDate(EndDate)), EndDate is 1639970870+31536000."
      ]
    },
    {
      "cell_type": "code",
      "execution_count": null,
      "id": "74244450",
      "metadata": {
        "id": "74244450",
        "outputId": "e97cc9e7-6a17-4d6a-e217-778a0890a57c"
      },
      "outputs": [
        {
          "name": "stdout",
          "output_type": "stream",
          "text": [
            "true."
          ]
        }
      ],
      "source": [
        "?- setDSRights(dataSubject('John'),dataController('Bank B'),startDate(1639970872))."
      ]
    },
    {
      "cell_type": "code",
      "execution_count": null,
      "id": "26ec736b",
      "metadata": {
        "id": "26ec736b",
        "outputId": "95b57144-fcfa-4e58-d684-a68107894745"
      },
      "outputs": [
        {
          "name": "stdout",
          "output_type": "stream",
          "text": [
            "EndDate = 1671506872 ;\n",
            "EndDate = 1671506872 ;\n",
            "EndDate = 1671506872 ;\n",
            "EndDate = 1671506872 ;\n",
            "EndDate = 1671506872 ;\n",
            "EndDate = 1671506872 ;\n",
            "EndDate = 1671506872 ;\n",
            "EndDate = 1671506872 ;\n",
            "EndDate = 1671506872 ;\n",
            "EndDate = 1671506872 ."
          ]
        }
      ],
      "source": [
        "?- setDSRevokeConsent(id(13),\n",
        "                        dataSubject('John'),\n",
        "                        dataController('Bank B'),\n",
        "                        personalData('John','john@mail.com'),\n",
        "                        sensitiveData('John','transactional_data'),\n",
        "                        now(1639970872),\n",
        "                        startDate(1639970872),\n",
        "                        endDate(EndDate)\n",
        "                        ), \n",
        "                        EndDate is 1639970872+31536000."
      ]
    },
    {
      "cell_type": "markdown",
      "id": "2d75310c",
      "metadata": {
        "id": "2d75310c"
      },
      "source": [
        "Figure 18 depicts the impacted entities.\n",
        "\n",
        "![InconsistentBehaviorImpact](./img/InconsistentBehaviorImpact.png \"Inconsistent Behaviour Impact\")\n",
        "Fig.18 - Inconsistent Behavior Impact."
      ]
    },
    {
      "cell_type": "markdown",
      "id": "a31940c4",
      "metadata": {
        "id": "a31940c4"
      },
      "source": [
        "This unusual behavior can be caught by analyzing the event log. Depending on the magnitude, this kind of event may cause damage to the system, as the Deny of Service attack. \n",
        "\n",
        "Moreover, in our scenario, as Bank B needs the client's data to offer products and services, the client might perform such inconsistent behavior to try getting advantages hiding specific data which may compromise his/her reputation. In this case, if Bank B identifies such behavior, the bank may request additional information before starting offering new products and services."
      ]
    },
    {
      "cell_type": "code",
      "execution_count": null,
      "id": "d0c0392c",
      "metadata": {
        "id": "d0c0392c",
        "outputId": "e7d56c37-814d-40b9-d3ef-ee89afbfc8b8"
      },
      "outputs": [
        {
          "name": "stdout",
          "output_type": "stream",
          "text": [
            "Event = Data Subject can ask if the Data Controller is processing his/her data, Type = Explanation, DeonticOperator = Permission, Date = 1639970870 ;\n",
            "Event = Data Subject agrees with consent term, Type = Communication, DeonticOperator = Compliance, Date = 1639970870 ;\n",
            "Event = Data Controller can collect the Data Subject information, Type = Explanation, DeonticOperator = Permission, Date = 1639970870 ;\n",
            "Event = Data Controller can store the Data Subject information, Type = Explanation, DeonticOperator = Permission, Date = 1639970870 ;\n",
            "Event = Data Controller can process the Data Subject information, Type = Explanation, DeonticOperator = Permission, Date = 1639970870 ;\n",
            "Event = Data Subject agrees with consent term, Type = Communication, DeonticOperator = Compliance, Date = 1639970870 ;\n",
            "Event = Data Controller can collect the Data Subject information, Type = Explanation, DeonticOperator = Permission, Date = 1639970870 ;\n",
            "Event = Data Controller can store the Data Subject information, Type = Explanation, DeonticOperator = Permission, Date = 1639970870 ;\n",
            "Event = Data Controller can process the Data Subject information, Type = Explanation, DeonticOperator = Permission, Date = 1639970870 ;\n",
            "Event = Data Subject agrees with consent term, Type = Communication, DeonticOperator = Compliance, Date = 1639970870 ;\n",
            "Event = Data Controller can collect the Data Subject information, Type = Explanation, DeonticOperator = Permission, Date = 1639970870 ;\n",
            "Event = Data Controller can store the Data Subject information, Type = Explanation, DeonticOperator = Permission, Date = 1639970870 ;\n",
            "Event = Data Controller can process the Data Subject information, Type = Explanation, DeonticOperator = Permission, Date = 1639970870 ;\n",
            "Event = Data Subject agrees with consent term, Type = Communication, DeonticOperator = Compliance, Date = 1639970870 ;\n",
            "Event = Data Controller can collect the Data Subject information, Type = Explanation, DeonticOperator = Permission, Date = 1639970870 ;\n",
            "Event = Data Controller can store the Data Subject information, Type = Explanation, DeonticOperator = Permission, Date = 1639970870 ;\n",
            "Event = Data Controller can process the Data Subject information, Type = Explanation, DeonticOperator = Permission, Date = 1639970870 ;\n",
            "Event = Data Subject agrees with consent term, Type = Communication, DeonticOperator = Compliance, Date = 1639970870 ;\n",
            "Event = Data Controller can collect the Data Subject information, Type = Explanation, DeonticOperator = Permission, Date = 1639970870 ;\n",
            "Event = Data Controller can store the Data Subject information, Type = Explanation, DeonticOperator = Permission, Date = 1639970870 ;\n",
            "Event = Data Controller can process the Data Subject information, Type = Explanation, DeonticOperator = Permission, Date = 1639970870 ;\n",
            "Event = Data Subject agrees with consent term, Type = Communication, DeonticOperator = Compliance, Date = 1639970870 ;\n",
            "Event = Data Controller can collect the Data Subject information, Type = Explanation, DeonticOperator = Permission, Date = 1639970870 ;\n",
            "Event = Data Controller can store the Data Subject information, Type = Explanation, DeonticOperator = Permission, Date = 1639970870 ;\n",
            "Event = Data Controller can process the Data Subject information, Type = Explanation, DeonticOperator = Permission, Date = 1639970870 ;\n",
            "Event = Data Subject agrees with consent term, Type = Communication, DeonticOperator = Compliance, Date = 1639970870 ;\n",
            "Event = Data Controller can collect the Data Subject information, Type = Explanation, DeonticOperator = Permission, Date = 1639970870 ;\n",
            "Event = Data Controller can store the Data Subject information, Type = Explanation, DeonticOperator = Permission, Date = 1639970870 ;\n",
            "Event = Data Controller can process the Data Subject information, Type = Explanation, DeonticOperator = Permission, Date = 1639970870 ;\n",
            "Event = Data Subject agrees with consent term, Type = Communication, DeonticOperator = Compliance, Date = 1639970870 ;\n",
            "Event = Data Controller can collect the Data Subject information, Type = Explanation, DeonticOperator = Permission, Date = 1639970870 ;\n",
            "Event = Data Controller can store the Data Subject information, Type = Explanation, DeonticOperator = Permission, Date = 1639970870 ;\n",
            "Event = Data Controller can process the Data Subject information, Type = Explanation, DeonticOperator = Permission, Date = 1639970870 ;\n",
            "Event = Data Subject agrees with consent term, Type = Communication, DeonticOperator = Compliance, Date = 1639970870 ;\n",
            "Event = Data Controller can collect the Data Subject information, Type = Explanation, DeonticOperator = Permission, Date = 1639970870 ;\n",
            "Event = Data Controller can store the Data Subject information, Type = Explanation, DeonticOperator = Permission, Date = 1639970870 ;\n",
            "Event = Data Controller can process the Data Subject information, Type = Explanation, DeonticOperator = Permission, Date = 1639970870 ;\n",
            "Event = Data Subject agrees with consent term, Type = Communication, DeonticOperator = Compliance, Date = 1639970870 ;\n",
            "Event = Data Controller can collect the Data Subject information, Type = Explanation, DeonticOperator = Permission, Date = 1639970870 ;\n",
            "Event = Data Controller can store the Data Subject information, Type = Explanation, DeonticOperator = Permission, Date = 1639970870 ;\n",
            "Event = Data Controller can process the Data Subject information, Type = Explanation, DeonticOperator = Permission, Date = 1639970870 ;\n",
            "Event = Data Subject requested to the Data Controller to revoke his/her consent, Type = Communication, DeonticOperator = Permission, Date = 1639970872 ;\n",
            "Event = From now, the Data Controller cannot collect the Data Subject information, Type = Communication, DeonticOperator = Prohibition, Date = 1639970872 ;\n",
            "Event = From now, the Data Controller cannot process the Data Subject information, Type = Communication, DeonticOperator = Prohibition, Date = 1639970872 ;\n",
            "Event = From now, consent is not valid to be used by the data controller, Type = Explanation, DeonticOperator = Prohibition, Date = 1639970872 ;\n",
            "Event = From now, consent is not valid to be used by the data controller, Type = Explanation, DeonticOperator = Prohibition, Date = 1639970872 ;\n",
            "Event = From now, consent is not valid to be used by the data controller, Type = Explanation, DeonticOperator = Prohibition, Date = 1639970872 ;\n",
            "Event = From now, consent is not valid to be used by the data controller, Type = Explanation, DeonticOperator = Prohibition, Date = 1639970872 ;\n",
            "Event = From now, the Data Controller cannot process the Data Subject information, Type = Communication, DeonticOperator = Prohibition, Date = 1639970872 ;\n",
            "Event = From now, the Data Controller cannot process the Data Subject information, Type = Communication, DeonticOperator = Prohibition, Date = 1639970872 ;\n",
            "Event = From now, the Data Controller cannot process the Data Subject information, Type = Communication, DeonticOperator = Prohibition, Date = 1639970872 ;\n",
            "Event = From now, the Data Controller cannot process the Data Subject information, Type = Communication, DeonticOperator = Prohibition, Date = 1639970872 ;\n",
            "Event = From now, the Data Controller cannot process the Data Subject information, Type = Communication, DeonticOperator = Prohibition, Date = 1639970872 ;\n",
            "Event = From now, the Data Controller cannot process the Data Subject information, Type = Communication, DeonticOperator = Prohibition, Date = 1639970872 ;\n",
            "Event = From now, the Data Controller cannot process the Data Subject information, Type = Communication, DeonticOperator = Prohibition, Date = 1639970872 ;\n",
            "Event = From now, the Data Controller cannot process the Data Subject information, Type = Communication, DeonticOperator = Prohibition, Date = 1639970872 ;\n",
            "Event = From now, the Data Controller cannot process the Data Subject information, Type = Communication, DeonticOperator = Prohibition, Date = 1639970872 ;\n",
            "Event = From now, the Data Controller cannot collect the Data Subject information, Type = Communication, DeonticOperator = Prohibition, Date = 1639970872 ;\n",
            "Event = From now, the Data Controller cannot collect the Data Subject information, Type = Communication, DeonticOperator = Prohibition, Date = 1639970872 ;\n",
            "Event = From now, the Data Controller cannot collect the Data Subject information, Type = Communication, DeonticOperator = Prohibition, Date = 1639970872 ;\n",
            "Event = From now, the Data Controller cannot collect the Data Subject information, Type = Communication, DeonticOperator = Prohibition, Date = 1639970872 ;\n",
            "Event = From now, the Data Controller cannot collect the Data Subject information, Type = Communication, DeonticOperator = Prohibition, Date = 1639970872 ;\n",
            "Event = From now, the Data Controller cannot collect the Data Subject information, Type = Communication, DeonticOperator = Prohibition, Date = 1639970872 ;\n",
            "Event = From now, the Data Controller cannot collect the Data Subject information, Type = Communication, DeonticOperator = Prohibition, Date = 1639970872 ;\n",
            "Event = From now, the Data Controller cannot collect the Data Subject information, Type = Communication, DeonticOperator = Prohibition, Date = 1639970872 ;\n",
            "Event = From now, the Data Controller cannot collect the Data Subject information, Type = Communication, DeonticOperator = Prohibition, Date = 1639970872 ;\n",
            "Event = Data Subject can ask if the Data Controller is processing his/her data, Type = Explanation, DeonticOperator = Permission, Date = 1639970872 ;\n",
            "Event = Data Subject verified the consent term and it was ok, Type = Explanation, DeonticOperator = Obligation, Date = 1639970872 ;\n",
            "Event = Data Subject verified the consent term and it was ok, Type = Explanation, DeonticOperator = Obligation, Date = 1639970872 ;\n",
            "Event = Data Subject verified the consent term and it was ok, Type = Explanation, DeonticOperator = Obligation, Date = 1639970872 ;\n",
            "Event = Data Subject verified the consent term and it was ok, Type = Explanation, DeonticOperator = Obligation, Date = 1639970872 ;\n",
            "Event = Data Subject verified the consent term and it was ok, Type = Explanation, DeonticOperator = Obligation, Date = 1639970872 ;\n",
            "Event = Data Subject verified the consent term and it was ok, Type = Explanation, DeonticOperator = Obligation, Date = 1639970872 ;\n",
            "Event = Data Subject verified the consent term and it was ok, Type = Explanation, DeonticOperator = Obligation, Date = 1639970872 ;\n",
            "Event = Data Subject verified the consent term and it was ok, Type = Explanation, DeonticOperator = Obligation, Date = 1639970872 ;\n",
            "Event = Data Subject verified the consent term and it was ok, Type = Explanation, DeonticOperator = Obligation, Date = 1639970872 ;\n",
            "Event = Data Subject verified the consent term and it was ok, Type = Explanation, DeonticOperator = Obligation, Date = 1639970872 ;\n",
            "Event = Data Subject agrees with consent term, Type = Communication, DeonticOperator = Compliance, Date = 1639970872 ;\n",
            "Event = Data Controller can collect the Data Subject information, Type = Explanation, DeonticOperator = Permission, Date = 1639970872 ;\n",
            "Event = Data Controller can store the Data Subject information, Type = Explanation, DeonticOperator = Permission, Date = 1639970872 ;\n",
            "Event = Data Controller can process the Data Subject information, Type = Explanation, DeonticOperator = Permission, Date = 1639970872 ;\n",
            "Event = Data Subject agrees with consent term, Type = Communication, DeonticOperator = Compliance, Date = 1639970872 ;\n",
            "Event = Data Controller can collect the Data Subject information, Type = Explanation, DeonticOperator = Permission, Date = 1639970872 ;\n",
            "Event = Data Controller can store the Data Subject information, Type = Explanation, DeonticOperator = Permission, Date = 1639970872 ;\n",
            "Event = Data Controller can process the Data Subject information, Type = Explanation, DeonticOperator = Permission, Date = 1639970872 ;\n",
            "Event = Data Subject agrees with consent term, Type = Communication, DeonticOperator = Compliance, Date = 1639970872 ;\n",
            "Event = Data Controller can collect the Data Subject information, Type = Explanation, DeonticOperator = Permission, Date = 1639970872 ;\n",
            "Event = Data Controller can store the Data Subject information, Type = Explanation, DeonticOperator = Permission, Date = 1639970872 ;\n",
            "Event = Data Controller can process the Data Subject information, Type = Explanation, DeonticOperator = Permission, Date = 1639970872 ;\n",
            "Event = Data Subject agrees with consent term, Type = Communication, DeonticOperator = Compliance, Date = 1639970872 ;\n",
            "Event = Data Controller can collect the Data Subject information, Type = Explanation, DeonticOperator = Permission, Date = 1639970872 ;\n",
            "Event = Data Controller can store the Data Subject information, Type = Explanation, DeonticOperator = Permission, Date = 1639970872 ;\n",
            "Event = Data Controller can process the Data Subject information, Type = Explanation, DeonticOperator = Permission, Date = 1639970872 ;\n",
            "Event = Data Subject agrees with consent term, Type = Communication, DeonticOperator = Compliance, Date = 1639970872 ;\n",
            "Event = Data Controller can collect the Data Subject information, Type = Explanation, DeonticOperator = Permission, Date = 1639970872 ;\n",
            "Event = Data Controller can store the Data Subject information, Type = Explanation, DeonticOperator = Permission, Date = 1639970872 ;\n",
            "Event = Data Controller can process the Data Subject information, Type = Explanation, DeonticOperator = Permission, Date = 1639970872 ;\n",
            "Event = Data Subject agrees with consent term, Type = Communication, DeonticOperator = Compliance, Date = 1639970872 ;\n",
            "Event = Data Controller can collect the Data Subject information, Type = Explanation, DeonticOperator = Permission, Date = 1639970872 ;\n",
            "Event = Data Controller can store the Data Subject information, Type = Explanation, DeonticOperator = Permission, Date = 1639970872 ;\n",
            "Event = Data Controller can process the Data Subject information, Type = Explanation, DeonticOperator = Permission, Date = 1639970872 ;\n",
            "Event = Data Subject agrees with consent term, Type = Communication, DeonticOperator = Compliance, Date = 1639970872 ;\n",
            "Event = Data Controller can collect the Data Subject information, Type = Explanation, DeonticOperator = Permission, Date = 1639970872 ;\n",
            "Event = Data Controller can store the Data Subject information, Type = Explanation, DeonticOperator = Permission, Date = 1639970872 ;\n",
            "Event = Data Controller can process the Data Subject information, Type = Explanation, DeonticOperator = Permission, Date = 1639970872 ;\n",
            "Event = Data Subject agrees with consent term, Type = Communication, DeonticOperator = Compliance, Date = 1639970872 ;\n",
            "Event = Data Controller can collect the Data Subject information, Type = Explanation, DeonticOperator = Permission, Date = 1639970872 ;\n",
            "Event = Data Controller can store the Data Subject information, Type = Explanation, DeonticOperator = Permission, Date = 1639970872 ;\n",
            "Event = Data Controller can process the Data Subject information, Type = Explanation, DeonticOperator = Permission, Date = 1639970872 ;\n",
            "Event = Data Subject agrees with consent term, Type = Communication, DeonticOperator = Compliance, Date = 1639970872 ;\n",
            "Event = Data Controller can collect the Data Subject information, Type = Explanation, DeonticOperator = Permission, Date = 1639970872 ;\n",
            "Event = Data Controller can store the Data Subject information, Type = Explanation, DeonticOperator = Permission, Date = 1639970872 ;\n",
            "Event = Data Controller can process the Data Subject information, Type = Explanation, DeonticOperator = Permission, Date = 1639970872 ;\n",
            "Event = Data Subject agrees with consent term, Type = Communication, DeonticOperator = Compliance, Date = 1639970872 ;\n",
            "Event = Data Controller can collect the Data Subject information, Type = Explanation, DeonticOperator = Permission, Date = 1639970872 ;\n",
            "Event = Data Controller can store the Data Subject information, Type = Explanation, DeonticOperator = Permission, Date = 1639970872 ;\n",
            "Event = Data Controller can process the Data Subject information, Type = Explanation, DeonticOperator = Permission, Date = 1639970872 ;\n",
            "Event = Data Subject can now have all foressen rights, Type = Explanation, DeonticOperator = Permission, Date = 1639970872 ;\n",
            "Event = Data Subject requested to the Data Controller to revoke his/her consent, Type = Communication, DeonticOperator = Permission, Date = 1639970872 ;\n",
            "Event = From now, the Data Controller cannot collect the Data Subject information, Type = Communication, DeonticOperator = Prohibition, Date = 1639970872 ;\n",
            "Event = From now, the Data Controller cannot process the Data Subject information, Type = Communication, DeonticOperator = Prohibition, Date = 1639970872 ;\n",
            "Event = From now, consent is not valid to be used by the data controller, Type = Explanation, DeonticOperator = Prohibition, Date = 1639970872 ;\n",
            "Event = From now, consent is not valid to be used by the data controller, Type = Explanation, DeonticOperator = Prohibition, Date = 1639970872 ;\n",
            "Event = From now, consent is not valid to be used by the data controller, Type = Explanation, DeonticOperator = Prohibition, Date = 1639970872 ;\n",
            "Event = From now, consent is not valid to be used by the data controller, Type = Explanation, DeonticOperator = Prohibition, Date = 1639970872 ;\n",
            "Event = From now, consent is not valid to be used by the data controller, Type = Explanation, DeonticOperator = Prohibition, Date = 1639970872 ;\n",
            "Event = From now, consent is not valid to be used by the data controller, Type = Explanation, DeonticOperator = Prohibition, Date = 1639970872 ;\n",
            "Event = From now, consent is not valid to be used by the data controller, Type = Explanation, DeonticOperator = Prohibition, Date = 1639970872 ;\n",
            "Event = From now, consent is not valid to be used by the data controller, Type = Explanation, DeonticOperator = Prohibition, Date = 1639970872 ;\n",
            "Event = From now, consent is not valid to be used by the data controller, Type = Explanation, DeonticOperator = Prohibition, Date = 1639970872 ;\n",
            "Event = From now, consent is not valid to be used by the data controller, Type = Explanation, DeonticOperator = Prohibition, Date = 1639970872 ."
          ]
        }
      ],
      "source": [
        "?- log(Event,Type,DeonticOperator,Date), Date >= 1639970870 {-1}."
      ]
    },
    {
      "cell_type": "markdown",
      "id": "81ded592",
      "metadata": {
        "id": "81ded592"
      },
      "source": [
        "----\n",
        "#### Cause-effect: Data portability\n"
      ]
    },
    {
      "cell_type": "markdown",
      "id": "e34d49b1",
      "metadata": {
        "id": "e34d49b1"
      },
      "source": [
        "Data portability can be explored at least in two ways. First, as cellphone companies, data portability means migrating the Data Subject phone number to another company. The client information should be migrated from one company to another. Second, like streaming video companies, data portability may mean just the act of copying the data to another company. Both companies would have the same client data at the moment of data portability request. \n",
        "\n",
        "As the open banking scenario already acts as a kind of data portability request and exercises data sharing and consent revocation, such a cause-effect scenario will not be explored here."
      ]
    },
    {
      "cell_type": "markdown",
      "id": "b8b7b98f",
      "metadata": {
        "id": "b8b7b98f"
      },
      "source": [
        "----\n",
        "#### Cause-effect: Plug a new consent term\n"
      ]
    },
    {
      "cell_type": "markdown",
      "id": "b45c58a4",
      "metadata": {
        "id": "b45c58a4"
      },
      "source": [
        "Pluggable consent is a non-official proposal. However, this cause-effect scenario explores how this concept could be applied. It allows the Data Controller to create new consent terms related to a subset of actions that the Data Subject should know. The pluggable consent must have at most the same time rang to the original consent. Moreover, it also allows the Data Subject to revoke a specific plugged consent term and not the original; hence, it enables the Data Subject to keep sharing the data and use the services proposed by the Data Controller.\n",
        "\n",
        "Let's consider that Maria wants to subscribe to a new service offered by Bank B. In this case, Maria has to agree with a pluggable consent sent by the bank. This consent term should clarify which service the bank is offering.\n",
        "\n",
        "It is important to note that any missing (null) information will be replaced by the general consent term.\n",
        "\n",
        "Figure 21 depicts the scenario of plugging a new consent term.\n",
        "\n",
        "<div>\n",
        "<img src=\"https://github.com/phalves/ConFIA/blob/main/img/PluggableConsentProcess.png?raw=1\" width=\"800\"/>\n",
        "</div>\n",
        "Fig.21 - Pluggable Consent Process.\n",
        "\n",
        "First let's create a new consent term."
      ]
    },
    {
      "cell_type": "code",
      "execution_count": null,
      "id": "de8f7dc9",
      "metadata": {
        "id": "de8f7dc9",
        "outputId": "39da6181-0596-44d2-d230-b1fde676369a"
      },
      "outputs": [
        {
          "name": "stdout",
          "output_type": "stream",
          "text": [
            "true."
          ]
        }
      ],
      "source": [
        "?- createConsentTerm(14,'Bank B','Maria','maria@mail.com','personal_and_transactional','offer_products_and_services',\n",
        "                'create_specific_offers',\n",
        "                'data_analytics',\n",
        "                31536000,\n",
        "                'none',\n",
        "                'e-mail',\n",
        "                'lgpd@bankb.br',\n",
        "                'SHA256',\n",
        "                'Authorized employees can access the data only',\n",
        "                'Bank B private cloud')."
      ]
    },
    {
      "cell_type": "code",
      "execution_count": null,
      "id": "d1cd8aff",
      "metadata": {
        "id": "d1cd8aff",
        "outputId": "f792be1e-c62b-41ed-a4d9-3a2fc7d0c93c"
      },
      "outputs": [
        {
          "name": "stdout",
          "output_type": "stream",
          "text": [
            "true."
          ]
        }
      ],
      "source": [
        "?- assertz(dsRight(processingConfirmation,dataSubject('Maria'),dataController('Bank B'))),\n",
        "    assertz(log('Data Subject can ask if the Data Controller is processing his/her data','Explanation','Permission',1639970970))."
      ]
    },
    {
      "cell_type": "code",
      "execution_count": null,
      "id": "41491997",
      "metadata": {
        "id": "41491997",
        "outputId": "12cb036a-7235-4af2-8c0e-0bd38d159b66"
      },
      "outputs": [
        {
          "name": "stdout",
          "output_type": "stream",
          "text": [
            "true."
          ]
        }
      ],
      "source": [
        "?- checkConsentTerm(id(14),dataController('Bank B'),\n",
        "                        dataSubject('Maria'),\n",
        "                        purpose('Bank B','offer_products_and_services'),\n",
        "                        'create_specific_offers',\n",
        "                        'data_analytics',\n",
        "                        31536000,\n",
        "                        'none',\n",
        "                        'e-mail',\n",
        "                        'lgpd@bankb.br',\n",
        "                        1639970970).    "
      ]
    },
    {
      "cell_type": "code",
      "execution_count": null,
      "id": "755fa46a",
      "metadata": {
        "id": "755fa46a",
        "outputId": "991df2fb-429a-47c9-c3d8-bf75e78ce347"
      },
      "outputs": [
        {
          "name": "stdout",
          "output_type": "stream",
          "text": [
            "EndDate = 1671506970 ."
          ]
        }
      ],
      "source": [
        "?- setThatdsAgreeWithConsentTerms(id(14),\n",
        "                                dataSubject('Maria'),\n",
        "                                dataController('Bank B'),\n",
        "                                requestFormat('Direct','Maria','null'),\n",
        "                                personalData('Maria','maria@mail.com'),\n",
        "                                sensitiveData('Maria','transactional_data'),\n",
        "                                startDate(1639970970),\n",
        "                                endDate(EndDate)), EndDate is 1639970970+31536000."
      ]
    },
    {
      "cell_type": "code",
      "execution_count": null,
      "id": "998b2d22",
      "metadata": {
        "id": "998b2d22",
        "outputId": "dc05f6c1-2a13-4854-dac0-802ea1d85b99"
      },
      "outputs": [
        {
          "name": "stdout",
          "output_type": "stream",
          "text": [
            "true."
          ]
        }
      ],
      "source": [
        "?- setDSRights(dataSubject('Maria'),dataController('Bank B'),startDate(1639970970))."
      ]
    },
    {
      "cell_type": "markdown",
      "id": "6a3bfb50",
      "metadata": {
        "id": "6a3bfb50"
      },
      "source": [
        "Now, let's create the pluggable consent structure."
      ]
    },
    {
      "cell_type": "code",
      "execution_count": null,
      "id": "037cabac",
      "metadata": {
        "id": "037cabac",
        "outputId": "47f894b8-b6df-45be-ecba-6420e01143d2"
      },
      "outputs": [
        {
          "name": "stdout",
          "output_type": "stream",
          "text": []
        }
      ],
      "source": [
        "% Description: This function defines a consent term including all required information described in the LGPD Art. 9\n",
        "% The consent term must inform:\n",
        "%    i. Data Controller\n",
        "%   ii. Data Subject\n",
        "%  iii. Specific Purpose\n",
        "%   iv. Form \n",
        "%    v. Time length of processing\n",
        "%   vi. The purpose when sharing the data with third parties, when applied\n",
        "%  vii. Communication channel to the data subject request any information\n",
        "% viii. Data Controller contact\n",
        "%   iv. Cryptography Algoritm\n",
        "%    x. Access Policies\n",
        "%   xi. Storage Platform\n",
        "%  Xii. Identification to Plug this term to another consent term\n",
        "\n",
        "\n",
        "createPluggableConsentTerm(ID,DC,DS,PData,SData,Purpose,\n",
        "                SpecificPurpose,\n",
        "                Form,\n",
        "                TimeLength,\n",
        "                ThirdPartyPurpose,\n",
        "                Channel,\n",
        "                DCContact,\n",
        "                CA, AP, SP, CP) :-\n",
        "\n",
        "                assertz(id(ID)),\n",
        "                assertz(dataSubject(DS)),\n",
        "                assertz(dataController(DC)),\n",
        "                assertz(personalData(DS,PData)),\n",
        "                assertz(sensitiveData(DS, SData)),\n",
        "                assertz(purpose(DC,DS,Purpose)),\n",
        "                assertz(specificPurpose(DC,DS,Purpose,SpecificPurpose)),\n",
        "                assertz(form(DC,DS,Purpose,SpecificPurpose,Form)),\n",
        "                assertz(timeLength(DC,DS,Purpose,SpecificPurpose,TimeLength)),\n",
        "                assertz(thirdyPartySharingPurpose(DC,DS,Purpose,SpecificPurpose,\n",
        "                                                    TimeLength,ThirdPartyPurpose)),\n",
        "                assertz(channelToProvideInformation(DC,DS,Channel,DCContact)),\n",
        "                assertz(criptographyAlgoritm(CA)),\n",
        "                assertz(accessPolicies(AP)),\n",
        "                assertz(storagePlatform(SP)),\n",
        "                assertz(consentToPlug(CP))."
      ]
    },
    {
      "cell_type": "code",
      "execution_count": null,
      "id": "080f7db4",
      "metadata": {
        "id": "080f7db4",
        "outputId": "85f8b39a-f793-4edc-c412-31b7b7b1e600"
      },
      "outputs": [
        {
          "name": "stdout",
          "output_type": "stream",
          "text": [
            "true."
          ]
        }
      ],
      "source": [
        "% Pluggable consent params\n",
        "\n",
        "%    i. DC: Data Controller\n",
        "%   ii. DS: Data Subject\n",
        "%  iii. PData: Personal Data\n",
        "%   iv. SData: Sensitive Data\n",
        "%    v. Purpose: Purpose of data usage\n",
        "%   vi. SpecificPurpose: Specific motivation to request data\n",
        "%  vii. Form: Processing method\n",
        "% viii. TimeLength: How long the data will be shared\n",
        "%   ix. ThirdPartyPurpose: If the data will be shared with third parties, explain why\n",
        "%    x. Channel: Communication channel in case of doubts or requests related to the data\n",
        "%   xi. DCContact: Contact of a person who is responsible of processing the data\n",
        "%  xii. CA: Criptography algoritms applied\n",
        "% xiii. AP: Access policies\n",
        "%  xiv. SP: Storage platform\n",
        "%   xv. CP: Consent to plug\n",
        "\n",
        "?- createPluggableConsentTerm(15,'Bank B stocks department','Maria','null','transactional_data','offer_products_and_services',\n",
        "                'offer_stock_investiments',\n",
        "                'data_analytics',\n",
        "                15811200,\n",
        "                'none',\n",
        "                'e-mail',\n",
        "                'stocks@bankb.br',\n",
        "                'SHA256',\n",
        "                'Only the stocks department can access the data',\n",
        "                'Bank B private cloud',\n",
        "                11)."
      ]
    },
    {
      "cell_type": "markdown",
      "id": "f18437ef",
      "metadata": {
        "id": "f18437ef"
      },
      "source": [
        "The pluggable consent term will be valid if the consent term with the university is valid only."
      ]
    },
    {
      "cell_type": "code",
      "execution_count": null,
      "id": "e9a887d1",
      "metadata": {
        "id": "e9a887d1",
        "outputId": "37f427f0-22e3-487f-c17a-6a4be426c5f4"
      },
      "outputs": [
        {
          "name": "stdout",
          "output_type": "stream",
          "text": [
            "true."
          ]
        }
      ],
      "source": [
        "?- consentTermStatus(id(14),dataController('Bank B'),dataSubject('Maria'),status('Valid')),\n",
        "  assertz(consentTermStatus(id(15),dataController('Bank B stocks department'),dataSubject('Maria'),status('Valid')))."
      ]
    },
    {
      "cell_type": "markdown",
      "id": "7038ed13",
      "metadata": {
        "id": "7038ed13"
      },
      "source": [
        "The following function will check if there is valid consent. If so, the data subject will accept the plugged consent."
      ]
    },
    {
      "cell_type": "code",
      "execution_count": null,
      "id": "ef46edab",
      "metadata": {
        "id": "ef46edab",
        "outputId": "a76d4f9e-84a9-4a82-fa38-20261d24a97b"
      },
      "outputs": [
        {
          "name": "stdout",
          "output_type": "stream",
          "text": []
        }
      ],
      "source": [
        "% Description: This function sets that the Data Subject agreed with the consent term.\n",
        "% This function receives the params:\n",
        "%    i. Consent ID\n",
        "%   ii. Data Subject\n",
        "%  iii. Data Controller\n",
        "%   iv. Request Format (Direct/Expresso or Proxy/Tacito)\n",
        "%   iv. Personal Data\n",
        "%    v. Sensitive Data\n",
        "%   vi. Start Date - Timestamp\n",
        "%   vi. End Date - Timestamp\n",
        "\n",
        "setThatdsAgreeWithPluggableConsentTerm(id(ID),dataSubject(DS),\n",
        "                                dataController(DC),\n",
        "                                requestFormat(RF,DS,LPC),\n",
        "                                personalData(DS,PData),\n",
        "                                sensitiveData(DS,SData),\n",
        "                                startDate(StartTS),\n",
        "                                endDate(EndTS),\n",
        "                                consentRelationship(id(ID),id(CP))) :-\n",
        "    consentTermStatus(id(ID),dataController(DC),dataSubject(DS),status('Valid')),\n",
        "    assertz(consentRelationship(id(ID),id(CP))),\n",
        "    \n",
        "    assertz(origin(id(ID),dataSubject(DS),dataController(DC),requestFormat(RF,DS,LPC))),\n",
        "    assertz(requestFormat(RF,DS,LPC)),\n",
        "    \n",
        "    assertz(dsAgreeWithConsentTerms(dataSubject(DS),dataController(DC),startDate(TS),endDate(TS))),\n",
        "    assertz(log('Data Subject agrees with consent term','Communication','Compliance',StartTS)),\n",
        "\n",
        "    assertz(dcIsCollectingDSData(id(ID),dataController(DC),dataSubject(DS),personalData(DS,PData),sensitiveData(DS,SData),startDate(StartTS),endDate(EndTS))),\n",
        "    assertz(log('Data Controller can collect the Data Subject information','Explanation','Permission',StartTS)),\n",
        "    \n",
        "    assertz(dcIsStoringDSData(id(ID),dataController(DC),dataSubject(DS),personalData(DS,PData),sensitiveData(DS,SData),startDate(StartTS),endDate(EndTS))),\n",
        "    assertz(log('Data Controller can store the Data Subject information','Explanation','Permission',StartTS)),\n",
        "        \n",
        "    assertz(dcIsProcessingDSData(id(ID),dataController(DC),dataSubject(DS),personalData(DS,PData),sensitiveData(DS,SData),startDate(StartTS),endDate(EndTS))),\n",
        "    assertz(log('Data Controller can process the Data Subject information','Explanation','Permission',StartTS))."
      ]
    },
    {
      "cell_type": "code",
      "execution_count": null,
      "id": "017ee37f",
      "metadata": {
        "id": "017ee37f",
        "outputId": "ab540b57-4c50-4253-f39b-ef7e88e715dc"
      },
      "outputs": [
        {
          "name": "stdout",
          "output_type": "stream",
          "text": [
            "EndDate = 1655782170 ."
          ]
        }
      ],
      "source": [
        "?- setThatdsAgreeWithPluggableConsentTerm(id(15),\n",
        "                                dataSubject('Maria'),\n",
        "                                dataController('Bank B stocks department'),\n",
        "                                requestFormat('Direct','Maria','null'),\n",
        "                                personalData('Maria','maria@mail.com'),\n",
        "                                sensitiveData('Maria','transactional_data'),\n",
        "                                startDate(1639970970),\n",
        "                                endDate(EndDate),\n",
        "                                consentRelationship(id(15),id(14))), EndDate is 1639970970+15811200."
      ]
    },
    {
      "cell_type": "markdown",
      "id": "e0ae1a48",
      "metadata": {
        "id": "e0ae1a48"
      },
      "source": [
        "Now, the data subject can ask to the Bank B if the data controller mentioned at the plugged consent is processing his data."
      ]
    },
    {
      "cell_type": "code",
      "execution_count": null,
      "id": "97f2f273",
      "metadata": {
        "scrolled": true,
        "id": "97f2f273",
        "outputId": "3e5b74b1-d312-4522-ea59-f2c3f56ec1d9"
      },
      "outputs": [
        {
          "name": "stdout",
          "output_type": "stream",
          "text": [
            "true."
          ]
        }
      ],
      "source": [
        "% This function defines the right to request processing confirmation to the Data Subject\n",
        "\n",
        "dsRight(processingConfirmation,dataSubject('Maria'),dataController('Bank B stocks department')).\n",
        "?- assertz(log('Data Subject can ask if the Data Controller is processing his/her data','Explanation','Permission',1639970979))."
      ]
    },
    {
      "cell_type": "code",
      "execution_count": null,
      "id": "a490aa58",
      "metadata": {
        "id": "a490aa58",
        "outputId": "a870661c-a7ff-4e62-d122-8620eb4d6783"
      },
      "outputs": [
        {
          "name": "stdout",
          "output_type": "stream",
          "text": [
            "true."
          ]
        }
      ],
      "source": [
        "% This is a function call returns true if all Data Subject's right was associated to him/her.\n",
        "\n",
        "?- setDSRights(dataSubject('Maria'),dataController('Bank B stocks department'),startDate(1639970979))."
      ]
    },
    {
      "cell_type": "markdown",
      "id": "621317c9",
      "metadata": {
        "id": "621317c9"
      },
      "source": [
        "Let's check who is processing Maria's data"
      ]
    },
    {
      "cell_type": "code",
      "execution_count": null,
      "id": "256f12d7",
      "metadata": {
        "id": "256f12d7",
        "outputId": "60b1352c-4471-41a8-c61b-6db3d610f5a5"
      },
      "outputs": [
        {
          "name": "stdout",
          "output_type": "stream",
          "text": [
            "ID = 14, DController = Bank B, PData = maria@mail.com, SData = transactional_data, SDate = 1639970970, EDate = Variable(170) ;\n",
            "ID = 15, DController = Bank B stocks department, PData = maria@mail.com, SData = transactional_data, SDate = 1639970970, EDate = Variable(85) ."
          ]
        }
      ],
      "source": [
        "?- dcIsCollectingDSData(id(ID),\n",
        "dataController(DController),\n",
        "dataSubject('Maria'),\n",
        "personalData('Maria',PData),sensitiveData('Maria',SData),startDate(SDate),endDate(EDate)), ID>11."
      ]
    },
    {
      "cell_type": "markdown",
      "id": "4e610e83",
      "metadata": {
        "id": "4e610e83"
      },
      "source": [
        "What will happen when the general consent is not valid anymore?\n",
        "\n",
        "Here we can observe that there is a consent relationship between the consent 14 and 15."
      ]
    },
    {
      "cell_type": "code",
      "execution_count": null,
      "id": "2a0fc291",
      "metadata": {
        "scrolled": true,
        "id": "2a0fc291",
        "outputId": "a2278172-cb79-4b03-ede9-f16b1be35471"
      },
      "outputs": [
        {
          "name": "stdout",
          "output_type": "stream",
          "text": [
            "Pluggable = 15, General = 14 ."
          ]
        }
      ],
      "source": [
        "?- consentRelationship(id(Pluggable),id(General))."
      ]
    },
    {
      "cell_type": "code",
      "execution_count": null,
      "id": "18e90869",
      "metadata": {
        "id": "18e90869",
        "outputId": "2cced19c-4bfe-44d3-ad75-289da4c703c8"
      },
      "outputs": [
        {
          "name": "stdout",
          "output_type": "stream",
          "text": [
            "X = 14 ;\n",
            "X = 15 ."
          ]
        }
      ],
      "source": [
        "?- id(X)."
      ]
    },
    {
      "cell_type": "markdown",
      "id": "9174bd2e",
      "metadata": {
        "id": "9174bd2e"
      },
      "source": [
        "Now, let's revoke the general consent (id 14)"
      ]
    },
    {
      "cell_type": "code",
      "execution_count": null,
      "id": "3af39fac",
      "metadata": {
        "id": "3af39fac",
        "outputId": "4df77eba-fd75-484e-c50f-f9bbd0083c3e"
      },
      "outputs": [
        {
          "name": "stdout",
          "output_type": "stream",
          "text": [
            "EndDate = 1671506970 ."
          ]
        }
      ],
      "source": [
        "% This is a function call returns true if all Data Subject's request was successfully performed.\n",
        "?- setDSRevokeConsent(id(14),\n",
        "                        dataSubject('Maria'),\n",
        "                        dataController('Bank B'),\n",
        "                        personalData('Maria','maria@mail.com'),\n",
        "                        sensitiveData('Maria','transactional_data'),\n",
        "                        now(1639970980),\n",
        "                        startDate(1639970970),\n",
        "                        endDate(EndDate)\n",
        "                        ), \n",
        "                        EndDate is 1639970970+31536000."
      ]
    },
    {
      "cell_type": "markdown",
      "id": "f2f22e7c",
      "metadata": {
        "id": "f2f22e7c"
      },
      "source": [
        "As we can observe, the consent id 14 does not exist anymore, but there is a pluggable consent."
      ]
    },
    {
      "cell_type": "code",
      "execution_count": null,
      "id": "dc67fc35",
      "metadata": {
        "id": "dc67fc35",
        "outputId": "361e0b38-f65a-4be7-8a6f-4c6c326d23b6"
      },
      "outputs": [
        {
          "name": "stdout",
          "output_type": "stream",
          "text": [
            "X = 15 .\n",
            "Pluggable = 15, General = 14 ."
          ]
        }
      ],
      "source": [
        "?- id(X).\n",
        "?- consentRelationship(id(Pluggable),id(General))."
      ]
    },
    {
      "cell_type": "markdown",
      "id": "9c6c2c81",
      "metadata": {
        "id": "9c6c2c81"
      },
      "source": [
        "Thus, the data controller should also revoke the pluggable consent. It means that the consent term status should be invalid after revocation."
      ]
    },
    {
      "cell_type": "code",
      "execution_count": null,
      "id": "1c570dbf",
      "metadata": {
        "id": "1c570dbf",
        "outputId": "3d0077d1-2cad-44be-e44c-24e58bf45421"
      },
      "outputs": [
        {
          "name": "stdout",
          "output_type": "stream",
          "text": [
            "EndDate = 1655782170 ."
          ]
        }
      ],
      "source": [
        "?- setDSRevokeConsent(id(15),\n",
        "                        dataSubject('Maria'),\n",
        "                        dataController('Bank B stocks department'),\n",
        "                        personalData('Maria','maria@mail.com'),\n",
        "                        sensitiveData('Maria','transactional_data'),\n",
        "                        now(1639970990),\n",
        "                        startDate(1639970970),\n",
        "                        endDate(EndDate)\n",
        "                        ), \n",
        "                        EndDate is 1639970970+15811200."
      ]
    },
    {
      "cell_type": "code",
      "execution_count": null,
      "id": "d1ce2a73",
      "metadata": {
        "scrolled": true,
        "id": "d1ce2a73",
        "outputId": "533081a6-2132-4bb8-a114-47c6c9adf3d1"
      },
      "outputs": [
        {
          "name": "stdout",
          "output_type": "stream",
          "text": [
            "ID = 14, DataController = Bank B, Status = Invalid ;\n",
            "ID = 15, DataController = Bank B stocks department, Status = Invalid ."
          ]
        }
      ],
      "source": [
        "?- consentTermStatus(id(ID),dataController(DataController),dataSubject('Maria'),status(Status))."
      ]
    },
    {
      "cell_type": "code",
      "execution_count": null,
      "id": "1c73469f",
      "metadata": {
        "scrolled": true,
        "id": "1c73469f",
        "outputId": "2a504cf7-72f2-4c7c-d179-6d98432252bd"
      },
      "outputs": [
        {
          "name": "stdout",
          "output_type": "stream",
          "text": [
            "false."
          ]
        }
      ],
      "source": [
        "?- id(X)."
      ]
    },
    {
      "cell_type": "markdown",
      "id": "9a77956f",
      "metadata": {
        "id": "9a77956f"
      },
      "source": [
        "In this sense, the red entities are affected by the pluggable consent, as depicted in Figure 22.\n",
        "\n",
        "As now there is a new data controller, the access restriction, sharing policies, and his identification might be different from the general consent. This new pluggable consent may also change the time range of this consent term.\n",
        "\n",
        "This pluggable consent changes the access right; now, if the data subject asks this new data controller if the data controller is collecting and processing his data, he will have a positive message. \n",
        "\n",
        "Moreover, the purpose limitation will be different from the general consent term, and, like any other consent term, the data subject can request consent revocation anytime.\n",
        "\n",
        "However, as depicted on Anonymization Scenario, the changes in the consent term may affect some data subjects' actions. For instance, if a student revokes a discipline consent term, this student might not be allowed to participate in the class activities.\n",
        "\n",
        "![PluggableConsentImpact](./img/PluggableConsentImpact.png \"Pluggable Consent Impact\")\n",
        "Fig.22 - Pluggable Consent Impact."
      ]
    },
    {
      "cell_type": "code",
      "execution_count": null,
      "id": "58cecd25",
      "metadata": {
        "id": "58cecd25",
        "outputId": "9e4b7dc4-0356-42ee-f93c-a7a72f75ce48"
      },
      "outputs": [
        {
          "name": "stdout",
          "output_type": "stream",
          "text": [
            "Event = Data Subject can ask if the Data Controller is processing his/her data, Type = Explanation, DeonticOperator = Permission, Date = 1639970970 ;\n",
            "Event = Data Subject verified the consent term and it was ok, Type = Explanation, DeonticOperator = Obligation, Date = 1639970970 ;\n",
            "Event = Data Subject agrees with consent term, Type = Communication, DeonticOperator = Compliance, Date = 1639970970 ;\n",
            "Event = Data Controller can collect the Data Subject information, Type = Explanation, DeonticOperator = Permission, Date = 1639970970 ;\n",
            "Event = Data Controller can store the Data Subject information, Type = Explanation, DeonticOperator = Permission, Date = 1639970970 ;\n",
            "Event = Data Controller can process the Data Subject information, Type = Explanation, DeonticOperator = Permission, Date = 1639970970 ;\n",
            "Event = Data Subject can now have all foressen rights, Type = Explanation, DeonticOperator = Permission, Date = 1639970970 ;\n",
            "Event = Data Subject agrees with consent term, Type = Communication, DeonticOperator = Compliance, Date = 1639970970 ;\n",
            "Event = Data Controller can collect the Data Subject information, Type = Explanation, DeonticOperator = Permission, Date = 1639970970 ;\n",
            "Event = Data Controller can store the Data Subject information, Type = Explanation, DeonticOperator = Permission, Date = 1639970970 ;\n",
            "Event = Data Controller can process the Data Subject information, Type = Explanation, DeonticOperator = Permission, Date = 1639970970 ;\n",
            "Event = Data Subject can ask if the Data Controller is processing his/her data, Type = Explanation, DeonticOperator = Permission, Date = 1639970979 ;\n",
            "Event = Data Subject can now have all foressen rights, Type = Explanation, DeonticOperator = Permission, Date = 1639970979 ;\n",
            "Event = Data Subject requested to the Data Controller to revoke his/her consent, Type = Communication, DeonticOperator = Permission, Date = 1639970980 ;\n",
            "Event = From now, the Data Controller cannot collect the Data Subject information, Type = Communication, DeonticOperator = Prohibition, Date = 1639970980 ;\n",
            "Event = From now, the Data Controller cannot process the Data Subject information, Type = Communication, DeonticOperator = Prohibition, Date = 1639970980 ;\n",
            "Event = From now, consent is not valid to be used by the data controller, Type = Explanation, DeonticOperator = Prohibition, Date = 1639970980 ;\n",
            "Event = Data Subject requested to the Data Controller to revoke his/her consent, Type = Communication, DeonticOperator = Permission, Date = 1639970990 ;\n",
            "Event = From now, the Data Controller cannot collect the Data Subject information, Type = Communication, DeonticOperator = Prohibition, Date = 1639970990 ;\n",
            "Event = From now, the Data Controller cannot process the Data Subject information, Type = Communication, DeonticOperator = Prohibition, Date = 1639970990 ;\n",
            "Event = From now, consent is not valid to be used by the data controller, Type = Explanation, DeonticOperator = Prohibition, Date = 1639970990 ."
          ]
        }
      ],
      "source": [
        "?- log(Event,Type,DeonticOperator,Date), Date >= 1639970970 {-1}."
      ]
    }
  ],
  "metadata": {
    "kernelspec": {
      "display_name": "Python 3",
      "name": "python3"
    },
    "language_info": {
      "name": "python"
    },
    "colab": {
      "name": "Sandboxing_Open_Banking_Scenario.ipynb",
      "provenance": [],
      "collapsed_sections": [],
      "include_colab_link": true
    },
    "gpuClass": "standard"
  },
  "nbformat": 4,
  "nbformat_minor": 5
}