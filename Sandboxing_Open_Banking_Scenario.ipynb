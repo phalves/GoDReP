{
  "cells": [
    {
      "cell_type": "markdown",
      "metadata": {
        "id": "view-in-github",
        "colab_type": "text"
      },
      "source": [
        "<a href=\"https://colab.research.google.com/github/phalves/ConFIA/blob/main/Sandboxing_Open_Banking_Scenario.ipynb\" target=\"_parent\"><img src=\"https://colab.research.google.com/assets/colab-badge.svg\" alt=\"Open In Colab\"/></a>"
      ]
    },
    {
      "cell_type": "markdown",
      "id": "2dba5670",
      "metadata": {
        "id": "2dba5670"
      },
      "source": [
        "# Exploring Simulation Scenarios to Mitigate Information Asymmetry Under a Data Regulation Perspective - Open Banking Scenario"
      ]
    },
    {
      "cell_type": "markdown",
      "id": "cc83b3b0",
      "metadata": {
        "id": "cc83b3b0"
      },
      "source": [
        "### Scenario Description: Open Banking\n",
        "\n",
        "Open banking is a practice of enabling data sharing between financial institutions. This practice allowed banking interoperability by APIs (Application Programming Interfaces). For example, the data subject can request a credit card from bank A, a financial loan from bank B, and buy assets from bank C. Moreover, open banking allows, for instance, the data subject to open an account just requesting his/her data from an institution that he/she has an account previously. Therefore, open banking turns the data sharing more agile, transparent, and secure for providing resources to the data subject chose: (i) which data he/she wants to share; (ii) when; (iii) how long, and (iv) with whom he/she wants to share.\n",
        "\n",
        "According to indicators presented by [Open Banking Implementation Entity (OBIE)](https://www.openbanking.org.uk/api-performance/), since 2020, the number of successful API calls per month raised from 400.000 in May to more than 1.000.000 in 2022. It corresponds to an increase of 250% in two years. Moreover, the number of successful payments per month raised from 280 in July 2020 to more than 520.000 in May 2022.\n",
        "They are some indicators that can demonstrate the evolution of open banking in the UK.\n",
        "\n",
        "This sandbox seeks to provide an experimentation environment to the actors involved, i.e., Data Subjects, Controllers, and Processors. This environment was developed in Python based on the documentation supplied by [OBIE](https://www.openbanking.org.uk/about-us/). OBIE creates software standards and industry guidelines to drive competition, innovation, and transparency in UK retail banking.\n",
        "\n",
        "Furthermore, this sandbox was developed based on [PrOnto](https://link.springer.com/chapter/10.1007/978-3-319-98349-3_11) and [GConsent](https://link.springer.com/chapter/10.1007/978-3-030-21348-0_18). They are ontologies for General Data Protection Regulation (GDPR). As the Brazilian Data Protection Regulation ([LGPD](http://www.planalto.gov.br/ccivil_03/_ato2015-2018/2018/lei/L13709.htm)) presents many similar aspects to GDPR, this sandbox applied these ontologies concepts in an open banking scenario ruled by LGPD. Some ontology concepts were extented to allow a more accurate explanation regarding the consequences of the actors' actions.\n",
        "\n",
        "To know more about OpenBanking:\n",
        "- [OpenBanking Brazil](https://openbankingbrasil.org.br/)\n",
        "- [OpenBanking and GDPR](https://standards.openbanking.org.uk/operational-guidelines/tpp-operational-guidelines/data-privacy-gdpr/v3-1-5/)\n",
        "\n",
        "\n",
        " ---------"
      ]
    },
    {
      "cell_type": "markdown",
      "source": [
        "In order to provide a history of actions, the following code provides the structure to generate an action log based on the Consent Ontology."
      ],
      "metadata": {
        "id": "pPoR03FHVV1n"
      },
      "id": "pPoR03FHVV1n"
    },
    {
      "cell_type": "code",
      "source": [
        "# These libraries are used to manipulate dates \n",
        "from datetime import date, datetime \n",
        "\n",
        "class Log:\n",
        "  # Action Types\n",
        "  COMMUNICATION = 'Communication'\n",
        "  EXPLANATION = 'Explanation'\n",
        "  DELETION = 'Deletion'\n",
        "\n",
        "  # Deontic Concepts\n",
        "  OBLIGATION = 'Obligation'\n",
        "  PERMISSION = 'Permission'\n",
        "  PROHIBITION = 'Prohibition'\n",
        "  VIOLATION = 'Violation'\n",
        "  COMPLIANCE = 'Compliance'\n",
        "\n",
        "  def __init__(self):\n",
        "    #empty log\n",
        "    self.root = ['Date; Event; Type; Deontic Concept']\n",
        "    self.filePersistence = False\n",
        "    \n",
        "\n",
        "  def configLogPersistence(self,_fileName):\n",
        "    if _fileName!='':\n",
        "      self.filePersistence = True\n",
        "      \n",
        "      #open file\n",
        "      self.file = open(_fileName, \"w\")\n",
        "\n",
        "    else:\n",
        "      print('There is no fileName, so the file will not be generated')\n",
        "  \n",
        "  def registerAction(self,message,actionType,deonticConcept):\n",
        "    date = datetime.today()\n",
        "    message = message\n",
        "    actionType = actionType\n",
        "    deonticConcept = deonticConcept\n",
        "    self.root.append(str(date)+'; '+str(message)+'; '+str(actionType)+';  '+str(deonticConcept))\n",
        "\n",
        "    if self.filePersistence==True:\n",
        "      self.file.write(self.root[-1]) # Save the most recent action\n",
        "\n",
        "  def printLog(self):\n",
        "    for action in self.root:\n",
        "      print(action)\n"
      ],
      "metadata": {
        "id": "OLF1XdzCVX3B"
      },
      "id": "OLF1XdzCVX3B",
      "execution_count": 1,
      "outputs": []
    },
    {
      "cell_type": "markdown",
      "source": [
        "The code below creates an instance of the log class, and it will be used in the next scenes to persist the log of actions performed by the actors."
      ],
      "metadata": {
        "id": "ohOKuUq6uhjW"
      },
      "id": "ohOKuUq6uhjW"
    },
    {
      "cell_type": "code",
      "source": [
        "log = Log()"
      ],
      "metadata": {
        "id": "KekiB9Jga2LO"
      },
      "id": "KekiB9Jga2LO",
      "execution_count": 2,
      "outputs": []
    },
    {
      "cell_type": "markdown",
      "source": [
        "### Creating Actors\n",
        "In order to prepare the environment for exploring a data regulation, first we need to create the actors that will perform actions in our sandbox.\n",
        "\n",
        "#### Data Subject\n",
        "The first actor is the Data Subject. For this actor, we will will define the following data structure:\n",
        "- Data Subject ID, i.e., an identification number\n",
        "- Data Subject Consent List, i.e., a list of consents available for the Data Subject\n",
        "- Data Subject Personal Data, i.e., a dictionary of personal data, e.g., (name: Mark)\n",
        "- Data Subject Transactional Data, i.e., a dictionary of financial data, e.g., (Account Balance: 250,00)\n",
        "- Data Subject Allowed Institutions, i.e., the financial institutions that the Data Subject agree to share its financial data\n",
        "\n"
      ],
      "metadata": {
        "id": "VV9Sl4lPO5p4"
      },
      "id": "VV9Sl4lPO5p4"
    },
    {
      "cell_type": "code",
      "source": [
        "class DataSubject:\n",
        "  def __init__(self,id):\n",
        "    self.id = id                 # Identification Number\n",
        "    self.consents = []           # Empty list of consents\n",
        "    self.personalData = {}       # Dictionary of Personal Data\n",
        "    self.transactionalData = {}  # Dictionary of Transactional Data\n",
        "    self.allowedInstutions = {}  # Dictionary SourceInstitution: DestinationInstitution\n",
        "  \n",
        "  # Accept Data Sharing\n",
        "  # This function aims to record the data subject wills regarding data sharing.\n",
        "  # This function expects the Source Instittution ID and the Destination InstitutionID\n",
        "  def acceptDataSharingByOpenBanking(self, sourceInstitutionID, destinationInstitutionID):\n",
        "    if self.allowedInstutions.get(sourceInstitutionID) == destinationInstitutionID:\n",
        "      return None\n",
        "    else:\n",
        "      self.allowedInstutions[sourceInstitutionID] = destinationInstitutionID\n",
        "      return True"
      ],
      "metadata": {
        "id": "wurVYYuHBtqI"
      },
      "id": "wurVYYuHBtqI",
      "execution_count": 3,
      "outputs": []
    },
    {
      "cell_type": "markdown",
      "source": [
        "Now, we can create the person Mark. His ID is 35512367800."
      ],
      "metadata": {
        "id": "dBtw8cDARl3Q"
      },
      "id": "dBtw8cDARl3Q"
    },
    {
      "cell_type": "code",
      "source": [
        "mark = DataSubject('35512367800')\n",
        "mark.personalData = {'name':'Mark','email':'mark@mail.com','cellphone':'+1 98638293756'}"
      ],
      "metadata": {
        "id": "sXzZFuJTRe_R"
      },
      "id": "sXzZFuJTRe_R",
      "execution_count": 4,
      "outputs": []
    },
    {
      "cell_type": "markdown",
      "source": [
        "Now, let's insert the Mark's transactional data"
      ],
      "metadata": {
        "id": "_4icGBUf2ENP"
      },
      "id": "_4icGBUf2ENP"
    },
    {
      "cell_type": "code",
      "source": [
        "mark.transactionalData = {'Account Balance':250,\n",
        "                           'Credit Card Type':'Platinum',\n",
        "                           'Limit':5000, \n",
        "                           'Transactions':{'supermarket':300,\n",
        "                                           'library':700,\n",
        "                                           'drugstore':100}}"
      ],
      "metadata": {
        "id": "Yq2KiW_U2TDm"
      },
      "id": "Yq2KiW_U2TDm",
      "execution_count": 5,
      "outputs": []
    },
    {
      "cell_type": "markdown",
      "source": [
        "You can verify if Mark was created correctly by printing his data"
      ],
      "metadata": {
        "id": "QjijH1aUXgvE"
      },
      "id": "QjijH1aUXgvE"
    },
    {
      "cell_type": "code",
      "source": [
        "print('ID:')\n",
        "print(mark.id)\n",
        "\n",
        "print('\\n')\n",
        "\n",
        "print('Consents:')\n",
        "print(len(mark.consents))"
      ],
      "metadata": {
        "colab": {
          "base_uri": "https://localhost:8080/"
        },
        "id": "7h93UyfVXgA5",
        "outputId": "f8129f63-d10a-49a5-b93f-3006564e8ff0"
      },
      "id": "7h93UyfVXgA5",
      "execution_count": 6,
      "outputs": [
        {
          "output_type": "stream",
          "name": "stdout",
          "text": [
            "ID:\n",
            "35512367800\n",
            "\n",
            "\n",
            "Consents:\n",
            "0\n"
          ]
        }
      ]
    },
    {
      "cell_type": "markdown",
      "source": [
        "As expected, there is no consent associated to Mark for a while."
      ],
      "metadata": {
        "id": "ljB9inICVbL6"
      },
      "id": "ljB9inICVbL6"
    },
    {
      "cell_type": "markdown",
      "source": [
        "#### Data Controller\n",
        "For this actor, we will will define the following data structure:\n",
        "- Data Controller ID, i.e., an identification number\n",
        "- Data Controller Consent List, i.e., a list of consents issued by the Data Controller\n",
        "- Data Controller Contact, i.e., an address or other information that allow the Data Subject to send questions and requests.\n",
        "- Data Controller Communication Channel, i.e., the means that the Data Subject can contact the Data Controller.\n",
        "- A dictionary where the dict key represents the Data Subject ID and the dict value represents a boolean (**true** or **false**) to indicate if the Data Controller is processing or not information from the Data Subject. If a dict key presents **no value**, it means the Data Controller never processed the Data Subject information. If a dict key presents a **'false'** value, it means that the Data Controller processed the information in the past, but now it is not processing anymore. Last but not least, if a dict key presents the a **'true'** value, it means that the Data Controller is processing the Data Subject information.\n",
        "- List of Clients, i.e., a list of Data Subjects that agreed with the Data Controller consent term directly, or through the open banking functions"
      ],
      "metadata": {
        "id": "7LAAWJUOTqka"
      },
      "id": "7LAAWJUOTqka"
    },
    {
      "cell_type": "code",
      "source": [
        "class DataController:\n",
        "  def __init__(self,id,contact,communiactionChannel):\n",
        "    self.id = id\n",
        "    self.consents = []\n",
        "    self.contact = contact\n",
        "    self.communiactionChannel = communiactionChannel\n",
        "    self.isProcessing = {} #Dictionary DataSubjectID:Boolean\n",
        "    self.clients = []\n",
        "\n",
        "  # Set Client Data\n",
        "  # This function aims to store personal and transactional data from the Data Subject.\n",
        "  # This function expects the consentID which demonstrates that the data subject agreed with the consent term,\n",
        "  #  ClientID, i.e., the client identification\n",
        "  #  ClientPersonalData, i.e., the client personal data\n",
        "  #  ClientTransactionalData, i.e., the client transactional data\n",
        "  # This function returns False if the consent presents the status different of Authorized,\n",
        "  #  and True otherwise\n",
        "  def setClientData(self, consentID, clientID, clientPersonalData, clientTransactionalData):\n",
        "    for consent in self.consents:\n",
        "      if consent.id == consentID:\n",
        "        if consent.status != 'Authorised':\n",
        "          log.registerAction('Data Controller is not allowed to get the Data Subject information',log.EXPLANATION,log.PROHIBITION)\n",
        "          return False\n",
        "        else:\n",
        "          dataSubject = DataSubject(clientID)\n",
        "          dataSubject.personalData = clientPersonalData\n",
        "          dataSubject.transactionalData = clientTransactionalData\n",
        "          \n",
        "          self.clients.append(dataSubject)\n",
        "          \n",
        "          log.registerAction('Data Controller got personal and transactional data from the Data Subject',log.COMMUNICATION,log.PERMISSION)\n",
        "          return True\n",
        "  \n",
        "  # Get Client\n",
        "  # This function aims find a client by its ID, if it exists\n",
        "  # This function expects the client ID\n",
        "  # This function returns a Data Subject object if the ID matches with the Data Controller clients array,\n",
        "  #  or False otherwise\n",
        "  def getClient(self, clientID):\n",
        "    for client in self.clients:\n",
        "      if client.id == clientID:\n",
        "        return client\n",
        "    return False\n",
        "\n",
        "  # Export Data\n",
        "  # This function aims to export data to allow other institution to import, enabling the openbanking data exchange\n",
        "  # This function expects the Data Subject ID to find and export its data\n",
        "  # This function returns a Data Subject object if the Data Subject ID match with the available data controller's clients,\n",
        "  #  or false otherwise\n",
        "  def exportData(self, dataSubjectID):\n",
        "    for client in self.clients:\n",
        "      if client.id == dataSubjectID:\n",
        "        log.registerAction('Data Controller '+str(self.id)+' exported personal and transactional data from Data Subject '+str(dataSubjectID),log.EXPLANATION,log. OBLIGATION)\n",
        "        return client\n",
        "    return False\n",
        "\n",
        "  # Import Data\n",
        "  # This function aims to import data from other institution.\n",
        "  # This funcions expects to receive a Data Subject object\n",
        "  def importData(self, exportedData):\n",
        "    dataSubject = exportedData\n",
        "    if self.isProcessing.get(dataSubject.id):\n",
        "      self.clients.append(dataSubject)\n",
        "      log.registerAction('Data Controller '+str(self.id)+' imported personal and transactional data from Data Subject '+str(dataSubject.id),log.COMMUNICATION,log.PERMISSION)\n",
        "      return True\n",
        "    log.registerAction('Data Controller '+str(self.id)+' is not allowed to import data from Data Subject '+str(dataSubject.id),log.EXPLANATION,log.PROHIBITION)\n",
        "    return False\n",
        "      \n"
      ],
      "metadata": {
        "id": "wKGQb1QtHhOd"
      },
      "id": "wKGQb1QtHhOd",
      "execution_count": 7,
      "outputs": []
    },
    {
      "cell_type": "markdown",
      "source": [
        "Now, we can create the company Bank A. Its ID is 00345 and the Data Subjects can contact the Data Controller by mail (contact@banka.com)."
      ],
      "metadata": {
        "id": "752l4sonT2Fj"
      },
      "id": "752l4sonT2Fj"
    },
    {
      "cell_type": "code",
      "source": [
        "bankA = DataController('00345','contact@banka.com','email')"
      ],
      "metadata": {
        "id": "_iStgoe8T2q4"
      },
      "id": "_iStgoe8T2q4",
      "execution_count": 8,
      "outputs": []
    },
    {
      "cell_type": "markdown",
      "source": [
        "Bank details:"
      ],
      "metadata": {
        "id": "MhF-sVhsYIKs"
      },
      "id": "MhF-sVhsYIKs"
    },
    {
      "cell_type": "code",
      "source": [
        "print('ID:')\n",
        "print(bankA.id)\n",
        "\n",
        "print('\\n')\n",
        "\n",
        "print('Consents:')\n",
        "print(len(bankA.consents))\n",
        "\n",
        "print('\\n')\n",
        "\n",
        "print('Contact:')\n",
        "print(bankA.contact)\n",
        "\n",
        "print('\\n')\n",
        "\n",
        "print('Communication Channel:')\n",
        "print(bankA.communiactionChannel)"
      ],
      "metadata": {
        "colab": {
          "base_uri": "https://localhost:8080/"
        },
        "id": "62_EZXfgYI6a",
        "outputId": "59129e96-6555-4a5f-e843-238f31b2c92f"
      },
      "id": "62_EZXfgYI6a",
      "execution_count": 9,
      "outputs": [
        {
          "output_type": "stream",
          "name": "stdout",
          "text": [
            "ID:\n",
            "00345\n",
            "\n",
            "\n",
            "Consents:\n",
            "0\n",
            "\n",
            "\n",
            "Contact:\n",
            "contact@banka.com\n",
            "\n",
            "\n",
            "Communication Channel:\n",
            "email\n"
          ]
        }
      ]
    },
    {
      "cell_type": "markdown",
      "source": [
        "In order to create the required actors in this scenario, follow below the code to instanciate Bank B. Mark will share his data from Bank A to Bank B in the next scenes."
      ],
      "metadata": {
        "id": "qV9JdBL3taMN"
      },
      "id": "qV9JdBL3taMN"
    },
    {
      "cell_type": "code",
      "source": [
        "bankB = DataController('48634','contact@bankb.com','email')"
      ],
      "metadata": {
        "id": "o8YXX2555YGs"
      },
      "id": "o8YXX2555YGs",
      "execution_count": 10,
      "outputs": []
    },
    {
      "cell_type": "markdown",
      "source": [
        "---------"
      ],
      "metadata": {
        "id": "saBInixahtkU"
      },
      "id": "saBInixahtkU"
    },
    {
      "cell_type": "markdown",
      "source": [
        "#### Scene 1 - Setting up the consent term\n",
        "A data subject which aims to share its financial data should be aware which permissions it is giving to the data controller.\n",
        "\n",
        "The [Open Banking Consent API Documentation](https://openbanking.atlassian.net/wiki/spaces/DZ/pages/1077805332/Account+Access+Consents+v3.1.2) presents the following UML Diagram, which depicts the attributes required when the data subject is requested to share its data.\n",
        "\n",
        "![Consent Attributes](https://openbanking.atlassian.net/wiki/download/attachments/1077805332/OBReadConsentResponse1.gif?version=1&modificationDate=1556635325535&cacheVersion=1&api=v2)\n",
        "\n",
        "This means that there are many permissions that a data controller may request:\n",
        "ReadAccountsBasic,\n",
        "ReadAccountsDetail,\n",
        "ReadBalances,\n",
        "ReadBeneficiariesBasic,\n",
        "ReadBeneficiariesDetail,\n",
        "ReadDirectDebits,\n",
        "ReadOffers,\n",
        "ReadPAN,\n",
        "ReadParty,\n",
        "ReadPartyPSU,\n",
        "ReadProducts,\n",
        "ReadScheduledPaymentsBasic,\n",
        "ReadScheduledPaymentsDetail,\n",
        "ReadStandingOrdersBasic,\n",
        "ReadStandingOrdersDetail,\n",
        "ReadStatementsBasic,\n",
        "ReadStatementsDetail,\n",
        "ReadTransactionsBasic,\n",
        "ReadTransactionsCredits,\n",
        "ReadTransactionsDebits,\n",
        "ReadTransactionsDetail.\n",
        "\n",
        "For our context, let's consider only these four: ReadAccountsBasic ReadAccountsDetail, ReadBalances, ReadOffers, and ReadProducts.\n",
        "\n",
        "However, there are more attributes that we should list in order to compy with Data Regulation. \n",
        "\n",
        "For Data Regulation, we considered the LGPD (Brazilian Data Protection Law) and the [Consent Ontology](https://github.com/phalves/ConFIA/blob/main/ConsentOntology.md), but you can change the attributes by executing an ontology alignment. This alignment will enable you to reflect the ontology attributes on this sandbox.\n",
        "\n",
        "----"
      ],
      "metadata": {
        "id": "8GMPfGZnNYVz"
      },
      "id": "8GMPfGZnNYVz"
    },
    {
      "cell_type": "markdown",
      "id": "e030a8e9",
      "metadata": {
        "id": "e030a8e9"
      },
      "source": [
        "The first step is the consent setup. The consent must have all information described in the LGPD Art. 9. The following method receives all the required information.\n",
        "\n",
        "**General information (Data Subject, Data Controller, Personal and Sensitive Data)**\n",
        "\n",
        "The **Data Subject Mark** allows the **Data Controller Bank B** to access, store, and process his personal and transactional data from Bank A in order to **offer products and services**, **allowing Bank B to send offers appropriately based on Mark's data**. \n",
        "\n",
        "**Data Controller collection, processing, and storing guidelines**\n",
        "\n",
        "Mark's personal and transactional data will be shared with Bank B under strict governance policies that guarantee that only the information required to execute their functions will be shared. The employees will respond to any unauthorized data access, leak, or other activities that may expose or cause any loss to the data subject. None information will be publicly available without a previous consent acceptance.\n",
        "\n",
        "**Processing and storing time**\n",
        "\n",
        "The personal and transactional data will be available, stored, and processed while the data subject has an active consent term with Bank A and Bank B. **A new consent term will be required in two situations:**\n",
        " - when there is an update on the consent term;\n",
        " - when the data subject changes the data that he wants to share or change the time range;\n",
        " - when the due date is accomplished.\n",
        "\n",
        "**Consent expiration date**\n",
        "Therefore, this **consent term is valid for twelve months at most considering the open banking rules**. The data subject may renew the consent or revoke it at any time.\n",
        "\n",
        "**Security measures**\n",
        "Bank B will apply **cryptographic algorithms** and **access policies** to avoid data breaches and unauthorized access. The personal and transactional data will be **stored in a private cloud** where Bank B has complete control of applied technologies. \n",
        "\n",
        "**Third-party data sharing**\n",
        "The Data Controller Bank B is not allowed to **share** the Data Subject data, except for cases that the government requires such data.\n",
        "\n",
        "**Contact information**\n",
        "To make any request, please use the Data Controller communication channel by **email lgpd@bankb.br**.\n",
        "\n",
        "\n",
        "PS: The Data Controllers must inform in any case if they are processing the personal data if requested.\n",
        "\n",
        "---\n"
      ]
    },
    {
      "cell_type": "markdown",
      "source": [
        "\n",
        "The following code aims to represent the data regulation concept with fucntions to set the Data Subject and Data Controller's rights."
      ],
      "metadata": {
        "id": "BBqmTQhl7t4z"
      },
      "id": "BBqmTQhl7t4z"
    },
    {
      "cell_type": "code",
      "source": [
        "# Data Regulation Class\n",
        "class DataRegulation:\n",
        "  \n",
        "  # This class requires the Data Regulation name, an array of Data Subject's \n",
        "  #  rights, and an array of Data Controller rights\n",
        "  def __init__(self, _name, _dataSubjectRights, _dataControllerRights):\n",
        "    self.name = _name\n",
        "    self.dataSubjectRights = _dataSubjectRights\n",
        "    self.dataControllerRights = _dataControllerRights\n",
        "  \n",
        "  # Override Data Subject Rights\n",
        "  # This function aims to override the Data Subject's rights array with a new\n",
        "  #  array elements \n",
        "  def overrideDataSubjectRights(self, _rights):\n",
        "    self.dataSubjectRights = _rights\n",
        "\n",
        "  # Override Data Controller Rights\n",
        "  # This function aims to override the Data Controller's rights array with a new\n",
        "  #  array elements\n",
        "  def overrideDataControllerRights(self, _rights):\n",
        "    self.dataSubjectRights = _rights\n",
        "\n",
        "  # Add a Data Subject Right\n",
        "  # This function aims to add a right to the Data Subject array elements\n",
        "  def addDataSubjectRight(self, _right):\n",
        "    self.dataSubjectRights.append(_right)\n",
        "\n",
        "  # Add a Data Controller Right\n",
        "  # This function aims to add a right to the Data Controller array elements\n",
        "  def addDataControllerRight(self, _right):\n",
        "    self.dataSubjectRights.append(_right)\n",
        "\n",
        "  # Remove a Data Subject Right\n",
        "  # This function aims to remove a right to the Data Subject array elements\n",
        "  def removeDataSubjectRight(self, _right):\n",
        "    if _right in self.dataSubjectRights:\n",
        "      self.dataSubjectRights.remove(_right)\n",
        "  \n",
        "  # Remove a Data Controller Right\n",
        "  # This function aims to remove a right to the Data Controller array elements\n",
        "  def removeDataControllerRight(self, _right):\n",
        "    if _right in self.dataControllerRights:\n",
        "      self.dataControllerRights.remove(_right)\n",
        "\n"
      ],
      "metadata": {
        "id": "PRrklJ7_r-Ny"
      },
      "id": "PRrklJ7_r-Ny",
      "execution_count": 11,
      "outputs": []
    },
    {
      "cell_type": "markdown",
      "source": [
        "In order to instantiate LGPD, the LGPD class inherits the DataRegulation class and set the minimum data required by LGPD. Also, this class specifies the Data Subject and the Data Controller rights according LGPD as well."
      ],
      "metadata": {
        "id": "I75IolxR8OJX"
      },
      "id": "I75IolxR8OJX"
    },
    {
      "cell_type": "code",
      "source": [
        "# LGPD Class\n",
        "# This class inherits the Data Regulation Class\n",
        "class LGPD(DataRegulation):\n",
        "\n",
        "  # LGPD Data Subject Rights\n",
        "  DATA_ACCESS        = 'Data Access'\n",
        "  DATA_COPY          = 'Data Copy'\n",
        "  DATA_CORRECTION    = 'Data Correction'\n",
        "  DATA_ANONYMIZATION = 'Data Anonymization'\n",
        "  DATA_PORTABILITY   = 'Data Portability'\n",
        "  DATA_DELETION      = 'Data Deletion'\n",
        "  THIRD_PARTY_SHARING = 'Information regarding the data sharing with a third party'\n",
        "  CONSENT_REVOCATION = 'Request consent revocation'\n",
        "\n",
        "  # LGPD Data Controller Rights\n",
        "  DATA_PROCESSING  = 'Data Processing'\n",
        "  DATA_COLLECTING  = 'Data Collecting'\n",
        "  DATA_STORING     = 'Data Storing'\n",
        "\n",
        "  # Data Regulation Name\n",
        "  NAME = 'LGPD'\n",
        "\n",
        "  # LGPD class will always set this group of rights to the Data Subjects and\n",
        "  #  to the Data Controllers\n",
        "  def __init__(self):\n",
        "    self.dataSubjectRights = [self.DATA_ACCESS,self.DATA_COPY,self.DATA_CORRECTION,\n",
        "                            self.DATA_ANONYMIZATION,self.DATA_PORTABILITY,\n",
        "                            self.DATA_DELETION,self.THIRD_PARTY_SHARING,\n",
        "                            self.CONSENT_REVOCATION]\n",
        "    \n",
        "    self.dataControllerRights = [self.DATA_PROCESSING,\n",
        "                                self.DATA_COLLECTING,\n",
        "                                self.DATA_STORING]\n",
        "    \n",
        "    super().__init__(self.NAME,self.dataSubjectRights,self.dataControllerRights)\n",
        "  \n",
        "  # Set Minium Data Required in the Consent Term\n",
        "  # This function aims to set in the consent term the minimum data required by\n",
        "  #  the data regulation. Here you can add the params required for a consent \n",
        "  #  ruled by the data regulation\n",
        "  def setMinimumDataRequiredInConsentTerm(self, purpose, specificPurpose, \n",
        "                                          thirdParySharingPurpose, criptographyAlgoritm, \n",
        "                                          accessPolicies, storagePlatform, \n",
        "                                          validForQuantityOfMonths):\n",
        "     \n",
        "    self.purpose = purpose\n",
        "    self.specificPurpose = specificPurpose\n",
        "    self.thirdParySharingPurpose = thirdParySharingPurpose\n",
        "    self.criptographyAlgoritm = criptographyAlgoritm\n",
        "    self.accessPolicies = accessPolicies\n",
        "    self.storagePlatform = storagePlatform\n",
        "    self.validForQuantityOfMonths = validForQuantityOfMonths\n",
        "\n",
        " \n",
        "#openBanking.removeDataSubjectRight('Data Access')\n",
        "#print(openBanking.dataSubjectRights)    "
      ],
      "metadata": {
        "id": "xqrjYOzv8PpK"
      },
      "id": "xqrjYOzv8PpK",
      "execution_count": 12,
      "outputs": []
    },
    {
      "cell_type": "markdown",
      "source": [
        "\n",
        "The Consent Class aims to represent the consent term, its status and the Data Subject and the Data Controller's Rights. Questions regarding these Rights emerge when a concept is accepted or revoked."
      ],
      "metadata": {
        "id": "mFIfD1sR7guS"
      },
      "id": "mFIfD1sR7guS"
    },
    {
      "cell_type": "code",
      "source": [
        "## Libraries ##\n",
        "# This library is used to generate a unique identification number\n",
        "import uuid \n",
        "\n",
        "# This library is used to perform adding numbers to months to walk back and forward from the current time\n",
        "from dateutil.relativedelta import relativedelta \n",
        "\n",
        "## Global Static Variables ###\n",
        "# Consent Status possibilities\n",
        "AWAITING_AUTHORISATION = 'AwaitingAuthorisation'\n",
        "AUTHORISED            = 'Authorised'\n",
        "REJECTED              = 'Rejected'\n",
        "REVOKED               = 'Revoked'\n",
        "\n",
        "# Data Subject Rights\n",
        "DATA_ACCESS        = 'Data Access'\n",
        "DATA_COPY          = 'Data Copy'\n",
        "DATA_CORRECTION    = 'Data Correction'\n",
        "DATA_ANONYMIZATION = 'Data Anonymization'\n",
        "DATA_PORTABILITY   = 'Data Portability'\n",
        "DATA_DELETION      = 'Data Deletion'\n",
        "THIRD_PARTY_SHARING = 'Information regarding the data sharing with a third party'\n",
        "CONSENT_REVOCATION = 'Request consent revocation'\n",
        "\n",
        "# Data Controller Rights\n",
        "DATA_PROCESSING  = 'Data Processing'\n",
        "DATA_COLLECTING  = 'Data Collecting'\n",
        "DATA_STORING     = 'Data Storing'\n",
        "\n",
        "# Consent Class\n",
        "class Consent:\n",
        "  def __init__(self, _dataRegulation, _dataSubjectID, _dataControllerID):\n",
        "    self.dataSubjectID = _dataSubjectID\n",
        "    self.dataControllerID = _dataControllerID\n",
        "    \n",
        "    self.id = uuid.uuid4()                   # Unique Consent ID is generated when the function is called\n",
        "    self.creationTime = datetime.today()     # Creation Time is generated when the function is called\n",
        "    self.validFor = _dataRegulation.validForQuantityOfMonths\n",
        "    self.expirationDateTime = self.creationTime + relativedelta(months=_dataRegulation.validForQuantityOfMonths)\n",
        "    self.statusUpdatedTime = datetime.today()\n",
        "\n",
        "    self.dataRegulation = _dataRegulation\n",
        "\n",
        "  # Accept Concent Function\n",
        "  # This function aims to change the consent status (following the Open Baking API guidelines),\n",
        "  #  update the Data Subject and the Data Controller Rights (following the Data Regulation guidelines)\n",
        "  def acceptConsent(self,dataSubjectID,dataSubjectPersonalData,dataSubjectTransactionalData,dataController):\n",
        "\n",
        "    self.status = AUTHORISED\n",
        "    self.startDateTime = datetime.today()\n",
        "    self.statusUpdatedTime = datetime.today()\n",
        "\n",
        "    self.dataSubjectRights = self.dataRegulation.dataSubjectRights\n",
        "    self.dataControllerRights = self.dataRegulation.dataControllerRights\n",
        "    dataController.isProcessing[dataSubjectID]=True\n",
        "\n",
        "    self.dataSubjectPersonalData = dataSubjectPersonalData\n",
        "    self.dataSubjectTransactionalData = dataSubjectTransactionalData\n",
        "\n",
        "    log.registerAction('Data Subject '+ str(dataSubjectID) +' accepted the consent term',log.COMMUNICATION,log.PERMISSION)\n",
        "    log.registerAction('Data Subject can now have all foressen rights',log.EXPLANATION,log.PERMISSION)\n",
        "    log.registerAction('Data Controller '+ str(dataController.id) +' can process the Data Subject information from '+str(self.startDateTime.date())+' to '+str(self.expirationDateTime.date()),log.EXPLANATION,log.PERMISSION)\n",
        "\n",
        "  # Revoke Concent Function\n",
        "  # This function aims to change the consent status (following the Open Baking API guidelines),\n",
        "  #  update the Data Subject and the Data Controller Rights (following the Data Regulation guidelines)\n",
        "  def revokeConsent(self,dataSubjectID,dataController):\n",
        "    if CONSENT_REVOCATION not in self.dataSubjectRights:\n",
        "      log.registerAction('Data Controller '+ dataController.id +' has not an available consent from '+dataSubjectID,log.EXPLANATION,log.PERMISSION)\n",
        "      return False\n",
        "    \n",
        "    # Consent atrributes\n",
        "    self.status = REVOKED\n",
        "    self.expirationDateTime = datetime.today()\n",
        "    self.statusUpdatedTime = datetime.today()\n",
        "    self.permissions = []\n",
        "    \n",
        "    # Data Subject and Data Controller Rights\n",
        "    self.dataSubjectRights = [DATA_ACCESS,DATA_COPY,DATA_CORRECTION,\n",
        "                              DATA_ANONYMIZATION,DATA_PORTABILITY,\n",
        "                              DATA_DELETION]\n",
        "    self.dataControllerRights = [DATA_STORING]\n",
        "    dataController.isProcessing[dataSubjectID]=False\n",
        "\n",
        "    log.registerAction('Data Subject '+ str(dataSubjectID) +'  requested to the Data Controller to revoke his/her consent',log.COMMUNICATION,log.PROHIBITION)\n",
        "    log.registerAction('From now, the Data Controller '+ dataController.id +' cannot collect the Data Subject information',log.COMMUNICATION,log.PROHIBITION)\n",
        "    log.registerAction('From now, the Data Controller '+ dataController.id +' cannot process the Data Subject information',log.COMMUNICATION,log.PROHIBITION)\n",
        "    log.registerAction('From now '+str(self.expirationDateTime.date())+', consent '+ str(self.id) +' is not valid to be used by the data controller',log.EXPLANATION,log.PROHIBITION)\n",
        "\n",
        "    return True"
      ],
      "metadata": {
        "id": "TqwKjjzoG-q_"
      },
      "execution_count": 13,
      "outputs": [],
      "id": "TqwKjjzoG-q_"
    },
    {
      "cell_type": "markdown",
      "source": [
        "OpenBankingConsent inherits the Consent class and provided domain specificities, such as the Data Controller permisisons in the Open Banking context and the period of time that the Data Controller is allowed to consult the Data Subject transactional history."
      ],
      "metadata": {
        "id": "b0IFHWRI9C5q"
      },
      "id": "b0IFHWRI9C5q"
    },
    {
      "cell_type": "code",
      "source": [
        "class OpenBankingConsent(Consent):\n",
        "  \n",
        "  def __init__(self, _dataRegulation,_dataSubjectID,_dataControllerID):\n",
        "    super().__init__(_dataRegulation,_dataSubjectID,_dataControllerID)\n",
        "\n",
        "  # Create Consent Function based on the required information described in the current Data Regulation\n",
        "  # This function expects to receive the consent purpose, the specific purpose,\n",
        "  #  the third party sharing purpose (if needed), the data controller information,\n",
        "  #  how long this consent is valid, and how many months before the creation data \n",
        "  #  the Data Controller can get the Data Controller data.\n",
        "  def createConsent(self, monthsAllowedToQueryBackwards):\n",
        "    \n",
        "    # Open Banking API Params\n",
        "    self.status = AWAITING_AUTHORISATION \n",
        "    self.permissions = ['ReadAccountsBasic','ReadAccountsDetail','ReadBalances','ReadOffers','ReadProducts']\n",
        "    self.transactionFromDateTime = self.creationTime - relativedelta(months=monthsAllowedToQueryBackwards)\n",
        "    self.transactionToDateTime = self.expirationDateTime\n",
        "    self.statusUpdatedTime = datetime.today()\n",
        "  \n",
        "    # Data Regulation Params\n",
        "    # Here you can add the params required for a consent ruled by the data regulation\n",
        "    self.dataSubjectRights = []\n",
        "    self.dataControllerRights = []\n",
        "\n",
        "    # Log\n",
        "    log.registerAction('A new consent term was generated, but it was not accepted yet ID: '+str(self.id)+' Current Status: '+str(self.status),log.COMMUNICATION,log.PERMISSION)\n",
        "    "
      ],
      "metadata": {
        "id": "j91pj7-V9DbI"
      },
      "id": "j91pj7-V9DbI",
      "execution_count": 14,
      "outputs": []
    },
    {
      "cell_type": "markdown",
      "source": [
        "Now, lets create a new consent following the above scenario description."
      ],
      "metadata": {
        "id": "__C-8gltfSip"
      },
      "id": "__C-8gltfSip"
    },
    {
      "cell_type": "code",
      "source": [
        "openBankingRegulationBankA = LGPD()\n",
        "openBankingRegulationBankA.setMinimumDataRequiredInConsentTerm('offer_products_and_services',\n",
        "                                                              'create_specific_offers',\n",
        "                                                              'anonymized_data_analytics','SHA256',\n",
        "                                                              'Authorized employees can access the data only',\n",
        "                                                              'Bank A private cloud',60)\n",
        "\n",
        "\n",
        "consentBankA = OpenBankingConsent(openBankingRegulationBankA,mark.id,bankA.id)\n",
        "consentBankA.createConsent(12)\n",
        "\n",
        "bankA.consents.append(consentBankA)"
      ],
      "metadata": {
        "id": "pOz8t4JafTCI"
      },
      "id": "pOz8t4JafTCI",
      "execution_count": 15,
      "outputs": []
    },
    {
      "cell_type": "markdown",
      "source": [
        "And lets print some data from this consent term."
      ],
      "metadata": {
        "id": "DX2pQzVgf6CD"
      },
      "id": "DX2pQzVgf6CD"
    },
    {
      "cell_type": "code",
      "source": [
        "print('---- A new consent was create ----\\n')\n",
        "print('Consent unique identification code:  '+str(consentBankA.id))\n",
        "print('This consent was created on:         '+str(consentBankA.creationTime.date()))\n",
        "print('Current consent status:              '+str(consentBankA.status))\n",
        "print('The Data Controller will have the following permissions: '+str(consentBankA.permissions))\n",
        "print('This consent will expire on:         '+str(consentBankA.expirationDateTime.date()))\n",
        "print('The data controller will be able to access the data subject transactions from: '+str(consentBankA.transactionFromDateTime.date())+' to '+str(consentBankA.transactionToDateTime.date()))"
      ],
      "metadata": {
        "colab": {
          "base_uri": "https://localhost:8080/"
        },
        "id": "i0RbZVYsf6mu",
        "outputId": "9828d3c1-844d-4f05-e541-bbed48430406"
      },
      "id": "i0RbZVYsf6mu",
      "execution_count": 16,
      "outputs": [
        {
          "output_type": "stream",
          "name": "stdout",
          "text": [
            "---- A new consent was create ----\n",
            "\n",
            "Consent unique identification code:  f881d2c0-5024-4850-8cc7-e401134407ff\n",
            "This consent was created on:         2022-08-11\n",
            "Current consent status:              AwaitingAuthorisation\n",
            "The Data Controller will have the following permissions: ['ReadAccountsBasic', 'ReadAccountsDetail', 'ReadBalances', 'ReadOffers', 'ReadProducts']\n",
            "This consent will expire on:         2027-08-11\n",
            "The data controller will be able to access the data subject transactions from: 2021-08-11 to 2027-08-11\n"
          ]
        }
      ]
    },
    {
      "cell_type": "markdown",
      "source": [
        "And lets associate the consent term to Mark"
      ],
      "metadata": {
        "id": "edndsM-ogJks"
      },
      "id": "edndsM-ogJks"
    },
    {
      "cell_type": "code",
      "source": [
        "mark.consents.append(consentBankA)\n",
        "\n",
        "log.registerAction('Consent requested to the Data Subject. ID: '+str(consentBankA.id)+' Current Status: '+str(consentBankA.status),log.COMMUNICATION,log.PERMISSION)\n",
        "\n",
        "print('Consent unique identification code: '+str(consentBankA.id))\n",
        "print('Current consent status: '+str(consentBankA.status))"
      ],
      "metadata": {
        "id": "amZ-OR-sI_3m",
        "colab": {
          "base_uri": "https://localhost:8080/"
        },
        "outputId": "ac9af2f3-40f5-4494-df89-059041cd6944"
      },
      "id": "amZ-OR-sI_3m",
      "execution_count": 17,
      "outputs": [
        {
          "output_type": "stream",
          "name": "stdout",
          "text": [
            "Consent unique identification code: f881d2c0-5024-4850-8cc7-e401134407ff\n",
            "Current consent status: AwaitingAuthorisation\n"
          ]
        }
      ]
    },
    {
      "cell_type": "markdown",
      "source": [
        "And lets performs the Mark acceptance action."
      ],
      "metadata": {
        "id": "dbCwse_DgThu"
      },
      "id": "dbCwse_DgThu"
    },
    {
      "cell_type": "code",
      "source": [
        "mark.consents[-1].acceptConsent(mark.id,mark.personalData,mark.transactionalData,bankA) # Use -1 to get the most recent consent presented to the Data Subject"
      ],
      "metadata": {
        "id": "nx_0ZdvJgTF1"
      },
      "id": "nx_0ZdvJgTF1",
      "execution_count": 18,
      "outputs": []
    },
    {
      "cell_type": "markdown",
      "source": [
        "Last but not least, lets print the current status of this consent, that should be changed from **AwaitingAuthorisation** to **Authorised**"
      ],
      "metadata": {
        "id": "wTfnZyh0gx0K"
      },
      "id": "wTfnZyh0gx0K"
    },
    {
      "cell_type": "code",
      "source": [
        "print('Consent unique identification code: '+str(consentBankA.id))\n",
        "print('Current consent status: '+str(consentBankA.status))"
      ],
      "metadata": {
        "colab": {
          "base_uri": "https://localhost:8080/"
        },
        "id": "UAT4FRE1hAC0",
        "outputId": "15b2eab6-74a7-4206-9aa5-805c80144085"
      },
      "id": "UAT4FRE1hAC0",
      "execution_count": 19,
      "outputs": [
        {
          "output_type": "stream",
          "name": "stdout",
          "text": [
            "Consent unique identification code: f881d2c0-5024-4850-8cc7-e401134407ff\n",
            "Current consent status: Authorised\n"
          ]
        }
      ]
    },
    {
      "cell_type": "markdown",
      "source": [
        "Now, Bank A can store Mark's personal and transactional data."
      ],
      "metadata": {
        "id": "9_S0DpeHgOTJ"
      },
      "id": "9_S0DpeHgOTJ"
    },
    {
      "cell_type": "code",
      "source": [
        "bankA.setClientData(mark.consents[-1].id,mark.id,mark.personalData,mark.transactionalData)"
      ],
      "metadata": {
        "colab": {
          "base_uri": "https://localhost:8080/"
        },
        "id": "H7032EbLc-13",
        "outputId": "ba4b9f73-796c-40b1-e4cc-84f52515cabe"
      },
      "id": "H7032EbLc-13",
      "execution_count": 20,
      "outputs": [
        {
          "output_type": "execute_result",
          "data": {
            "text/plain": [
              "True"
            ]
          },
          "metadata": {},
          "execution_count": 20
        }
      ]
    },
    {
      "cell_type": "code",
      "source": [
        "print('Data Controller is processing data subject information? '+str(bankA.isProcessing.get(mark.id))+'\\n')\n",
        "log.printLog()"
      ],
      "metadata": {
        "colab": {
          "base_uri": "https://localhost:8080/"
        },
        "id": "6grKXCjBkea4",
        "outputId": "61c26b39-03b8-408d-fbb8-d95f0b85c252"
      },
      "id": "6grKXCjBkea4",
      "execution_count": 21,
      "outputs": [
        {
          "output_type": "stream",
          "name": "stdout",
          "text": [
            "Data Controller is processing data subject information? True\n",
            "\n",
            "Date; Event; Type; Deontic Concept\n",
            "2022-08-11 22:11:40.563175; A new consent term was generated, but it was not accepted yet ID: f881d2c0-5024-4850-8cc7-e401134407ff Current Status: AwaitingAuthorisation; Communication;  Permission\n",
            "2022-08-11 22:11:40.590675; Consent requested to the Data Subject. ID: f881d2c0-5024-4850-8cc7-e401134407ff Current Status: AwaitingAuthorisation; Communication;  Permission\n",
            "2022-08-11 22:11:40.606113; Data Subject 35512367800 accepted the consent term; Communication;  Permission\n",
            "2022-08-11 22:11:40.606128; Data Subject can now have all foressen rights; Explanation;  Permission\n",
            "2022-08-11 22:11:40.606143; Data Controller 00345 can process the Data Subject information from 2022-08-11 to 2027-08-11; Explanation;  Permission\n",
            "2022-08-11 22:11:40.631786; Data Controller got personal and transactional data from the Data Subject; Communication;  Permission\n"
          ]
        }
      ]
    },
    {
      "cell_type": "markdown",
      "source": [
        "Once Mark has a bank account in Bank A. Now, Mark needs to accept the consent term presented by Bank B, to use open banking to share his data."
      ],
      "metadata": {
        "id": "2rakcIRQv-x4"
      },
      "id": "2rakcIRQv-x4"
    },
    {
      "cell_type": "markdown",
      "id": "78ad55c8",
      "metadata": {
        "id": "78ad55c8"
      },
      "source": [
        "### Scene 2: Data Subject agrees with the consent term."
      ]
    },
    {
      "cell_type": "markdown",
      "source": [
        "Now, let's create a consent term where Mark agrees to share his data from Bank A to Bank B, respecting the Data Regulation specified at the beginning of this document."
      ],
      "metadata": {
        "id": "x9B9YB1KvYp7"
      },
      "id": "x9B9YB1KvYp7"
    },
    {
      "cell_type": "code",
      "source": [
        "openBankingRegulationBankB = LGPD()\n",
        "openBankingRegulationBankB.setMinimumDataRequiredInConsentTerm('offer_products_and_services',\n",
        "                                                              'create_specific_offers',\n",
        "                                                              'anonymized_data_analytics','SHA256',\n",
        "                                                              'Authorized employees can access the data only',\n",
        "                                                              'Bank B private cloud',12)\n",
        "\n",
        "consentBankB = OpenBankingConsent(openBankingRegulationBankB,mark.id,bankB.id)\n",
        "consentBankB.createConsent(12) # LGPD default expiration period is 12 months\n",
        "\n",
        "bankB.consents.append(consentBankB)\n",
        "mark.consents.append(consentBankB)\n",
        "mark.consents[-1].acceptConsent(mark.id,mark.personalData,mark.transactionalData,bankB)"
      ],
      "metadata": {
        "id": "oR6wxl26v59j"
      },
      "id": "oR6wxl26v59j",
      "execution_count": 22,
      "outputs": []
    },
    {
      "cell_type": "code",
      "source": [
        "log.printLog()"
      ],
      "metadata": {
        "colab": {
          "base_uri": "https://localhost:8080/"
        },
        "id": "EHa66bU7xfrU",
        "outputId": "151815cd-f0cb-428d-f9f1-8c8f0e44e85c"
      },
      "id": "EHa66bU7xfrU",
      "execution_count": 23,
      "outputs": [
        {
          "output_type": "stream",
          "name": "stdout",
          "text": [
            "Date; Event; Type; Deontic Concept\n",
            "2022-08-11 22:11:40.563175; A new consent term was generated, but it was not accepted yet ID: f881d2c0-5024-4850-8cc7-e401134407ff Current Status: AwaitingAuthorisation; Communication;  Permission\n",
            "2022-08-11 22:11:40.590675; Consent requested to the Data Subject. ID: f881d2c0-5024-4850-8cc7-e401134407ff Current Status: AwaitingAuthorisation; Communication;  Permission\n",
            "2022-08-11 22:11:40.606113; Data Subject 35512367800 accepted the consent term; Communication;  Permission\n",
            "2022-08-11 22:11:40.606128; Data Subject can now have all foressen rights; Explanation;  Permission\n",
            "2022-08-11 22:11:40.606143; Data Controller 00345 can process the Data Subject information from 2022-08-11 to 2027-08-11; Explanation;  Permission\n",
            "2022-08-11 22:11:40.631786; Data Controller got personal and transactional data from the Data Subject; Communication;  Permission\n",
            "2022-08-11 22:11:40.672465; A new consent term was generated, but it was not accepted yet ID: 04ac6734-7e67-4b3a-9441-263604264449 Current Status: AwaitingAuthorisation; Communication;  Permission\n",
            "2022-08-11 22:11:40.672553; Data Subject 35512367800 accepted the consent term; Communication;  Permission\n",
            "2022-08-11 22:11:40.672559; Data Subject can now have all foressen rights; Explanation;  Permission\n",
            "2022-08-11 22:11:40.672567; Data Controller 48634 can process the Data Subject information from 2022-08-11 to 2023-08-11; Explanation;  Permission\n"
          ]
        }
      ]
    },
    {
      "cell_type": "code",
      "source": [
        "print(mark.consents[-1].dataRegulation.dataSubjectRights)"
      ],
      "metadata": {
        "colab": {
          "base_uri": "https://localhost:8080/"
        },
        "id": "KYOTxKNJeZoF",
        "outputId": "f4af5979-2a4a-4f15-cdde-3a31e0af1c3e"
      },
      "id": "KYOTxKNJeZoF",
      "execution_count": 24,
      "outputs": [
        {
          "output_type": "stream",
          "name": "stdout",
          "text": [
            "['Data Access', 'Data Copy', 'Data Correction', 'Data Anonymization', 'Data Portability', 'Data Deletion', 'Information regarding the data sharing with a third party', 'Request consent revocation']\n"
          ]
        }
      ]
    },
    {
      "cell_type": "markdown",
      "id": "8d60c694",
      "metadata": {
        "id": "8d60c694"
      },
      "source": [
        "### Scene 3: Defining the Data Subject's rights.\n",
        "\n",
        "As the current sandbox is based on the LGPD, we had to add the rights foreseen to the Data Subject as well as the Data Controller when the Data Subject decides to accept the consent term."
      ]
    },
    {
      "cell_type": "markdown",
      "id": "079be990",
      "metadata": {
        "id": "079be990"
      },
      "source": [
        "According to the LGPD Art. 18, when the Data Subject is sharing data with a Data Controller, he/she has the following rights:\n",
        "1. Data Access\n",
        "2. Data Copy\n",
        "3. Data Correction\n",
        "4. Data Anonymization\n",
        "5. Data Portability\n",
        "6. Data Deletion\n",
        "7. Information regarding the data sharing with a third party\n",
        "8. Request consent revocation."
      ]
    },
    {
      "cell_type": "code",
      "source": [
        "print('-- Data Subject Rights --')\n",
        "\n",
        "for right in consentBankB.dataSubjectRights:\n",
        "  print(right)\n",
        "\n",
        "print('\\n-- Data Controller Rights --')\n",
        "for right in consentBankB.dataControllerRights:\n",
        "  print(right)"
      ],
      "metadata": {
        "colab": {
          "base_uri": "https://localhost:8080/"
        },
        "id": "G3TqThzpAYDs",
        "outputId": "fda12eb4-6d93-4922-c813-38d0b0e1c0ea"
      },
      "id": "G3TqThzpAYDs",
      "execution_count": 25,
      "outputs": [
        {
          "output_type": "stream",
          "name": "stdout",
          "text": [
            "-- Data Subject Rights --\n",
            "Data Access\n",
            "Data Copy\n",
            "Data Correction\n",
            "Data Anonymization\n",
            "Data Portability\n",
            "Data Deletion\n",
            "Information regarding the data sharing with a third party\n",
            "Request consent revocation\n",
            "\n",
            "-- Data Controller Rights --\n",
            "Data Processing\n",
            "Data Collecting\n",
            "Data Storing\n"
          ]
        }
      ]
    },
    {
      "cell_type": "markdown",
      "source": [
        "Once Mark accepts sharing his data from Bank A to Bank B, Bank A will export Mark's data to Bank B in the following code."
      ],
      "metadata": {
        "id": "yqV5J21UwmSQ"
      },
      "id": "yqV5J21UwmSQ"
    },
    {
      "cell_type": "code",
      "source": [
        "mark.acceptDataSharingByOpenBanking(bankA.id, bankB.id)\n",
        "\n",
        "exportedData = bankA.exportData(mark.id)\n",
        "\n",
        "bankB.importData(exportedData)"
      ],
      "metadata": {
        "colab": {
          "base_uri": "https://localhost:8080/"
        },
        "id": "9iuZ4ZQBpg3t",
        "outputId": "877e3d4f-daa4-4c28-fb99-8bb0a0b6fa23"
      },
      "id": "9iuZ4ZQBpg3t",
      "execution_count": 26,
      "outputs": [
        {
          "output_type": "execute_result",
          "data": {
            "text/plain": [
              "True"
            ]
          },
          "metadata": {},
          "execution_count": 26
        }
      ]
    },
    {
      "cell_type": "markdown",
      "source": [
        "Additionally, let's simulate a balance call from Bank B."
      ],
      "metadata": {
        "id": "-bH7OLkYAYeT"
      },
      "id": "-bH7OLkYAYeT"
    },
    {
      "cell_type": "code",
      "source": [
        "client = bankB.getClient(mark.id)\n",
        "print(client.transactionalData.get('Account Balance'))"
      ],
      "metadata": {
        "colab": {
          "base_uri": "https://localhost:8080/"
        },
        "id": "9j-uo0clHwfN",
        "outputId": "e6e95ab0-268f-44bf-dd6b-da2ef34640b1"
      },
      "id": "9j-uo0clHwfN",
      "execution_count": 27,
      "outputs": [
        {
          "output_type": "stream",
          "name": "stdout",
          "text": [
            "250\n"
          ]
        }
      ]
    },
    {
      "cell_type": "code",
      "source": [
        "# Auxiliary function to print the transactional data shared in an accepted consent term\n",
        "for key in client.transactionalData:\n",
        "    print(key+': '+ str(client.transactionalData[key]))"
      ],
      "metadata": {
        "colab": {
          "base_uri": "https://localhost:8080/"
        },
        "id": "-Ww9w5wn4NrB",
        "outputId": "1c5f22ce-5f1f-40fb-f634-f3eab91d44d1"
      },
      "id": "-Ww9w5wn4NrB",
      "execution_count": 28,
      "outputs": [
        {
          "output_type": "stream",
          "name": "stdout",
          "text": [
            "Account Balance: 250\n",
            "Credit Card Type: Platinum\n",
            "Limit: 5000\n",
            "Transactions: {'supermarket': 300, 'library': 700, 'drugstore': 100}\n"
          ]
        }
      ]
    },
    {
      "cell_type": "markdown",
      "id": "329c71df",
      "metadata": {
        "id": "329c71df"
      },
      "source": [
        " ---------"
      ]
    },
    {
      "cell_type": "markdown",
      "id": "e56931ef",
      "metadata": {
        "id": "e56931ef"
      },
      "source": [
        "### Scene 4: Data Subject's consent revocation."
      ]
    },
    {
      "cell_type": "markdown",
      "id": "ee33ba60",
      "metadata": {
        "id": "ee33ba60"
      },
      "source": [
        "As mentioned in the scenario's description, the case presented in this sandbox aims to reproduce the consent term revocation consequences, as the Data Subject considered that he does not want to receive offers from Bank B. \n",
        "\n",
        "Once performed, the action of requesting the consent revocation cannot be executed again, and the Data Controller is forbidden to still collecting the Data Subject's data."
      ]
    },
    {
      "cell_type": "code",
      "execution_count": 29,
      "id": "3c113b41",
      "metadata": {
        "vscode": {
          "languageId": "json"
        },
        "id": "3c113b41",
        "outputId": "ac17735a-dd2b-4d3f-8c51-1d19dbc3f76b",
        "colab": {
          "base_uri": "https://localhost:8080/"
        }
      },
      "outputs": [
        {
          "output_type": "execute_result",
          "data": {
            "text/plain": [
              "True"
            ]
          },
          "metadata": {},
          "execution_count": 29
        }
      ],
      "source": [
        "log.registerAction('Data Subject considered he does not want to receive more offers from Bank B',log.COMMUNICATION,log.PERMISSION)\n",
        "mark.consents[1].revokeConsent(mark.id,bankB)"
      ]
    },
    {
      "cell_type": "markdown",
      "source": [
        "For instance, let's picture that Bank B tried to update Mark's data after the consent revocation. Notice that Bank B is not allowed to get Mark's data from Bank A."
      ],
      "metadata": {
        "id": "J3yYF6qHGIoa"
      },
      "id": "J3yYF6qHGIoa"
    },
    {
      "cell_type": "code",
      "source": [
        "bankB.importData(exportedData)\n",
        "log.printLog()"
      ],
      "metadata": {
        "colab": {
          "base_uri": "https://localhost:8080/"
        },
        "id": "CziZzEolGYIf",
        "outputId": "efe72b36-2d7d-40db-aac6-e9d0522229f6"
      },
      "id": "CziZzEolGYIf",
      "execution_count": 30,
      "outputs": [
        {
          "output_type": "stream",
          "name": "stdout",
          "text": [
            "Date; Event; Type; Deontic Concept\n",
            "2022-08-11 22:11:40.563175; A new consent term was generated, but it was not accepted yet ID: f881d2c0-5024-4850-8cc7-e401134407ff Current Status: AwaitingAuthorisation; Communication;  Permission\n",
            "2022-08-11 22:11:40.590675; Consent requested to the Data Subject. ID: f881d2c0-5024-4850-8cc7-e401134407ff Current Status: AwaitingAuthorisation; Communication;  Permission\n",
            "2022-08-11 22:11:40.606113; Data Subject 35512367800 accepted the consent term; Communication;  Permission\n",
            "2022-08-11 22:11:40.606128; Data Subject can now have all foressen rights; Explanation;  Permission\n",
            "2022-08-11 22:11:40.606143; Data Controller 00345 can process the Data Subject information from 2022-08-11 to 2027-08-11; Explanation;  Permission\n",
            "2022-08-11 22:11:40.631786; Data Controller got personal and transactional data from the Data Subject; Communication;  Permission\n",
            "2022-08-11 22:11:40.672465; A new consent term was generated, but it was not accepted yet ID: 04ac6734-7e67-4b3a-9441-263604264449 Current Status: AwaitingAuthorisation; Communication;  Permission\n",
            "2022-08-11 22:11:40.672553; Data Subject 35512367800 accepted the consent term; Communication;  Permission\n",
            "2022-08-11 22:11:40.672559; Data Subject can now have all foressen rights; Explanation;  Permission\n",
            "2022-08-11 22:11:40.672567; Data Controller 48634 can process the Data Subject information from 2022-08-11 to 2023-08-11; Explanation;  Permission\n",
            "2022-08-11 22:11:40.721834; Data Controller 00345 exported personal and transactional data from Data Subject 35512367800; Explanation;  Obligation\n",
            "2022-08-11 22:11:40.721892; Data Controller 48634 imported personal and transactional data from Data Subject 35512367800; Communication;  Permission\n",
            "2022-08-11 22:11:40.767097; Data Subject considered he does not want to receive more offers from Bank B; Communication;  Permission\n",
            "2022-08-11 22:11:40.767179; Data Subject 35512367800  requested to the Data Controller to revoke his/her consent; Communication;  Prohibition\n",
            "2022-08-11 22:11:40.767189; From now, the Data Controller 48634 cannot collect the Data Subject information; Communication;  Prohibition\n",
            "2022-08-11 22:11:40.767196; From now, the Data Controller 48634 cannot process the Data Subject information; Communication;  Prohibition\n",
            "2022-08-11 22:11:40.767217; From now 2022-08-11, consent 04ac6734-7e67-4b3a-9441-263604264449 is not valid to be used by the data controller; Explanation;  Prohibition\n",
            "2022-08-11 22:11:40.779727; Data Controller 48634 is not allowed to import data from Data Subject 35512367800; Explanation;  Prohibition\n"
          ]
        }
      ]
    },
    {
      "cell_type": "markdown",
      "source": [
        "Finally, the following code will show the current consent status of each consent available to Mark."
      ],
      "metadata": {
        "id": "uc2kwe8HGr6c"
      },
      "id": "uc2kwe8HGr6c"
    },
    {
      "cell_type": "code",
      "source": [
        "for consent in mark.consents:\n",
        "  print(consent.id,consent.status,consent.dataControllerID)"
      ],
      "metadata": {
        "colab": {
          "base_uri": "https://localhost:8080/"
        },
        "id": "jyqdDFZtKczk",
        "outputId": "26569628-72f2-4f08-d1f6-1da41562fea0"
      },
      "id": "jyqdDFZtKczk",
      "execution_count": 31,
      "outputs": [
        {
          "output_type": "stream",
          "name": "stdout",
          "text": [
            "f881d2c0-5024-4850-8cc7-e401134407ff Authorised 00345\n",
            "04ac6734-7e67-4b3a-9441-263604264449 Revoked 48634\n"
          ]
        }
      ]
    },
    {
      "cell_type": "markdown",
      "id": "680944f7",
      "metadata": {
        "id": "680944f7"
      },
      "source": [
        " ---------"
      ]
    },
    {
      "cell_type": "markdown",
      "id": "4283b37f",
      "metadata": {
        "id": "4283b37f"
      },
      "source": [
        "### Performing explanation exercises regarding possible scenarios\n",
        "\n",
        "Here, we are going to perform questions regarding access confirmation, rights compliance, and information about consent term. Those questions will exercise the data subject and controller understanding regarding possible scenarios during the relationship between these two actors.\n"
      ]
    },
    {
      "cell_type": "markdown",
      "id": "6239f32d",
      "metadata": {
        "id": "6239f32d"
      },
      "source": [
        "Are the data controller Bank B using the data subject Paulo's data? \n",
        "\n",
        "Expected: As the Data Subject requested to revoke his consent, the data controller is **prohibited** to still using the Data Subjects data."
      ]
    },
    {
      "cell_type": "code",
      "execution_count": 32,
      "id": "b31d83d3",
      "metadata": {
        "vscode": {
          "languageId": "json"
        },
        "id": "b31d83d3",
        "outputId": "471346f3-73d1-43b2-c7a3-d4fae0332bee",
        "colab": {
          "base_uri": "https://localhost:8080/"
        }
      },
      "outputs": [
        {
          "output_type": "execute_result",
          "data": {
            "text/plain": [
              "False"
            ]
          },
          "metadata": {},
          "execution_count": 32
        }
      ],
      "source": [
        "bankB.isProcessing.get(mark.id)"
      ]
    },
    {
      "cell_type": "markdown",
      "id": "8de9a61e",
      "metadata": {
        "id": "8de9a61e"
      },
      "source": [
        "Why?"
      ]
    },
    {
      "cell_type": "code",
      "execution_count": 33,
      "id": "46fc26ea",
      "metadata": {
        "vscode": {
          "languageId": "json"
        },
        "id": "46fc26ea",
        "outputId": "2ec92ac2-b4fe-4d4a-e92f-b9e83920137e",
        "colab": {
          "base_uri": "https://localhost:8080/"
        }
      },
      "outputs": [
        {
          "output_type": "stream",
          "name": "stdout",
          "text": [
            "2022-08-11 22:11:40.767179; Data Subject 35512367800  requested to the Data Controller to revoke his/her consent; Communication;  Prohibition\n",
            "2022-08-11 22:11:40.767189; From now, the Data Controller 48634 cannot collect the Data Subject information; Communication;  Prohibition\n",
            "2022-08-11 22:11:40.767196; From now, the Data Controller 48634 cannot process the Data Subject information; Communication;  Prohibition\n",
            "2022-08-11 22:11:40.767217; From now 2022-08-11, consent 04ac6734-7e67-4b3a-9441-263604264449 is not valid to be used by the data controller; Explanation;  Prohibition\n",
            "2022-08-11 22:11:40.779727; Data Controller 48634 is not allowed to import data from Data Subject 35512367800; Explanation;  Prohibition\n"
          ]
        }
      ],
      "source": [
        "for event in log.root:\n",
        "  if log.PROHIBITION in event:\n",
        "    print(event)"
      ]
    },
    {
      "cell_type": "markdown",
      "id": "0cc10cfe",
      "metadata": {
        "id": "0cc10cfe"
      },
      "source": [
        "What are the Data Subject rights right now?\n",
        "\n",
        "Expected: As the Data Subject requested to revoke his consent, he is **prohibited** to create such request again, even though he has **permission** to request the other rights foreseen by the LGPD."
      ]
    },
    {
      "cell_type": "code",
      "execution_count": 34,
      "id": "2c241578",
      "metadata": {
        "vscode": {
          "languageId": "json"
        },
        "id": "2c241578",
        "outputId": "de33f68b-ae6f-471a-e80e-d7ea2513dcb7",
        "colab": {
          "base_uri": "https://localhost:8080/"
        }
      },
      "outputs": [
        {
          "output_type": "stream",
          "name": "stdout",
          "text": [
            "Data Access\n",
            "Data Copy\n",
            "Data Correction\n",
            "Data Anonymization\n",
            "Data Portability\n",
            "Data Deletion\n"
          ]
        }
      ],
      "source": [
        "for right in mark.consents[1].dataSubjectRights:\n",
        "  print(right)"
      ]
    },
    {
      "cell_type": "markdown",
      "id": "fc11dcb4",
      "metadata": {
        "id": "fc11dcb4"
      },
      "source": [
        "Who are collecting the Data Subject's personal data and what are the respective data?"
      ]
    },
    {
      "cell_type": "code",
      "execution_count": 35,
      "id": "74a410e4",
      "metadata": {
        "id": "74a410e4",
        "outputId": "489aadf1-2099-40e4-de02-d5d90bf1291a",
        "colab": {
          "base_uri": "https://localhost:8080/"
        }
      },
      "outputs": [
        {
          "output_type": "stream",
          "name": "stdout",
          "text": [
            "00345\n",
            "{'name': 'Mark', 'email': 'mark@mail.com', 'cellphone': '+1 98638293756'}\n"
          ]
        }
      ],
      "source": [
        "for consent in mark.consents:\n",
        "  if DATA_COLLECTING in consent.dataControllerRights:\n",
        "    print(consent.dataControllerID)\n",
        "    print(consent.dataSubjectPersonalData)"
      ]
    },
    {
      "cell_type": "markdown",
      "id": "7943eb67",
      "metadata": {
        "id": "7943eb67"
      },
      "source": [
        "Why?"
      ]
    },
    {
      "cell_type": "code",
      "execution_count": 36,
      "id": "8b867447",
      "metadata": {
        "id": "8b867447",
        "outputId": "c36220d0-2bfa-4aa1-93c1-d081b48bfc35",
        "colab": {
          "base_uri": "https://localhost:8080/"
        }
      },
      "outputs": [
        {
          "output_type": "stream",
          "name": "stdout",
          "text": [
            "00345 Authorised\n",
            "48634 Revoked\n"
          ]
        }
      ],
      "source": [
        "for consent in mark.consents:\n",
        "  print(consent.dataControllerID, consent.status)"
      ]
    },
    {
      "cell_type": "markdown",
      "source": [
        "As we can see, only Data Controller 00345 (Bank a) is authorized to collect Mark's data."
      ],
      "metadata": {
        "id": "-Li8RfHtRBCP"
      },
      "id": "-Li8RfHtRBCP"
    },
    {
      "cell_type": "markdown",
      "id": "4e2db676",
      "metadata": {
        "id": "4e2db676"
      },
      "source": [
        "Who are storing the Data Subject's sensitive data and what are the respective data?\n",
        "\n",
        "Expected: Although the Data Subject requested to revoke his consent with Bank B, he did not request for data deletion, so the Data Controller is **permitted** to store his dada."
      ]
    },
    {
      "cell_type": "code",
      "execution_count": 37,
      "id": "86967521",
      "metadata": {
        "id": "86967521",
        "outputId": "e4c5757e-d0d2-4e72-beca-3c1f603df9b0",
        "colab": {
          "base_uri": "https://localhost:8080/"
        }
      },
      "outputs": [
        {
          "output_type": "stream",
          "name": "stdout",
          "text": [
            "00345\n",
            "{'Account Balance': 250, 'Credit Card Type': 'Platinum', 'Limit': 5000, 'Transactions': {'supermarket': 300, 'library': 700, 'drugstore': 100}}\n",
            "48634\n",
            "{'Account Balance': 250, 'Credit Card Type': 'Platinum', 'Limit': 5000, 'Transactions': {'supermarket': 300, 'library': 700, 'drugstore': 100}}\n"
          ]
        }
      ],
      "source": [
        "for consent in mark.consents:\n",
        "  if DATA_STORING in consent.dataControllerRights:\n",
        "    print(consent.dataControllerID)\n",
        "    print(consent.dataSubjectTransactionalData)"
      ]
    },
    {
      "cell_type": "markdown",
      "id": "68d9afd5",
      "metadata": {
        "id": "68d9afd5"
      },
      "source": [
        "Show all events."
      ]
    },
    {
      "cell_type": "code",
      "execution_count": 38,
      "id": "7f036d4f",
      "metadata": {
        "id": "7f036d4f",
        "outputId": "6e8cb961-b969-473c-e7ef-6a090a337d91",
        "colab": {
          "base_uri": "https://localhost:8080/"
        }
      },
      "outputs": [
        {
          "output_type": "stream",
          "name": "stdout",
          "text": [
            "Date; Event; Type; Deontic Concept\n",
            "2022-08-11 22:11:40.563175; A new consent term was generated, but it was not accepted yet ID: f881d2c0-5024-4850-8cc7-e401134407ff Current Status: AwaitingAuthorisation; Communication;  Permission\n",
            "2022-08-11 22:11:40.590675; Consent requested to the Data Subject. ID: f881d2c0-5024-4850-8cc7-e401134407ff Current Status: AwaitingAuthorisation; Communication;  Permission\n",
            "2022-08-11 22:11:40.606113; Data Subject 35512367800 accepted the consent term; Communication;  Permission\n",
            "2022-08-11 22:11:40.606128; Data Subject can now have all foressen rights; Explanation;  Permission\n",
            "2022-08-11 22:11:40.606143; Data Controller 00345 can process the Data Subject information from 2022-08-11 to 2027-08-11; Explanation;  Permission\n",
            "2022-08-11 22:11:40.631786; Data Controller got personal and transactional data from the Data Subject; Communication;  Permission\n",
            "2022-08-11 22:11:40.672465; A new consent term was generated, but it was not accepted yet ID: 04ac6734-7e67-4b3a-9441-263604264449 Current Status: AwaitingAuthorisation; Communication;  Permission\n",
            "2022-08-11 22:11:40.672553; Data Subject 35512367800 accepted the consent term; Communication;  Permission\n",
            "2022-08-11 22:11:40.672559; Data Subject can now have all foressen rights; Explanation;  Permission\n",
            "2022-08-11 22:11:40.672567; Data Controller 48634 can process the Data Subject information from 2022-08-11 to 2023-08-11; Explanation;  Permission\n",
            "2022-08-11 22:11:40.721834; Data Controller 00345 exported personal and transactional data from Data Subject 35512367800; Explanation;  Obligation\n",
            "2022-08-11 22:11:40.721892; Data Controller 48634 imported personal and transactional data from Data Subject 35512367800; Communication;  Permission\n",
            "2022-08-11 22:11:40.767097; Data Subject considered he does not want to receive more offers from Bank B; Communication;  Permission\n",
            "2022-08-11 22:11:40.767179; Data Subject 35512367800  requested to the Data Controller to revoke his/her consent; Communication;  Prohibition\n",
            "2022-08-11 22:11:40.767189; From now, the Data Controller 48634 cannot collect the Data Subject information; Communication;  Prohibition\n",
            "2022-08-11 22:11:40.767196; From now, the Data Controller 48634 cannot process the Data Subject information; Communication;  Prohibition\n",
            "2022-08-11 22:11:40.767217; From now 2022-08-11, consent 04ac6734-7e67-4b3a-9441-263604264449 is not valid to be used by the data controller; Explanation;  Prohibition\n",
            "2022-08-11 22:11:40.779727; Data Controller 48634 is not allowed to import data from Data Subject 35512367800; Explanation;  Prohibition\n"
          ]
        }
      ],
      "source": [
        "log.printLog()"
      ]
    },
    {
      "cell_type": "markdown",
      "id": "7d719688",
      "metadata": {
        "id": "7d719688"
      },
      "source": [
        "----"
      ]
    },
    {
      "cell_type": "markdown",
      "id": "070e5cea",
      "metadata": {
        "id": "070e5cea"
      },
      "source": [
        "#### Cause-effect: Reproducing unauthorized use of personal data\n",
        "\n",
        "Let's picture that the Data Controller did not respect the Data Subject's request and still collecting the Data Subject's data. In such plot, fines must be applied.\n",
        "\n",
        "<div>\n",
        "<img src=\"https://github.com/phalves/ConFIA/blob/main/img/Scenario2.1_Process.png?raw=1\" width=\"600\"/>\n",
        "</div>\n",
        "Fig.7 - Consent Revocation Scenario Process."
      ]
    },
    {
      "cell_type": "code",
      "execution_count": 39,
      "id": "dfcc2a44",
      "metadata": {
        "id": "dfcc2a44"
      },
      "outputs": [],
      "source": [
        "# This command sets that the Data Controller is collecting the Data Subject's data.\n",
        "bankB.isProcessing[mark.id] = True"
      ]
    },
    {
      "cell_type": "markdown",
      "id": "232ba410",
      "metadata": {
        "id": "232ba410"
      },
      "source": [
        "So, now the data controller is collecting unauthorized data, it was **prohibited** since the data subject requested consent revocation. The following command will check the environment facts and it will insert this fact regarding the rights **violation** in the log."
      ]
    },
    {
      "cell_type": "code",
      "execution_count": 40,
      "id": "d74e9295",
      "metadata": {
        "scrolled": true,
        "id": "d74e9295"
      },
      "outputs": [],
      "source": [
        "if bankB.isProcessing[mark.id] and (not (mark.consents[1].status == AUTHORISED)):\n",
        "  log.registerAction('Data Controller has no valid consent approved by the Data Subject', log.COMMUNICATION, log.PROHIBITION)\n",
        "  log.registerAction('Data Controller is processing unauthorized information', log.COMMUNICATION, log.VIOLATION)"
      ]
    },
    {
      "cell_type": "code",
      "source": [
        "log.printLog()"
      ],
      "metadata": {
        "colab": {
          "base_uri": "https://localhost:8080/"
        },
        "id": "bszvSH4xXBMJ",
        "outputId": "aac000c6-5763-4fcc-8001-33826deb4b18"
      },
      "id": "bszvSH4xXBMJ",
      "execution_count": 41,
      "outputs": [
        {
          "output_type": "stream",
          "name": "stdout",
          "text": [
            "Date; Event; Type; Deontic Concept\n",
            "2022-08-11 22:11:40.563175; A new consent term was generated, but it was not accepted yet ID: f881d2c0-5024-4850-8cc7-e401134407ff Current Status: AwaitingAuthorisation; Communication;  Permission\n",
            "2022-08-11 22:11:40.590675; Consent requested to the Data Subject. ID: f881d2c0-5024-4850-8cc7-e401134407ff Current Status: AwaitingAuthorisation; Communication;  Permission\n",
            "2022-08-11 22:11:40.606113; Data Subject 35512367800 accepted the consent term; Communication;  Permission\n",
            "2022-08-11 22:11:40.606128; Data Subject can now have all foressen rights; Explanation;  Permission\n",
            "2022-08-11 22:11:40.606143; Data Controller 00345 can process the Data Subject information from 2022-08-11 to 2027-08-11; Explanation;  Permission\n",
            "2022-08-11 22:11:40.631786; Data Controller got personal and transactional data from the Data Subject; Communication;  Permission\n",
            "2022-08-11 22:11:40.672465; A new consent term was generated, but it was not accepted yet ID: 04ac6734-7e67-4b3a-9441-263604264449 Current Status: AwaitingAuthorisation; Communication;  Permission\n",
            "2022-08-11 22:11:40.672553; Data Subject 35512367800 accepted the consent term; Communication;  Permission\n",
            "2022-08-11 22:11:40.672559; Data Subject can now have all foressen rights; Explanation;  Permission\n",
            "2022-08-11 22:11:40.672567; Data Controller 48634 can process the Data Subject information from 2022-08-11 to 2023-08-11; Explanation;  Permission\n",
            "2022-08-11 22:11:40.721834; Data Controller 00345 exported personal and transactional data from Data Subject 35512367800; Explanation;  Obligation\n",
            "2022-08-11 22:11:40.721892; Data Controller 48634 imported personal and transactional data from Data Subject 35512367800; Communication;  Permission\n",
            "2022-08-11 22:11:40.767097; Data Subject considered he does not want to receive more offers from Bank B; Communication;  Permission\n",
            "2022-08-11 22:11:40.767179; Data Subject 35512367800  requested to the Data Controller to revoke his/her consent; Communication;  Prohibition\n",
            "2022-08-11 22:11:40.767189; From now, the Data Controller 48634 cannot collect the Data Subject information; Communication;  Prohibition\n",
            "2022-08-11 22:11:40.767196; From now, the Data Controller 48634 cannot process the Data Subject information; Communication;  Prohibition\n",
            "2022-08-11 22:11:40.767217; From now 2022-08-11, consent 04ac6734-7e67-4b3a-9441-263604264449 is not valid to be used by the data controller; Explanation;  Prohibition\n",
            "2022-08-11 22:11:40.779727; Data Controller 48634 is not allowed to import data from Data Subject 35512367800; Explanation;  Prohibition\n",
            "2022-08-11 22:11:40.874560; Data Controller has no valid consent approved by the Data Subject; Communication;  Prohibition\n",
            "2022-08-11 22:11:40.874588; Data Controller is processing unauthorized information; Communication;  Violation\n"
          ]
        }
      ]
    }
  ],
  "metadata": {
    "kernelspec": {
      "display_name": "Python 3",
      "name": "python3"
    },
    "language_info": {
      "name": "python"
    },
    "colab": {
      "name": "Sandboxing_Open_Banking_Scenario.ipynb",
      "provenance": [],
      "collapsed_sections": [],
      "include_colab_link": true
    },
    "gpuClass": "standard"
  },
  "nbformat": 4,
  "nbformat_minor": 5
}